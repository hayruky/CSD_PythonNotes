{
 "cells": [
  {
   "cell_type": "markdown",
   "id": "40ffa15c-7baf-4282-bd77-7ac29a032112",
   "metadata": {},
   "source": [
    "### PYTHON  - 10.DERS"
   ]
  },
  {
   "cell_type": "markdown",
   "id": "ace74d88-258d-4e09-905e-28a12e631a04",
   "metadata": {},
   "source": [
    "**PYTHON DA  SINIFLANDIRMA**\n",
    "\n",
    "***OPERATÖRLERİN(+,-,/,<,>) SINIFLANDIRILMASI***\n",
    "* İŞLEVLERİNE GÖRE SINIFLANDIRMA\n",
    "* OPERAD SAYILARINA GÖRE SINIFLANDIRMA\n",
    "* OPERATÖRÜN KONUMUNA GÖRE SINIFLANDIRMA\n",
    "\n",
    "***1) İŞLEVLERİNE GÖRE SINIFLANDIRMA***\n",
    "\n",
    "* ARİTMETİK OPARETÖRLER: (+,-,*,/)\n",
    "* KARŞILAŞTIRMA(COMPARASİON) OPARETÖRLERİ:(<,>,>=,<=)\n",
    "* MANTIKSAL(LOGİCAL) OPERATÖRELER:(and,or,not)\n",
    "* BİT OPERATÖRLERİ (BİTWİSE):sayıların bütün olarak değil karşılıklı bitlerini işleme sokan ya da sayıların bitleri üzerine işlem yapan operatörlere denir.\n",
    "* ÖZEL AMAÇLI OPERATÖRLER (SPECİAL PURPOSE OP.):Özel konulara ilişkin işlemler yapılmaktadır.\n",
    "\n",
    "\n",
    "  \n",
    "\n",
    " \n",
    "***2) OPERAND(A,B,...)SAYILARINA GÖRE SINIFLANDIRMA***\n",
    "* A+B :İKİ OPERANDLI OP. (BİNARY OPERAND) \n",
    "* not A  : TEK OPERANDLI OP. (UNARY OPERAND)\n",
    "* A+B+C : ÜÇ OPERANDLI OP. (TERNARY OPERAND)\n",
    "\n",
    "\n",
    "\n",
    "\n",
    "\n",
    "***3) OPERATÖRÜN(/,-,+,...)KONUMUNA GÖRE SINIFLANDIRMA***\n",
    "* A **/** B :ARAEK OP.(İNFİX)\n",
    "*  **/** A : ÖNEK OP.(PREFİX)\n",
    "*  A **/** :SONEK (POSTFİX)\n",
    "\n",
    "  \n",
    "    //peps.python.org/"
   ]
  },
  {
   "cell_type": "markdown",
   "id": "268c2256-532b-47a0-b915-6837531ab16b",
   "metadata": {},
   "source": [
    "* ***OPERATÖRLER ARASI ÖNCELİK İLİŞKİSİ(OPERATOR PRECEDENCY)VARDIR.***\n",
    "* ÖNCELİK SIRASI ;\n",
    "  * () :SOLDAN SAĞA (left to right)\n",
    "  * \"**\" (üs alma opearatörü): sağdan sola\n",
    "  * -,+ (işaret operatöü):sağdan sola \n",
    "  * *, /,//,% :SOLDAN SAĞA\n",
    "  * +,- :SOLDAN SAĞA\n",
    "  * = : SAĞDAN SOLA \n",
    "\n",
    "* d=a/b*c i1=a/b i2=i1*c solda olan önce yapılır.\n",
    "* Öncelik sırasını değiştirmek için parentezlerden faydalanılır.\n",
    "  \n",
    "    "
   ]
  },
  {
   "cell_type": "markdown",
   "id": "8b917c1e-9175-4028-a2ec-eb0634038bb2",
   "metadata": {},
   "source": [
    "* \"floor //\" komutu noktalı sayıdan küçük olan ilk tam sayıyı verir."
   ]
  },
  {
   "cell_type": "code",
   "execution_count": 52,
   "id": "99d3b1d6-f5da-4191-96b9-0344737b6cf9",
   "metadata": {},
   "outputs": [
    {
     "name": "stdout",
     "output_type": "stream",
     "text": [
      "2 <class 'int'>\n"
     ]
    }
   ],
   "source": [
    "a=10\n",
    "b=4\n",
    "c=a//b\n",
    "print(c,type(c))"
   ]
  },
  {
   "cell_type": "code",
   "execution_count": 54,
   "id": "2421d55c-f6c6-410e-983f-3775e338529e",
   "metadata": {},
   "outputs": [
    {
     "name": "stdout",
     "output_type": "stream",
     "text": [
      "-3 <class 'int'>\n"
     ]
    }
   ],
   "source": [
    "a=-10\n",
    "b=4\n",
    "c=a//b\n",
    "print(c,type(c))"
   ]
  },
  {
   "cell_type": "markdown",
   "id": "06a79df9-c849-4bce-8952-f457e481ad92",
   "metadata": {},
   "source": [
    "* \"ceil(tavan)\" işlemi bir noktalı sayının kendisinden büyük ilk tam sayıya dönüştürülmesi anlamına gelmektedir.\"Yuvarlama(round)\" ise nereye yakınsa oraya dönüştürme anlamına gelir.\n",
    "* 10 % 4 = mod işlemi yapar yani 10 un dörde bölümünden kalanı verir."
   ]
  },
  {
   "cell_type": "code",
   "execution_count": 67,
   "id": "f6a94a55-4c56-4357-af33-3ef1b7d4008f",
   "metadata": {},
   "outputs": [
    {
     "data": {
      "text/plain": [
       "2"
      ]
     },
     "execution_count": 67,
     "metadata": {},
     "output_type": "execute_result"
    }
   ],
   "source": [
    "10%4"
   ]
  },
  {
   "cell_type": "code",
   "execution_count": 71,
   "id": "8db36b22-d91a-41a3-93e8-6a97829309d5",
   "metadata": {},
   "outputs": [
    {
     "data": {
      "text/plain": [
       "2"
      ]
     },
     "execution_count": 71,
     "metadata": {},
     "output_type": "execute_result"
    }
   ],
   "source": [
    "\n",
    "-10%4"
   ]
  },
  {
   "cell_type": "markdown",
   "id": "2474e2d7-6220-44af-a80b-184bb247ecf5",
   "metadata": {},
   "source": [
    "**İŞARET \"+\" VE İŞARET \"-\" OPERATÖRLERİ**\n",
    "* -A :Buradaki \"-\" işaret operatörüdür.\n",
    "*  A :Burada \"+\" işaret oparetörü vardır.\n",
    "* SAĞDAN SOLA İŞLEM YAPILIR."
   ]
  },
  {
   "cell_type": "code",
   "execution_count": 77,
   "id": "df1f6e04-25eb-4d76-8194-b946ef938b1e",
   "metadata": {},
   "outputs": [
    {
     "data": {
      "text/plain": [
       "3"
      ]
     },
     "execution_count": 77,
     "metadata": {},
     "output_type": "execute_result"
    }
   ],
   "source": [
    "------------3"
   ]
  },
  {
   "cell_type": "code",
   "execution_count": 79,
   "id": "827eaf28-bbb3-4f2a-afa9-a39d329b4aaa",
   "metadata": {},
   "outputs": [
    {
     "data": {
      "text/plain": [
       "-3"
      ]
     },
     "execution_count": 79,
     "metadata": {},
     "output_type": "execute_result"
    }
   ],
   "source": [
    "-----3"
   ]
  },
  {
   "cell_type": "code",
   "execution_count": 105,
   "id": "06e21399-e9c5-4176-8de1-6d43dae8a6aa",
   "metadata": {},
   "outputs": [
    {
     "data": {
      "text/plain": [
       "-1"
      ]
     },
     "execution_count": 105,
     "metadata": {},
     "output_type": "execute_result"
    }
   ],
   "source": [
    "a=1\n",
    "b=2\n",
    "a---b"
   ]
  },
  {
   "cell_type": "markdown",
   "id": "04f94363-3f02-4fda-9e52-b5fee89fea17",
   "metadata": {},
   "source": [
    "* \"**\" OPERATÖRÜ\n",
    "\n",
    "  * Üs alma operatörüdür.\n",
    "  * İşlem önceliklidir.\n",
    "  * işlem öcelikleri matematiksel kurallara uygundur.\n",
    "  * -3**2 = -9 dur\n",
    "  * (-3)**2 =9 dur"
   ]
  },
  {
   "cell_type": "code",
   "execution_count": 110,
   "id": "0615a1b4-7260-4f8a-a33d-bf694f72b8c6",
   "metadata": {},
   "outputs": [
    {
     "data": {
      "text/plain": [
       "9"
      ]
     },
     "execution_count": 110,
     "metadata": {},
     "output_type": "execute_result"
    }
   ],
   "source": [
    "3**2\n",
    "# 3 üzeri 2'yi ifade eder."
   ]
  },
  {
   "cell_type": "code",
   "execution_count": 119,
   "id": "a583f73d-8b14-4628-8c06-aca8fae7bb03",
   "metadata": {},
   "outputs": [
    {
     "data": {
      "text/plain": [
       "134217728"
      ]
     },
     "execution_count": 119,
     "metadata": {},
     "output_type": "execute_result"
    }
   ],
   "source": [
    "2**3**3\n",
    "#(2^27)demektir."
   ]
  },
  {
   "cell_type": "markdown",
   "id": "0b917f8a-6119-4fd9-96c8-6dba72ccb80d",
   "metadata": {},
   "source": [
    "**KARŞILAŞTIRMA OPERATÖRLERİ**\n",
    "* < : KÜÇÜK\n",
    "* \">\" : BÜYÜK\n",
    "* <= : KÜÇÜK EŞİT\n",
    "* \">=\" : BÜYÜK EŞİT\n",
    "* == : EŞİT\n",
    "* != : EŞİT DEĞİL\n",
    "* True :1 değerini,False 0 değerini taşır.\n",
    "* True ve False ın türü \"bool\" dur."
   ]
  },
  {
   "cell_type": "code",
   "execution_count": 123,
   "id": "be95c637-4b28-4dec-b44c-913ace537c6f",
   "metadata": {},
   "outputs": [
    {
     "data": {
      "text/plain": [
       "False"
      ]
     },
     "execution_count": 123,
     "metadata": {},
     "output_type": "execute_result"
    }
   ],
   "source": [
    "True==False"
   ]
  },
  {
   "cell_type": "code",
   "execution_count": 125,
   "id": "b277bee3-a57d-4b2d-b8b9-72a88e72ca89",
   "metadata": {},
   "outputs": [
    {
     "data": {
      "text/plain": [
       "True"
      ]
     },
     "execution_count": 125,
     "metadata": {},
     "output_type": "execute_result"
    }
   ],
   "source": [
    "True>False"
   ]
  },
  {
   "cell_type": "code",
   "execution_count": 127,
   "id": "b1928190-135f-46e3-b3cb-a0a13bb2682c",
   "metadata": {},
   "outputs": [
    {
     "data": {
      "text/plain": [
       "False"
      ]
     },
     "execution_count": 127,
     "metadata": {},
     "output_type": "execute_result"
    }
   ],
   "source": [
    "0>True"
   ]
  },
  {
   "cell_type": "code",
   "execution_count": 129,
   "id": "6c7c92d5-bbd4-47e6-9c4f-0834f2e29b98",
   "metadata": {},
   "outputs": [
    {
     "data": {
      "text/plain": [
       "False"
      ]
     },
     "execution_count": 129,
     "metadata": {},
     "output_type": "execute_result"
    }
   ],
   "source": [
    "1>True"
   ]
  },
  {
   "cell_type": "code",
   "execution_count": 131,
   "id": "7e212501-d102-49fb-925d-85fb5a6a9d3c",
   "metadata": {},
   "outputs": [
    {
     "data": {
      "text/plain": [
       "False"
      ]
     },
     "execution_count": 131,
     "metadata": {},
     "output_type": "execute_result"
    }
   ],
   "source": [
    "True>1"
   ]
  },
  {
   "cell_type": "code",
   "execution_count": 133,
   "id": "38f3aa7a-c858-40ce-ae1e-58f4c4bf62e4",
   "metadata": {},
   "outputs": [
    {
     "data": {
      "text/plain": [
       "True"
      ]
     },
     "execution_count": 133,
     "metadata": {},
     "output_type": "execute_result"
    }
   ],
   "source": [
    "True==1"
   ]
  },
  {
   "cell_type": "code",
   "execution_count": null,
   "id": "f21264ed-c0d0-480a-81ac-4532924d63cc",
   "metadata": {},
   "outputs": [],
   "source": []
  }
 ],
 "metadata": {
  "kernelspec": {
   "display_name": "Python 3 (ipykernel)",
   "language": "python",
   "name": "python3"
  },
  "language_info": {
   "codemirror_mode": {
    "name": "ipython",
    "version": 3
   },
   "file_extension": ".py",
   "mimetype": "text/x-python",
   "name": "python",
   "nbconvert_exporter": "python",
   "pygments_lexer": "ipython3",
   "version": "3.12.4"
  }
 },
 "nbformat": 4,
 "nbformat_minor": 5
}
