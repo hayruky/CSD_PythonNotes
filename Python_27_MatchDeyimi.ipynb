{
 "cells": [
  {
   "cell_type": "markdown",
   "id": "1ad4a0ca-f086-47d5-8228-6632bc0ca790",
   "metadata": {},
   "source": [
    "### 27.DERS-MatchDeyimi"
   ]
  },
  {
   "cell_type": "code",
   "execution_count": 21,
   "id": "6342dbc8-1c3f-4233-b885-808f2a75b3a5",
   "metadata": {},
   "outputs": [
    {
     "data": {
      "text/plain": [
       "'\\nmatch <ifade>:\\n       case<kalıp>:\\n       .\\n       .\\n       case<kalıp>:\\n       .\\n       .\\n       case<kalıp>:\\n       .\\n       .\\n'"
      ]
     },
     "execution_count": 21,
     "metadata": {},
     "output_type": "execute_result"
    }
   ],
   "source": [
    "#Match deyimi genel biçimi:\n",
    "\"\"\"\n",
    "match <ifade>:\n",
    "       case<kalıp>:\n",
    "       .\n",
    "       .\n",
    "       case<kalıp>:\n",
    "       .\n",
    "       .\n",
    "       case<kalıp>:\n",
    "       .\n",
    "       .\n",
    "\"\"\""
   ]
  },
  {
   "cell_type": "markdown",
   "id": "8dcd35c7-faf8-4a8a-a8bb-78912d27cdfb",
   "metadata": {},
   "source": [
    "**match deyimi nasıl çalışır?**\n",
    "* Yorumlayıcı önce match anahtar sözcüğünün yanındaki ifadeyi inceler.\n",
    "* Sonra case bölümlerini sırasıyla gözden geçirir.\n",
    "* match ifadesiyle case bölümlerinde kalıp uyuşuyorsa ilk uyuşan case bölümündeki suite'i çalıştırır."
   ]
  },
  {
   "cell_type": "code",
   "execution_count": 19,
   "id": "27c6f631-be37-4f89-b4c3-a1f847914273",
   "metadata": {},
   "outputs": [
    {
     "name": "stdin",
     "output_type": "stream",
     "text": [
      "Bir değer giriniz: 4\n"
     ]
    },
    {
     "name": "stdout",
     "output_type": "stream",
     "text": [
      "dört\n"
     ]
    }
   ],
   "source": [
    "a=int(input(\"Bir değer giriniz:\"))\n",
    "match a:\n",
    "      case 1:\n",
    "          print(\"bir\")\n",
    "      case 2:\n",
    "          print(\"iki\")\n",
    "      case 3:\n",
    "          print(\"üç\")\n",
    "      case 4:\n",
    "          print(\"dört\")\n",
    "      case 5:\n",
    "          print(\"beş\")\n",
    "          \n",
    "#Burada a ifadesi hangi değere eşitse o değere ilişin case bölümünün suit'i çalışır."
   ]
  },
  {
   "cell_type": "markdown",
   "id": "bb69a4c7-fd4f-42c3-9a66-d255be9a435c",
   "metadata": {},
   "source": [
    "* Bazı dillerde switch deyiminin eğer hiçbir case bölümü uyuşum sağlamazsa çalıştırılan bir default bölümü vardır.\n",
    "* Python'un match deyiminde \"default\" bölüm yoktur.\n",
    "* Ancak onunla aynı anlama gelen **\"_\"** kalıbı vardır.\n",
    "* Bu kalıp eğer yukarıdaki kalıpların hiçbiri uyum sağlamazsa uyum sağlar.\n",
    "* **_** kalıbı case bölümlerinin sonuna yerleştirilmek zorundadır."
   ]
  },
  {
   "cell_type": "code",
   "execution_count": 30,
   "id": "c199ffb4-acfd-4bc9-9cbb-db38fcf09ef7",
   "metadata": {},
   "outputs": [
    {
     "name": "stdin",
     "output_type": "stream",
     "text": [
      "Bir değer giriniz: 5\n"
     ]
    },
    {
     "name": "stdout",
     "output_type": "stream",
     "text": [
      "beş\n"
     ]
    }
   ],
   "source": [
    "a=int(input(\"Bir değer giriniz:\"))\n",
    "match a:\n",
    "      case 1:\n",
    "          print(\"bir\")\n",
    "      case 2:\n",
    "          print(\"iki\")\n",
    "      case 3:\n",
    "          print(\"üç\")\n",
    "      case 4:\n",
    "          print(\"dört\")\n",
    "      case 5:\n",
    "          print(\"beş\")\n",
    "      case _:\n",
    "          print(a,\": Hiçbiri\")"
   ]
  },
  {
   "cell_type": "markdown",
   "id": "3cce42c1-e159-43cd-b3b1-3cf04671a033",
   "metadata": {},
   "source": [
    "**Case bölümünde kullanılan kalıplar:**\n",
    "\n",
    "* as pattern\n",
    "* or pattern(veya kalıbı)\n",
    "* Literal pattern (sabit kalıbı)\n",
    "* capture pattern\n",
    "* Wildcard pattern(Joker kalıbı)\n",
    "* Value Pattern (Değer kalıbı)\n",
    "* Group Pattern (Grup Kalıbı)\n",
    "* Sequence Pattern (Dizilim kalıbı)\n",
    "* Mapping Pattern (Sözlük Kalıbı)\n",
    "* Class Pattern (Sınıf Kalıbı)"
   ]
  },
  {
   "cell_type": "markdown",
   "id": "052fa967-30da-4468-a4c9-7a58ad25f092",
   "metadata": {},
   "source": [
    "**Literal pattern (sabit kalıbı):**\n",
    "* Sabit kalıpleri tek bir sabitten oluşur.\n",
    "* Bu sabitler string de olabilir.\n",
    "* Yukarıda verdiğimiz örnek de sabit kalıba uyar.\n",
    "* Sabit kalıbında match yanındaki kalıp int-str ise ,case ifadelerinin de int-str türünden olması gerekir.\n",
    "* * float ise case ifadesi int yada float olabilir.Doğru sonuç vermeyeceği için bu iyi bir teknik değildir."
   ]
  },
  {
   "cell_type": "code",
   "execution_count": 37,
   "id": "80250c43-99a7-4840-8e3b-4091224673e6",
   "metadata": {},
   "outputs": [
    {
     "name": "stdin",
     "output_type": "stream",
     "text": [
      "Bir şehir giriniz: ankara\n"
     ]
    },
    {
     "name": "stdout",
     "output_type": "stream",
     "text": [
      "06\n"
     ]
    }
   ],
   "source": [
    "s=input(\"Bir şehir giriniz:\")\n",
    "match s:\n",
    "    case \"ankara\":\n",
    "        print(\"06\")\n",
    "    case \"eskisehir\":\n",
    "        print(\"26\")\n",
    "    case \"kocaeli\":\n",
    "        print(\"41\")\n",
    "    case \"adana\":\n",
    "        print(\"01\")\n",
    "    case \"izmir\":\n",
    "        print(\"35\")\n",
    "    case _:\n",
    "        print(s,\": Hiçbiri\")"
   ]
  },
  {
   "cell_type": "markdown",
   "id": "7b1f05c0-2157-4ec8-82e9-22b7971dfb08",
   "metadata": {},
   "source": [
    "**or pattern(veya kalıbı):**\n",
    "* Bir case bölümünde \"veya\" biçiminde birden fazla kalıp **\"|\"** atomu ile oluşturulabilmektedir."
   ]
  },
  {
   "cell_type": "code",
   "execution_count": 59,
   "id": "7f6e7398-afde-4171-a8f8-ff9736d70961",
   "metadata": {},
   "outputs": [
    {
     "name": "stdin",
     "output_type": "stream",
     "text": [
      "bir sayı giriniz: 3\n"
     ]
    },
    {
     "name": "stdout",
     "output_type": "stream",
     "text": [
      "3 : Başarılı\n"
     ]
    }
   ],
   "source": [
    "s=int(input(\"bir sayı giriniz:\"))\n",
    "match s:\n",
    "     case 1|2|3:\n",
    "         print(s,\": Başarılı\")\n",
    "         pass"
   ]
  },
  {
   "cell_type": "code",
   "execution_count": 77,
   "id": "5fa5f46d-64ab-4f7c-a7e4-0146ff4e6d1e",
   "metadata": {},
   "outputs": [
    {
     "name": "stdin",
     "output_type": "stream",
     "text": [
      "CSD> del\n"
     ]
    },
    {
     "name": "stdout",
     "output_type": "stream",
     "text": [
      "del command\n"
     ]
    }
   ],
   "source": [
    "#While döngüsüyle deneyelim\n",
    "while True:\n",
    "    cmd=input(\"CSD>\")\n",
    "    match  cmd:\n",
    "           case \"dir\":\n",
    "               print(\"dir command\")\n",
    "           case \"copy\":\n",
    "               print(\"copy command\")\n",
    "           case \"del\"|\"erase\":\n",
    "               print(cmd , \"command\")\n",
    "           case _:\n",
    "               print(\"invalid command\")\n",
    "    break\n"
   ]
  },
  {
   "cell_type": "code",
   "execution_count": 86,
   "id": "ac63fc2b-64fc-4fb2-9286-af5980631896",
   "metadata": {},
   "outputs": [
    {
     "name": "stdin",
     "output_type": "stream",
     "text": [
      "CSD> del\n"
     ]
    },
    {
     "name": "stdout",
     "output_type": "stream",
     "text": [
      "del\n",
      "del command\n"
     ]
    }
   ],
   "source": [
    "\n",
    "while True:\n",
    "    cmd=input(\"CSD>\")\n",
    "    match  cmd:\n",
    "           case \"dir\":\n",
    "               print(\"dir command\")\n",
    "           case \"copy\":\n",
    "               print(\"copy command\")\n",
    "           case (\"del\"|\"erase\"|\"dir\") as x:\n",
    "               print(x)\n",
    "               print(cmd,\"command\")\n",
    "           case _:\n",
    "               print(\"invalid command\")\n",
    "    break"
   ]
  },
  {
   "cell_type": "markdown",
   "id": "f27f1641-e9ab-4bde-b8a9-76f37d833f22",
   "metadata": {},
   "source": [
    "**Sequence Pattern (Dizilim kalıbı):**\n",
    "* Eğer match anahtar sözcüğünün yanındaki ifade bir dizilim türünden ise bu durumda case bölümleri dizilim kalibına sahip olabilir.\n",
    "* \"list\" ve \"tuple\" türlerini dizilim türü olarak kullanabiliriz.\n",
    "* Match yanındaki kalıp ile case yanındaki ifade aynı türden olmak zorunda değildir."
   ]
  },
  {
   "cell_type": "code",
   "execution_count": 95,
   "id": "915b5340-9ddc-4046-9078-5342b0a4bd6c",
   "metadata": {},
   "outputs": [
    {
     "name": "stdin",
     "output_type": "stream",
     "text": [
      "CSD> dir\n"
     ]
    },
    {
     "name": "stdout",
     "output_type": "stream",
     "text": [
      "dir command\n"
     ]
    },
    {
     "name": "stdin",
     "output_type": "stream",
     "text": [
      "CSD> copy\n"
     ]
    },
    {
     "name": "stdout",
     "output_type": "stream",
     "text": [
      "copy command\n"
     ]
    },
    {
     "name": "stdin",
     "output_type": "stream",
     "text": [
      "CSD> del\n"
     ]
    },
    {
     "name": "stdout",
     "output_type": "stream",
     "text": [
      "['del']\n",
      "del command\n"
     ]
    },
    {
     "name": "stdin",
     "output_type": "stream",
     "text": [
      "CSD> erase\n"
     ]
    },
    {
     "name": "stdout",
     "output_type": "stream",
     "text": [
      "['erase']\n",
      "del command\n"
     ]
    },
    {
     "name": "stdin",
     "output_type": "stream",
     "text": [
      "CSD> exit\n"
     ]
    }
   ],
   "source": [
    "while True:\n",
    "    cmd=input(\"CSD>\").split()\n",
    "    match  cmd:\n",
    "           case [\"dir\"]:\n",
    "               print(\"dir command\")\n",
    "           case [\"copy\"]:\n",
    "               print(\"copy command\")\n",
    "           case ([\"del\"]|[\"erase\"]|[\"dir\"]) as x:\n",
    "               print(x)\n",
    "               print(\"del command\")\n",
    "           case [\"quit\"]|[\"exit\"]:\n",
    "               break\n",
    "           case _:\n",
    "               print(\"invalid command\")\n",
    "    "
   ]
  },
  {
   "cell_type": "code",
   "execution_count": 97,
   "id": "851c0256-3889-4b54-93bb-954b5ed5c6de",
   "metadata": {},
   "outputs": [
    {
     "name": "stdin",
     "output_type": "stream",
     "text": [
      "CSD> del x.txt\n"
     ]
    },
    {
     "name": "stdout",
     "output_type": "stream",
     "text": [
      "del command erases x.txt file\n"
     ]
    },
    {
     "name": "stdin",
     "output_type": "stream",
     "text": [
      "CSD> quit\n"
     ]
    }
   ],
   "source": [
    "while True:\n",
    "    cmd=input(\"CSD>\").split()\n",
    "    match  cmd:\n",
    "           case [\"dir\"]:\n",
    "               print(\"dir command\")\n",
    "           case [\"copy\"]:\n",
    "               print(\"copy command\")\n",
    "           case [\"del\",path]|[\"erase\",path] :\n",
    "               print(f'del command erases {path} file')\n",
    "           case [\"quit\"]|[\"exit\"]:\n",
    "               break\n",
    "           case _:\n",
    "               print(\"invalid command\")"
   ]
  },
  {
   "cell_type": "code",
   "execution_count": 103,
   "id": "968aa6d0-2d24-4628-8c02-353f64f11203",
   "metadata": {},
   "outputs": [
    {
     "name": "stdin",
     "output_type": "stream",
     "text": [
      "CSD> x.txt y.txt z.txt\n"
     ]
    },
    {
     "name": "stdout",
     "output_type": "stream",
     "text": [
      "invalid command\n"
     ]
    },
    {
     "name": "stdin",
     "output_type": "stream",
     "text": [
      "CSD> del x.txt y.txt z.txt\n"
     ]
    },
    {
     "name": "stdout",
     "output_type": "stream",
     "text": [
      "del command erases x.txt and ['y.txt', 'z.txt'] file\n"
     ]
    },
    {
     "name": "stdin",
     "output_type": "stream",
     "text": [
      "CSD> quit\n"
     ]
    }
   ],
   "source": [
    "#Aynı listede 1 tane yıldızlı ifade kullanılabilir.\n",
    "while True:\n",
    "    cmd=input(\"CSD>\").split()\n",
    "    match  cmd:\n",
    "           case [\"dir\"]:\n",
    "               print(\"dir command\")\n",
    "           case [\"copy\"]:\n",
    "               print(\"copy command\")\n",
    "           case [\"del\",path,*others]|[\"erase\",path,*others] :\n",
    "               print(f'del command erases {path} and {others} file')\n",
    "           case [\"quit\"]|[\"exit\"]:\n",
    "               break\n",
    "           case _:\n",
    "               print(\"invalid command\")"
   ]
  },
  {
   "cell_type": "markdown",
   "id": "3f7b8005-a94a-492e-98ae-3537227f2e24",
   "metadata": {},
   "source": [
    "**Capture pattern:**\n",
    "* case anahtar sözcüğünün yanındaki ifade bir değişken olursa buna capture pattern denir.\n",
    "* Bu durumda değişkeninn içerisindeki değere bakılmaz.\n",
    "* Uyuşumun her zaman sağlandığı kabul edilir ve match ifadesi bu değişkene atanır.\n",
    "* capture pattern her şeyle uyum sağladığı için case bölümlerinin sonuna yerleştirilmek zorundadır.Yerleştirilmezse \"syntax error\" oluşur.\n",
    "* capture pattern tipik olarak **\"_\"** ile kullanılır. "
   ]
  },
  {
   "cell_type": "code",
   "execution_count": 113,
   "id": "71b31285-d15a-441b-9303-20674b493a70",
   "metadata": {},
   "outputs": [
    {
     "name": "stdin",
     "output_type": "stream",
     "text": [
      "Bir değer giriniz: 20\n"
     ]
    },
    {
     "name": "stdout",
     "output_type": "stream",
     "text": [
      "yirmi\n"
     ]
    }
   ],
   "source": [
    "a=int(input(\"Bir değer giriniz:\"))\n",
    "match a:\n",
    "       case 10:\n",
    "           print(\"on\")\n",
    "       case 20:\n",
    "           print(\"yirmi\")\n",
    "       case x:  #capture pattern\n",
    "           print(f'x={x}') #a neyse o yazdırılır."
   ]
  },
  {
   "cell_type": "markdown",
   "id": "0a49d8d8-a7fa-47b0-9e0a-f5a43c9ac9ed",
   "metadata": {},
   "source": [
    "**Mapping Pattern (Sözlük Kalıbı):**\n",
    "* Match yanındaki ifade bir sözlüktür.\n",
    "* Bu durumda case anahtar sözcüğünün yanında da bir sözlüğün bulunması gerekir.Sözlük direkt küme paranteziyle yazılmalıdır.({})\n",
    "* anahtar-değer çiftleri uyuşursa case uyuşumu sağlanır.\n",
    "* sıra önemli değildir.\n"
   ]
  },
  {
   "cell_type": "code",
   "execution_count": 8,
   "id": "161e1e13-63be-4106-b034-be7347361b2c",
   "metadata": {},
   "outputs": [
    {
     "name": "stdout",
     "output_type": "stream",
     "text": [
      "match edecek\n"
     ]
    }
   ],
   "source": [
    "d={\"ali\":10,\"veli\":20,\"selami\":30,\"ayşe\":40,\"fatma\":50}\n",
    "match d:\n",
    "      case {\"ali\":10,\"veli\":60}: \n",
    "          print(\"match etmeyecek\")\n",
    "      case {\"selami\":30,\"ayşe\":40}:\n",
    "          print(\"match edecek\")"
   ]
  },
  {
   "cell_type": "markdown",
   "id": "ed509205-64dd-4fcf-b3a8-49bc98fe8999",
   "metadata": {},
   "source": [
    "\n"
   ]
  },
  {
   "cell_type": "markdown",
   "id": "d3b088c0-44bd-41cd-aaeb-522e72e76d40",
   "metadata": {},
   "source": [
    "* Sözlük kalıbında \"_\" kullanılırsa bu her zaman uyuşuyor anlamına gelir.\n",
    "* Değişken olarak kullanılmaz özel bir anlam ifade eder."
   ]
  },
  {
   "cell_type": "code",
   "execution_count": 17,
   "id": "d6d3f169-e2a7-4d15-81ab-2aca3243e6b0",
   "metadata": {},
   "outputs": [
    {
     "name": "stdout",
     "output_type": "stream",
     "text": [
      "bir\n"
     ]
    }
   ],
   "source": [
    "d={\"ali\":10,\"veli\":20,\"selami\":30,\"ayşe\":40,\"fatma\":50}\n",
    "match d:\n",
    "      case {\"ali\":10,\"veli\":_}: \n",
    "          print(\"bir\")"
   ]
  },
  {
   "cell_type": "code",
   "execution_count": 23,
   "id": "762cf2b2-f4f1-4582-a700-3c5070752e89",
   "metadata": {},
   "outputs": [
    {
     "name": "stdout",
     "output_type": "stream",
     "text": [
      "20 bir\n"
     ]
    }
   ],
   "source": [
    "#Bu şekilde değişkeni elde edebiliriz\n",
    "d={\"ali\":10,\"veli\":20,\"selami\":30,\"ayşe\":40,\"fatma\":50}\n",
    "match d:\n",
    "      case {\"ali\":10,\"veli\":x}: \n",
    "          print(x,\"bir\")"
   ]
  },
  {
   "cell_type": "code",
   "execution_count": 34,
   "id": "fbe8476e-c04f-4b4e-aada-11ca039a8f98",
   "metadata": {},
   "outputs": [
    {
     "name": "stdout",
     "output_type": "stream",
     "text": [
      "{'selami': 30, 'ayşe': 40, 'fatma': 50}\n"
     ]
    }
   ],
   "source": [
    "# **Args belirtilemyen diğer anahtar-değer çiftlerini yazdırır.\n",
    "# ** değişkeninin bir tane ve sonda bulunması zorunludur.\n",
    "d={\"ali\":10,\"veli\":20,\"selami\":30,\"ayşe\":40,\"fatma\":50}\n",
    "match d:\n",
    "      case {\"ali\":10,\"veli\":value,**args}: \n",
    "          print(args)\n",
    "      case {\"selami\":30,\"ayşe\":40}:\n",
    "          print(\"match edecek\")"
   ]
  },
  {
   "cell_type": "markdown",
   "id": "413d616c-b0b8-494f-98a7-c5ce35f3e76f",
   "metadata": {},
   "source": [
    "**Match deyiminin Guard(Koruma) Özelliği:**\n",
    "\n",
    "*case <kalıp> if <koşul>:*\n",
    "\n",
    "* Bu cümleciğin  else kısmı olamaz"
   ]
  },
  {
   "cell_type": "code",
   "execution_count": 50,
   "id": "c740e428-1cb0-4a87-b99c-8fe21f1b8e87",
   "metadata": {},
   "outputs": [
    {
     "name": "stdin",
     "output_type": "stream",
     "text": [
      "Bir değer giriniz: -10\n"
     ]
    },
    {
     "name": "stdout",
     "output_type": "stream",
     "text": [
      "cannot matched\n"
     ]
    }
   ],
   "source": [
    "val=int(input(\"Bir değer giriniz:\"))\n",
    "x=-10\n",
    "match val:\n",
    "      case x if x > 0 :\n",
    "          print(\"matched\")\n",
    "      case _ :\n",
    "          print(\"cannot matched\")   "
   ]
  },
  {
   "cell_type": "markdown",
   "id": "a6af92e7-8c4c-4a1c-8ed2-9c237c235af8",
   "metadata": {},
   "source": [
    "**Conditional Operator(Koşul Operatörü):**\n",
    "* Koşul operatörü üç operandlı bir operatördür.\n",
    "* Koşul operaatörünün varolmasının sebebi bir koşula bağlı olarak elde edilen değerin ifadenin devamında kullanılabilmesidir.\n",
    "* İf deyimine benzemekle birlikte değer üretir.\n",
    "* Koşul operatörü if deyimiyle karıştırılmamalıdır.\n",
    "* **Genel biçim:** ifade1 *if* ifade2 *else* ifade3 "
   ]
  },
  {
   "cell_type": "code",
   "execution_count": 56,
   "id": "04785acc-580b-4f41-89a4-951c77f18470",
   "metadata": {},
   "outputs": [
    {
     "name": "stdin",
     "output_type": "stream",
     "text": [
      "Bir değer giriniz: 87\n"
     ]
    },
    {
     "name": "stdout",
     "output_type": "stream",
     "text": [
      "200\n"
     ]
    }
   ],
   "source": [
    "val=int(input(\"Bir değer giriniz:\"))\n",
    "result=100 if val % 2 == 0 else 200\n",
    "print(result)"
   ]
  },
  {
   "cell_type": "code",
   "execution_count": null,
   "id": "9b36d8fd-bb94-47a0-b52f-8c30abaca408",
   "metadata": {},
   "outputs": [],
   "source": []
  }
 ],
 "metadata": {
  "kernelspec": {
   "display_name": "Python 3 (ipykernel)",
   "language": "python",
   "name": "python3"
  },
  "language_info": {
   "codemirror_mode": {
    "name": "ipython",
    "version": 3
   },
   "file_extension": ".py",
   "mimetype": "text/x-python",
   "name": "python",
   "nbconvert_exporter": "python",
   "pygments_lexer": "ipython3",
   "version": "3.12.4"
  }
 },
 "nbformat": 4,
 "nbformat_minor": 5
}
