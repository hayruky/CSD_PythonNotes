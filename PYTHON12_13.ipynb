{
 "cells": [
  {
   "cell_type": "markdown",
   "id": "51574dd3-4a03-4ea4-a58f-a03d27346a46",
   "metadata": {},
   "source": [
    "### PYTHON  - 12/13.DERS"
   ]
  },
  {
   "cell_type": "code",
   "execution_count": 16,
   "id": "a88b7ba1-2b7b-45d9-932d-5fbd50b8a10d",
   "metadata": {},
   "outputs": [
    {
     "data": {
      "text/plain": [
       "4"
      ]
     },
     "execution_count": 16,
     "metadata": {},
     "output_type": "execute_result"
    }
   ],
   "source": [
    "b=2\n",
    "(a:=b)+2"
   ]
  },
  {
   "cell_type": "code",
   "execution_count": 36,
   "id": "8d670700-7a2a-429d-9b0b-fbc6736eb89e",
   "metadata": {},
   "outputs": [
    {
     "name": "stdout",
     "output_type": "stream",
     "text": [
      "10\n"
     ]
    }
   ],
   "source": [
    "#bu iki ifade eşdeğerdedir.\n",
    "print(a:=10)"
   ]
  },
  {
   "cell_type": "code",
   "execution_count": 24,
   "id": "6f7e8cfa-c8dd-4b51-b864-aa887665158a",
   "metadata": {},
   "outputs": [
    {
     "name": "stdout",
     "output_type": "stream",
     "text": [
      "10\n"
     ]
    }
   ],
   "source": [
    "a=10\n",
    "print(a)"
   ]
  },
  {
   "cell_type": "markdown",
   "id": "90ac6801-1d6b-43ad-8f36-00aba1b7d871",
   "metadata": {},
   "source": [
    "* ***OPERATÖRLER ARASI ÖNCELİK İLİŞKİSİ(OPERATOR PRECEDENCY)VARDIR.***\n",
    "* ÖNCELİK SIRASI ;\n",
    "  * () :SOLDAN SAĞA (left to right)\n",
    "  * \"**\" (üs alma opearatörü): sağdan sola\n",
    "  * -,+ (işaret operatörü):sağdan sola \n",
    "  * *, /,//,% :SOLDAN SAĞA\n",
    "  * +,- :SOLDAN SAĞA\n",
    "  * <,>,==,=! : sağdan sola\n",
    "  * not : sağdan sola\n",
    "  * and : soldan sağa\n",
    "  * or : soldan sağa \n",
    "  * = , := ,op= : SAĞDAN SOLA (atama ve walrus,işlemle atama operatörleri)\n",
    "    \n",
    "    \n"
   ]
  },
  {
   "cell_type": "markdown",
   "id": "9701cea0-3ed6-4884-ab8d-70e5e63403f6",
   "metadata": {},
   "source": [
    "Walrus operatörü öncelik tablosunda atama operatörü ile aynı gruptadır.\n",
    "\n",
    "Bu nedenle aşağıdaki gibi bir kodda parantez gerekir:"
   ]
  },
  {
   "cell_type": "code",
   "execution_count": 33,
   "id": "92d7fc3e-d92d-4800-af97-f51ade10b043",
   "metadata": {},
   "outputs": [
    {
     "name": "stdin",
     "output_type": "stream",
     "text": [
      "Bir değer giriniz: 4\n"
     ]
    },
    {
     "name": "stdout",
     "output_type": "stream",
     "text": [
      "16\n"
     ]
    },
    {
     "name": "stdin",
     "output_type": "stream",
     "text": [
      "Bir değer giriniz: 1\n"
     ]
    },
    {
     "name": "stdout",
     "output_type": "stream",
     "text": [
      "1\n"
     ]
    },
    {
     "name": "stdin",
     "output_type": "stream",
     "text": [
      "Bir değer giriniz: 5\n"
     ]
    },
    {
     "name": "stdout",
     "output_type": "stream",
     "text": [
      "25\n"
     ]
    },
    {
     "name": "stdin",
     "output_type": "stream",
     "text": [
      "Bir değer giriniz: 7\n"
     ]
    },
    {
     "name": "stdout",
     "output_type": "stream",
     "text": [
      "49\n"
     ]
    },
    {
     "name": "stdin",
     "output_type": "stream",
     "text": [
      "Bir değer giriniz: 1\n"
     ]
    },
    {
     "name": "stdout",
     "output_type": "stream",
     "text": [
      "1\n"
     ]
    },
    {
     "name": "stdin",
     "output_type": "stream",
     "text": [
      "Bir değer giriniz: 1\n"
     ]
    },
    {
     "name": "stdout",
     "output_type": "stream",
     "text": [
      "1\n"
     ]
    },
    {
     "name": "stdin",
     "output_type": "stream",
     "text": [
      "Bir değer giriniz: 6\n"
     ]
    },
    {
     "name": "stdout",
     "output_type": "stream",
     "text": [
      "36\n"
     ]
    },
    {
     "name": "stdin",
     "output_type": "stream",
     "text": [
      "Bir değer giriniz: 0\n"
     ]
    }
   ],
   "source": [
    "while(a:=int(input(\"Bir değer giriniz:\"))) !=0:\n",
    "    print(a*a)\n",
    "    "
   ]
  },
  {
   "cell_type": "markdown",
   "id": "3c4bf99b-d084-4c66-a264-753eee245783",
   "metadata": {},
   "source": [
    "**İŞLEMLE ATAMA OPERATÖRÜ(op=)**\n",
    "\n",
    "* +=\n",
    "* -=\n",
    "* *=\n",
    "* /=\n",
    "* //= böl ve taban değerine yuvarla.\n",
    "* %=\n"
   ]
  },
  {
   "cell_type": "code",
   "execution_count": 41,
   "id": "e9ef1b1f-4c4e-4652-94fa-2783afd84c5f",
   "metadata": {},
   "outputs": [
    {
     "name": "stdout",
     "output_type": "stream",
     "text": [
      "8\n"
     ]
    }
   ],
   "source": [
    "a=3\n",
    "a+=5\n",
    "print(a)"
   ]
  },
  {
   "cell_type": "code",
   "execution_count": 45,
   "id": "7b4239e2-a590-43b7-b8fc-92cd4c09f64f",
   "metadata": {},
   "outputs": [
    {
     "data": {
      "text/plain": [
       "2.0"
      ]
     },
     "execution_count": 45,
     "metadata": {},
     "output_type": "execute_result"
    }
   ],
   "source": [
    "a/=2\n",
    "a"
   ]
  },
  {
   "cell_type": "code",
   "execution_count": 47,
   "id": "9c2e53c6-0709-4b6f-af59-7bc7a92a7f87",
   "metadata": {},
   "outputs": [
    {
     "data": {
      "text/plain": [
       "10.0"
      ]
     },
     "execution_count": 47,
     "metadata": {},
     "output_type": "execute_result"
    }
   ],
   "source": [
    "a*=5\n",
    "a"
   ]
  },
  {
   "cell_type": "code",
   "execution_count": 49,
   "id": "a87fb951-2bee-4ba4-9168-7077c245bbc3",
   "metadata": {},
   "outputs": [
    {
     "data": {
      "text/plain": [
       "9.0"
      ]
     },
     "execution_count": 49,
     "metadata": {},
     "output_type": "execute_result"
    }
   ],
   "source": [
    "a-=1\n",
    "a"
   ]
  },
  {
   "cell_type": "markdown",
   "id": "1e3ac83b-0575-4a41-9c73-564e999853fd",
   "metadata": {},
   "source": [
    "* And,or,not operatörlerinin işlemli biçimi yoktur."
   ]
  },
  {
   "cell_type": "code",
   "execution_count": 59,
   "id": "fd237b9e-cb78-4f7f-8574-f0959621094f",
   "metadata": {},
   "outputs": [
    {
     "ename": "SyntaxError",
     "evalue": "invalid syntax (2950454072.py, line 1)",
     "output_type": "error",
     "traceback": [
      "\u001b[1;36m  Cell \u001b[1;32mIn[59], line 1\u001b[1;36m\u001b[0m\n\u001b[1;33m    a or=b #YOKTUR.\u001b[0m\n\u001b[1;37m        ^\u001b[0m\n\u001b[1;31mSyntaxError\u001b[0m\u001b[1;31m:\u001b[0m invalid syntax\n"
     ]
    }
   ],
   "source": [
    "a or=b #YOKTUR."
   ]
  },
  {
   "cell_type": "markdown",
   "id": "7b26bed2-297f-41a0-b75f-156275cf18f9",
   "metadata": {},
   "source": [
    "**KONUM BELİRLEME**\n",
    "* Id() kullanılır."
   ]
  },
  {
   "cell_type": "code",
   "execution_count": 62,
   "id": "1a7a613a-228b-49e1-b72b-d6cd2d42524d",
   "metadata": {},
   "outputs": [
    {
     "data": {
      "text/plain": [
       "140728644942552"
      ]
     },
     "execution_count": 62,
     "metadata": {},
     "output_type": "execute_result"
    }
   ],
   "source": [
    "a=10\n",
    "id(a)"
   ]
  },
  {
   "cell_type": "code",
   "execution_count": 64,
   "id": "895b4424-2f00-4375-b4c1-f4893bcd437d",
   "metadata": {},
   "outputs": [
    {
     "data": {
      "text/plain": [
       "140728644942584"
      ]
     },
     "execution_count": 64,
     "metadata": {},
     "output_type": "execute_result"
    }
   ],
   "source": [
    "a+=1\n",
    "id(a)"
   ]
  },
  {
   "cell_type": "code",
   "execution_count": 69,
   "id": "50d9f069-9508-4339-a8f3-e5605dda1c6d",
   "metadata": {},
   "outputs": [],
   "source": [
    "a=2\n",
    "a *= 3+2 \n",
    "#ilk önce 3+2 yapılır. a*=5\n",
    "# daha sonra çarpa işlemi yapılır."
   ]
  },
  {
   "cell_type": "code",
   "execution_count": 73,
   "id": "3dc425f3-9d9c-4826-bdf4-4998032ff24a",
   "metadata": {},
   "outputs": [
    {
     "data": {
      "text/plain": [
       "10"
      ]
     },
     "execution_count": 73,
     "metadata": {},
     "output_type": "execute_result"
    }
   ],
   "source": [
    "a "
   ]
  },
  {
   "cell_type": "code",
   "execution_count": 79,
   "id": "45c07bb6-7478-4312-af1d-9adc52c3bfd7",
   "metadata": {},
   "outputs": [
    {
     "data": {
      "text/plain": [
       "5"
      ]
     },
     "execution_count": 79,
     "metadata": {},
     "output_type": "execute_result"
    }
   ],
   "source": [
    "a=16\n",
    "a//=3\n",
    "a"
   ]
  },
  {
   "cell_type": "markdown",
   "id": "4cd9a024-938c-4aef-b81b-b67b0b047f13",
   "metadata": {},
   "source": [
    "***İFADE:*** Değişkenlerin,operatörlerin,sabitlerin her bir kombinasyonuna ifade denir.\n",
    "  * print(a+b)\n",
    "  * print(a)\n",
    "  * print(+) : Herhangi bir ifade belirtmez."
   ]
  },
  {
   "cell_type": "code",
   "execution_count": 92,
   "id": "58fd9e6e-077d-4b5e-90dc-d89b22f0f1ca",
   "metadata": {},
   "outputs": [
    {
     "name": "stdout",
     "output_type": "stream",
     "text": [
      "10 7\n"
     ]
    }
   ],
   "source": [
    "#Print ile birden fazla değikeni tek parantezde yazdırabiliriz.\n",
    "a=10\n",
    "b=7\n",
    "print(a,b)"
   ]
  },
  {
   "cell_type": "code",
   "execution_count": 94,
   "id": "9ecc3e8d-660c-4125-be63-d2031147aaa1",
   "metadata": {},
   "outputs": [
    {
     "name": "stdout",
     "output_type": "stream",
     "text": [
      "10\n",
      "7\n"
     ]
    }
   ],
   "source": [
    "print(a)\n",
    "print(b)"
   ]
  },
  {
   "cell_type": "code",
   "execution_count": 100,
   "id": "e330f9e0-e07d-4e8d-bab8-7d38744d03aa",
   "metadata": {},
   "outputs": [
    {
     "name": "stdout",
     "output_type": "stream",
     "text": [
      "a= 10 b= 7\n"
     ]
    }
   ],
   "source": [
    "a=10\n",
    "b=7\n",
    "print(\"a=\",a,\"b=\",b)"
   ]
  },
  {
   "cell_type": "code",
   "execution_count": 106,
   "id": "6d147ab7-28d0-4fe7-b05a-166907dac4d5",
   "metadata": {},
   "outputs": [
    {
     "name": "stdout",
     "output_type": "stream",
     "text": [
      "10xxxx7\n"
     ]
    }
   ],
   "source": [
    "print(a,b,sep=\"xxxx\")\n",
    "#sep:araya space yerine belirttiğimiz şeyleri yazdırır."
   ]
  },
  {
   "cell_type": "code",
   "execution_count": 108,
   "id": "61008720-8583-45ce-b087-136dc4642842",
   "metadata": {},
   "outputs": [
    {
     "name": "stdout",
     "output_type": "stream",
     "text": [
      "10,20,30\n"
     ]
    }
   ],
   "source": [
    "a=10\n",
    "b=20\n",
    "c=30\n",
    "print(a,b,c,sep=\",\")"
   ]
  },
  {
   "cell_type": "markdown",
   "id": "2caa3f1e-663b-4f26-a36a-e5662589ec9b",
   "metadata": {},
   "source": [
    "* **sep=** str olmalıdır."
   ]
  },
  {
   "cell_type": "code",
   "execution_count": 112,
   "id": "30497db5-fdf0-427e-bc89-c15aecd80c31",
   "metadata": {},
   "outputs": [],
   "source": [
    "a=10\n",
    "b=20\n",
    "c=30"
   ]
  },
  {
   "cell_type": "code",
   "execution_count": 135,
   "id": "df7b1e4f-32d8-40f7-847e-1dbb738da203",
   "metadata": {},
   "outputs": [
    {
     "name": "stdout",
     "output_type": "stream",
     "text": [
      "10\n",
      "10xxx20\n",
      "30\n"
     ]
    }
   ],
   "source": [
    "print(a)\n",
    "print(a,end=\"xxx\") \n",
    "print(b)\n",
    "print(c)"
   ]
  },
  {
   "cell_type": "code",
   "execution_count": 137,
   "id": "6c7f0e1f-da91-42e7-b53d-10eb68d83a09",
   "metadata": {},
   "outputs": [
    {
     "name": "stdout",
     "output_type": "stream",
     "text": [
      "10\n",
      "10\n",
      "10"
     ]
    }
   ],
   "source": [
    "\n",
    "print(a,end=\"\\n\") \n",
    "print(a,end=\"\\n\") \n",
    "print(a,end=\"\") \n",
    "\n"
   ]
  },
  {
   "cell_type": "code",
   "execution_count": 126,
   "id": "7d6cc6fc-abf2-4788-ba99-4977be16f19f",
   "metadata": {},
   "outputs": [
    {
     "name": "stdout",
     "output_type": "stream",
     "text": [
      "10 20 30\n",
      "10\n"
     ]
    }
   ],
   "source": [
    "print(a,b,c)\n",
    "print(a)"
   ]
  },
  {
   "cell_type": "code",
   "execution_count": 130,
   "id": "df1a9e5c-59a5-4a5e-b827-4597292b1d19",
   "metadata": {},
   "outputs": [
    {
     "name": "stdout",
     "output_type": "stream",
     "text": [
      "10\n",
      "20\n",
      "30\n"
     ]
    }
   ],
   "source": [
    "print(a,b,c,sep=\"\\n\")"
   ]
  },
  {
   "cell_type": "markdown",
   "id": "e58e8271-b1bc-41ed-9399-e55bb6100482",
   "metadata": {},
   "source": [
    "* sep'i kullanmamak demek sep=\"\" yapmak ile aynı şeydir."
   ]
  },
  {
   "cell_type": "code",
   "execution_count": 142,
   "id": "2358026a-d9ca-4493-a88e-271b38cfd73e",
   "metadata": {},
   "outputs": [
    {
     "name": "stdout",
     "output_type": "stream",
     "text": [
      "10\n"
     ]
    }
   ],
   "source": [
    "a=10\n",
    "print(a,sep=\">\")\n",
    "#Burada tek bir ifade olduğundan sep paremetresinin girilmesine gerek yoktur."
   ]
  },
  {
   "cell_type": "markdown",
   "id": "d09c6eb8-4267-479d-ae9e-9059e38be44b",
   "metadata": {},
   "source": [
    "* Print çağrısında sep ile end kullanılırken bunların sırası farklı girilebilir.Ancak önce sep sonra end parametreleri için argüman girmek daha anlaşılır bir yazdımdır."
   ]
  },
  {
   "cell_type": "code",
   "execution_count": 146,
   "id": "de874956-c78d-46f3-8036-2f23c20be9b7",
   "metadata": {},
   "outputs": [
    {
     "name": "stdout",
     "output_type": "stream",
     "text": [
      "10xxx20xxx30yyyok\n"
     ]
    }
   ],
   "source": [
    "a=10\n",
    "b=20\n",
    "c=30\n",
    "print(a,b,c,sep=\"xxx\",end=\"yyy\")\n",
    "print(\"ok\")"
   ]
  },
  {
   "cell_type": "markdown",
   "id": "a80dd39a-b0f9-484b-9655-8bef51a78625",
   "metadata": {},
   "source": [
    "***Python'da Tür Dönüştürme(type conversion/cast)***"
   ]
  },
  {
   "cell_type": "code",
   "execution_count": 149,
   "id": "652876cb-4521-4c72-b7f3-747c379a0a2d",
   "metadata": {},
   "outputs": [
    {
     "data": {
      "text/plain": [
       "int"
      ]
     },
     "execution_count": 149,
     "metadata": {},
     "output_type": "execute_result"
    }
   ],
   "source": [
    "a=10\n",
    "type(a)"
   ]
  },
  {
   "cell_type": "markdown",
   "id": "e593a7d0-6e50-4ee1-ba2f-27ef00b892c4",
   "metadata": {},
   "source": [
    "***T(İFADE) KALIBINI KULLANIRIZ.***"
   ]
  },
  {
   "cell_type": "code",
   "execution_count": 162,
   "id": "d0a084eb-a996-49b6-b9f0-2d7b20ce89f4",
   "metadata": {},
   "outputs": [
    {
     "data": {
      "text/plain": [
       "10.0"
      ]
     },
     "execution_count": 162,
     "metadata": {},
     "output_type": "execute_result"
    }
   ],
   "source": [
    "a=float(a)\n",
    "a"
   ]
  },
  {
   "cell_type": "code",
   "execution_count": 160,
   "id": "3cfd4d47-23d8-48c6-a0d8-308cac389c83",
   "metadata": {},
   "outputs": [
    {
     "data": {
      "text/plain": [
       "float"
      ]
     },
     "execution_count": 160,
     "metadata": {},
     "output_type": "execute_result"
    }
   ],
   "source": [
    "type(a)"
   ]
  },
  {
   "cell_type": "markdown",
   "id": "bcb8836e-8c6e-4702-81f9-e7b00e04a819",
   "metadata": {},
   "source": [
    "**Python'da Tür Dönüştürme(type conversion/cast)**\n",
    "* Python'da tüm temel türler T(...) sentaksıyla birbirlerine dönüştürülebilirler.\n",
    "* Hangi tür hangi türe dönüştürüldüğünde ne olacaktır.İnceleyelim:\n",
    "* * 1) **float => int**\n",
    "    * Bir noktalı sayının bu şekilde tam sayıya dönüştürülmesine ***\"truncation toward zero\"*** denilir.\n",
    "    * Sıfıra yakın olan değeri alır.\n",
    "* * 2) **bool => int**\n",
    "     * Bool bir değer int türüne dönüştürülürse eğer değer True ise 1, False ise 0 elde edilir.\n",
    "* * 3) **int => float**\n",
    "     * Değer değişmez _.0 ifadesi gelir.\n",
    "     * İnt sınırsız değer alır  fakat float'ın 8 byt sınırı vardır.\n",
    "     * int değeri floatın sınırını geçebilir.\n",
    "     * Eğer int değer float türüne basamaksal kayıp olmadan dönüştürülemiyorsa bu durumda sistem ***\"OverflowError(Taşma)\"*** verir.Ve sistem çöker yani exception oluşur.\n",
    "     * Sayı float türüne dönüştürülemese de eğer basamak kaybı olmuyorsa  mantis kaybıyla ona en yakın büyük ya da küçük sayı elde edilir.\n",
    "* * 4) **bool => float**\n",
    "       * Bool bir değer float türüne dönüştürülürse eğer değer True ise 1.0, False ise 0.0 elde edilir.\n",
    "* * 5) **str => int**\n",
    "       * s=\"123\" gibi string içinde sayısal olarak anlamlı bir ifade bulunuyorsa int(s) yaptığımızda 123 değerini verir ve aritmatik işlemlere sokulabilir.\n",
    "       * s=\"ali\" gibi string içinde sayısal olarak anlamlı bir ifade bulunmuyorsa int(s) ifade exception(ValueError) oluşur.\n",
    "       * Bir yazının başındaki boşluk karakterlerine İngilizce \"leading space\",yazının sonundaki boşluk karakterlerine ise \"trailing space\" denilmektedir.Bu boşluk karakterleri dikkate alınmamaktadır.\n",
    "* * 6) **str=> float**\n",
    "       * s=\"123.4\" gibi string içinde sayısal olarak anlamlı bir ifade bulunuyorsa float(s) yaptığımızda 123.4 değerini verir ve aritmatik işlemlere sokulabilir.\n",
    "       * s=\"ali\" gibi string içinde sayısal olarak anlamlı bir ifade bulunmuyorsa float(s) ifade exception (ValueError) oluşturur.\n",
    "       * Bir yazının başındaki boşluk karakterlerine İngilizce \"leading space\",yazının sonundaki boşluk karakterlerine ise \"trailing space\" denilmektedir.Bu boşluk karakterleri dikkate alınmamaktadır.\n",
    "* * 7) **complex=> int/float**\n",
    "    8) **none => int/float**\n",
    "       * Bir complex türünden değer int ve float türüne dönüştürülememektedir.\n",
    "       * Exception (TypeError) oluşur.\n",
    "       * Benzer bir şekilde none değeri de int ve float'a dönüştürülemez.\n",
    "* * 9) **complex=>bool**\n",
    "        * İmajiner ve reel  kısmına bakılır.Eğer ikisi de O ise ve NoneZero ise  False, iki kısım da 0' dan farklı ise True döndürür.\n",
    "* * 10) **str=>bool**\n",
    "        * stringin içindeki yazıya bakılmaz.***Boş mu dolu mu olduğuna bakılır.***\n",
    "        * Dolu ise \"True\" ,boş ise \" False\" döndürür.\n",
    "* * 11) **int/float=>complex**\n",
    "        * 0j+değer olarak dönüşür.\n",
    "        * None türü complexe dönüştürülemez.\n",
    "* * 12) Temel türlerin hepsi str türüne dönüştürülebilir.\n",
    "                                                              "
   ]
  },
  {
   "cell_type": "code",
   "execution_count": 174,
   "id": "cb1e334a-2ed7-45b0-8d7a-200e87529b1c",
   "metadata": {},
   "outputs": [
    {
     "name": "stdout",
     "output_type": "stream",
     "text": [
      "3.14\n",
      "3\n",
      "<class 'float'>\n",
      "<class 'int'>\n"
     ]
    }
   ],
   "source": [
    "# 1) float => int\n",
    "a=3.14\n",
    "b=int(a)\n",
    "print(a)\n",
    "print(b)\n",
    "print(type(a))\n",
    "print(type(b))"
   ]
  },
  {
   "cell_type": "code",
   "execution_count": 2,
   "id": "2fcaf948-ebd6-4014-a66d-a7b638e7672a",
   "metadata": {},
   "outputs": [
    {
     "name": "stdout",
     "output_type": "stream",
     "text": [
      "2535920003344\n"
     ]
    }
   ],
   "source": [
    "a=13.99\n",
    "print(id(a))"
   ]
  },
  {
   "cell_type": "code",
   "execution_count": 4,
   "id": "67432d39-f1ad-4c3f-bfef-02780e407ebf",
   "metadata": {},
   "outputs": [
    {
     "name": "stdout",
     "output_type": "stream",
     "text": [
      "13\n"
     ]
    }
   ],
   "source": [
    "b=int(a)\n",
    "print(b)"
   ]
  },
  {
   "cell_type": "code",
   "execution_count": 6,
   "id": "106867ef-2edb-4d23-8b49-bd42db561e23",
   "metadata": {},
   "outputs": [
    {
     "name": "stdout",
     "output_type": "stream",
     "text": [
      "140728644942648\n"
     ]
    }
   ],
   "source": [
    "print(id(b))"
   ]
  },
  {
   "cell_type": "code",
   "execution_count": 10,
   "id": "f75cbaf0-2cc4-4455-808b-94e555c7a408",
   "metadata": {},
   "outputs": [
    {
     "name": "stdout",
     "output_type": "stream",
     "text": [
      "-13\n"
     ]
    }
   ],
   "source": [
    "a=-13.99\n",
    "b=int(a)\n",
    "print(b)"
   ]
  },
  {
   "cell_type": "code",
   "execution_count": 20,
   "id": "451b4ad3-8420-42b8-8dd3-bd692dfd34de",
   "metadata": {},
   "outputs": [
    {
     "name": "stdout",
     "output_type": "stream",
     "text": [
      "1\n"
     ]
    }
   ],
   "source": [
    "#2) bool => int\n",
    "a=True \n",
    "b=int(a)\n",
    "print(b)"
   ]
  },
  {
   "cell_type": "code",
   "execution_count": 15,
   "id": "97370040-e96d-41c5-9e3b-96da65b41fd2",
   "metadata": {},
   "outputs": [
    {
     "name": "stdout",
     "output_type": "stream",
     "text": [
      "0\n"
     ]
    }
   ],
   "source": [
    "a=False\n",
    "b=int(a)\n",
    "print(b)"
   ]
  },
  {
   "cell_type": "code",
   "execution_count": 29,
   "id": "bdf60e13-1e55-4722-8e17-5571d0727ec6",
   "metadata": {},
   "outputs": [
    {
     "name": "stdout",
     "output_type": "stream",
     "text": [
      "1234567891.0\n"
     ]
    }
   ],
   "source": [
    "#3)int => float\n",
    "a=1234567891\n",
    "b=float(a)\n",
    "print(b)"
   ]
  },
  {
   "cell_type": "code",
   "execution_count": 33,
   "id": "7d5202e0-38bd-40b3-8f0b-2444eb050d9f",
   "metadata": {},
   "outputs": [
    {
     "name": "stdout",
     "output_type": "stream",
     "text": [
      "1.2345678911234568e+19\n"
     ]
    }
   ],
   "source": [
    "a=12345678911234567891\n",
    "b=float(a)\n",
    "print(b)\n",
    "#mantis kaybıyla en yakın ifade elde edildi."
   ]
  },
  {
   "cell_type": "code",
   "execution_count": 36,
   "id": "1cb8e4b2-d114-4ff0-8bdf-4aa91ff5a7f8",
   "metadata": {},
   "outputs": [
    {
     "name": "stdout",
     "output_type": "stream",
     "text": [
      "1.0\n"
     ]
    }
   ],
   "source": [
    "#4) bool => float :\n",
    "a=True\n",
    "b=float(a)\n",
    "print(b)\n"
   ]
  },
  {
   "cell_type": "code",
   "execution_count": 38,
   "id": "4034094e-be12-49b8-898b-cd60bf116f09",
   "metadata": {},
   "outputs": [
    {
     "name": "stdout",
     "output_type": "stream",
     "text": [
      "0.0\n"
     ]
    }
   ],
   "source": [
    "a=False\n",
    "b=float(a)\n",
    "print(b)\n"
   ]
  },
  {
   "cell_type": "code",
   "execution_count": 43,
   "id": "e715288d-26fb-4128-bbb8-160fac72d42c",
   "metadata": {},
   "outputs": [
    {
     "name": "stdout",
     "output_type": "stream",
     "text": [
      "123\n",
      "125\n"
     ]
    }
   ],
   "source": [
    "# 5) str => int\n",
    "s=\"123\"\n",
    "b=int(s)\n",
    "print(b)\n",
    "print(b+2)"
   ]
  },
  {
   "cell_type": "code",
   "execution_count": 45,
   "id": "f5e75ebc-cf72-4a34-9baf-03aea50f2f38",
   "metadata": {},
   "outputs": [
    {
     "ename": "ValueError",
     "evalue": "invalid literal for int() with base 10: 'ali'",
     "output_type": "error",
     "traceback": [
      "\u001b[1;31m---------------------------------------------------------------------------\u001b[0m",
      "\u001b[1;31mValueError\u001b[0m                                Traceback (most recent call last)",
      "Cell \u001b[1;32mIn[45], line 2\u001b[0m\n\u001b[0;32m      1\u001b[0m s\u001b[38;5;241m=\u001b[39m\u001b[38;5;124m\"\u001b[39m\u001b[38;5;124mali\u001b[39m\u001b[38;5;124m\"\u001b[39m\n\u001b[1;32m----> 2\u001b[0m b\u001b[38;5;241m=\u001b[39m\u001b[38;5;28mint\u001b[39m(s)\n\u001b[0;32m      3\u001b[0m \u001b[38;5;28mprint\u001b[39m(b)\n",
      "\u001b[1;31mValueError\u001b[0m: invalid literal for int() with base 10: 'ali'"
     ]
    }
   ],
   "source": [
    "s=\"ali\"\n",
    "b=int(s)\n",
    "print(b)"
   ]
  },
  {
   "cell_type": "code",
   "execution_count": 60,
   "id": "1ff2607d-2c61-4a88-a6a9-e18b60164f6e",
   "metadata": {},
   "outputs": [
    {
     "name": "stdout",
     "output_type": "stream",
     "text": [
      "123\n"
     ]
    }
   ],
   "source": [
    "# boşluklar dikkate alınmamaktadır.\n",
    "s=\"        123\"\n",
    "b=int(s)\n",
    "print(b)"
   ]
  },
  {
   "cell_type": "code",
   "execution_count": 54,
   "id": "a8deb46f-b235-4d57-b153-f5c734d19e88",
   "metadata": {},
   "outputs": [
    {
     "name": "stdout",
     "output_type": "stream",
     "text": [
      "123.4\n",
      "125.4\n"
     ]
    }
   ],
   "source": [
    "#6)str=> float\n",
    "s=\"123.4\"\n",
    "b=float(s)\n",
    "print(b)\n",
    "print(b+2)"
   ]
  },
  {
   "cell_type": "code",
   "execution_count": 56,
   "id": "64db845e-900c-47f8-838e-41f357ff4f6f",
   "metadata": {},
   "outputs": [
    {
     "name": "stdout",
     "output_type": "stream",
     "text": [
      "123.0\n",
      "125.0\n"
     ]
    }
   ],
   "source": [
    "s=\"123\"\n",
    "b=float(s)\n",
    "print(b)\n",
    "print(b+2)"
   ]
  },
  {
   "cell_type": "markdown",
   "id": "0aafd017-127b-45bf-b131-209ea195c5e7",
   "metadata": {},
   "source": [
    "## 13.DERS"
   ]
  },
  {
   "cell_type": "code",
   "execution_count": 73,
   "id": "c1208182-4beb-4509-880d-ceb7bd6a4215",
   "metadata": {},
   "outputs": [
    {
     "ename": "TypeError",
     "evalue": "int() argument must be a string, a bytes-like object or a real number, not 'complex'",
     "output_type": "error",
     "traceback": [
      "\u001b[1;31m---------------------------------------------------------------------------\u001b[0m",
      "\u001b[1;31mTypeError\u001b[0m                                 Traceback (most recent call last)",
      "Cell \u001b[1;32mIn[73], line 3\u001b[0m\n\u001b[0;32m      1\u001b[0m \u001b[38;5;66;03m# 7) complex=> int/float\u001b[39;00m\n\u001b[0;32m      2\u001b[0m z\u001b[38;5;241m=\u001b[39m\u001b[38;5;241m3\u001b[39mj\u001b[38;5;241m+\u001b[39m\u001b[38;5;241m2\u001b[39m\n\u001b[1;32m----> 3\u001b[0m a\u001b[38;5;241m=\u001b[39m\u001b[38;5;28mint\u001b[39m(z)\n\u001b[0;32m      4\u001b[0m \u001b[38;5;28mprint\u001b[39m(a)\n",
      "\u001b[1;31mTypeError\u001b[0m: int() argument must be a string, a bytes-like object or a real number, not 'complex'"
     ]
    }
   ],
   "source": [
    "# 7) complex=> int/float\n",
    "z=3j+2\n",
    "a=int(z)\n",
    "print(a)"
   ]
  },
  {
   "cell_type": "code",
   "execution_count": 75,
   "id": "eb4386b0-dc5f-4bea-bb24-ddb5ac376433",
   "metadata": {},
   "outputs": [
    {
     "ename": "TypeError",
     "evalue": "int() argument must be a string, a bytes-like object or a real number, not 'complex'",
     "output_type": "error",
     "traceback": [
      "\u001b[1;31m---------------------------------------------------------------------------\u001b[0m",
      "\u001b[1;31mTypeError\u001b[0m                                 Traceback (most recent call last)",
      "Cell \u001b[1;32mIn[75], line 2\u001b[0m\n\u001b[0;32m      1\u001b[0m z\u001b[38;5;241m=\u001b[39m\u001b[38;5;241m0\u001b[39mj\u001b[38;5;241m+\u001b[39m\u001b[38;5;241m2\u001b[39m\n\u001b[1;32m----> 2\u001b[0m a\u001b[38;5;241m=\u001b[39m\u001b[38;5;28mint\u001b[39m(z)\n\u001b[0;32m      3\u001b[0m \u001b[38;5;28mprint\u001b[39m(a)\n",
      "\u001b[1;31mTypeError\u001b[0m: int() argument must be a string, a bytes-like object or a real number, not 'complex'"
     ]
    }
   ],
   "source": [
    "z=0j+2\n",
    "a=int(z)\n",
    "print(a)"
   ]
  },
  {
   "cell_type": "code",
   "execution_count": 103,
   "id": "6b8870ec-fd59-4a50-a772-88e9bf5df8d3",
   "metadata": {},
   "outputs": [
    {
     "name": "stdout",
     "output_type": "stream",
     "text": [
      "True\n"
     ]
    }
   ],
   "source": [
    "# 9)complex=>bool\n",
    "z=3j+0\n",
    "a=bool(z)\n",
    "print(a)"
   ]
  },
  {
   "cell_type": "code",
   "execution_count": 101,
   "id": "f1120d97-cb1d-47ed-99aa-b1e0b88e4ef2",
   "metadata": {},
   "outputs": [
    {
     "name": "stdout",
     "output_type": "stream",
     "text": [
      "False\n"
     ]
    }
   ],
   "source": [
    "z=0j+0\n",
    "b=bool(z)\n",
    "print(b)\n"
   ]
  },
  {
   "cell_type": "code",
   "execution_count": 107,
   "id": "3b57dbbd-906f-41aa-aa1e-e5053de3cd5b",
   "metadata": {},
   "outputs": [
    {
     "name": "stdout",
     "output_type": "stream",
     "text": [
      "False\n"
     ]
    }
   ],
   "source": [
    "z=None\n",
    "b=bool(z)\n",
    "print(b)"
   ]
  },
  {
   "cell_type": "code",
   "execution_count": 110,
   "id": "1bd19b85-0415-4d4f-92b7-51feb4f099e7",
   "metadata": {},
   "outputs": [
    {
     "name": "stdout",
     "output_type": "stream",
     "text": [
      "True\n"
     ]
    }
   ],
   "source": [
    "#10) str=>bool\n",
    "s=\"False\"\n",
    "b=bool(s)\n",
    "print(b)"
   ]
  },
  {
   "cell_type": "code",
   "execution_count": 114,
   "id": "a71e910d-269a-485b-8cc9-e4e80c6b405a",
   "metadata": {},
   "outputs": [
    {
     "name": "stdout",
     "output_type": "stream",
     "text": [
      "False\n"
     ]
    }
   ],
   "source": [
    "s=\"\"\n",
    "b=bool(s)\n",
    "print(b)"
   ]
  },
  {
   "cell_type": "code",
   "execution_count": 118,
   "id": "0ce83c21-2614-484f-84b0-dbb8da5798ea",
   "metadata": {},
   "outputs": [
    {
     "name": "stdout",
     "output_type": "stream",
     "text": [
      "True\n"
     ]
    }
   ],
   "source": [
    "s=\"Tr\"\n",
    "b=bool(s)\n",
    "print(b)"
   ]
  },
  {
   "cell_type": "code",
   "execution_count": 120,
   "id": "637d8b14-0725-40f2-b356-ebc0ba941d79",
   "metadata": {},
   "outputs": [
    {
     "name": "stdout",
     "output_type": "stream",
     "text": [
      "(10+0j)\n"
     ]
    }
   ],
   "source": [
    "#11) int/float=>complex\n",
    "z=complex(10)\n",
    "print(z)"
   ]
  },
  {
   "cell_type": "code",
   "execution_count": 122,
   "id": "288139c5-44f1-41c9-938e-3c4dbe633bd3",
   "metadata": {},
   "outputs": [
    {
     "name": "stdout",
     "output_type": "stream",
     "text": [
      "(10.54+0j)\n"
     ]
    }
   ],
   "source": [
    "z=complex(10.54)\n",
    "print(z)"
   ]
  },
  {
   "cell_type": "markdown",
   "id": "ff7f310f-28c2-4149-9eec-5a3c93367a5a",
   "metadata": {},
   "source": [
    "Şimdi artık klavyeden belli bir tür için okumanın neden tür değiştirmesi gibi yapıldığını anlayabiliriz.\n",
    "\n",
    "input fonksiyonu her zaman str okuması yapmaktadır.\n",
    "* Dolayısıyla okunan değerler T türüne :\n",
    "  * T(input(......)) biçiminde dönüştürülür."
   ]
  },
  {
   "cell_type": "code",
   "execution_count": 128,
   "id": "64155a8a-4934-4552-b5f3-84159e9eca26",
   "metadata": {},
   "outputs": [
    {
     "name": "stdin",
     "output_type": "stream",
     "text": [
      "Yaşınızı giriniz: 25\n"
     ]
    },
    {
     "name": "stdout",
     "output_type": "stream",
     "text": [
      "25\n"
     ]
    }
   ],
   "source": [
    "age_info=int(input(\"Yaşınızı giriniz:\"))\n",
    "print(age_info)"
   ]
  },
  {
   "cell_type": "markdown",
   "id": "dd5d83e9-7776-4956-87be-f6bd5cb1362f",
   "metadata": {},
   "source": [
    "**FARKLI TÜRLERLE İŞLEMLER**"
   ]
  },
  {
   "cell_type": "markdown",
   "id": "16922d76-25f2-4873-9987-e07a2a56f6ec",
   "metadata": {},
   "source": [
    "* c=a+b gibi bir işlemde :\n",
    "* *  a int, b float ise c float olur.\n",
    "* *  a ve b aynı türden ise c de aynı tür olur.\n",
    "* int<op>int     =>int\n",
    "* int<op>float   => float\n",
    "* Özel bir durum olarak / operatörünün her zaman float değer ürettiğini unutmamamlıyız.\n",
    "* Karşılaştırma operatörlerinin de her zaman bool türünden değerler ürettiğini unutmamalıyız.\n",
    "* Bool türü aritmatik işleme sokulurken int ya da float gibi davranır.True =1 ,False=0 olarak kabul edilir.Aynı şekilde complexle işleme girerse complex olarak çıkar.\n",
    "  "
   ]
  },
  {
   "cell_type": "code",
   "execution_count": 140,
   "id": "859a1060-aea9-4c71-b302-662ede2f3bff",
   "metadata": {},
   "outputs": [
    {
     "name": "stdout",
     "output_type": "stream",
     "text": [
      "True\n"
     ]
    }
   ],
   "source": [
    "b= 10>2.5\n",
    "print(b)"
   ]
  },
  {
   "cell_type": "code",
   "execution_count": 150,
   "id": "6c7c87e7-82c2-4231-84e3-535b62f932ba",
   "metadata": {},
   "outputs": [
    {
     "name": "stdout",
     "output_type": "stream",
     "text": [
      "1\n",
      "2\n",
      "0\n",
      "3.14\n",
      "(5+3j)\n"
     ]
    }
   ],
   "source": [
    "print(True+False)\n",
    "print(True+True)\n",
    "print(False+False)\n",
    "print(True*3.14)\n",
    "print(True*(3j+5))\n"
   ]
  },
  {
   "cell_type": "markdown",
   "id": "d6739907-8fbe-43b0-82c1-113d844286a5",
   "metadata": {},
   "source": [
    "* Bool türünün diğer türlerle art. işlemlere sokulabilmesi nedeniyle örneğin (a>0)+10 gibi ifadeler Python'da(tıpkı C de olduğu gibi ) geçerlidir."
   ]
  },
  {
   "cell_type": "code",
   "execution_count": 154,
   "id": "968bed3d-8f58-45ff-a95c-d21e149e916d",
   "metadata": {},
   "outputs": [
    {
     "data": {
      "text/plain": [
       "11"
      ]
     },
     "execution_count": 154,
     "metadata": {},
     "output_type": "execute_result"
    }
   ],
   "source": [
    "(a>0)+10"
   ]
  },
  {
   "cell_type": "markdown",
   "id": "311a952c-27fb-49d5-9503-3b1f317dac02",
   "metadata": {},
   "source": [
    "* Python'da iki string toplanabilir.İfadeleri uc uca(concatenate/concat) ekler.Sadece toplama yapılabilir.\n",
    "* İnt ve str çarpılabilir(repitition)."
   ]
  },
  {
   "cell_type": "code",
   "execution_count": 170,
   "id": "06c3a21e-5612-456f-8eea-ff0ee5944d3a",
   "metadata": {},
   "outputs": [
    {
     "name": "stdout",
     "output_type": "stream",
     "text": [
      "İstanbulAnkara\n"
     ]
    }
   ],
   "source": [
    "#Concatenate\n",
    "a=\"İstanbul\"\n",
    "b=\"Ankara\"\n",
    "c=a+b\n",
    "print(c)"
   ]
  },
  {
   "cell_type": "code",
   "execution_count": 164,
   "id": "95381650-2ae0-45af-96cc-f05749cae91a",
   "metadata": {},
   "outputs": [
    {
     "name": "stdout",
     "output_type": "stream",
     "text": [
      "İstanbulİstanbulİstanbulİstanbulİstanbul\n"
     ]
    }
   ],
   "source": [
    "#Repitition\n",
    "d=a*5\n",
    "print(d)"
   ]
  },
  {
   "cell_type": "code",
   "execution_count": 176,
   "id": "c9dffdf3-b4cf-46bf-b46d-9367d2c0d0f6",
   "metadata": {},
   "outputs": [
    {
     "name": "stdout",
     "output_type": "stream",
     "text": [
      "*****ANKARA*****\n"
     ]
    }
   ],
   "source": [
    "s=\"*\"*5 +\"ANKARA\" +\"*\"*5 \n",
    "print(s)"
   ]
  },
  {
   "cell_type": "markdown",
   "id": "d885e567-f317-4adf-8388-ac989d910dd9",
   "metadata": {},
   "source": [
    "* Bir string negatif bir değerle ya da 0 ile çarpılırsa boş string elde edilir."
   ]
  },
  {
   "cell_type": "code",
   "execution_count": 183,
   "id": "ebd1b966-9e56-4f24-9dc1-3563696245c8",
   "metadata": {},
   "outputs": [
    {
     "name": "stdout",
     "output_type": "stream",
     "text": [
      "\n"
     ]
    }
   ],
   "source": [
    "a=\"Ali\"\n",
    "b=\"Ali\"*0\n",
    "print(b)"
   ]
  },
  {
   "cell_type": "code",
   "execution_count": 185,
   "id": "42a151df-37f4-4a97-9486-0b0790679a48",
   "metadata": {},
   "outputs": [
    {
     "name": "stdout",
     "output_type": "stream",
     "text": [
      "\n"
     ]
    }
   ],
   "source": [
    "a=\"Ali\"\n",
    "b=\"Ali\"*-5\n",
    "print(b)"
   ]
  },
  {
   "cell_type": "markdown",
   "id": "dce8e741-4633-4c6f-8e95-50d1fbbce535",
   "metadata": {},
   "source": [
    "## VERİ YAPISI (DATA STRUCTER) NEDİR ?\n",
    "* Aralarında fiziksel ya da mantıksal ilişki olan bir grup nesneden oluşan topluluğa denir. Çoğul bi anlam içerir.\n",
    "* Python'da built-in biçiminde bulunan  çeşitli veri yapıları vardır.Bunlar:\n",
    "* * LİSTE(LİST)\n",
    "  * DEMETLER(TUPLE)\n",
    "  * SÖZLÜKLER(DİCTİONARY)\n",
    "  * KÜMELER(SET)\n",
    "  * STRİNGLERDİR."
   ]
  },
  {
   "cell_type": "markdown",
   "id": "3a444169-f9fe-4d8a-b3d3-de4ff978c14b",
   "metadata": {},
   "source": [
    "**DOLAŞILABİLİR(ITERABLE) NESNE KAVRAMI**\n",
    "* Bir nesnenin dolaşılabilir olması demek dolaşıldıkça o nesneden bir takım değerler elde edilmesi anlamına gelmektedir.Dolaşım(iteration) işlemi yapılır.\n",
    "* Şimdiye kadar gördüğümüz temel dillerden yalnızca str türü dolaşılabilirdir.\n",
    "* * s=\"ankara\"\n",
    "  * Burada s dolaşılabilirdir. Bu s nesnesini dolaştığımızda \"a\",\"n\",\"k\",\"a\",\"r\",\"a\" stringlerini elde ederiz.\n",
    "* Dolaşım nesnesi bir kez dolaşıldığında biter.Bir daha dolaştığımızda bir şey elde edemeyiz.\n"
   ]
  },
  {
   "cell_type": "code",
   "execution_count": null,
   "id": "dd734b6a-0514-4fbb-bcba-804032f7156c",
   "metadata": {},
   "outputs": [],
   "source": []
  }
 ],
 "metadata": {
  "kernelspec": {
   "display_name": "Python 3 (ipykernel)",
   "language": "python",
   "name": "python3"
  },
  "language_info": {
   "codemirror_mode": {
    "name": "ipython",
    "version": 3
   },
   "file_extension": ".py",
   "mimetype": "text/x-python",
   "name": "python",
   "nbconvert_exporter": "python",
   "pygments_lexer": "ipython3",
   "version": "3.12.4"
  }
 },
 "nbformat": 4,
 "nbformat_minor": 5
}
