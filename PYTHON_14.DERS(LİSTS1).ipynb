{
 "cells": [
  {
   "cell_type": "markdown",
   "id": "717cd671-9556-4e5d-bbaa-599d2b1b9844",
   "metadata": {},
   "source": [
    "### 14.DERS-Lists"
   ]
  },
  {
   "cell_type": "markdown",
   "id": "acb1176d-053f-4bf1-994c-a89539301f83",
   "metadata": {},
   "source": [
    "### LİSTELER (LİSTS)\n",
    "* Python'da en çok kullanılan veri yapısıdır.\n",
    "* Listeler elemanlara sahiptir ve elemanların index numaraları vardır.\n",
    "* İndex belirterek liste içinde istediğimiz elemana ulaşabiliriz.\n",
    "* Köşeli parantez içerisinde elemanlar girilirken herhangi bir ifade girilebilir.\n",
    "* Programcılar genellikle liste elemanlarını sabit ifadeler girerek yaratır.\n",
    "* Girilen elemanların aynı türden olma zorunluluğu yoktur.\n",
    "* Genellikle aynı türden olması tercih edilir.\n",
    "* Bir listenin olmayan bir elemanına erişmeye çalışırsak IndexError isimli exception oluşur."
   ]
  },
  {
   "cell_type": "markdown",
   "id": "3396dde4-92cb-40b9-8edb-18f6ae767000",
   "metadata": {},
   "source": [
    "***Liste Oluşturma Yolları :***"
   ]
  },
  {
   "cell_type": "code",
   "execution_count": 18,
   "id": "deb6b003-4ef6-4539-9cdc-e2b59c326eee",
   "metadata": {},
   "outputs": [
    {
     "name": "stdout",
     "output_type": "stream",
     "text": [
      "[1, 2, 3, 4]\n",
      "['ali', 15, 20, 3.2]\n"
     ]
    },
    {
     "data": {
      "text/plain": [
       "list"
      ]
     },
     "execution_count": 18,
     "metadata": {},
     "output_type": "execute_result"
    }
   ],
   "source": [
    "# 1) Köşeli parantez içerisine \",\" ile ayrılmış ifadeler girilerek oluşturulur..\n",
    "a=[1,2,3,4]\n",
    "print(a)\n",
    "b=[\"ali\",10+5,20,3.2]\n",
    "print(b)\n",
    "type(a)\n",
    "type(b)"
   ]
  },
  {
   "cell_type": "code",
   "execution_count": 25,
   "id": "8b302a98-4899-4dd3-90e7-0680ce97d7c1",
   "metadata": {},
   "outputs": [
    {
     "name": "stdout",
     "output_type": "stream",
     "text": [
      "['ali', 'veli', 123, True, 3.14, 21]\n"
     ]
    }
   ],
   "source": [
    "a=19\n",
    "x=[\"ali\",\"veli\",123,True,3.14,a+2]\n",
    "type(x)\n",
    "print(x)"
   ]
  },
  {
   "cell_type": "code",
   "execution_count": 130,
   "id": "01768fb6-f395-4bde-9fb4-e556fde1e05c",
   "metadata": {},
   "outputs": [
    {
     "name": "stdout",
     "output_type": "stream",
     "text": [
      "ali\n",
      "veli\n",
      "123\n",
      "True\n",
      "3.14\n",
      "21\n",
      "22\n",
      "veli\n"
     ]
    }
   ],
   "source": [
    "# liste elemanlarına index numaraları yardımıyla ulaşabiliriz.\n",
    "# index numaraları 0 dan başlar.\n",
    "print(x[0])\n",
    "print(x[1])\n",
    "print(x[2])\n",
    "print(x[3])\n",
    "print(x[4])\n",
    "print(x[5])\n",
    "print(x[5]+1)\n",
    "print(x[0+1])"
   ]
  },
  {
   "cell_type": "code",
   "execution_count": 138,
   "id": "0fe235c9-1b50-4057-b3d9-11a9259faef1",
   "metadata": {},
   "outputs": [
    {
     "name": "stdout",
     "output_type": "stream",
     "text": [
      "4\n",
      "3\n",
      "2\n",
      "1\n"
     ]
    }
   ],
   "source": [
    "#Negatif index:Sondaki ifadeleri yazdırır.\n",
    "a=[1,2,3,4]\n",
    "print(a[-1])\n",
    "print(a[-2])\n",
    "print(a[-3])\n",
    "print(a[-4])"
   ]
  },
  {
   "cell_type": "code",
   "execution_count": 40,
   "id": "53b56446-b596-44a2-a5d7-8ed7e24c8c41",
   "metadata": {},
   "outputs": [
    {
     "ename": "IndexError",
     "evalue": "list index out of range",
     "output_type": "error",
     "traceback": [
      "\u001b[1;31m---------------------------------------------------------------------------\u001b[0m",
      "\u001b[1;31mIndexError\u001b[0m                                Traceback (most recent call last)",
      "Cell \u001b[1;32mIn[40], line 2\u001b[0m\n\u001b[0;32m      1\u001b[0m \u001b[38;5;66;03m#IndexError\u001b[39;00m\n\u001b[1;32m----> 2\u001b[0m x[\u001b[38;5;241m6\u001b[39m]\n",
      "\u001b[1;31mIndexError\u001b[0m: list index out of range"
     ]
    }
   ],
   "source": [
    "#IndexError\n",
    "x[6]"
   ]
  },
  {
   "cell_type": "markdown",
   "id": "e7b93e9d-c515-4553-88fd-e7fa01d2aceb",
   "metadata": {},
   "source": [
    "* Türler değiştirilebilir(mutable) ve değiştirilemez(inmutable) olarak ikiye ayrılır.Listeler değiştirilebilirdir.\n",
    "* Bir türün değiştirlebilir olması demek o türden bir nesnenin içeriğinde değişiklik yapılabilmesidir.\n",
    "* Liste elemanlarını da atama yoluyla değiştirebiliriz."
   ]
  },
  {
   "cell_type": "code",
   "execution_count": 45,
   "id": "4e3d4264-b549-4b03-8007-257a2e398967",
   "metadata": {},
   "outputs": [
    {
     "name": "stdout",
     "output_type": "stream",
     "text": [
      "['ali', 'veli', 'ayşe', 'fatma']\n"
     ]
    }
   ],
   "source": [
    "a=[\"ali\",\"veli\",\"ayşe\",\"fatma\"]\n",
    "print(a)"
   ]
  },
  {
   "cell_type": "code",
   "execution_count": 47,
   "id": "f0f22b28-1eb7-4afc-8913-d65f530fcc2c",
   "metadata": {},
   "outputs": [
    {
     "name": "stdout",
     "output_type": "stream",
     "text": [
      "['ziya', 'veli', 'ayşe', 'fatma']\n"
     ]
    }
   ],
   "source": [
    "a[0]=\"ziya\"\n",
    "print(a)"
   ]
  },
  {
   "cell_type": "markdown",
   "id": "cfcc4916-d214-427f-9d2d-d989fb5d2ff3",
   "metadata": {},
   "source": [
    "* **len():** Bir listenin vs. uzunluğunu verir.\n",
    "* Boş bir liste de söz konusu olabilir uzunluğu 0'dır."
   ]
  },
  {
   "cell_type": "code",
   "execution_count": 55,
   "id": "ad4f055e-c4cb-4e11-9a63-212636ac89a8",
   "metadata": {},
   "outputs": [
    {
     "name": "stdout",
     "output_type": "stream",
     "text": [
      "[10, 'ali', 20, 'veli', 30, 'selami']\n"
     ]
    }
   ],
   "source": [
    "b=[10,\"ali\",20,\"veli\",30,\"selami\"]\n",
    "print(b)"
   ]
  },
  {
   "cell_type": "code",
   "execution_count": 57,
   "id": "ebc823cc-297f-4fe2-8985-1624af211468",
   "metadata": {},
   "outputs": [
    {
     "data": {
      "text/plain": [
       "6"
      ]
     },
     "execution_count": 57,
     "metadata": {},
     "output_type": "execute_result"
    }
   ],
   "source": [
    "len(b)"
   ]
  },
  {
   "cell_type": "code",
   "execution_count": 63,
   "id": "3412ab4c-f34f-4117-8812-fa9f1424ca71",
   "metadata": {},
   "outputs": [
    {
     "data": {
      "text/plain": [
       "0"
      ]
     },
     "execution_count": 63,
     "metadata": {},
     "output_type": "execute_result"
    }
   ],
   "source": [
    "a=[]\n",
    "len(a)"
   ]
  },
  {
   "cell_type": "code",
   "execution_count": 69,
   "id": "89009a59-93c6-4b33-94d7-e9e698b70d7e",
   "metadata": {},
   "outputs": [
    {
     "name": "stdout",
     "output_type": "stream",
     "text": [
      "[]\n"
     ]
    },
    {
     "data": {
      "text/plain": [
       "0"
      ]
     },
     "execution_count": 69,
     "metadata": {},
     "output_type": "execute_result"
    }
   ],
   "source": [
    "#Bu şekilde de boş bir liste oluşturulabilir.\n",
    "a=list()\n",
    "print(a)\n",
    "len(a)"
   ]
  },
  {
   "cell_type": "code",
   "execution_count": 84,
   "id": "ac20013c-ef38-4063-a455-f50a087f692c",
   "metadata": {},
   "outputs": [
    {
     "name": "stdout",
     "output_type": "stream",
     "text": [
      "['a', 'l', 'i']\n"
     ]
    }
   ],
   "source": [
    "# 2) a=list(dolaşılabilir nesne) şeklinde de liste oluşturulabilir.\n",
    "a=list(\"ali\")\n",
    "print(a)"
   ]
  },
  {
   "cell_type": "code",
   "execution_count": 86,
   "id": "96c45242-6d91-4fec-a258-8a78feb1e5ae",
   "metadata": {},
   "outputs": [
    {
     "ename": "TypeError",
     "evalue": "'int' object is not iterable",
     "output_type": "error",
     "traceback": [
      "\u001b[1;31m---------------------------------------------------------------------------\u001b[0m",
      "\u001b[1;31mTypeError\u001b[0m                                 Traceback (most recent call last)",
      "Cell \u001b[1;32mIn[86], line 2\u001b[0m\n\u001b[0;32m      1\u001b[0m \u001b[38;5;66;03m#10 int dir ve integer dolaşılabilir değildir.\u001b[39;00m\n\u001b[1;32m----> 2\u001b[0m a\u001b[38;5;241m=\u001b[39m\u001b[38;5;28mlist\u001b[39m(\u001b[38;5;241m10\u001b[39m)\n",
      "\u001b[1;31mTypeError\u001b[0m: 'int' object is not iterable"
     ]
    }
   ],
   "source": [
    "#10 int dir ve integer dolaşılabilir değildir.\n",
    "a=list(10) "
   ]
  },
  {
   "cell_type": "markdown",
   "id": "2f31f204-6e2d-43b8-9ad0-9c815f4ba889",
   "metadata": {},
   "source": [
    "* int,float,bool,complex,none dolaşılabilir(iterable) türler değildirler.Bu nedenle list fonksiyonuna argüman olarak bu türeden değerler veremeyiz.\n",
    "* list sınıfının kendisi dolaşılabilirdir.Bir list nesnesi dolaşıldığında tek tek liste içerisindeki değerler elde edilmektedir."
   ]
  },
  {
   "cell_type": "code",
   "execution_count": 93,
   "id": "f39222d9-2b7f-4d67-86e9-23862982712a",
   "metadata": {},
   "outputs": [
    {
     "name": "stdout",
     "output_type": "stream",
     "text": [
      "[1, 2, 3, 4, 5, 6]\n",
      "[1, 2, 3, 4, 5, 6]\n"
     ]
    }
   ],
   "source": [
    "a=[1,2,3,4,5,6]\n",
    "b=list(a)\n",
    "print(b)\n",
    "print(a)"
   ]
  },
  {
   "cell_type": "code",
   "execution_count": 95,
   "id": "4e2f65e5-5561-462c-ad6b-d7e9f72a3b5a",
   "metadata": {},
   "outputs": [
    {
     "name": "stdout",
     "output_type": "stream",
     "text": [
      "[1, 2, 3, 4, 5, 6]\n"
     ]
    }
   ],
   "source": [
    "#Listenin 1.indexli elemanını değiştirelim.\n",
    "print(a)"
   ]
  },
  {
   "cell_type": "code",
   "execution_count": 97,
   "id": "7e12578a-3426-4089-8008-69d8729137d6",
   "metadata": {},
   "outputs": [
    {
     "name": "stdout",
     "output_type": "stream",
     "text": [
      "[1, 100, 3, 4, 5, 6]\n"
     ]
    }
   ],
   "source": [
    "a[1]=100\n",
    "print(a)"
   ]
  },
  {
   "cell_type": "code",
   "execution_count": 99,
   "id": "82ba30a6-20cc-4a74-aa93-6f7fae664327",
   "metadata": {},
   "outputs": [
    {
     "name": "stdout",
     "output_type": "stream",
     "text": [
      "ali\n"
     ]
    }
   ],
   "source": [
    "#Python'da str ler liste gibi saklanmamaktadır.\n",
    "s=\"ali\"\n",
    "print(s)\n",
    "#Burada s \"a\",\"l\",\"i\" stringlerini tutan bir yapıda değildir.\n",
    "#Buradaki string direkt \"ali\" yazsını tutmaktadır."
   ]
  },
  {
   "cell_type": "code",
   "execution_count": 109,
   "id": "cfecbbff-e7b8-4c9f-aa5e-b8aa817ecfc3",
   "metadata": {},
   "outputs": [
    {
     "data": {
      "text/plain": [
       "4"
      ]
     },
     "execution_count": 109,
     "metadata": {},
     "output_type": "execute_result"
    }
   ],
   "source": [
    "#Bir listenin içinde başka bir liste bulunabilir.Özyineleme (recursion)\n",
    "s=[10,20,[30,40],50]\n",
    "len(s)"
   ]
  },
  {
   "cell_type": "code",
   "execution_count": 107,
   "id": "9ba1572c-f7f1-4fd3-8cf2-134d42063d44",
   "metadata": {},
   "outputs": [
    {
     "name": "stdout",
     "output_type": "stream",
     "text": [
      "10\n",
      "20\n",
      "[30, 40]\n",
      "50\n",
      "30\n",
      "40\n"
     ]
    }
   ],
   "source": [
    "print(s[0])\n",
    "print(s[1])\n",
    "print(s[2])\n",
    "print(s[3])\n",
    "print(s[2][0])\n",
    "print(s[2][1])"
   ]
  },
  {
   "cell_type": "markdown",
   "id": "ca98eee6-ad59-4500-b472-4fc95d956217",
   "metadata": {},
   "source": [
    "### MATRİSLER\n",
    "* Python'da matrissel bir veri yapısı listenin içerisinde liste ile oluşturulur.\n",
    "* Bunun başka bir yolu yoktur."
   ]
  },
  {
   "cell_type": "code",
   "execution_count": 115,
   "id": "4b185d18-f020-42db-8b9c-db729476a399",
   "metadata": {},
   "outputs": [
    {
     "name": "stdout",
     "output_type": "stream",
     "text": [
      "[[1, 2, 3], [4, 5, 6], [7, 8, 9]]\n"
     ]
    }
   ],
   "source": [
    "#Örneğin 3x3 lük bir matris oluşturalım.\n",
    "a=[[1,2,3],\n",
    "   [4,5,6],\n",
    "   [7,8,9]]\n",
    "print(a)"
   ]
  },
  {
   "cell_type": "code",
   "execution_count": 123,
   "id": "72ec7cbd-18b3-40fd-9181-9866ee5cbfdc",
   "metadata": {},
   "outputs": [
    {
     "name": "stdout",
     "output_type": "stream",
     "text": [
      "6\n",
      "1\n"
     ]
    }
   ],
   "source": [
    "print(a[1][2])\n",
    "print(a[0][0])"
   ]
  },
  {
   "cell_type": "markdown",
   "id": "ffead948-2a3e-47e6-b8a1-6c08c2357da3",
   "metadata": {},
   "source": [
    "* Matrissel bir listenin elemanları aynı uzunlukta listelerden oluşmak zorunda değildir."
   ]
  },
  {
   "cell_type": "code",
   "execution_count": 140,
   "id": "b4349416-d9a5-4c95-a1e9-81d706a21cb6",
   "metadata": {},
   "outputs": [
    {
     "name": "stdout",
     "output_type": "stream",
     "text": [
      "[[1, 2, 3, 3, 5], [1, 2, 3], [1, 2]]\n"
     ]
    }
   ],
   "source": [
    "a=[[1,2,3,3,5],[1,2,3],[1,2]]\n",
    "print(a)"
   ]
  },
  {
   "cell_type": "code",
   "execution_count": 154,
   "id": "1e82ba6a-15a1-420a-9d66-c8cf66149d69",
   "metadata": {},
   "outputs": [
    {
     "name": "stdout",
     "output_type": "stream",
     "text": [
      "1\n",
      "3\n",
      "5\n"
     ]
    }
   ],
   "source": [
    "print(a[-1][-2])\n",
    "print(a[-2][-1])\n",
    "print(a[-3][4])"
   ]
  },
  {
   "cell_type": "markdown",
   "id": "95ea4ec6-f633-4b4d-af35-04e948200f41",
   "metadata": {},
   "source": [
    "**Dilimleme(Slicing):**  ***a=[10,20,30,40,50,60,70,80,90,100]*** gibi bir ifadeden ***[50,60,70]*** şeklinde bir liste oluşturmak istersem kullanırım.\n",
    "\n",
    "* ***a[start index :stop index ]*** = start index dahil , stop index  dahil değildir.\n",
    "\n",
    "\n",
    "**ADIMLAMA(STEP):** \n",
    "* ***a[start:stop:step]*** = a[2:7:2] ==> 2. indeksli elemandan 7.indeksli elemana(dahil değil) kadar 2'şerli atlayarak yazdırır.\n",
    "\n",
    "\n",
    "* Start,stop,step ifadeleri int türünden olmak zorundadır. \n",
    "\n",
    "\n"
   ]
  },
  {
   "cell_type": "code",
   "execution_count": 179,
   "id": "6d087e81-304e-4549-a03c-5f04f4cc9c21",
   "metadata": {},
   "outputs": [
    {
     "name": "stdout",
     "output_type": "stream",
     "text": [
      "[50, 60, 70]\n",
      "[60, 70, 80, 90]\n",
      "[80, 90]\n"
     ]
    }
   ],
   "source": [
    "a=[10,20,30,40,50,60,70,80,90,100]\n",
    "print(a[4:7])\n",
    "print(a[-5:9])\n",
    "print(a[-3:-1])"
   ]
  },
  {
   "cell_type": "code",
   "execution_count": 169,
   "id": "d88e6536-6637-4b30-912f-d9fb73bcdc1d",
   "metadata": {},
   "outputs": [
    {
     "data": {
      "text/plain": [
       "[50, 60, 70, 80, 90, 100]"
      ]
     },
     "execution_count": 169,
     "metadata": {},
     "output_type": "execute_result"
    }
   ],
   "source": [
    "a[4:45]\n",
    "#herhangi bir hata vermez.En son elemana kadar çekilir."
   ]
  },
  {
   "cell_type": "code",
   "execution_count": 173,
   "id": "2ae926cf-227e-4b51-a911-1cd302a57f40",
   "metadata": {},
   "outputs": [
    {
     "name": "stdout",
     "output_type": "stream",
     "text": [
      "[]\n",
      "[]\n"
     ]
    }
   ],
   "source": [
    "print(a[8:5]) #boş liste elde edilir.\n",
    "print(a[5:5]) #boş liste elde edilir."
   ]
  },
  {
   "cell_type": "code",
   "execution_count": 185,
   "id": "9b7ad02b-3dd8-4ea7-93de-3a0e8ae6a24e",
   "metadata": {},
   "outputs": [
    {
     "name": "stdout",
     "output_type": "stream",
     "text": [
      "[10, 20, 30, 40, 50]\n",
      "[60, 70, 80, 90, 100]\n"
     ]
    }
   ],
   "source": [
    "print(a[:5]) # (start=0)      0. indexten 4. indexe kadar yazdırır.\n",
    "print(a[5:]) # (stop=len(a))  5. indexten sonuncu indexe kadar yazdırır."
   ]
  },
  {
   "cell_type": "code",
   "execution_count": 188,
   "id": "c366c3ae-e6a8-4043-8327-31213d5ae30b",
   "metadata": {},
   "outputs": [
    {
     "name": "stdout",
     "output_type": "stream",
     "text": [
      "[10, 20, 30, 40, 50, 60, 70, 80, 90, 100]\n"
     ]
    }
   ],
   "source": [
    "print(a)"
   ]
  },
  {
   "cell_type": "code",
   "execution_count": 198,
   "id": "d123b592-3473-4fdc-9c69-003f9b0310eb",
   "metadata": {},
   "outputs": [
    {
     "name": "stdout",
     "output_type": "stream",
     "text": [
      "[30, 50, 70]\n",
      "[10, 40, 70]\n"
     ]
    }
   ],
   "source": [
    "print(a[2:7:2])\n",
    "print(a[0:9:3])"
   ]
  },
  {
   "cell_type": "code",
   "execution_count": 207,
   "id": "26a26e86-271c-495e-841f-1ad408f65164",
   "metadata": {},
   "outputs": [
    {
     "name": "stdout",
     "output_type": "stream",
     "text": [
      "[80, 60, 40]\n"
     ]
    }
   ],
   "source": [
    "#Negatiflikte start stoptan büyük olmalı.İlerleme yönü ters olur.\n",
    "print(a[7:1:-2]) #7.index dahil 1.index  dahil değil."
   ]
  },
  {
   "cell_type": "code",
   "execution_count": 211,
   "id": "38aa2ff7-f3eb-4c51-a455-c9783943acee",
   "metadata": {},
   "outputs": [
    {
     "name": "stdout",
     "output_type": "stream",
     "text": [
      "[100, 90, 80, 70, 60, 50, 40]\n",
      "[100, 80, 60, 40]\n"
     ]
    }
   ],
   "source": [
    "#Start boş bırakılırsa tersten başlayacağı için :\n",
    "print(a[:2:-1])\n",
    "print(a[:2:-2])"
   ]
  },
  {
   "cell_type": "code",
   "execution_count": 215,
   "id": "1e9b85a7-ab19-4d3f-9d77-ba37e9819c31",
   "metadata": {},
   "outputs": [
    {
     "name": "stdout",
     "output_type": "stream",
     "text": [
      "[40, 30, 20, 10]\n"
     ]
    }
   ],
   "source": [
    "#Stop boş bırakılırsa 0 mış gibi algılanır 0. index dahil edilir.\n",
    "print(a[3::-1])"
   ]
  },
  {
   "cell_type": "markdown",
   "id": "b43a5949-d0ec-42bb-a069-5c19381d118b",
   "metadata": {},
   "source": [
    "* **a[::-1]** = BİR LİSTEYİ TERS SIRALI ELDE  ETMENİN YOLUDUR."
   ]
  },
  {
   "cell_type": "code",
   "execution_count": 218,
   "id": "b09c0f6f-6538-4c5d-b9da-f91fbd9b1899",
   "metadata": {},
   "outputs": [
    {
     "name": "stdout",
     "output_type": "stream",
     "text": [
      "[10, 20, 30, 40, 50, 60, 70, 80, 90, 100]\n",
      "[100, 90, 80, 70, 60, 50, 40, 30, 20, 10]\n"
     ]
    }
   ],
   "source": [
    "print(a)\n",
    "print(a[::-1])"
   ]
  },
  {
   "cell_type": "markdown",
   "id": "e2f0e815-69c3-4d81-90a7-c7eba25ee4bb",
   "metadata": {},
   "source": [
    "**Dilimleme Yoluyla Eleman Güncelleme**: \n",
    "\n",
    "a[dilimleme]=iterable\n"
   ]
  },
  {
   "cell_type": "code",
   "execution_count": 227,
   "id": "e2f734f8-597d-4c37-acde-41d810381399",
   "metadata": {},
   "outputs": [
    {
     "name": "stdout",
     "output_type": "stream",
     "text": [
      "[10, 20, 1, 2, 3, 5, 6, 7, 6, 7, 70, 80, 90, 100]\n"
     ]
    }
   ],
   "source": [
    "a[2:6]=[1,2,3,5,6,7]\n",
    "print(a)"
   ]
  },
  {
   "cell_type": "code",
   "execution_count": 231,
   "id": "5fbe749a-c87e-44ec-94cc-270c1c87d809",
   "metadata": {},
   "outputs": [
    {
     "name": "stdout",
     "output_type": "stream",
     "text": [
      "[10, 20, 'a', 'n', 'k', 'a', 'r', 'a', 'r', 'a', 6, 7, 6, 7, 70, 80, 90, 100]\n"
     ]
    }
   ],
   "source": [
    "a[2:6]=\"ankara\"\n",
    "print(a)"
   ]
  },
  {
   "cell_type": "code",
   "execution_count": 235,
   "id": "e0e79143-857d-440b-9166-1900b6740957",
   "metadata": {},
   "outputs": [
    {
     "name": "stdout",
     "output_type": "stream",
     "text": [
      "[10, 20, 'r', 'a', 'r', 'a', 6, 7, 6, 7, 70, 80, 90, 100]\n"
     ]
    }
   ],
   "source": [
    "a[2:6]=[]\n",
    "print(a)"
   ]
  },
  {
   "cell_type": "code",
   "execution_count": 237,
   "id": "ea7c406b-15a7-46a5-bd49-f26d6dfa023e",
   "metadata": {},
   "outputs": [
    {
     "name": "stdout",
     "output_type": "stream",
     "text": [
      "[10, 20, 'x', 6, 7, 6, 7, 70, 80, 90, 100]\n"
     ]
    }
   ],
   "source": [
    "a[2:6]=\"x\"\n",
    "print(a)"
   ]
  },
  {
   "cell_type": "code",
   "execution_count": null,
   "id": "7df9bdea-a255-4d83-aa0b-266aa77c4dfd",
   "metadata": {},
   "outputs": [],
   "source": []
  }
 ],
 "metadata": {
  "kernelspec": {
   "display_name": "Python 3 (ipykernel)",
   "language": "python",
   "name": "python3"
  },
  "language_info": {
   "codemirror_mode": {
    "name": "ipython",
    "version": 3
   },
   "file_extension": ".py",
   "mimetype": "text/x-python",
   "name": "python",
   "nbconvert_exporter": "python",
   "pygments_lexer": "ipython3",
   "version": "3.12.4"
  }
 },
 "nbformat": 4,
 "nbformat_minor": 5
}
