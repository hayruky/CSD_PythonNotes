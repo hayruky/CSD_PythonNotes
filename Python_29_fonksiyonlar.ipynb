{
 "cells": [
  {
   "cell_type": "markdown",
   "id": "a5877f56-0194-4bba-ad79-37f2411f088e",
   "metadata": {},
   "source": [
    "### 29.DERS-FONKSİYONLAR"
   ]
  },
  {
   "cell_type": "markdown",
   "id": "1b04a4bb-aae7-483f-ba90-12e464d53849",
   "metadata": {},
   "source": [
    "**PYTHON'DA FONKSİYONLAR:**\n",
    "* Bir fonksiyonun yazılmasına \"fonksiyonun tanımlanması (function definition)\" da denilmektedir. Python'da fonksiyon tanımlamanın genel biçimi şöyledir:\n",
    "  * def -fonksiyon ismi- ([parametre listesi]): -suite-\n",
    "* def bir anahtar sözcüktür, mutlaka bulundurulması gerekir."
   ]
  },
  {
   "cell_type": "code",
   "execution_count": 3,
   "id": "c4df0376-d03d-45ff-8a10-5f0638ba80e1",
   "metadata": {},
   "outputs": [
    {
     "name": "stdout",
     "output_type": "stream",
     "text": [
      "foo\n",
      "foo\n"
     ]
    }
   ],
   "source": [
    "def foo(): #fonksiyonun parametresi yoktur.Ama () kullanılmalıdır.\n",
    "    print(\"foo\")\n",
    "#fonksiyonu 2 kere çağıralım:\n",
    "foo()\n",
    "foo()"
   ]
  },
  {
   "cell_type": "code",
   "execution_count": 4,
   "id": "758d99b5-09a6-4115-9cf6-52fddc1566dd",
   "metadata": {},
   "outputs": [
    {
     "name": "stdout",
     "output_type": "stream",
     "text": [
      "foo\n",
      "foo\n"
     ]
    }
   ],
   "source": [
    "# Yukarıdaki fonksiyonu aşağıdaki şekilde de yazabiliriz:\n",
    "def foo() : print(\"foo\") ; print(\"foo\")\n",
    "foo()"
   ]
  },
  {
   "cell_type": "markdown",
   "id": "49b84cc1-e898-4da0-abf6-515898b0a201",
   "metadata": {},
   "source": [
    "* Mademki fonksiyon isimleri aslında sıradan birer değişkendir ve her atama aslında birer adres atamasıdır. O halde biz bir fonksiyon ismini başka bir değişkene atayabiliriz. Bu durumda aynı fonksiyonu o değişkenle de çağırabiliriz. \n"
   ]
  },
  {
   "cell_type": "code",
   "execution_count": 6,
   "id": "a5a0d57a-d839-47b2-93be-5726efdd5835",
   "metadata": {},
   "outputs": [
    {
     "name": "stdout",
     "output_type": "stream",
     "text": [
      "foo\n",
      "foo\n",
      "1221916239936\n",
      "1221916239936\n"
     ]
    }
   ],
   "source": [
    "def foo() : print(\"foo\")\n",
    "bar=foo\n",
    "foo()\n",
    "bar()\n",
    "print(id(foo))\n",
    "print(id(bar))\n"
   ]
  },
  {
   "cell_type": "markdown",
   "id": "8a2511d7-e8d0-46e2-993a-cf1569e10bc6",
   "metadata": {},
   "source": [
    "* Fonksiyonların da aslında böyle normal değişkenler gibi davranmasına ve atanabilmesine yazılım dünyasında \"fonksiyonların da birinci sınıf vatandaş (functions are first class citizens)\" olması denilmektedir.\n",
    "*  Python'da fonksiyonlar da birinci sınıf vatandaştır. \n"
   ]
  },
  {
   "cell_type": "markdown",
   "id": "c9058fe8-07f5-475c-81cd-8fe6402010b5",
   "metadata": {},
   "source": [
    "**Fonskiyonların Geri Dönüş Değerleri (Return Value):**\n",
    "* Bir fonksiyon çağrıldığında onu çağıran fonksiyona iletilen değere \"geri dönüş değeri (return value)\" denilmektedir.\n",
    "* Fonksiyonların geri dönüş değerleri return deyimiyle oluşturulmaktadır. return deyiminin genel biçimi şöyledir:\n",
    "    * return [ifade]\n",
    "* Programın akışı return deyimini gördüğünde fonksiyon sonlanır ve geri dönüş değeri return anahtar sözcüğünün yanındaki ifade olacak biçimde oluşturulur. Örneğin:\n"
   ]
  },
  {
   "cell_type": "code",
   "execution_count": 9,
   "id": "80de006a-90a2-4b7c-b69d-2f9ebd89a47d",
   "metadata": {},
   "outputs": [
    {
     "name": "stdout",
     "output_type": "stream",
     "text": [
      "foo running\n"
     ]
    },
    {
     "data": {
      "text/plain": [
       "100"
      ]
     },
     "execution_count": 9,
     "metadata": {},
     "output_type": "execute_result"
    }
   ],
   "source": [
    "\"\"\"\n",
    "Bu fonksiyon çağrıldığında ekrana \"foo\" yazısı çıkacak ve\n",
    "çağrımdan 100 değeri elde edilecektir.\n",
    "\n",
    "\"\"\"\n",
    "def foo():\n",
    "    print(\"foo running\")\n",
    "    return 100\n",
    "foo()"
   ]
  },
  {
   "cell_type": "code",
   "execution_count": 10,
   "id": "946f3ad5-6cf0-4f3e-9ded-e69b863f1bf1",
   "metadata": {},
   "outputs": [
    {
     "name": "stdout",
     "output_type": "stream",
     "text": [
      "foo running\n",
      "foo running\n",
      "110\n",
      "200\n"
     ]
    }
   ],
   "source": [
    "def foo():\n",
    "    print(\"foo running\")\n",
    "    return 100\n",
    "result=foo()+10\n",
    "result_two=foo() * 2\n",
    "print(result)\n",
    "print(result_two)"
   ]
  },
  {
   "cell_type": "markdown",
   "id": "f300466f-053c-4492-9e63-cf9be660be79",
   "metadata": {},
   "source": [
    "* Anımsanacağı gibi fonksiyon çağırma operatörü öncelik tablosunun en yüksek düzeyinde bulunmaktadır."
   ]
  },
  {
   "cell_type": "code",
   "execution_count": 12,
   "id": "e8237b0f-95e6-49c7-b71c-bf54dd02c7ae",
   "metadata": {},
   "outputs": [
    {
     "name": "stdout",
     "output_type": "stream",
     "text": [
      "foo running\n"
     ]
    }
   ],
   "source": [
    "\"\"\"\n",
    "Burada önce fonksiyon çağrılır, geri dönüş değeri elde edilir.\n",
    "Bu değer 2 ile çarpılır ve result değişkenine atanır.\n",
    "\"\"\"\n",
    "result = foo() * 2\n"
   ]
  },
  {
   "cell_type": "markdown",
   "id": "f47ce243-836d-430e-ae47-1d4254d2528a",
   "metadata": {},
   "source": [
    "*  Aşağıdaki örnekte klavyeden girilen değer pozitif bir değerse fonksiyon onun karesiyle geri dönmektedir.\n",
    "*   Eğer klavyeden girilen değer pozitif değilse fonksiyon \"error\" yazısıyla geri dönecektir.\n"
   ]
  },
  {
   "cell_type": "code",
   "execution_count": 14,
   "id": "2a6edb34-6ecf-4bb1-b42a-b3edd254f35c",
   "metadata": {},
   "outputs": [
    {
     "name": "stdin",
     "output_type": "stream",
     "text": [
      "Bir değer giriniz: -1\n"
     ]
    },
    {
     "name": "stdout",
     "output_type": "stream",
     "text": [
      "sayı negatif olmamalı <class 'str'>\n"
     ]
    }
   ],
   "source": [
    "def foo():\n",
    "    a=int(input(\"Bir değer giriniz:\"))\n",
    "    if a>=0:\n",
    "        return a*a\n",
    "    return \"sayı negatif olmamalı\"\n",
    "result=foo()\n",
    "print(result,type(result))"
   ]
  },
  {
   "cell_type": "markdown",
   "id": "d8910e8b-81a9-4877-8a19-8c6ac6d37cc9",
   "metadata": {},
   "source": [
    "* Akış return deyimini görmeden fonksiyonu bitirirse geri dönüş değeri olarak None değeri elde edilmektedir.\n",
    "\n",
    "Örneğin:"
   ]
  },
  {
   "cell_type": "code",
   "execution_count": 16,
   "id": "7f252475-3cfb-40b5-a373-503883a73c1f",
   "metadata": {},
   "outputs": [
    {
     "name": "stdout",
     "output_type": "stream",
     "text": [
      "foo\n",
      "None\n"
     ]
    }
   ],
   "source": [
    "def foo():\n",
    "    print(\"foo\")\n",
    "result=foo()\n",
    "print(result) #Burada geri dönüş değeri olarak None değeri elde edilecektir."
   ]
  },
  {
   "cell_type": "markdown",
   "id": "216b97a6-53d9-415c-8e91-056e0a1ca994",
   "metadata": {},
   "source": [
    "* return deyimini kullanmak zorunda değiliz."
   ]
  },
  {
   "cell_type": "code",
   "execution_count": 18,
   "id": "ed15bc16-abfa-4e45-a1d4-393b81feb8af",
   "metadata": {},
   "outputs": [
    {
     "name": "stdout",
     "output_type": "stream",
     "text": [
      "foo\n"
     ]
    },
    {
     "data": {
      "text/plain": [
       "100"
      ]
     },
     "execution_count": 18,
     "metadata": {},
     "output_type": "execute_result"
    }
   ],
   "source": [
    "def foo():\n",
    "    print(\"foo\")\n",
    "    return 100\n",
    "foo()"
   ]
  },
  {
   "cell_type": "markdown",
   "id": "e70574f9-2e7e-4a7f-8c06-1f934a81fcba",
   "metadata": {},
   "source": [
    "*  return anahtar sözcüğünün yanına bir ifade yazılmayabilir.\n",
    "*   Bu durumda fonksiyonun sonlandırılması istenmiştir ancak bir geri dönüş değeri belirtilmemiştir.\n",
    "*   Eğer return anahtar sözcüğünün yanına bir iafde yazılmazsa sanki None yazılmış gibi etki oluşmaktadır.\n",
    "*    Yani başka bir deyişle:\n",
    "    return \n",
    "\n",
    "\n",
    "    kullanımı ile aşağıdaki kullanım eşdeğerdir:\n",
    "\n",
    "\n",
    "    return None\n"
   ]
  },
  {
   "cell_type": "code",
   "execution_count": 20,
   "id": "b02d15fb-f2e8-4554-a5a8-876c2edc9bfb",
   "metadata": {},
   "outputs": [
    {
     "name": "stdout",
     "output_type": "stream",
     "text": [
      "foo\n",
      "None\n"
     ]
    }
   ],
   "source": [
    "def foo():\n",
    "    print(\"foo\")\n",
    "    return  #none\n",
    "result=foo()\n",
    "print(result)"
   ]
  },
  {
   "cell_type": "markdown",
   "id": "206d9880-759a-455c-83a4-b59e22030f92",
   "metadata": {},
   "source": [
    "*  Bir fonksiyonun tek bir geri dönüş değeri vardır. Yani fonksiyon tek bir değerle geri dönebilir.\n",
    "*  Eğer fonksiyonun birden  fazla değer iletmesi isteniyorsa geri dönüş değeri demet, liste gibi bileşik bir nesne yapılmalıdır.\n",
    "*   Demetler bu bağlamda listelere tercih edilmelidir.\n"
   ]
  },
  {
   "cell_type": "code",
   "execution_count": 22,
   "id": "469c4e25-cff6-46b1-ba0b-67cebac5018f",
   "metadata": {},
   "outputs": [
    {
     "name": "stdout",
     "output_type": "stream",
     "text": [
      "--------1.Yöntem----------------\n",
      "foo\n",
      "100 200\n",
      "--------2.Yöntem---------------\n",
      "foo\n",
      "100 200\n"
     ]
    }
   ],
   "source": [
    "\n",
    "def foo():\n",
    "    print(\"foo\")\n",
    "    return 100,200 #demet(tuple)\n",
    "\n",
    "print(\"--------1.Yöntem----------------\")\n",
    "t=foo()\n",
    "print(t[0],t[1])\n",
    "print(\"--------2.Yöntem---------------\")\n",
    "# ya da\n",
    "a,b=foo()\n",
    "print(a,b)"
   ]
  },
  {
   "cell_type": "markdown",
   "id": "a66a8a0d-25d5-40f8-baaf-7c7e0b2be92c",
   "metadata": {},
   "source": [
    "* 2.dereceden denklemin köklerini bulan bir fonksiyon yazalım:\n",
    "   * **ax^2+bx+c=0**\n",
    "   * delta=b^2-4ac\n",
    "   * x1,x2=(-b +/- kök delta)/(2a) "
   ]
  },
  {
   "cell_type": "code",
   "execution_count": 24,
   "id": "6bbeada3-67a2-42b0-a907-c29cb59c5328",
   "metadata": {},
   "outputs": [
    {
     "name": "stdin",
     "output_type": "stream",
     "text": [
      "a: 5\n",
      "b: 4\n",
      "c: 3\n"
     ]
    },
    {
     "name": "stdout",
     "output_type": "stream",
     "text": [
      "no real root!\n"
     ]
    }
   ],
   "source": [
    "\n",
    "\"\"\"\n",
    "ax^2+bx+c=0\n",
    "denklemini oluşturalım ve köklerini bulalım.\n",
    "\n",
    "\"\"\"\n",
    "import math\n",
    "def kök_bulma():\n",
    "    a=float(input(\"a:\"))\n",
    "    b=float(input(\"b:\"))\n",
    "    c=float(input(\"c:\"))\n",
    "    delta= b ** 2 - 4 * a * c\n",
    "    if delta < 0 :\n",
    "        return None\n",
    "    else:\n",
    "        x1= (-b + math.sqrt(delta))/(2*a)\n",
    "        x2= (-b - math.sqrt(delta))/(2*a)\n",
    "    return x1,x2\n",
    "result = kök_bulma()\n",
    "if result:\n",
    "    x1, x2 = result\n",
    "    print(f'x1 = {x1} \\nx2 = {x2}')\n",
    "else:\n",
    "    print('no real root!')\n",
    "\n",
    "\n",
    "    "
   ]
  },
  {
   "cell_type": "markdown",
   "id": "7c93a370-fcb9-4947-832e-fb41ca8581be",
   "metadata": {},
   "source": [
    "* Tabii fonksiyon bir listeyle, bir kümeyle ya da bir sözlükle de geri dönebilir.\n",
    "* Aşağıdaki örnekte 0'dan klavyeden girilen değere kadar değerlerin kareleri bir listede toplanmış ve fonksiyon bu listeyle geri dönmüştür.\n"
   ]
  },
  {
   "cell_type": "code",
   "execution_count": 26,
   "id": "3550a5ae-fa20-4fbb-ab18-78afac2f8488",
   "metadata": {},
   "outputs": [
    {
     "name": "stdin",
     "output_type": "stream",
     "text": [
      "Bir sayı giriniz: 8\n"
     ]
    },
    {
     "name": "stdout",
     "output_type": "stream",
     "text": [
      "[0, 1, 4, 9, 16, 25, 36, 49]\n"
     ]
    }
   ],
   "source": [
    "def foo():\n",
    "    val = int(input('Bir sayı giriniz:'))\n",
    "    a = []\n",
    "    for i in range(val):\n",
    "        a.append(i * i) #listeye eleman eklemek için kullanılır.\n",
    "        \n",
    "    return a\n",
    "a = foo()\n",
    "print(a)"
   ]
  },
  {
   "cell_type": "markdown",
   "id": "32e63d59-9627-44b7-a5fd-bf6022ad7f55",
   "metadata": {},
   "source": [
    "**FONKSİYONLARIN PARAMETRELERİ**\n",
    "* Fonksiyonların dış dünyadan aldıkları değerlere \"parametre (parameter)\" denilmektedir.\n",
    "* Fonksiyonlar parametrelere sahip  olabilirler.\n",
    "* Bu durumda parametrelerin isimleri parametre parantezinin içerisinde ',' atomu ile ayrılarak belirtilmektedir.\n",
    "* Fonksiyonun parametre değişkenlerine \"parametre (parameter)\" fonksiyon çağrılırken girilen ifadelere ise \"argüman (argument)\" denir.\n",
    "* n tane parametreye sahip olan bir fonksiyon n tane argümanla çağrılmalıdır.\n",
    "* Fonksiyon çağrılırken önce argümanların değerleri hesaplanır. Sonra argümanlardan parametre değişkenlerine karşılıklı bir atama yapılır. Sonra akış fonksiyona aktarılır."
   ]
  },
  {
   "cell_type": "code",
   "execution_count": 28,
   "id": "f38e2067-1930-41ec-826b-9b8416f8e1ff",
   "metadata": {},
   "outputs": [
    {
     "name": "stdout",
     "output_type": "stream",
     "text": [
      "50 110\n"
     ]
    }
   ],
   "source": [
    "def foo(a,b):\n",
    "    return a,b\n",
    "print(10+40,50+60)"
   ]
  },
  {
   "cell_type": "code",
   "execution_count": 29,
   "id": "e067585a-5c40-4d91-820e-42a7e2c1bcdd",
   "metadata": {},
   "outputs": [
    {
     "name": "stdout",
     "output_type": "stream",
     "text": [
      "140735600081624\n",
      "foo 140735600081624\n"
     ]
    }
   ],
   "source": [
    "#Atama yapılabilir.\n",
    "def foo(a):\n",
    "    print(\"foo\",id(a))\n",
    "x=10\n",
    "print(id(x))\n",
    "foo(x)\n"
   ]
  },
  {
   "cell_type": "code",
   "execution_count": 30,
   "id": "1a7a4f57-4539-4d6b-8e08-f6688d1e7493",
   "metadata": {},
   "outputs": [],
   "source": [
    "def foo(a):\n",
    "    pass\n",
    "def bar(a):\n",
    "    pass"
   ]
  },
  {
   "cell_type": "markdown",
   "id": "0bfbfc16-b846-420f-81ac-ed208480a228",
   "metadata": {},
   "source": [
    "* Yukarıda hem foo fonksiyonunun hem de bar fonksiyonunun parametre değişkeninin ismi a'dır.Bunlar birbirleriyle karışmazlar.\n",
    "* foo nun parametre değişkeni olan a yalnızca foo içerisinde,bar ın  parametre değişkeni olan a yalnızca bar  içerisinde kullanılabilmektedir.\n",
    "* Parametre değişkenlerinin belirli bir türü yoktur.Hangi türler çağırılırlarsa o türden olurlar."
   ]
  },
  {
   "cell_type": "code",
   "execution_count": 32,
   "id": "c19d7209-dccb-45c1-aafb-90685e4f1320",
   "metadata": {},
   "outputs": [
    {
     "name": "stdout",
     "output_type": "stream",
     "text": [
      "foo\n",
      "bar\n",
      "tar\n"
     ]
    }
   ],
   "source": [
    "def foo():\n",
    "    print(\"foo\")\n",
    "def bar():\n",
    "    print(\"bar\")\n",
    "def tar():\n",
    "    print(\"tar\")\n",
    "a=[foo,bar,tar]\n",
    "for f in a :\n",
    "    f()\n",
    "    "
   ]
  },
  {
   "cell_type": "markdown",
   "id": "ee6ac804-e96d-4ac1-9a79-f689c467f3d3",
   "metadata": {},
   "source": [
    "* Fonksiyonlar listelerin,demetlerin,sözlüklerin elemenaları olabilir.\n",
    "* Aşağıda listenin elemanları fonksiyon nesnelerini (yani onların adreslerini) tutmaktadır.\n",
    "* [],() soldan sağa aynı önceliğe sahiptir."
   ]
  },
  {
   "cell_type": "code",
   "execution_count": 34,
   "id": "299c0c9a-990b-4a26-a0f6-a2459761988f",
   "metadata": {},
   "outputs": [
    {
     "name": "stdout",
     "output_type": "stream",
     "text": [
      "30\n",
      "200\n",
      "10\n",
      "2.0\n"
     ]
    }
   ],
   "source": [
    "def add(a,b):\n",
    "    return a+b\n",
    "def mul(a,b):\n",
    "    return a*b\n",
    "def sub(a,b):\n",
    "    return a-b\n",
    "def div(a,b):\n",
    "    return a/b\n",
    "fs = [add,mul,sub,div]\n",
    "for f in fs:\n",
    "    result = f(20,10)\n",
    "    print(result)"
   ]
  },
  {
   "cell_type": "code",
   "execution_count": 35,
   "id": "9c4fbc9c-c793-47fe-983a-bf6320ed5376",
   "metadata": {},
   "outputs": [
    {
     "name": "stdin",
     "output_type": "stream",
     "text": [
      "CSD> fdssdfsd\n"
     ]
    },
    {
     "name": "stdout",
     "output_type": "stream",
     "text": [
      "invalid command\n"
     ]
    },
    {
     "name": "stdin",
     "output_type": "stream",
     "text": [
      "CSD> sfdfds\n"
     ]
    },
    {
     "name": "stdout",
     "output_type": "stream",
     "text": [
      "invalid command\n"
     ]
    },
    {
     "name": "stdin",
     "output_type": "stream",
     "text": [
      "CSD> dir\n"
     ]
    },
    {
     "name": "stdout",
     "output_type": "stream",
     "text": [
      "dir command\n"
     ]
    },
    {
     "name": "stdin",
     "output_type": "stream",
     "text": [
      "CSD> copy\n"
     ]
    },
    {
     "name": "stdout",
     "output_type": "stream",
     "text": [
      "copy command\n"
     ]
    },
    {
     "name": "stdin",
     "output_type": "stream",
     "text": [
      "CSD> del\n"
     ]
    },
    {
     "name": "stdout",
     "output_type": "stream",
     "text": [
      "del command\n"
     ]
    },
    {
     "name": "stdin",
     "output_type": "stream",
     "text": [
      "CSD> quit\n"
     ]
    }
   ],
   "source": [
    "def copy_proc():\n",
    "    print(\"copy command\")\n",
    "def dir_proc():\n",
    "    print(\"dir command\")\n",
    "def del_proc():\n",
    "    print(\"del command\")\n",
    "    \n",
    "\n",
    "cmd_dict= {\"dir\":dir_proc,\"copy\":copy_proc,\"del\":del_proc}\n",
    "\n",
    "while True:\n",
    "    cmd=input(\"CSD>\").strip()\n",
    "    if cmd == \"quit\":\n",
    "        break\n",
    "    \n",
    "    if cmd not in cmd_dict:\n",
    "        print(\"invalid command\")\n",
    "        continue\n",
    "    cmd_dict[cmd]()"
   ]
  },
  {
   "cell_type": "code",
   "execution_count": 56,
   "id": "406955c9-2f36-4277-9899-b37f3aa348ef",
   "metadata": {},
   "outputs": [
    {
     "name": "stdout",
     "output_type": "stream",
     "text": [
      "x1 = 1.5351837584879966 \n",
      "x2 = -0.8685170918213297\n"
     ]
    }
   ],
   "source": [
    "\"\"\"\n",
    "ax^2+bx+c=0\n",
    "denklemini oluşturalım ve köklerini bulalım.\n",
    "\n",
    "\"\"\"\n",
    "import math\n",
    "def getroots(a,b,c):\n",
    "    delta= b ** 2 - 4 * a * c\n",
    "    if delta < 0 :\n",
    "        return None\n",
    "    else:\n",
    "        x1= (-b + math.sqrt(delta))/(2*a)\n",
    "        x2= (-b - math.sqrt(delta))/(2*a)\n",
    "    return x1,x2\n",
    "result = getroots(3,-2,-4)\n",
    "if result:\n",
    "    x1, x2 = result\n",
    "    print(f'x1 = {x1} \\nx2 = {x2}')\n",
    "else:\n",
    "    print('no real root!')\n",
    "\n"
   ]
  },
  {
   "cell_type": "code",
   "execution_count": 58,
   "id": "67c05e88-993a-49bd-8e59-836e00738589",
   "metadata": {},
   "outputs": [
    {
     "name": "stdout",
     "output_type": "stream",
     "text": [
      "no real root!\n"
     ]
    }
   ],
   "source": [
    "import math\n",
    "def getroots(a,b,c):\n",
    "    delta= b ** 2 - 4 * a * c\n",
    "    if delta < 0 :\n",
    "        return None\n",
    "    else:\n",
    "        x1= (-b + math.sqrt(delta))/(2*a)\n",
    "        x2= (-b - math.sqrt(delta))/(2*a)\n",
    "    return x1,x2\n",
    "result = getroots(-3,-2,-4)\n",
    "if result:\n",
    "    x1, x2 = result\n",
    "    print(f'x1 = {x1} \\nx2 = {x2}')\n",
    "else:\n",
    "    print('no real root!')"
   ]
  },
  {
   "cell_type": "code",
   "execution_count": 60,
   "id": "6558c6a9-3ee8-4cc9-9679-adf274e7e487",
   "metadata": {},
   "outputs": [
    {
     "name": "stdout",
     "output_type": "stream",
     "text": [
      "-----\n",
      "izmit\n",
      "-----\n"
     ]
    }
   ],
   "source": [
    "def banner(text):\n",
    "    print(\"-\"*len(text))\n",
    "    print(text)\n",
    "    print(\"-\"*len(text))\n",
    "banner(\"izmit\")"
   ]
  },
  {
   "cell_type": "code",
   "execution_count": 70,
   "id": "02cee740-c5bd-4317-a682-54e6d30d7fa7",
   "metadata": {},
   "outputs": [
    {
     "name": "stdout",
     "output_type": "stream",
     "text": [
      "True\n",
      "True\n",
      "False\n"
     ]
    }
   ],
   "source": [
    "#Bir saynın asal olup olmadığını kontrol eden fonksiyon.\n",
    "def isprime(val):\n",
    "    for i in range(2,val):\n",
    "        if val % i == 0 :\n",
    "            return False\n",
    "    return True \n",
    "print(isprime(13))\n",
    "print(isprime(2))\n",
    "print(isprime(8))"
   ]
  },
  {
   "cell_type": "code",
   "execution_count": 75,
   "id": "e55ed2a7-83b8-460a-adcc-fb7b0724e90c",
   "metadata": {},
   "outputs": [
    {
     "name": "stdout",
     "output_type": "stream",
     "text": [
      "1\n"
     ]
    }
   ],
   "source": [
    "def factorial(n):\n",
    "    total=1\n",
    "    for i in range (2,n+1):\n",
    "         total*=i\n",
    "    return total\n",
    "result=factorial(0)\n",
    "print(result)"
   ]
  },
  {
   "cell_type": "code",
   "execution_count": 81,
   "id": "a69f5934-cfd7-41e4-8ef0-02f88ca7709b",
   "metadata": {},
   "outputs": [
    {
     "name": "stdout",
     "output_type": "stream",
     "text": [
      "720\n"
     ]
    }
   ],
   "source": [
    "#math modulü ile faktoriyel hesaplayabiliriz\n",
    "import math \n",
    "result = math.factorial(6)\n",
    "print(result)"
   ]
  },
  {
   "cell_type": "code",
   "execution_count": null,
   "id": "3dfe1d73-479b-426c-b342-b6814654d262",
   "metadata": {},
   "outputs": [],
   "source": []
  },
  {
   "cell_type": "code",
   "execution_count": null,
   "id": "d0da24a4-cc9e-4e08-a22a-c67f1d0090e8",
   "metadata": {},
   "outputs": [],
   "source": []
  }
 ],
 "metadata": {
  "kernelspec": {
   "display_name": "Python 3 (ipykernel)",
   "language": "python",
   "name": "python3"
  },
  "language_info": {
   "codemirror_mode": {
    "name": "ipython",
    "version": 3
   },
   "file_extension": ".py",
   "mimetype": "text/x-python",
   "name": "python",
   "nbconvert_exporter": "python",
   "pygments_lexer": "ipython3",
   "version": "3.12.4"
  }
 },
 "nbformat": 4,
 "nbformat_minor": 5
}
