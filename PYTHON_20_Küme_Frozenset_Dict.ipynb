{
 "cells": [
  {
   "cell_type": "markdown",
   "id": "9dd5d99c-4519-4aa4-818a-dfa4f8c5e132",
   "metadata": {},
   "source": [
    "### 20.DERS-KümeÇeşitleri/Frozenset/Dict"
   ]
  },
  {
   "cell_type": "markdown",
   "id": "456cbf35-c17a-44a9-9728-6f196286d0ff",
   "metadata": {},
   "source": [
    "* İki kümenin ortak olmayan elemanlarının elde edilmesine **\"exor\"** işlemi denilmektedir.\n",
    "* Exor işlemi **\"^\"** operatörü ile ya da **symmetric_difference** isimli metodla yapılmaktadır.\n"
   ]
  },
  {
   "cell_type": "code",
   "execution_count": 4,
   "id": "60875a8e-3458-4615-9c43-5500787f63e7",
   "metadata": {},
   "outputs": [
    {
     "name": "stdout",
     "output_type": "stream",
     "text": [
      "{1, 4, 7}\n"
     ]
    }
   ],
   "source": [
    "#Örneğin:\n",
    "a={1,2,3,4,5}\n",
    "b={5,7,3,2}\n",
    "result= a^b\n",
    "print(result)"
   ]
  },
  {
   "cell_type": "code",
   "execution_count": 6,
   "id": "2fffbd1d-cb06-42f9-b505-0dbf0203c49c",
   "metadata": {},
   "outputs": [
    {
     "name": "stdout",
     "output_type": "stream",
     "text": [
      "{1, 4, 7}\n"
     ]
    }
   ],
   "source": [
    "result= b^a\n",
    "print(result)"
   ]
  },
  {
   "cell_type": "code",
   "execution_count": 28,
   "id": "5264a4aa-da60-4960-b893-ee85c77047d5",
   "metadata": {},
   "outputs": [
    {
     "name": "stdout",
     "output_type": "stream",
     "text": [
      "{1, 4, 7}\n"
     ]
    }
   ],
   "source": [
    "result=a.symmetric_difference(b)\n",
    "print(result)"
   ]
  },
  {
   "cell_type": "markdown",
   "id": "24a36ef5-4363-4fa7-b18c-144a3e03b2fd",
   "metadata": {},
   "source": [
    "* Temel küme işlemlerinin update'li versiyonları da vardır:\n",
    "* Aşağıdaki işlemler id değişimi yapmaz.\n",
    "* **a&=b** ya da **a.intersection_update(b)**\n",
    "* **a|=b** ya da **a.update(b)** (union kullanılmaz)\n",
    "* **a-=b** ya da **a.difference_update(b)**\n",
    "* **a^=b** ya da **a.symmetric_difference_update(b)**\n"
   ]
  },
  {
   "cell_type": "code",
   "execution_count": 56,
   "id": "f43b4d04-5e9d-4145-904f-b0d48b1c28cd",
   "metadata": {},
   "outputs": [
    {
     "name": "stdout",
     "output_type": "stream",
     "text": [
      "2621889499808\n",
      "2622028534432\n"
     ]
    }
   ],
   "source": [
    "a={1,2,3,4,5}\n",
    "b={5,7,3,2}\n",
    "print(id(a))\n",
    "print(id(b))"
   ]
  },
  {
   "cell_type": "code",
   "execution_count": 58,
   "id": "32e39d3e-a5c0-4376-86f5-0ab5c4c49278",
   "metadata": {},
   "outputs": [
    {
     "name": "stdout",
     "output_type": "stream",
     "text": [
      "{2, 3, 5}\n"
     ]
    }
   ],
   "source": [
    "#Kesişim işlemi yapalım\n",
    "a=a&b\n",
    "print(a)"
   ]
  },
  {
   "cell_type": "code",
   "execution_count": 60,
   "id": "b05b6152-26ed-4752-bb3d-937053e9995b",
   "metadata": {},
   "outputs": [
    {
     "name": "stdout",
     "output_type": "stream",
     "text": [
      "2622028537120\n",
      "2622028534432\n"
     ]
    }
   ],
   "source": [
    "print(id(a)) # a'nın id si değişti\n",
    "print(id(b))"
   ]
  },
  {
   "cell_type": "code",
   "execution_count": 66,
   "id": "2c1ef372-34b6-46e2-ac8d-57d64651cea5",
   "metadata": {},
   "outputs": [
    {
     "name": "stdout",
     "output_type": "stream",
     "text": [
      "2622028532864\n",
      "2622028537120\n",
      "{2, 3, 5}\n"
     ]
    }
   ],
   "source": [
    "a={1,2,3,4,5}\n",
    "b={5,7,3,2}\n",
    "print(id(a))\n",
    "print(id(b))\n",
    "a&=b\n",
    "print(a)"
   ]
  },
  {
   "cell_type": "code",
   "execution_count": 70,
   "id": "fd9c2964-e104-4ba8-b45a-cd765f569848",
   "metadata": {},
   "outputs": [
    {
     "name": "stdout",
     "output_type": "stream",
     "text": [
      "2622028532864\n",
      "2622028537120\n"
     ]
    }
   ],
   "source": [
    "#İkisinin de id değişmedi\n",
    "print(id(a)) \n",
    "print(id(b))"
   ]
  },
  {
   "cell_type": "markdown",
   "id": "d81e48b3-9030-4629-8485-97895562f7cf",
   "metadata": {},
   "source": [
    "**ALT KÜME (SUBSET) VE ÜST KÜME(SUPERSET):**\n",
    "* Alt küme(subset): **a<=b** ya da **a.issubset(b)**\n",
    "* Öz alt küme (proper subset): **a<b**\n",
    "* Üst küme(superset): **a>=b**  ya da **a.issuperset(b)**\n",
    "* Öz üst  küme (proper superset):**a>b**\n",
    "* Öz alt ve üst küme için herhangi bir metod yoktur.\n",
    "*************************************************************************************\n",
    "* Bir a kümesinin tüm elemanları b kümesinde var ise \" a kümesi b kümesinin alt kümesidir(subset).\"\n",
    "* Üst küme alt kümesnin tam tersidir.\n",
    "* Öz alt küme kendisi dahil olmayan alt kümedir.\n",
    "* Her küme kendisinin alt kümesidir fakat öz alt kümesi değildir.\n"
   ]
  },
  {
   "cell_type": "code",
   "execution_count": 77,
   "id": "911e476c-bc03-4181-be98-7aa56d58e3de",
   "metadata": {},
   "outputs": [
    {
     "name": "stdout",
     "output_type": "stream",
     "text": [
      "{1, 2, 3, 4, 5}\n",
      "{1, 2, 3}\n"
     ]
    }
   ],
   "source": [
    "a={1,2,3,4,5}\n",
    "b={3,2,1}\n",
    "print(a)\n",
    "print(b)\n"
   ]
  },
  {
   "cell_type": "code",
   "execution_count": 89,
   "id": "79924343-8f34-4736-8ce7-4d336d13349f",
   "metadata": {},
   "outputs": [
    {
     "name": "stdout",
     "output_type": "stream",
     "text": [
      "True\n",
      "True\n",
      "False\n",
      "True\n"
     ]
    }
   ],
   "source": [
    "print(b<a) #b, a'nın öz alt kümesi mi ?\n",
    "print(b<=a) #b, a'nın  alt kümesi mi ?\n",
    "print(b<b) #b, b'nin  öz alt kümesi mi ?\n",
    "print(b<=b) #b, b'nin alt kümesi mi ?\n"
   ]
  },
  {
   "cell_type": "markdown",
   "id": "7a433079-489f-426c-a32e-f287bb84a13a",
   "metadata": {},
   "source": [
    "**AYRIK KÜME (DISJOINT SETS) KONTROLÜ:**\n",
    "* Ayrık küme: A kesişim B boş kümeye eşit ise ayrık kümelerdir.\n",
    "* Ayrık küme kontrolü iki şekilde yapılabilir:\n",
    "* 1) **s.isdisjoint(k)**\n",
    "  2) **s & k == set()**"
   ]
  },
  {
   "cell_type": "code",
   "execution_count": 110,
   "id": "1b6c7fa7-b73e-4501-aa7b-7fc365d2fb46",
   "metadata": {},
   "outputs": [
    {
     "data": {
      "text/plain": [
       "True"
      ]
     },
     "execution_count": 110,
     "metadata": {},
     "output_type": "execute_result"
    }
   ],
   "source": [
    "s={\"ali\",\"veli\"}\n",
    "k={\"ayşe\",\"fatma\"}\n",
    "s.isdisjoint(k)"
   ]
  },
  {
   "cell_type": "code",
   "execution_count": 112,
   "id": "c5583162-bfab-4f13-91bf-6caa145a9a74",
   "metadata": {},
   "outputs": [
    {
     "data": {
      "text/plain": [
       "True"
      ]
     },
     "execution_count": 112,
     "metadata": {},
     "output_type": "execute_result"
    }
   ],
   "source": [
    "s & k== set()"
   ]
  },
  {
   "cell_type": "markdown",
   "id": "d29fc167-6df1-41ff-b29e-f174d2efe2eb",
   "metadata": {},
   "source": [
    "**FROZENSET:**\n",
    "\n",
    "* Python'da seyrek kullanılan set sınıfının değiştirilemez(immutable) biçimi olan \"frozenset\" isimli bir sınıf da vardır.(Tıpkı list-tuple gibi)\n",
    "* Set sınıfı ile frozenset arasındaki farklılıklar şunlardır:\n",
    "* 1) frozenset sınıfı değiştirilebilir olmadığı için onun **\"add,update,intersection_update,remove\"\" gibi metodları yoktur.** Ancak değiştirme işlemi yapmayan metodlatı set sınıf ile aynıdır.\n",
    "  2) frozenset sınıfında **&=,|=,^=,-=** gibi operatörler soldaki nesne üzerinde işlem yapmazlar.Yeni nesne yaratırlar.Yani örneğin,a|=b işlemi tamamen a=a|b işlemi ile aynıdır.\n",
    "  3) frozenset elemanları eğer hash'lenebilir ise frozenset nesnesi de hash'lenebilir durumdadır.\n",
    " "
   ]
  },
  {
   "cell_type": "code",
   "execution_count": 8,
   "id": "8b25946f-9c83-4249-93c5-7b12e12dcec3",
   "metadata": {},
   "outputs": [
    {
     "name": "stdout",
     "output_type": "stream",
     "text": [
      "frozenset({'veli', 'fatma', 'selami', 'ayşe', 'ali'})\n"
     ]
    }
   ],
   "source": [
    "#Frozenset\n",
    "fs=frozenset({\"ali\",\"veli\",\"selami\",\"ayşe\",\"fatma\"})\n",
    "print(fs)"
   ]
  },
  {
   "cell_type": "code",
   "execution_count": 4,
   "id": "9a52db48-28a7-4bd7-8371-0295da63c4e0",
   "metadata": {},
   "outputs": [
    {
     "name": "stdout",
     "output_type": "stream",
     "text": [
      "frozenset({'veli', 'fatma', 'selami', 'ayşe', 'ali'})\n"
     ]
    }
   ],
   "source": [
    "result=fs & fs\n",
    "print(result)"
   ]
  },
  {
   "cell_type": "markdown",
   "id": "615eb4cd-3787-4459-99ec-322ef98b8647",
   "metadata": {},
   "source": [
    "* Kümenin bir elemanı küme olamaz fakat kümenin bir elemanı frozenset olabilir.\n",
    "* Çünkü frozenset hash'lenebilir biçimdedir."
   ]
  },
  {
   "cell_type": "code",
   "execution_count": 14,
   "id": "1ee97c45-e958-4004-93f1-b0b1babc5f96",
   "metadata": {},
   "outputs": [
    {
     "ename": "TypeError",
     "evalue": "unhashable type: 'set'",
     "output_type": "error",
     "traceback": [
      "\u001b[1;31m---------------------------------------------------------------------------\u001b[0m",
      "\u001b[1;31mTypeError\u001b[0m                                 Traceback (most recent call last)",
      "Cell \u001b[1;32mIn[14], line 1\u001b[0m\n\u001b[1;32m----> 1\u001b[0m s\u001b[38;5;241m=\u001b[39m{\u001b[38;5;241m1\u001b[39m,\u001b[38;5;241m2\u001b[39m,{\u001b[38;5;241m3\u001b[39m,\u001b[38;5;241m4\u001b[39m},\u001b[38;5;241m5\u001b[39m}\n\u001b[0;32m      2\u001b[0m \u001b[38;5;28mprint\u001b[39m(s)\n",
      "\u001b[1;31mTypeError\u001b[0m: unhashable type: 'set'"
     ]
    }
   ],
   "source": [
    "s={1,2,{3,4},5}\n",
    "print(s)"
   ]
  },
  {
   "cell_type": "code",
   "execution_count": 16,
   "id": "b23a8ce6-b75b-4633-be70-a0633e1c66bd",
   "metadata": {},
   "outputs": [
    {
     "name": "stdout",
     "output_type": "stream",
     "text": [
      "{frozenset({3, 4}), 1, 2, 5}\n"
     ]
    }
   ],
   "source": [
    "s={1,2,frozenset({3,4}),5}\n",
    "print(s)"
   ]
  },
  {
   "cell_type": "markdown",
   "id": "ea7db428-caab-48df-8e67-696259e6998d",
   "metadata": {},
   "source": [
    "**DİCT SINIFI VE SÖZLÜK VERİ YAPISI:**\n",
    "* Sözlükler(dictionaries) \"anahtar-değer\" çiftlerini tutan ,anahtar verildiğinde değerin hızlı bir biçimde bulunmasını sağlayan veri yapılarıdır.\n",
    "* Sözzlükler yine küme parantezleri ({}) kullanılarak oluşturulurlar.\n",
    "* Ancak küme parantezlerinin içi **\"Key(anahtar):Value(değer)\"** çiftlerinden oluşturulmaktadır."
   ]
  },
  {
   "cell_type": "code",
   "execution_count": 4,
   "id": "3e31052a-2c36-4933-8363-d1b0b04d270c",
   "metadata": {},
   "outputs": [
    {
     "name": "stdout",
     "output_type": "stream",
     "text": [
      "{'ankara': 6, 'bursa': 16, 'istanbul': 34, 'eskişehir': 26, 'izmir': 35}\n",
      "<class 'dict'>\n"
     ]
    }
   ],
   "source": [
    "#{anahtar:değer,anahtar:değer,anahtar:değer}\n",
    "d={\"ankara\":6,\"bursa\":16,\"istanbul\":34,\"eskişehir\":26,\"izmir\":35}\n",
    "print(d)\n",
    "print(type(d))"
   ]
  },
  {
   "cell_type": "markdown",
   "id": "02e7ed52-6d58-4918-8464-11ada227b0e2",
   "metadata": {},
   "source": [
    "* Anahtar(key) kısmının hashlenebilir olması gerekir.\n",
    "* * Dolayısıyla anahtar kısmı int,float,str gibi türlerlerden olabilir.Ancak list ve set türlerinden olamaz.\n",
    "* Değer(value) kısmında böyle  bir zorunluluk yoktur.\n",
    "* Demetlerin eğer elemanları hashlenebilir ise demet hashlenebilirdir.\n",
    "* Benzer bir biçimde frozenset nesneleri de hashlenebilirdir."
   ]
  },
  {
   "cell_type": "code",
   "execution_count": 10,
   "id": "0fe6445d-b30a-4b85-8915-19035d7f3912",
   "metadata": {},
   "outputs": [
    {
     "name": "stdout",
     "output_type": "stream",
     "text": [
      "{'eskişehir': ['nihalıççık', 'sivrihisar', 'seyitgazi'], 'istanbul': ['şişli', 'pendik', 'ataşehir'], 'izmir': ['konak', 'gaziemir', 'karşıyaka']}\n"
     ]
    }
   ],
   "source": [
    "d={\"eskişehir\":[\"nihalıççık\",\"sivrihisar\",\"seyitgazi\"],\"istanbul\":[\"şişli\",\"pendik\",\"ataşehir\"],\"izmir\":[\"konak\",\"gaziemir\",\"karşıyaka\"]}\n",
    "print(d)"
   ]
  },
  {
   "cell_type": "code",
   "execution_count": 16,
   "id": "d552a7ac-725b-4082-84ed-d9f362566e21",
   "metadata": {},
   "outputs": [
    {
     "name": "stdout",
     "output_type": "stream",
     "text": [
      "['nihalıççık', 'sivrihisar', 'seyitgazi']\n",
      "['şişli', 'pendik', 'ataşehir']\n",
      "['konak', 'gaziemir', 'karşıyaka']\n"
     ]
    }
   ],
   "source": [
    "print(d[\"eskişehir\"])\n",
    "print(d[\"istanbul\"])\n",
    "print(d[\"izmir\"])"
   ]
  },
  {
   "cell_type": "code",
   "execution_count": 18,
   "id": "f895cb94-e739-48cf-8c83-4f55e21ca608",
   "metadata": {},
   "outputs": [
    {
     "ename": "TypeError",
     "evalue": "unhashable type: 'list'",
     "output_type": "error",
     "traceback": [
      "\u001b[1;31m---------------------------------------------------------------------------\u001b[0m",
      "\u001b[1;31mTypeError\u001b[0m                                 Traceback (most recent call last)",
      "Cell \u001b[1;32mIn[18], line 2\u001b[0m\n\u001b[0;32m      1\u001b[0m \u001b[38;5;66;03m#Aşağıdaki dict geçersizdir.\u001b[39;00m\n\u001b[1;32m----> 2\u001b[0m d\u001b[38;5;241m=\u001b[39m{[\u001b[38;5;241m10\u001b[39m,\u001b[38;5;241m20\u001b[39m]:\u001b[38;5;241m100\u001b[39m}\n\u001b[0;32m      3\u001b[0m \u001b[38;5;28mprint\u001b[39m(d)\n",
      "\u001b[1;31mTypeError\u001b[0m: unhashable type: 'list'"
     ]
    }
   ],
   "source": [
    "#Aşağıdaki dict geçersizdir.\n",
    "d={[10,20]:100}\n",
    "print(d)"
   ]
  },
  {
   "cell_type": "code",
   "execution_count": 28,
   "id": "338c1981-400d-416a-851e-58a900ba1d99",
   "metadata": {},
   "outputs": [
    {
     "name": "stdout",
     "output_type": "stream",
     "text": [
      "{'ali': 100, 200: 'veli', 20: 30.2}\n"
     ]
    }
   ],
   "source": [
    "#Aşağıdaki dict geçerlidir.\n",
    "#Fakat aşağıdaki gibi bir kullanım genelde tercih edilmez.\n",
    "d={\"ali\":100,200:\"veli\",20:30.2}\n",
    "print(d)"
   ]
  },
  {
   "cell_type": "markdown",
   "id": "a933ba51-eecb-49a0-bbee-0442df494dbd",
   "metadata": {},
   "source": [
    "* Sözlüklerin kendisi de hashlenebilir değildir.Dolayısıyla bir sözlük başka bir sözlüğe anahtar yapılmaz.\n",
    "* Ancak bir sözlüğün değeri bir sözlük olabilir."
   ]
  },
  {
   "cell_type": "code",
   "execution_count": 31,
   "id": "b616318a-1fa3-4554-8224-370b6fae8e03",
   "metadata": {},
   "outputs": [
    {
     "name": "stdout",
     "output_type": "stream",
     "text": [
      "{'iç_anadolu': {'eskişehir': 26, 'konya': 42, 'ankara': 6}, 'ege': {'izmir': 35, 'aydın': 9}, 'marmara': {'istanbul': 34, 'kocaeli': 41}}\n"
     ]
    }
   ],
   "source": [
    "d={\"iç_anadolu\":{\"eskişehir\":26,\"konya\":42,\"ankara\":6},\n",
    "   \"ege\":{\"izmir\":35,\"aydın\":9},\n",
    "   \"marmara\":{\"istanbul\":34,\"kocaeli\":41}\n",
    "  }\n",
    "print(d)\n"
   ]
  },
  {
   "cell_type": "code",
   "execution_count": 33,
   "id": "d15a304a-b75f-4496-818e-0ba2cd0574d2",
   "metadata": {},
   "outputs": [
    {
     "name": "stdout",
     "output_type": "stream",
     "text": [
      "{'eskişehir': 26, 'konya': 42, 'ankara': 6}\n",
      "{'izmir': 35, 'aydın': 9}\n",
      "{'istanbul': 34, 'kocaeli': 41}\n"
     ]
    }
   ],
   "source": [
    "print(d[\"iç_anadolu\"])\n",
    "print(d[\"ege\"])\n",
    "print(d[\"marmara\"])"
   ]
  },
  {
   "cell_type": "markdown",
   "id": "4bf0b66c-fdd7-4076-80fd-c1a9a7d6ff1a",
   "metadata": {},
   "source": [
    "* Listelerin,demetlerin, kümelerin ve sözlüklerin elemanları sabit olmak zorunda değildir.\n",
    "* Elemanlar değişken olarak da verilebilir."
   ]
  },
  {
   "cell_type": "code",
   "execution_count": 38,
   "id": "2e93e623-119a-4672-9ee0-01eaeefeb3f8",
   "metadata": {},
   "outputs": [
    {
     "data": {
      "text/plain": [
       "{26: 'eskişehir'}"
      ]
     },
     "execution_count": 38,
     "metadata": {},
     "output_type": "execute_result"
    }
   ],
   "source": [
    "#Örneğin\n",
    "x=26\n",
    "d={x:\"eskişehir\"}\n",
    "d"
   ]
  },
  {
   "cell_type": "code",
   "execution_count": 46,
   "id": "09b1f5f6-4eb4-4446-af74-8b9ee64ff705",
   "metadata": {},
   "outputs": [
    {
     "ename": "SyntaxError",
     "evalue": "invalid syntax. Maybe you meant '==' or ':=' instead of '='? (2649559926.py, line 2)",
     "output_type": "error",
     "traceback": [
      "\u001b[1;36m  Cell \u001b[1;32mIn[46], line 2\u001b[1;36m\u001b[0m\n\u001b[1;33m    a=[x=10+20,20]\u001b[0m\n\u001b[1;37m       ^\u001b[0m\n\u001b[1;31mSyntaxError\u001b[0m\u001b[1;31m:\u001b[0m invalid syntax. Maybe you meant '==' or ':=' instead of '='?\n"
     ]
    }
   ],
   "source": [
    "#Aşağıdaki gibi bir durum geçerli değildir.\n",
    "a=[x=10+20,20]\n",
    "print(a)"
   ]
  },
  {
   "cell_type": "code",
   "execution_count": 48,
   "id": "f6dfaa0a-e161-493e-b434-923a672ba1cd",
   "metadata": {},
   "outputs": [
    {
     "name": "stdout",
     "output_type": "stream",
     "text": [
      "[False, 20]\n"
     ]
    }
   ],
   "source": [
    "#Bu ifade doğrudur.\n",
    "a=[x==10+20,20]\n",
    "print(a)"
   ]
  },
  {
   "cell_type": "markdown",
   "id": "424be21e-5be9-46b2-9a46-26cbb0eb7962",
   "metadata": {},
   "source": [
    "* Sözlükler \"dict\" fonksiyonuyla temsil edilmektedir.\n",
    "* Diğer temel veri yapılarındaki gibi \"dict\" fonksiyonuyla da sözlük oluşturabiliriz.\n",
    "* Örneğin boş bir sözlük \"dict()\" şeklinde oluşturulur. "
   ]
  },
  {
   "cell_type": "code",
   "execution_count": 84,
   "id": "17109825-2a8d-4453-892c-f2d59ca2ea5c",
   "metadata": {},
   "outputs": [
    {
     "name": "stdout",
     "output_type": "stream",
     "text": [
      "{}\n",
      "<class 'dict'>\n"
     ]
    }
   ],
   "source": [
    "#Boş sözlük için 1.yol\n",
    "a=dict()\n",
    "print(a)\n",
    "print(type(a))"
   ]
  },
  {
   "cell_type": "code",
   "execution_count": 70,
   "id": "8083f743-976a-4623-b9aa-4eb9d85c1d9d",
   "metadata": {},
   "outputs": [
    {
     "name": "stdout",
     "output_type": "stream",
     "text": [
      "{}\n",
      "<class 'dict'>\n"
     ]
    }
   ],
   "source": [
    "#Boş sözlük için 2.yol\n",
    "a={}\n",
    "print(a)\n",
    "print(type(a))"
   ]
  },
  {
   "cell_type": "markdown",
   "id": "91cebb35-f4ff-4d2c-a945-71533206aa21",
   "metadata": {},
   "source": [
    "* dict fonksiyonuna iki elemanlı dolaşılabilir nesnelerden oluşan , dolaşılabilir bir nesneyi argüman olarak verirsek;\n",
    "* - dict fonksiyonu bu nesneyi dolaşır;\n",
    "  - Her dolaşımda 2 elemanlı bir dolaşılabilir nesne elde eder;\n",
    "  - O iki elemanlı dolaşılabilir nesnenin ilk elemanı anahtar(key);\n",
    "  - İkinci elemanı değer(value) olacak biçimde bir sözlük nesnesi oluşur."
   ]
  },
  {
   "cell_type": "code",
   "execution_count": 78,
   "id": "15fb3365-fc3e-4615-b2da-b3e5f049cfa6",
   "metadata": {},
   "outputs": [
    {
     "name": "stdout",
     "output_type": "stream",
     "text": [
      "[('ali', 10), ('veli', 20), ('selami', 30), ('fatma', 50)]\n",
      "{'ali': 10, 'veli': 20, 'selami': 30, 'fatma': 50}\n",
      "<class 'list'>\n",
      "<class 'dict'>\n"
     ]
    }
   ],
   "source": [
    "a=[(\"ali\",10),(\"veli\",20),(\"selami\",30),(\"fatma\",50)]\n",
    "b=dict(a)\n",
    "print(a)\n",
    "print(b)\n",
    "print(type(a))\n",
    "print(type(b))"
   ]
  },
  {
   "cell_type": "code",
   "execution_count": 88,
   "id": "c7900328-6774-4da1-bc15-aada7f9370bb",
   "metadata": {},
   "outputs": [
    {
     "name": "stdout",
     "output_type": "stream",
     "text": [
      "['ak', 'al', 'be', 'tr', '  ']\n",
      "{'a': 'l', 'b': 'e', 't': 'r', ' ': ' '}\n",
      "<class 'list'>\n",
      "<class 'dict'>\n"
     ]
    }
   ],
   "source": [
    "a=[\"ak\",\"al\",\"be\",\"tr\",\"  \"]\n",
    "d=dict(a)\n",
    "print(a)\n",
    "print(d)\n",
    "print(type(a))\n",
    "print(type(d))"
   ]
  },
  {
   "cell_type": "code",
   "execution_count": 82,
   "id": "cf832879-e709-4edd-9166-4ec9387ac199",
   "metadata": {},
   "outputs": [
    {
     "name": "stdout",
     "output_type": "stream",
     "text": [
      "[('ali', 10), ('veli', 20), range(0, 2)]\n",
      "{'ali': 10, 'veli': 20, 0: 1}\n",
      "<class 'list'>\n",
      "<class 'dict'>\n"
     ]
    }
   ],
   "source": [
    "a=[(\"ali\",10),(\"veli\",20),range(2)]\n",
    "d=dict(a)\n",
    "print(a)\n",
    "print(d)\n",
    "print(type(a))\n",
    "print(type(d))"
   ]
  },
  {
   "cell_type": "markdown",
   "id": "fffeea10-a197-4238-b868-5ce7a724a268",
   "metadata": {},
   "source": [
    "* Yukarıda listeleri sözlüğe dönüştürdük.\n",
    "* Liste yerine set,tuple da kullanılabilirdi."
   ]
  },
  {
   "cell_type": "code",
   "execution_count": 99,
   "id": "1afa8723-38af-477c-9472-29515534e202",
   "metadata": {},
   "outputs": [
    {
     "name": "stdout",
     "output_type": "stream",
     "text": [
      "['ak', 'al', 'be', 'tr', '  ']\n",
      "{'a': 'l', 'b': 'e', 't': 'r', ' ': ' '}\n",
      "<class 'list'>\n",
      "<class 'dict'>\n"
     ]
    }
   ],
   "source": [
    "#liste\n",
    "a=[\"ak\",\"al\",\"be\",\"tr\",\"  \"]\n",
    "d=dict(a)\n",
    "print(a)\n",
    "print(d)\n",
    "print(type(a))\n",
    "print(type(d))"
   ]
  },
  {
   "cell_type": "code",
   "execution_count": 93,
   "id": "3663bb5b-1ac3-43e4-94ec-7e1ece13e130",
   "metadata": {},
   "outputs": [
    {
     "name": "stdout",
     "output_type": "stream",
     "text": [
      "{'ak', 'be', '  ', 'al', 'tr'}\n",
      "{'a': 'l', 'b': 'e', ' ': ' ', 't': 'r'}\n",
      "<class 'set'>\n",
      "<class 'dict'>\n"
     ]
    }
   ],
   "source": [
    "#set\n",
    "a={\"ak\",\"al\",\"be\",\"tr\",\"  \"}\n",
    "d=dict(a)\n",
    "print(a)\n",
    "print(d)\n",
    "print(type(a))\n",
    "print(type(d))"
   ]
  },
  {
   "cell_type": "code",
   "execution_count": 95,
   "id": "88b7b79f-7e11-4652-bc09-2defc2ee9d6e",
   "metadata": {},
   "outputs": [
    {
     "name": "stdout",
     "output_type": "stream",
     "text": [
      "('ak', 'al', 'be', 'tr', '  ')\n",
      "{'a': 'l', 'b': 'e', 't': 'r', ' ': ' '}\n",
      "<class 'tuple'>\n",
      "<class 'dict'>\n"
     ]
    }
   ],
   "source": [
    "#tuple\n",
    "a=(\"ak\",\"al\",\"be\",\"tr\",\"  \")\n",
    "d=dict(a)\n",
    "print(a)\n",
    "print(d)\n",
    "print(type(a))\n",
    "print(type(d))"
   ]
  },
  {
   "cell_type": "markdown",
   "id": "a26b733b-4e26-49b1-aa3c-a500b1f5a3f2",
   "metadata": {},
   "source": [
    "* dict fonksiyonunda \"değişken=değer\" biçiminde argüman girdiğimizde dict bize o değişkenlerin string halini anahtar,\"=\" operatörünün sağındakini de değer yaparak bir sözlük nesnesi oluşturur."
   ]
  },
  {
   "cell_type": "code",
   "execution_count": 102,
   "id": "4dadcb2f-c519-440d-b5f0-07ef80f5314e",
   "metadata": {},
   "outputs": [
    {
     "name": "stdout",
     "output_type": "stream",
     "text": [
      "{'x': 10, 'y': 20, 'z': 30}\n"
     ]
    }
   ],
   "source": [
    "d=dict(x=10,y=20,z=30)\n",
    "print(d)"
   ]
  },
  {
   "cell_type": "code",
   "execution_count": 106,
   "id": "6f12c6b1-c21b-4927-9036-2dfbe86185aa",
   "metadata": {},
   "outputs": [
    {
     "name": "stdout",
     "output_type": "stream",
     "text": [
      "{'eskişehir': 26, 'istanbul': 34}\n"
     ]
    }
   ],
   "source": [
    "d=dict(eskişehir=26,istanbul=34)\n",
    "print(d)"
   ]
  },
  {
   "cell_type": "code",
   "execution_count": 118,
   "id": "167ae821-ee1b-4092-9151-846ad52e37ad",
   "metadata": {},
   "outputs": [
    {
     "ename": "SyntaxError",
     "evalue": "expression cannot contain assignment, perhaps you meant \"==\"? (2267794187.py, line 2)",
     "output_type": "error",
     "traceback": [
      "\u001b[1;36m  Cell \u001b[1;32mIn[118], line 2\u001b[1;36m\u001b[0m\n\u001b[1;33m    d=dict(\"eskişehir\"=26,\"istanbul\"=34)\u001b[0m\n\u001b[1;37m           ^\u001b[0m\n\u001b[1;31mSyntaxError\u001b[0m\u001b[1;31m:\u001b[0m expression cannot contain assignment, perhaps you meant \"==\"?\n"
     ]
    }
   ],
   "source": [
    "#Bu işlem geçersizdir.\n",
    "d=dict(\"eskişehir\"=26,\"istanbul\"=34)\n",
    "print(d)"
   ]
  },
  {
   "cell_type": "markdown",
   "id": "e7d37c03-069f-4a56-9aa0-2d0ee5c6c369",
   "metadata": {},
   "source": [
    "* Bir sözlükte anahtarı verip değeri elde etmek iiçin **[]** operatörü kullanılır.\n",
    "* Köşeli parantez içine key(anahtar) yazılır.\n",
    "* Sonuç olarak bize değeri verir.\n",
    "* Anahtar sözlükte yoksa expection(KeyError) oluşur."
   ]
  },
  {
   "cell_type": "code",
   "execution_count": 133,
   "id": "18f7935c-d961-4ea6-8ac4-595b5eb4731b",
   "metadata": {},
   "outputs": [
    {
     "name": "stdout",
     "output_type": "stream",
     "text": [
      "10\n"
     ]
    }
   ],
   "source": [
    "a={'ali': 10, 'veli': 20, 'selami': 30, 'fatma': 50}\n",
    "val=a['ali']\n",
    "print(val)"
   ]
  },
  {
   "cell_type": "code",
   "execution_count": 131,
   "id": "4c9ac420-f8d4-48b9-b116-b70cd4f7c02d",
   "metadata": {},
   "outputs": [
    {
     "ename": "KeyError",
     "evalue": "'osman'",
     "output_type": "error",
     "traceback": [
      "\u001b[1;31m---------------------------------------------------------------------------\u001b[0m",
      "\u001b[1;31mKeyError\u001b[0m                                  Traceback (most recent call last)",
      "Cell \u001b[1;32mIn[131], line 1\u001b[0m\n\u001b[1;32m----> 1\u001b[0m val_2\u001b[38;5;241m=\u001b[39ma[\u001b[38;5;124m\"\u001b[39m\u001b[38;5;124mosman\u001b[39m\u001b[38;5;124m\"\u001b[39m]\n\u001b[0;32m      2\u001b[0m \u001b[38;5;28mprint\u001b[39m(val_2)\n",
      "\u001b[1;31mKeyError\u001b[0m: 'osman'"
     ]
    }
   ],
   "source": [
    "val_2=a[\"osman\"]\n",
    "print(val_2)"
   ]
  },
  {
   "cell_type": "markdown",
   "id": "e5c6b672-a87a-409d-99b7-633d99172960",
   "metadata": {},
   "source": [
    "* dict sınıfının get isimli metodu da anahtar verildiğinde elde edilmesi için kullanılır.\n",
    "* Ancak get;anahtar sözlükte yoksa expection oluşturmaz.None yazdırır.\n"
   ]
  },
  {
   "cell_type": "code",
   "execution_count": 137,
   "id": "59bbef00-5a0d-41a9-98d5-c6415a1ccaea",
   "metadata": {},
   "outputs": [
    {
     "name": "stdout",
     "output_type": "stream",
     "text": [
      "None\n"
     ]
    }
   ],
   "source": [
    "#error oluşturmaz.\n",
    "val_3=a.get(\"osman\")\n",
    "print(val_3)"
   ]
  },
  {
   "cell_type": "code",
   "execution_count": 139,
   "id": "42635c15-5850-4d4c-be4d-05b20e8309b6",
   "metadata": {},
   "outputs": [
    {
     "name": "stdout",
     "output_type": "stream",
     "text": [
      "10\n"
     ]
    }
   ],
   "source": [
    "val=a.get(\"ali\")\n",
    "print(val)"
   ]
  },
  {
   "cell_type": "markdown",
   "id": "b1f931b6-e70c-4e09-b8a5-8ec6e11cb823",
   "metadata": {},
   "source": [
    "**in ve not in**\n",
    "\n",
    "* Anahtarı sorgulayabiliriz fakat değeri sorgulayamayız."
   ]
  },
  {
   "cell_type": "code",
   "execution_count": 146,
   "id": "11aa6821-b423-47fe-8a15-01aef2c0f879",
   "metadata": {},
   "outputs": [
    {
     "data": {
      "text/plain": [
       "True"
      ]
     },
     "execution_count": 146,
     "metadata": {},
     "output_type": "execute_result"
    }
   ],
   "source": [
    "a={'ali': 10, 'veli': 20, 'selami': 30, 'fatma': 50}\n",
    "\"ali\" in a"
   ]
  },
  {
   "cell_type": "code",
   "execution_count": 148,
   "id": "0cfc240d-836d-4859-b36a-e8e42cfdae11",
   "metadata": {},
   "outputs": [
    {
     "data": {
      "text/plain": [
       "False"
      ]
     },
     "execution_count": 148,
     "metadata": {},
     "output_type": "execute_result"
    }
   ],
   "source": [
    "\"osman\" in a"
   ]
  },
  {
   "cell_type": "code",
   "execution_count": 150,
   "id": "5a9ce846-6d05-45ea-bb16-b11bc8555f3f",
   "metadata": {},
   "outputs": [
    {
     "data": {
      "text/plain": [
       "True"
      ]
     },
     "execution_count": 150,
     "metadata": {},
     "output_type": "execute_result"
    }
   ],
   "source": [
    "\"osman\" not in a"
   ]
  },
  {
   "cell_type": "code",
   "execution_count": 153,
   "id": "80312c0e-8265-404f-9c57-804147d53eae",
   "metadata": {},
   "outputs": [
    {
     "data": {
      "text/plain": [
       "4"
      ]
     },
     "execution_count": 153,
     "metadata": {},
     "output_type": "execute_result"
    }
   ],
   "source": [
    "len(a)"
   ]
  },
  {
   "cell_type": "markdown",
   "id": "832216d7-e67c-42a5-b55b-2ab807e2695f",
   "metadata": {},
   "source": [
    "* Bir sözlüğü listeye çevirdiğimizde sözlüğün anahtar kısmını yazdır."
   ]
  },
  {
   "cell_type": "code",
   "execution_count": 156,
   "id": "9cd334df-6380-40dd-be9b-c737a86cbece",
   "metadata": {},
   "outputs": [
    {
     "name": "stdout",
     "output_type": "stream",
     "text": [
      "['ali', 'veli', 'selami', 'fatma']\n"
     ]
    }
   ],
   "source": [
    "a={'ali': 10, 'veli': 20, 'selami': 30, 'fatma': 50}\n",
    "list=list(a)\n",
    "print(list)"
   ]
  },
  {
   "cell_type": "markdown",
   "id": "85cc175b-74e7-4b8e-8dbe-c2b0e3587e99",
   "metadata": {},
   "source": [
    "* Sözlükler değişebilirdir.Yani mutable dır.\n",
    "* Bir sözlükte anahtar tektir(unique).\n",
    "* Sözlüğe aynı anahtar eklenirse bu var olan anahtarın değerini değiştirmektir."
   ]
  },
  {
   "cell_type": "code",
   "execution_count": 193,
   "id": "332d7a34-2b51-4290-9bb9-24661ef65a69",
   "metadata": {},
   "outputs": [
    {
     "name": "stdout",
     "output_type": "stream",
     "text": [
      "{'ali': 10, 'veli': 20, 'selami': 30, 'fatma': 50}\n"
     ]
    }
   ],
   "source": [
    "a={'ali': 10, 'veli': 20, 'selami': 30, 'fatma': 50}\n",
    "print(a)"
   ]
  },
  {
   "cell_type": "code",
   "execution_count": 195,
   "id": "ed803519-c4c1-4b2c-8e77-90ca8965fe9f",
   "metadata": {},
   "outputs": [
    {
     "name": "stdout",
     "output_type": "stream",
     "text": [
      "{'ali': 40, 'veli': 20, 'selami': 30, 'fatma': 50}\n"
     ]
    }
   ],
   "source": [
    "a={'ali': 10, 'veli': 20, 'selami': 30, 'fatma': 50,'ali': 40}\n",
    "print(a)"
   ]
  },
  {
   "cell_type": "markdown",
   "id": "8f9fd465-1882-4953-ad18-6ce68e2b2a2e",
   "metadata": {},
   "source": [
    "* Sözlüğe yeni bir anahtar değer eklemenin en kolay yolu aşağıdaki gibidir;\n",
    "* * d[key]=value"
   ]
  },
  {
   "cell_type": "code",
   "execution_count": 197,
   "id": "4f3a558e-551d-4264-9782-c52e34837422",
   "metadata": {},
   "outputs": [
    {
     "name": "stdout",
     "output_type": "stream",
     "text": [
      "{'ali': 40, 'veli': 20, 'selami': 30, 'fatma': 50, 'kaan': 100}\n"
     ]
    }
   ],
   "source": [
    "#Yeni bir şey eklemek için;\n",
    "a[\"kaan\"]=100\n",
    "print(a)"
   ]
  },
  {
   "cell_type": "markdown",
   "id": "84301ef2-bd13-457f-8542-17e095bb2d31",
   "metadata": {},
   "source": [
    "* Birden fazla anahtar değer eklemek için update metodunu kullanabiliriz.\n"
   ]
  },
  {
   "cell_type": "code",
   "execution_count": 199,
   "id": "13957755-1848-471d-a6c8-1baaf6bef33f",
   "metadata": {},
   "outputs": [
    {
     "name": "stdout",
     "output_type": "stream",
     "text": [
      "{'ali': 40, 'veli': 20, 'selami': 30, 'fatma': 50, 'kaan': 100, 'hüseyin': 120, 'rasim': 510}\n"
     ]
    }
   ],
   "source": [
    "a.update([(\"hüseyin\",120),(\"rasim\",510)])\n",
    "print(a)"
   ]
  },
  {
   "cell_type": "markdown",
   "id": "15702a98-bc70-4f52-b06d-1f37f1f43de0",
   "metadata": {},
   "source": [
    "* Bir sözlükten anahtar:değer çiftini silmek için **pop** metodu kullanılır.\n",
    "* Pop bizden anahtarı alır,anahtar ve değeri siler."
   ]
  },
  {
   "cell_type": "code",
   "execution_count": 201,
   "id": "d757168f-9c4c-4ef4-807b-26f6be62095a",
   "metadata": {},
   "outputs": [
    {
     "name": "stdout",
     "output_type": "stream",
     "text": [
      "{'ali': 40, 'veli': 20, 'selami': 30, 'fatma': 50, 'kaan': 100, 'hüseyin': 120, 'rasim': 510}\n"
     ]
    }
   ],
   "source": [
    "print(a)"
   ]
  },
  {
   "cell_type": "code",
   "execution_count": 205,
   "id": "93b931bc-74c1-406e-9f9b-948ca6ea865f",
   "metadata": {},
   "outputs": [
    {
     "name": "stdout",
     "output_type": "stream",
     "text": [
      "40\n"
     ]
    }
   ],
   "source": [
    "val=a.pop(\"ali\")\n",
    "print(val)"
   ]
  },
  {
   "cell_type": "code",
   "execution_count": 207,
   "id": "37667ff8-0cfa-4fba-80db-c0832c4ca865",
   "metadata": {},
   "outputs": [
    {
     "name": "stdout",
     "output_type": "stream",
     "text": [
      "{'veli': 20, 'selami': 30, 'fatma': 50, 'kaan': 100, 'hüseyin': 120, 'rasim': 510}\n"
     ]
    }
   ],
   "source": [
    "print(a)"
   ]
  },
  {
   "cell_type": "code",
   "execution_count": 209,
   "id": "368e0a76-450a-43c0-afa9-dedf675bd464",
   "metadata": {},
   "outputs": [
    {
     "name": "stdout",
     "output_type": "stream",
     "text": [
      "20\n"
     ]
    }
   ],
   "source": [
    "#2.argümanı silmez.\n",
    "val=a.pop(\"veli\",\"selami\")\n",
    "print(val)"
   ]
  },
  {
   "cell_type": "code",
   "execution_count": 211,
   "id": "9abea9da-f04a-463f-96e2-e96d2e6f5bef",
   "metadata": {},
   "outputs": [
    {
     "name": "stdout",
     "output_type": "stream",
     "text": [
      "{'selami': 30, 'fatma': 50, 'kaan': 100, 'hüseyin': 120, 'rasim': 510}\n"
     ]
    }
   ],
   "source": [
    "print(a)"
   ]
  },
  {
   "cell_type": "code",
   "execution_count": 213,
   "id": "44a81011-38b7-4557-896d-466e43eae8c5",
   "metadata": {},
   "outputs": [
    {
     "data": {
      "text/plain": [
       "dict_keys(['selami', 'fatma', 'kaan', 'hüseyin', 'rasim'])"
      ]
     },
     "execution_count": 213,
     "metadata": {},
     "output_type": "execute_result"
    }
   ],
   "source": [
    "#Bütün sözlüğün anahtarlarını elde etmek için;\n",
    "a.keys()"
   ]
  },
  {
   "cell_type": "code",
   "execution_count": 217,
   "id": "5783374c-8454-4d45-9ea1-ee167e8c070f",
   "metadata": {},
   "outputs": [
    {
     "data": {
      "text/plain": [
       "dict_values([30, 50, 100, 120, 510])"
      ]
     },
     "execution_count": 217,
     "metadata": {},
     "output_type": "execute_result"
    }
   ],
   "source": [
    "#Bütün sözlüğün değerlerini elde etmek için;\n",
    "a.values()"
   ]
  }
 ],
 "metadata": {
  "kernelspec": {
   "display_name": "Python 3 (ipykernel)",
   "language": "python",
   "name": "python3"
  },
  "language_info": {
   "codemirror_mode": {
    "name": "ipython",
    "version": 3
   },
   "file_extension": ".py",
   "mimetype": "text/x-python",
   "name": "python",
   "nbconvert_exporter": "python",
   "pygments_lexer": "ipython3",
   "version": "3.12.4"
  }
 },
 "nbformat": 4,
 "nbformat_minor": 5
}
