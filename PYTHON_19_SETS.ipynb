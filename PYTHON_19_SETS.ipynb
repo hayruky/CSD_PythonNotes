{
 "cells": [
  {
   "cell_type": "markdown",
   "id": "11212272-ee6e-4629-8a8f-c628bd160679",
   "metadata": {},
   "source": [
    "### 19.DERS-Set(küme)"
   ]
  },
  {
   "cell_type": "markdown",
   "id": "af33ad9f-01db-4101-8799-55c47eeae260",
   "metadata": {},
   "source": [
    "**SET(KÜME)**"
   ]
  },
  {
   "cell_type": "markdown",
   "id": "b027c90d-e314-459e-8cf2-13dd20c37a85",
   "metadata": {},
   "source": [
    "* Matematikte farklı elemanların oluşturduğu toplulupa set(küme) denilmektedir.\n",
    "* Bir küme \"küme parantezleri içerisinde \" eleman listesi girilerek oluşturulmaktadır."
   ]
  },
  {
   "cell_type": "code",
   "execution_count": 15,
   "id": "12c21c97-e51f-4697-ae64-c907e40b0eda",
   "metadata": {},
   "outputs": [
    {
     "name": "stdout",
     "output_type": "stream",
     "text": [
      "{'ali', 'veli', 3.4, 100}\n",
      "<class 'set'>\n"
     ]
    }
   ],
   "source": [
    "#Örneğin:\n",
    "s={\"ali\",\"veli\",100,3.4}\n",
    "print(s)\n",
    "print(type(s))\n",
    "#Print ile yazdrıdığımda benim yazdığım sırayla yazdırmadı."
   ]
  },
  {
   "cell_type": "markdown",
   "id": "d706f1e2-a499-41f1-877b-65943dd04ff5",
   "metadata": {},
   "source": [
    "* Kümelerde elemanlar arasında öncelik ilişkisi yoktur.Yani kümelerde bir sıra yoktur.\n",
    "* Dolayısıyla küme elemanlarına [..] operatörüyle erişemeyiz.\n",
    "* Küme elemanlarını dilimleyemeyiz."
   ]
  },
  {
   "cell_type": "code",
   "execution_count": 17,
   "id": "40443366-064c-4725-beeb-532f56a927e9",
   "metadata": {},
   "outputs": [
    {
     "ename": "TypeError",
     "evalue": "'set' object is not subscriptable",
     "output_type": "error",
     "traceback": [
      "\u001b[1;31m---------------------------------------------------------------------------\u001b[0m",
      "\u001b[1;31mTypeError\u001b[0m                                 Traceback (most recent call last)",
      "Cell \u001b[1;32mIn[17], line 1\u001b[0m\n\u001b[1;32m----> 1\u001b[0m s[\u001b[38;5;241m1\u001b[39m]\n",
      "\u001b[1;31mTypeError\u001b[0m: 'set' object is not subscriptable"
     ]
    }
   ],
   "source": [
    "s[1]"
   ]
  },
  {
   "cell_type": "code",
   "execution_count": 21,
   "id": "0803491c-98ae-4251-bd8e-f40bf9fe1440",
   "metadata": {},
   "outputs": [
    {
     "ename": "TypeError",
     "evalue": "'set' object is not subscriptable",
     "output_type": "error",
     "traceback": [
      "\u001b[1;31m---------------------------------------------------------------------------\u001b[0m",
      "\u001b[1;31mTypeError\u001b[0m                                 Traceback (most recent call last)",
      "Cell \u001b[1;32mIn[21], line 1\u001b[0m\n\u001b[1;32m----> 1\u001b[0m s[\u001b[38;5;241m1\u001b[39m:\u001b[38;5;241m3\u001b[39m]\n",
      "\u001b[1;31mTypeError\u001b[0m: 'set' object is not subscriptable"
     ]
    }
   ],
   "source": [
    "s[1:3]"
   ]
  },
  {
   "cell_type": "markdown",
   "id": "a2455c90-0e17-4502-8e7f-49c4ec355768",
   "metadata": {},
   "source": [
    "* Bir kümeye zaten onda var olan bir elemanı eklemeye çalışmak expection oluşturmaz.\n",
    "* Eleman ekleneceği zaman eleman zaten varsa eklenmez.\n",
    "* Dolayısıyla aşağıdaki küme oluşturma işlemi tamamen geçerlidir.\n",
    "* Kümeler aynı rlrmanı tutamadığından dolayı yinelenenleri ortadan kaldırmak için sıklıkla kullanılmaktadır."
   ]
  },
  {
   "cell_type": "code",
   "execution_count": 38,
   "id": "91044141-4aa5-4f78-aeb0-b39e7cf21fcb",
   "metadata": {},
   "outputs": [
    {
     "name": "stdout",
     "output_type": "stream",
     "text": [
      "{50, 20, 40, 10, 30}\n"
     ]
    }
   ],
   "source": [
    "s={10,10,20,30,20,40,50,40,10,30,20}\n",
    "print(s)"
   ]
  },
  {
   "cell_type": "markdown",
   "id": "48d41e14-6162-403d-b14f-af4e0998884f",
   "metadata": {},
   "source": [
    "* Boş bir küme {} şeklinde oluşturulmaz.\n",
    "  * Buradaki {} ifadesi boş bir küme değil boş bir sözlük(dict) oluşturmaktadır.\n",
    "* Kümeler set isimli sınıfla ifade edilmektedir.\n",
    "* Boş bir kümeyi set() şeklinde oluşturabiliriz."
   ]
  },
  {
   "cell_type": "code",
   "execution_count": 41,
   "id": "3e00ffc6-a20a-471b-9dcb-aba1c71d9ae8",
   "metadata": {},
   "outputs": [
    {
     "data": {
      "text/plain": [
       "dict"
      ]
     },
     "execution_count": 41,
     "metadata": {},
     "output_type": "execute_result"
    }
   ],
   "source": [
    "#Boş bir sözlük oluşturalım.\n",
    "s={}\n",
    "type(s)"
   ]
  },
  {
   "cell_type": "code",
   "execution_count": 43,
   "id": "2235cf04-9267-489a-b61f-70724ba0c321",
   "metadata": {},
   "outputs": [
    {
     "data": {
      "text/plain": [
       "set"
      ]
     },
     "execution_count": 43,
     "metadata": {},
     "output_type": "execute_result"
    }
   ],
   "source": [
    "s={10}\n",
    "type(s)"
   ]
  },
  {
   "cell_type": "code",
   "execution_count": 49,
   "id": "511d3b81-4308-4225-a036-ffa282dc4577",
   "metadata": {},
   "outputs": [
    {
     "data": {
      "text/plain": [
       "set"
      ]
     },
     "execution_count": 49,
     "metadata": {},
     "output_type": "execute_result"
    }
   ],
   "source": [
    "#Boş bir küme oluşturalım.\n",
    "s=set()\n",
    "type(s)"
   ]
  },
  {
   "cell_type": "code",
   "execution_count": 51,
   "id": "09306df5-5bbe-4f90-a0a0-1d0a18cc099f",
   "metadata": {},
   "outputs": [
    {
     "data": {
      "text/plain": [
       "0"
      ]
     },
     "execution_count": 51,
     "metadata": {},
     "output_type": "execute_result"
    }
   ],
   "source": [
    "len(s)"
   ]
  },
  {
   "cell_type": "code",
   "execution_count": 53,
   "id": "621e6b17-6aec-4599-a574-7a17933d3ac5",
   "metadata": {},
   "outputs": [
    {
     "name": "stdout",
     "output_type": "stream",
     "text": [
      "{0, 1, 2, 3, 4, 5, 6, 7, 8, 9}\n"
     ]
    }
   ],
   "source": [
    "s=set(range(10))\n",
    "print(s)"
   ]
  },
  {
   "cell_type": "code",
   "execution_count": 57,
   "id": "446229c8-c2cc-43ec-a227-05e10b950057",
   "metadata": {},
   "outputs": [
    {
     "name": "stdout",
     "output_type": "stream",
     "text": [
      "{'a', 'n', 'k', 'r'}\n"
     ]
    }
   ],
   "source": [
    "s=set(\"ankara\")\n",
    "print(s)"
   ]
  },
  {
   "cell_type": "code",
   "execution_count": 59,
   "id": "7ef1f90f-397b-48df-95be-8aefdeebeb66",
   "metadata": {},
   "outputs": [
    {
     "data": {
      "text/plain": [
       "True"
      ]
     },
     "execution_count": 59,
     "metadata": {},
     "output_type": "execute_result"
    }
   ],
   "source": [
    "#İn ve not in kullanılabilir.\n",
    "\"a\" in s"
   ]
  },
  {
   "cell_type": "code",
   "execution_count": 61,
   "id": "5d41b59d-e2d8-49ae-bf0b-f1cbb8e41322",
   "metadata": {},
   "outputs": [
    {
     "data": {
      "text/plain": [
       "False"
      ]
     },
     "execution_count": 61,
     "metadata": {},
     "output_type": "execute_result"
    }
   ],
   "source": [
    "\"i\" in s "
   ]
  },
  {
   "cell_type": "code",
   "execution_count": 63,
   "id": "ec0350bf-bbfe-4e61-9a69-e27cb317ae3d",
   "metadata": {},
   "outputs": [
    {
     "data": {
      "text/plain": [
       "True"
      ]
     },
     "execution_count": 63,
     "metadata": {},
     "output_type": "execute_result"
    }
   ],
   "source": [
    "\"i\" not in s"
   ]
  },
  {
   "cell_type": "markdown",
   "id": "590545c8-6e72-45f8-aa4e-67756614784e",
   "metadata": {},
   "source": [
    "* set elemanlarının hashlenebilir olması gerekmektedir.\n",
    "* Dolayısıyla list,set gibi elemanları ekleyemeyiz.\n",
    "* Tuple hashlenebilirdir dolayısıyla kullanılabilir.\n",
    "  "
   ]
  },
  {
   "cell_type": "code",
   "execution_count": 71,
   "id": "6fa6e9d0-a397-4263-9d20-9cf9aa99c8ab",
   "metadata": {},
   "outputs": [
    {
     "ename": "TypeError",
     "evalue": "unhashable type: 'list'",
     "output_type": "error",
     "traceback": [
      "\u001b[1;31m---------------------------------------------------------------------------\u001b[0m",
      "\u001b[1;31mTypeError\u001b[0m                                 Traceback (most recent call last)",
      "Cell \u001b[1;32mIn[71], line 1\u001b[0m\n\u001b[1;32m----> 1\u001b[0m a\u001b[38;5;241m=\u001b[39m{[\u001b[38;5;241m12\u001b[39m,\u001b[38;5;241m12\u001b[39m],\u001b[38;5;241m2\u001b[39m}\n\u001b[0;32m      2\u001b[0m \u001b[38;5;28mprint\u001b[39m(a)\n",
      "\u001b[1;31mTypeError\u001b[0m: unhashable type: 'list'"
     ]
    }
   ],
   "source": [
    "a={[12,12],2}\n",
    "print(a)"
   ]
  },
  {
   "cell_type": "code",
   "execution_count": 69,
   "id": "8a8be423-23c2-44ec-92fe-2dac92a2e88b",
   "metadata": {},
   "outputs": [
    {
     "ename": "TypeError",
     "evalue": "unhashable type: 'set'",
     "output_type": "error",
     "traceback": [
      "\u001b[1;31m---------------------------------------------------------------------------\u001b[0m",
      "\u001b[1;31mTypeError\u001b[0m                                 Traceback (most recent call last)",
      "Cell \u001b[1;32mIn[69], line 1\u001b[0m\n\u001b[1;32m----> 1\u001b[0m a\u001b[38;5;241m=\u001b[39m{{\u001b[38;5;241m12\u001b[39m,\u001b[38;5;241m13\u001b[39m,\u001b[38;5;241m14\u001b[39m},\u001b[38;5;241m7\u001b[39m,\u001b[38;5;241m8\u001b[39m}\n\u001b[0;32m      2\u001b[0m \u001b[38;5;28mprint\u001b[39m(a)\n",
      "\u001b[1;31mTypeError\u001b[0m: unhashable type: 'set'"
     ]
    }
   ],
   "source": [
    "a={{12,13,14},7,8}\n",
    "print(a)"
   ]
  },
  {
   "cell_type": "code",
   "execution_count": 75,
   "id": "011ae9f0-248d-47e7-a103-53e925c3bc52",
   "metadata": {},
   "outputs": [
    {
     "name": "stdout",
     "output_type": "stream",
     "text": [
      "{8, (12, 13, 14), 7}\n"
     ]
    }
   ],
   "source": [
    "a={(12,13,14),7,8}\n",
    "print(a)"
   ]
  },
  {
   "cell_type": "markdown",
   "id": "43700aa6-e629-4a5f-a32f-c3a08c54538f",
   "metadata": {},
   "source": [
    "* Bir kümeye bir eleman yerleştirilirken önce hash değeri elde edilmektedir.\n",
    "* Eğer o hash değerine sahip eleman zaten kümede varsa ekleme yapılmaz.\n",
    "* Bir nesnenin hash değeri **hash()** isimli built-in fonksiyonla elde edilmektedir.\n",
    "* int bir nesnenin hash değeri ilgili int değerdir.\n",
    "* Python'da bool değerlerden hash değeri elde edilirken True için 1,False için 0 değeri elde edilmektedir."
   ]
  },
  {
   "cell_type": "code",
   "execution_count": 90,
   "id": "47f6a84c-f19f-4e7a-a3cf-6ea61809fb14",
   "metadata": {},
   "outputs": [
    {
     "data": {
      "text/plain": [
       "1234"
      ]
     },
     "execution_count": 90,
     "metadata": {},
     "output_type": "execute_result"
    }
   ],
   "source": [
    "#int bir nesnenin hash değeri ilgili int değerdir.\n",
    "a=1234\n",
    "hash(a)"
   ]
  },
  {
   "cell_type": "code",
   "execution_count": 81,
   "id": "07e715fe-4156-4f8f-bb15-fbce16767d5c",
   "metadata": {},
   "outputs": [
    {
     "data": {
      "text/plain": [
       "1"
      ]
     },
     "execution_count": 81,
     "metadata": {},
     "output_type": "execute_result"
    }
   ],
   "source": [
    "#Pyhthon'da bool değerlerden hash değeri elde edilirken True için 1.\n",
    "b=True\n",
    "hash(b)"
   ]
  },
  {
   "cell_type": "code",
   "execution_count": 99,
   "id": "a802cd52-baff-4566-9478-229163bca5ff",
   "metadata": {},
   "outputs": [
    {
     "data": {
      "text/plain": [
       "0"
      ]
     },
     "execution_count": 99,
     "metadata": {},
     "output_type": "execute_result"
    }
   ],
   "source": [
    "#False için 0 değeri elde edilmektedir.\n",
    "b=False\n",
    "hash(b)"
   ]
  },
  {
   "cell_type": "markdown",
   "id": "1d8bada7-1233-4f42-8f8b-4adb52502192",
   "metadata": {},
   "source": [
    "* Dolayısıyla bool bir değeri küme elemanı yaparken hash değeri kullanılcağı için dikkat etmek gerekir."
   ]
  },
  {
   "cell_type": "code",
   "execution_count": 102,
   "id": "66066658-d2f9-4373-ba15-812ce96cd4ef",
   "metadata": {},
   "outputs": [
    {
     "name": "stdout",
     "output_type": "stream",
     "text": [
      "{'ali', True}\n"
     ]
    }
   ],
   "source": [
    "s={\"ali\",True}\n",
    "print(s)"
   ]
  },
  {
   "cell_type": "code",
   "execution_count": 104,
   "id": "c983eb1e-6885-4f84-a6a5-f0d10491aad7",
   "metadata": {},
   "outputs": [
    {
     "name": "stdout",
     "output_type": "stream",
     "text": [
      "{'ali', True}\n"
     ]
    }
   ],
   "source": [
    "s={\"ali\",True,1}\n",
    "print(s)"
   ]
  },
  {
   "cell_type": "code",
   "execution_count": 112,
   "id": "82acf107-832d-4f3e-843b-4ac2e1c3c5c9",
   "metadata": {},
   "outputs": [
    {
     "name": "stdout",
     "output_type": "stream",
     "text": [
      "{'ali', 1}\n"
     ]
    }
   ],
   "source": [
    "#Aynı durum float ve int nesneler için de geçerlidir.\n",
    "s={\"ali\",1,1.0,True}\n",
    "print(s)"
   ]
  },
  {
   "cell_type": "markdown",
   "id": "5ba8cf35-fef3-4c1d-b992-29e815b2bef7",
   "metadata": {},
   "source": [
    "**EKLEMEK İÇİN**\n",
    "\n",
    "* Kümeye tek bir eleman ekleyebilmek için **\"s.add()\"** kullanılır.\n",
    "* Kümeye bir grup  eleman ekleyebilmek için **\"s.update(iterable)\"** kullanılır.\n",
    "  \n",
    "**SİLMEK İÇİN**\n",
    "  \n",
    "* Kümeden bir elemanı silmek için **\"s.remove()\"** kullanılır.\n",
    "* Kümeden bir elemanı silmek için **\"s.discard()\"** kullanılır.\n",
    "   * Farkı ise eğer yazdığımız eleman küme içinde yoksa bile expection oluşmaz.\n",
    "* Kümeden bir elemanı rasgele  silmek için **\"s.pop()\"** kullanılır.Ve yazdırıldığında silinen elemanı verir.\n",
    "* Kümeden tüm elemanları silmek için **\"s.clear()\"** kullanılır."
   ]
  },
  {
   "cell_type": "code",
   "execution_count": 129,
   "id": "48eb794c-0b35-4326-890a-b660989b2085",
   "metadata": {},
   "outputs": [
    {
     "name": "stdout",
     "output_type": "stream",
     "text": [
      "{1, 2, 3}\n"
     ]
    }
   ],
   "source": [
    "#add\n",
    "s={1,2,3}\n",
    "print(s)"
   ]
  },
  {
   "cell_type": "code",
   "execution_count": 125,
   "id": "f845e3ad-b80f-4994-9192-848136100073",
   "metadata": {},
   "outputs": [
    {
     "name": "stdout",
     "output_type": "stream",
     "text": [
      "{1, 2, 3, (4, 5, 6)}\n"
     ]
    }
   ],
   "source": [
    "s.add((4,5,6))\n",
    "print(s)"
   ]
  },
  {
   "cell_type": "code",
   "execution_count": 133,
   "id": "1afe2fb6-2705-4165-a3a5-227eefd8381c",
   "metadata": {},
   "outputs": [
    {
     "name": "stdout",
     "output_type": "stream",
     "text": [
      "{10, 20, 30}\n"
     ]
    }
   ],
   "source": [
    "#update\n",
    "s={10,20,30}\n",
    "print(s)"
   ]
  },
  {
   "cell_type": "code",
   "execution_count": 142,
   "id": "24f05859-e512-4f0f-b1ab-fa4bc17b4b83",
   "metadata": {},
   "outputs": [
    {
     "name": "stdout",
     "output_type": "stream",
     "text": [
      "{100, 200, 10, 20, 30}\n"
     ]
    }
   ],
   "source": [
    "s.update([100,200])\n",
    "print(s)"
   ]
  },
  {
   "cell_type": "code",
   "execution_count": 144,
   "id": "bfac42c6-576e-47d0-89c0-3aa1e541e4cf",
   "metadata": {},
   "outputs": [
    {
     "name": "stdout",
     "output_type": "stream",
     "text": [
      "{0, 1, 2, 3, 100, 4, 5, 6, 200, 7, 10, 8, 9, 20, 30}\n"
     ]
    }
   ],
   "source": [
    "s.update(range(10))\n",
    "print(s)"
   ]
  },
  {
   "cell_type": "code",
   "execution_count": 149,
   "id": "135a13ca-8993-4841-ae0a-691746e722b7",
   "metadata": {},
   "outputs": [
    {
     "name": "stdout",
     "output_type": "stream",
     "text": [
      "{200, 100, 300}\n",
      "{200, 300}\n"
     ]
    }
   ],
   "source": [
    "#remove\n",
    "s={100,200,300}\n",
    "print(s)\n",
    "s.remove(100)\n",
    "print(s)"
   ]
  },
  {
   "cell_type": "code",
   "execution_count": 151,
   "id": "9c893781-5fa9-4e54-93fa-255f04787540",
   "metadata": {},
   "outputs": [
    {
     "ename": "KeyError",
     "evalue": "500",
     "output_type": "error",
     "traceback": [
      "\u001b[1;31m---------------------------------------------------------------------------\u001b[0m",
      "\u001b[1;31mKeyError\u001b[0m                                  Traceback (most recent call last)",
      "Cell \u001b[1;32mIn[151], line 1\u001b[0m\n\u001b[1;32m----> 1\u001b[0m s\u001b[38;5;241m.\u001b[39mremove(\u001b[38;5;241m500\u001b[39m)\n\u001b[0;32m      2\u001b[0m \u001b[38;5;28mprint\u001b[39m(s)\n",
      "\u001b[1;31mKeyError\u001b[0m: 500"
     ]
    }
   ],
   "source": [
    "s.remove(500)\n",
    "print(s)"
   ]
  },
  {
   "cell_type": "code",
   "execution_count": 155,
   "id": "79e62fbf-c0ba-4337-9fec-6f9db1593ea4",
   "metadata": {},
   "outputs": [
    {
     "name": "stdout",
     "output_type": "stream",
     "text": [
      "{200, 300}\n"
     ]
    }
   ],
   "source": [
    "s.discard(500)\n",
    "print(s)"
   ]
  },
  {
   "cell_type": "code",
   "execution_count": 161,
   "id": "e3cc645f-a0da-4679-8dfd-5005fd9d4592",
   "metadata": {},
   "outputs": [
    {
     "name": "stdout",
     "output_type": "stream",
     "text": [
      "{2, 3, 4}\n",
      "1\n"
     ]
    }
   ],
   "source": [
    "#pop\n",
    "s={1,2,3,4}\n",
    "val=s.pop()\n",
    "print(s)\n",
    "print(val)"
   ]
  },
  {
   "cell_type": "code",
   "execution_count": 165,
   "id": "9fcf6326-5431-46ff-ab62-26ea4ac71376",
   "metadata": {},
   "outputs": [
    {
     "name": "stdout",
     "output_type": "stream",
     "text": [
      "set()\n"
     ]
    }
   ],
   "source": [
    "#clear\n",
    "s={1,2,3,4}\n",
    "s.clear()\n",
    "print(s)"
   ]
  },
  {
   "cell_type": "markdown",
   "id": "0f311727-7809-42b0-b52d-02e8e302e9bd",
   "metadata": {},
   "source": [
    "**SORU-1:**\n",
    "Bir listede yinelenen öğelerden nasıl kurtulacaksınız?"
   ]
  },
  {
   "cell_type": "code",
   "execution_count": 176,
   "id": "85f33172-0367-4401-8edc-434cc355dbf2",
   "metadata": {},
   "outputs": [
    {
     "name": "stdout",
     "output_type": "stream",
     "text": [
      "a1: [1, 1, 2, 2, 3, 4, 5, 5]\n",
      "a2: {1, 2, 3, 4, 5}\n",
      "a3: [1, 2, 3, 4, 5]\n"
     ]
    }
   ],
   "source": [
    "#Cevap:\n",
    "#Elimde aşağıdaki gibi bir liste olsun:\n",
    "a=[1,1,2,2,3,4,5,5]\n",
    "print(\"a1:\",a)\n",
    "#Yinelenen öğelerden kurtulmak için list'i set'e dönüştürmem gerek.\n",
    "a=set(a)\n",
    "print(\"a2:\",a)\n",
    "#Daha sonra oluşturduğum seti tekrar listeye dönüştürmeliyim.\n",
    "a=list(a)\n",
    "print(\"a3:\",a)"
   ]
  },
  {
   "cell_type": "markdown",
   "id": "99163ec2-43f0-4310-a412-4b9e4626d3ac",
   "metadata": {},
   "source": [
    "**KESİŞİM(İNTERSECTİON):** Ortak elemanları yazdırmak için kullanılır.Birden fazla argüman da verilebilir.\n",
    "* 1) **c=a.intersection(b)**\n",
    "  2) **c=a&b**\n",
    "\n",
    "işlemleri aynı sonucu verecektir. \n",
    "\n"
   ]
  },
  {
   "cell_type": "code",
   "execution_count": 185,
   "id": "f632c698-22ed-49b6-a196-f88f10976c32",
   "metadata": {},
   "outputs": [
    {
     "name": "stdout",
     "output_type": "stream",
     "text": [
      "{1, 18, 4, 7, 'ali', 9, 'veli'}\n",
      "{16, 7, 9, 'veli', 28}\n"
     ]
    }
   ],
   "source": [
    "s={1,4,\"ali\",7,\"veli\",18,9}\n",
    "k={7,16,\"veli\",9,28}\n",
    "print(s)\n",
    "print(k)"
   ]
  },
  {
   "cell_type": "code",
   "execution_count": 187,
   "id": "efa5c9e4-c4b1-4de5-9e37-e31917fe8858",
   "metadata": {},
   "outputs": [
    {
     "name": "stdout",
     "output_type": "stream",
     "text": [
      "{9, 'veli', 7}\n"
     ]
    }
   ],
   "source": [
    "#1) c=a.intersection(b)\n",
    "result=s.intersection(k)\n",
    "print(result)"
   ]
  },
  {
   "cell_type": "code",
   "execution_count": 194,
   "id": "6ad1716b-c7a7-4f33-b475-39e46876b7cb",
   "metadata": {},
   "outputs": [
    {
     "name": "stdout",
     "output_type": "stream",
     "text": [
      "{9, 'veli', 7}\n"
     ]
    }
   ],
   "source": [
    "#2) c=a&b\n",
    "result_1=s&k\n",
    "print(result_1)"
   ]
  },
  {
   "cell_type": "markdown",
   "id": "134d3c98-382d-47da-b59e-7465b1aa2fe3",
   "metadata": {},
   "source": [
    "**BİRLEŞİM(UNİON):**\n",
    "* 1) **a=s.union(iterable)**\n",
    "  2) **a=s|k**\n",
    "\n",
    "işlemleri aynı sonucu verecektir."
   ]
  },
  {
   "cell_type": "code",
   "execution_count": 199,
   "id": "f45ca553-a9d6-4c36-a594-68246827c078",
   "metadata": {},
   "outputs": [
    {
     "name": "stdout",
     "output_type": "stream",
     "text": [
      "{1, 2, 3, 4, 5}\n",
      "{2, 3, 5, 7}\n"
     ]
    }
   ],
   "source": [
    "a={1,2,3,4,5}\n",
    "b={5,7,3,2}\n",
    "print(a)\n",
    "print(b)"
   ]
  },
  {
   "cell_type": "code",
   "execution_count": 201,
   "id": "51d71029-d43e-4067-8db7-328641af572f",
   "metadata": {},
   "outputs": [
    {
     "name": "stdout",
     "output_type": "stream",
     "text": [
      "{1, 2, 3, 4, 5, 7}\n"
     ]
    }
   ],
   "source": [
    "# a=s.union(iterable)\n",
    "c=a.union(b)\n",
    "print(c)"
   ]
  },
  {
   "cell_type": "code",
   "execution_count": 205,
   "id": "39e09e7d-cc8f-42b3-bdd8-3b8ae8c159f3",
   "metadata": {},
   "outputs": [
    {
     "name": "stdout",
     "output_type": "stream",
     "text": [
      "{1, 2, 3, 4, 5, 7}\n"
     ]
    }
   ],
   "source": [
    "#a=s|k\n",
    "c=a|b\n",
    "print(c)"
   ]
  },
  {
   "cell_type": "markdown",
   "id": "51fef2fa-92c5-4882-9367-9ba5ebd83c53",
   "metadata": {},
   "source": [
    "**FARK(DİFFERENCE):**\n",
    "* 1) **result=a-b**\n",
    "  2) **result=a.difference(b)**"
   ]
  },
  {
   "cell_type": "code",
   "execution_count": 208,
   "id": "44297764-b117-4a76-823d-4f7aef35040d",
   "metadata": {},
   "outputs": [
    {
     "name": "stdout",
     "output_type": "stream",
     "text": [
      "{1, 2, 3, 4, 5}\n",
      "{2, 3, 5, 7}\n"
     ]
    }
   ],
   "source": [
    "a={1,2,3,4,5}\n",
    "b={5,7,3,2}\n",
    "print(a)\n",
    "print(b)"
   ]
  },
  {
   "cell_type": "code",
   "execution_count": 210,
   "id": "91c4d5b4-7cd9-4f89-a9c6-b9fa99031a29",
   "metadata": {},
   "outputs": [
    {
     "name": "stdout",
     "output_type": "stream",
     "text": [
      "{1, 4}\n"
     ]
    }
   ],
   "source": [
    "#result=a-b\n",
    "result=a-b\n",
    "print(result)"
   ]
  },
  {
   "cell_type": "code",
   "execution_count": 212,
   "id": "b10fdf41-3fbe-4e27-a0bd-e686ed4a1c90",
   "metadata": {},
   "outputs": [
    {
     "name": "stdout",
     "output_type": "stream",
     "text": [
      "{1, 4}\n"
     ]
    }
   ],
   "source": [
    "#result=a.difference(b)\n",
    "result=a.difference(b)\n",
    "print(result)"
   ]
  },
  {
   "cell_type": "code",
   "execution_count": null,
   "id": "3db42d39-212f-4819-806a-eabd2be059ac",
   "metadata": {},
   "outputs": [],
   "source": [
    "\n"
   ]
  }
 ],
 "metadata": {
  "kernelspec": {
   "display_name": "Python 3 (ipykernel)",
   "language": "python",
   "name": "python3"
  },
  "language_info": {
   "codemirror_mode": {
    "name": "ipython",
    "version": 3
   },
   "file_extension": ".py",
   "mimetype": "text/x-python",
   "name": "python",
   "nbconvert_exporter": "python",
   "pygments_lexer": "ipython3",
   "version": "3.12.4"
  }
 },
 "nbformat": 4,
 "nbformat_minor": 5
}
