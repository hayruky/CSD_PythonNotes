{
 "cells": [
  {
   "cell_type": "markdown",
   "id": "77532914-20ed-474c-9594-e2e58b393d45",
   "metadata": {},
   "source": [
    "### 17.DERS-Lists/Tuples(Demetler)"
   ]
  },
  {
   "cell_type": "markdown",
   "id": "db37acfc-8b97-4d9f-8c55-322e841d3a7c",
   "metadata": {},
   "source": [
    "* ***Bir liste int bir değerle çarpılabilir.(iki liste çarpılmaz,bölünmez ve çıkartılamaz.Ayrıca bir liste int değerle toplanamaz ve bölünemez.)***\n",
    " \n",
    "* ***Bu işleme \"yineleme(repitition)\" denilmektedir.***"
   ]
  },
  {
   "cell_type": "code",
   "execution_count": 12,
   "id": "8984d00e-24e7-4181-af0b-7bdb3de509d3",
   "metadata": {},
   "outputs": [
    {
     "name": "stdout",
     "output_type": "stream",
     "text": [
      "[1, 2, 3, 4, 5, 1, 2, 3, 4, 5, 1, 2, 3, 4, 5]\n"
     ]
    }
   ],
   "source": [
    "a=[1,2,3,4,5]\n",
    "b=a*3 \n",
    "print(b)\n",
    "# bu işlem b=a+a+a işlemine eşittir."
   ]
  },
  {
   "cell_type": "code",
   "execution_count": 18,
   "id": "05595c3b-d793-4859-bb6c-b90e00136b80",
   "metadata": {},
   "outputs": [
    {
     "name": "stdout",
     "output_type": "stream",
     "text": [
      "[1, 2, 3, 4, 5, 1, 2, 3, 4, 5, 1, 2, 3, 4, 5]\n"
     ]
    }
   ],
   "source": [
    "a=[1,2,3,4,5]\n",
    "b=3*a #değişme özelliği kullanılabilir.\n",
    "print(b)\n",
    "# bu işlem b=a+a+a işlemine eşittir."
   ]
  },
  {
   "cell_type": "code",
   "execution_count": 10,
   "id": "617a4f8d-82e6-4cf2-9362-d1d824706fd4",
   "metadata": {},
   "outputs": [
    {
     "name": "stdout",
     "output_type": "stream",
     "text": [
      "[0, 0, 0, 0, 0, 0, 0, 0, 0, 0, 0, 0, 0, 0, 0, 0, 0, 0, 0, 0, 0, 0, 0, 0, 0, 0, 0, 0, 0, 0, 0, 0, 0, 0, 0, 0, 0, 0, 0, 0, 0, 0, 0, 0, 0, 0, 0, 0, 0, 0, 0, 0, 0, 0, 0, 0, 0, 0, 0, 0, 0, 0, 0, 0, 0, 0, 0, 0, 0, 0, 0, 0, 0, 0, 0, 0, 0, 0, 0, 0, 0, 0, 0, 0, 0, 0, 0, 0, 0, 0, 0, 0, 0, 0, 0, 0, 0, 0, 0, 0]\n"
     ]
    }
   ],
   "source": [
    "#İçi sıfırla dolu 100 elemanlı bir liste oluşturalım.\n",
    "a= [0] * 100\n",
    "print(a)"
   ]
  },
  {
   "cell_type": "code",
   "execution_count": 24,
   "id": "93787711-e2f9-4f1e-9b5f-0b81c8820841",
   "metadata": {},
   "outputs": [
    {
     "name": "stdout",
     "output_type": "stream",
     "text": [
      "a= []\n"
     ]
    }
   ],
   "source": [
    "#Listeyi sıfır ile çarparsak boş liste elde ederiz;\n",
    "a=[10,20,30] * 0 \n",
    "print(\"a=\",a)"
   ]
  },
  {
   "cell_type": "code",
   "execution_count": 26,
   "id": "959f2949-1026-45a2-804b-364796f897b2",
   "metadata": {},
   "outputs": [
    {
     "name": "stdout",
     "output_type": "stream",
     "text": [
      "a= []\n"
     ]
    }
   ],
   "source": [
    "#Listeyi negatif bir değerle çarparsak boş liste elde ederiz;\n",
    "a=[10,20,30] * -3\n",
    "print(\"a=\",a)"
   ]
  },
  {
   "cell_type": "markdown",
   "id": "128ba9bf-cf8c-4c82-82c2-52cae4e29182",
   "metadata": {},
   "source": [
    "* Python'da ne zaman köşeli parantez kullanarak liste oluştursak her zaman yeni bir liste yaratılmaktadır.\n",
    "*  list sınıfı değiştirilebilir olduğu için yorumlayıcının tek bir list nesnesi yaratması biçiminde optimizasyon yapılmaz."
   ]
  },
  {
   "cell_type": "code",
   "execution_count": 35,
   "id": "fc4b7597-b1d6-401e-9a57-40847adac0b5",
   "metadata": {},
   "outputs": [
    {
     "name": "stdout",
     "output_type": "stream",
     "text": [
      "2078988949120\n",
      "2078988953472\n",
      "2078988958528\n"
     ]
    }
   ],
   "source": [
    "#Örneğin;\n",
    "a=[1,2,3]\n",
    "b=[1,2,3]\n",
    "c=[1,2,3]\n",
    "print(id(a))\n",
    "print(id(b))\n",
    "print(id(c))\n",
    "#Optimizasyon listelerde sağlanmaz."
   ]
  },
  {
   "cell_type": "markdown",
   "id": "6c11feb6-4059-446e-a7fd-0ca5f61d8024",
   "metadata": {},
   "source": [
    "* Değiştirilemez türlerde yorumlayıcılar böylesi optimizasyonları yapabilmektedir."
   ]
  },
  {
   "cell_type": "code",
   "execution_count": 43,
   "id": "f5e63297-3222-4eed-9c0a-33c84213238c",
   "metadata": {},
   "outputs": [
    {
     "name": "stdout",
     "output_type": "stream",
     "text": [
      "140703640271576\n",
      "140703640271576\n",
      "140703640271576\n"
     ]
    }
   ],
   "source": [
    "#Örneğin;\n",
    "a=10\n",
    "b=10\n",
    "c=10\n",
    "print(id(a))\n",
    "print(id(b))\n",
    "print(id(c))\n",
    "#Optimizasyon bu ifadelerde sağlanır."
   ]
  },
  {
   "cell_type": "markdown",
   "id": "66820ef0-6d5a-4611-87e0-271a4dc15363",
   "metadata": {},
   "source": [
    "* Aşağıdaki örnekte b'nin elamnaları oluşturulurken köşeli parantez kullanılmağına dikkat edininz.\n",
    "* Çünkü her köşeli parantez yeni bir list nesnesinin yaratılmasına yol açmaktadır."
   ]
  },
  {
   "cell_type": "code",
   "execution_count": 67,
   "id": "cc6dfcab-c1e8-495c-96fd-bfe8acad4e48",
   "metadata": {},
   "outputs": [
    {
     "name": "stdout",
     "output_type": "stream",
     "text": [
      "[1, 2]\n",
      "[[1, 2], [1, 2], [1, 2]]\n",
      "2079003038912\n",
      "2079003038912\n",
      "2079003038912\n"
     ]
    }
   ],
   "source": [
    "a=[1,2]\n",
    "b=[a,a,a]\n",
    "print(a)\n",
    "print(b)\n",
    "print(id(b[0]))\n",
    "print(id(b[1]))\n",
    "print(id(b[2]))"
   ]
  },
  {
   "cell_type": "code",
   "execution_count": 75,
   "id": "656aee91-9691-464c-bb4b-d0df9e05edf7",
   "metadata": {},
   "outputs": [
    {
     "name": "stdout",
     "output_type": "stream",
     "text": [
      "[100, 2]\n",
      "[[100, 2], [100, 2], [100, 2]]\n"
     ]
    }
   ],
   "source": [
    "\"\"\"\n",
    "Burada b listesinin her elemanında a listesinin adresi vardır.\n",
    "Biz de a listesinin ilk elemanını değiştirdiğimizde sanki\n",
    "b listesinin elemanı da değişmiş gibi olacaktır.\n",
    "\n",
    "\"\"\"\n",
    "a[0]=100\n",
    "print(a)\n",
    "print(b)"
   ]
  },
  {
   "cell_type": "code",
   "execution_count": 93,
   "id": "bdc445a3-f897-4154-8f0c-0627a3f77648",
   "metadata": {},
   "outputs": [
    {
     "name": "stdout",
     "output_type": "stream",
     "text": [
      "[]\n",
      "[[], [], []]\n"
     ]
    }
   ],
   "source": [
    "a=[] #böyle bir liste oluşuralım.\n",
    "b=[a,a,a] #bir de böyle bir lis oluşturalım.\n",
    "print(a)\n",
    "print(b)\n",
    "\n",
    "#Burada b'nin ilk üç elemanına aslında a listesinin adresi yerleştirilmiştir.\n",
    "#Dolayısıyla b listesinin elemanlarının hepsi aynı a listesini göstermektedir.\n",
    "\n"
   ]
  },
  {
   "cell_type": "code",
   "execution_count": 95,
   "id": "adf8b32f-c51a-4810-9e00-d9990ca73b82",
   "metadata": {},
   "outputs": [
    {
     "name": "stdout",
     "output_type": "stream",
     "text": [
      "[[100], [100], [100]]\n"
     ]
    }
   ],
   "source": [
    "#Şimdi aşağıdaki gibi bir işlem uygulayalım.\n",
    "b[0].append(100)\n",
    "#Biz aslında bu 100 değerini a listesine eklemiş olduk.\n",
    "print(b)"
   ]
  },
  {
   "cell_type": "code",
   "execution_count": 97,
   "id": "47283aa1-04d4-4a31-93a4-f1aceeff6645",
   "metadata": {},
   "outputs": [
    {
     "name": "stdout",
     "output_type": "stream",
     "text": [
      "[100, 200]\n"
     ]
    }
   ],
   "source": [
    "a.append(200)\n",
    "print(a)"
   ]
  },
  {
   "cell_type": "markdown",
   "id": "d39a2c41-ebff-4901-92f2-bf03ce557e5b",
   "metadata": {},
   "source": [
    "* Aşağıdaki örnekte her köşeli parantez yeni bir list nesnesinin yaratılmasına yol açtığına göre burada a listesinin elemanları aslında farklı listelerin adreslerini tutuyor durumdadır.\n"
   ]
  },
  {
   "cell_type": "code",
   "execution_count": 119,
   "id": "37ebe7ed-e4bc-468f-8f3c-389c36b27d58",
   "metadata": {},
   "outputs": [
    {
     "name": "stdout",
     "output_type": "stream",
     "text": [
      "[[], [], []]\n",
      "2079007383680\n",
      "2079007414208\n",
      "2079007389568\n"
     ]
    }
   ],
   "source": [
    "#Örneğin \n",
    "#Burada her köşeli parantez yeni bir listenin yaratılmasına yol açtığı için b'nin elemanları farklı boş listeleri gösterecektir.\n",
    "b=[[],[],[]]\n",
    "print(b)\n",
    "print(id(b[0]))\n",
    "print(id(b[1]))\n",
    "print(id(b[2]))"
   ]
  },
  {
   "cell_type": "code",
   "execution_count": 121,
   "id": "aa170229-c12e-4839-814f-f8a4130c2354",
   "metadata": {},
   "outputs": [
    {
     "name": "stdout",
     "output_type": "stream",
     "text": [
      "[[100], [], []]\n"
     ]
    }
   ],
   "source": [
    "#Bu durumda\n",
    "b[0].append(100)\n",
    "#Gibi bir işlem yaptığımızda bu 100 değeri yalnızca b listesinin ilk elemanında görünecektir.\n",
    "print(b)"
   ]
  },
  {
   "cell_type": "code",
   "execution_count": 127,
   "id": "15dbbfa0-e884-47c1-a060-1848e342a726",
   "metadata": {},
   "outputs": [
    {
     "name": "stdout",
     "output_type": "stream",
     "text": [
      "[[], [], []]\n",
      "[[], [], []]\n",
      "2079007411904\n",
      "2079007411904\n",
      "2079007411904\n"
     ]
    }
   ],
   "source": [
    "#Aşağıdaki kodu inceleyelim\n",
    "a=[[],[],[]]\n",
    "#Burada her köşeli parantez yeni bir listenin yaratılmasına yol açtığı için a'nin elemanları farklı boş listeleri gösterecektir.\n",
    "print(a)\n",
    "#Ancak örneğin;\n",
    "a=[[]] * 3 \n",
    "#Burada yinelemeden dolayı oluşturulan a listesinin elemanları aynı boş listeyi gösterecektir.\n",
    "print(a)\n",
    "#İspatlayalım;\n",
    "print(id(a[0]))\n",
    "print(id(a[1]))\n",
    "print(id(a[2]))"
   ]
  },
  {
   "cell_type": "markdown",
   "id": "770de28c-0cff-427b-98e1-36d2430c01da",
   "metadata": {},
   "source": [
    " * **Şimdi içinde 0 olan 10x10 luk bir matrisi pratik bir yolla oluşturalım.Aşağıdaki gibi bir yöntem isteğimizi tam olarak gerçekleştirmeyecektir.**"
   ]
  },
  {
   "cell_type": "code",
   "execution_count": 33,
   "id": "13341104-f093-47cb-af2f-0d676dcf58af",
   "metadata": {},
   "outputs": [
    {
     "name": "stdout",
     "output_type": "stream",
     "text": [
      "[[0, 0, 0, 0, 0, 0, 0, 0, 0, 0], [0, 0, 0, 0, 0, 0, 0, 0, 0, 0], [0, 0, 0, 0, 0, 0, 0, 0, 0, 0], [0, 0, 0, 0, 0, 0, 0, 0, 0, 0], [0, 0, 0, 0, 0, 0, 0, 0, 0, 0], [0, 0, 0, 0, 0, 0, 0, 0, 0, 0], [0, 0, 0, 0, 0, 0, 0, 0, 0, 0], [0, 0, 0, 0, 0, 0, 0, 0, 0, 0], [0, 0, 0, 0, 0, 0, 0, 0, 0, 0], [0, 0, 0, 0, 0, 0, 0, 0, 0, 0]]\n"
     ]
    }
   ],
   "source": [
    "#Örneğin\n",
    "a=[[0,0,0,0,0,0,0,0,0,0]] * 10\n",
    "print(a)"
   ]
  },
  {
   "cell_type": "markdown",
   "id": "dfc9e22a-1840-48ba-ac9b-412baa0756fd",
   "metadata": {},
   "source": [
    "* **Her ne kadar burada istediğimiz şeyi yapmışız gibi bir durum oluşmuşsa da aslında burada a listesinin içerisinde aynı listenin adresi vardır.Bu durumda bu listenlerin birinin üzerinde yapılan değişiklik diğerlerinin hepsinde görülecektir.**"
   ]
  },
  {
   "cell_type": "code",
   "execution_count": 35,
   "id": "fedcaccb-cb44-4953-a02f-728bae80465e",
   "metadata": {},
   "outputs": [
    {
     "name": "stdout",
     "output_type": "stream",
     "text": [
      "[[100, 0, 0, 0, 0, 0, 0, 0, 0, 0], [100, 0, 0, 0, 0, 0, 0, 0, 0, 0], [100, 0, 0, 0, 0, 0, 0, 0, 0, 0], [100, 0, 0, 0, 0, 0, 0, 0, 0, 0], [100, 0, 0, 0, 0, 0, 0, 0, 0, 0], [100, 0, 0, 0, 0, 0, 0, 0, 0, 0], [100, 0, 0, 0, 0, 0, 0, 0, 0, 0], [100, 0, 0, 0, 0, 0, 0, 0, 0, 0], [100, 0, 0, 0, 0, 0, 0, 0, 0, 0], [100, 0, 0, 0, 0, 0, 0, 0, 0, 0]]\n"
     ]
    }
   ],
   "source": [
    "#Örneğin;\n",
    "a[0][0]=100\n",
    "print(a)"
   ]
  },
  {
   "cell_type": "markdown",
   "id": "03bd8603-a70c-45fe-b543-b8d09f31d850",
   "metadata": {},
   "source": [
    "* **Peki a listesinin her elemanında farklı bir listenin olmasını sağlamanın pratik bir yöntemi var mıdır ? İşte bu işlem ancak bir döngü kullanılarak ya da \"liste içlemi (list comprehesion)\" kullanılarak yapılabilir.**"
   ]
  },
  {
   "cell_type": "markdown",
   "id": "bb0b36ca-dd6e-49d9-8b36-18b9f9de5f6e",
   "metadata": {},
   "source": [
    " * \"*\" operatörü soldan sağa öncelikli olduğuna göre a bir liste olmak üzere aşağıdaki gibi ifade de geçerlidir:"
   ]
  },
  {
   "cell_type": "code",
   "execution_count": 40,
   "id": "d725f196-de36-4790-8c53-aa5c3cca66e4",
   "metadata": {},
   "outputs": [
    {
     "name": "stdout",
     "output_type": "stream",
     "text": [
      "[1, 2, 3, 1, 2, 3, 1, 2, 3, 1, 2, 3, 1, 2, 3, 1, 2, 3]\n"
     ]
    }
   ],
   "source": [
    "# b=a*2*3\n",
    "# Önce a*2 işlemi yapılır,bir liste elde edilir.Elde edilen liste 3 ile çarpılır.\n",
    "#Örneğin;\n",
    "a=[1,2,3]\n",
    "b=a*2*3\n",
    "print(b)\n",
    "#Bu işlem b=3*2*a ile eş değerdir.\n"
   ]
  },
  {
   "cell_type": "markdown",
   "id": "2655d600-5110-4e38-983f-4f97e7bc8e19",
   "metadata": {},
   "source": [
    "* Listelerde **a=a*n** ile a*=n işlemi aynı anlama gelmemektedir.\n",
    "* **a=a*n** işleminde \"a*n\" ile yeni bir liste yaratılır,a artık bu yeni listeyi gösterir.\n",
    "*  a*=n işleminde (n-1) tane a,a'nın sonuna eklenmektedir.\n"
   ]
  },
  {
   "cell_type": "code",
   "execution_count": 48,
   "id": "36f37408-35b3-489c-9682-e1883dfaea6b",
   "metadata": {},
   "outputs": [
    {
     "data": {
      "text/plain": [
       "1884591364800"
      ]
     },
     "execution_count": 48,
     "metadata": {},
     "output_type": "execute_result"
    }
   ],
   "source": [
    "a=[1,2,3]\n",
    "id(a)"
   ]
  },
  {
   "cell_type": "code",
   "execution_count": 50,
   "id": "64729f0d-9550-46bf-9e95-5353d334c10e",
   "metadata": {},
   "outputs": [
    {
     "data": {
      "text/plain": [
       "1884591450496"
      ]
     },
     "execution_count": 50,
     "metadata": {},
     "output_type": "execute_result"
    }
   ],
   "source": [
    "a=a*2\n",
    "id(a)"
   ]
  },
  {
   "cell_type": "code",
   "execution_count": 52,
   "id": "48a0a9f4-7966-462a-942d-c9a7813e2154",
   "metadata": {},
   "outputs": [
    {
     "name": "stdout",
     "output_type": "stream",
     "text": [
      "[1, 2, 3, 1, 2, 3]\n"
     ]
    }
   ],
   "source": [
    "print(a)"
   ]
  },
  {
   "cell_type": "code",
   "execution_count": 72,
   "id": "a552c1f8-9822-45a4-8f7f-bcd57a213281",
   "metadata": {},
   "outputs": [
    {
     "name": "stdout",
     "output_type": "stream",
     "text": [
      "1884591363968\n",
      "[1, 2, 3]\n"
     ]
    }
   ],
   "source": [
    "a=[1,2,3]\n",
    "print(id(a))\n",
    "print(a)\n"
   ]
  },
  {
   "cell_type": "code",
   "execution_count": 74,
   "id": "db08fb6d-d226-479f-8c0d-787b2c7a6657",
   "metadata": {},
   "outputs": [
    {
     "name": "stdout",
     "output_type": "stream",
     "text": [
      "[1, 2, 3, 1, 2, 3]\n",
      "1884591363968\n"
     ]
    }
   ],
   "source": [
    "a*=2\n",
    "print(a)\n",
    "print(id(a))"
   ]
  },
  {
   "cell_type": "markdown",
   "id": "dc3d2422-5bf3-4ad7-95ae-634e4f773e0b",
   "metadata": {},
   "source": [
    "### TUPLES(DEMETLER)"
   ]
  },
  {
   "cell_type": "markdown",
   "id": "d77b0355-9015-4d45-8375-fa0aef24e7cc",
   "metadata": {},
   "source": [
    "* Tuples listelere benzeyen önemli veri yapısıdır.\n",
    "* (...) normal  parantezle oluşturulurlar.\n"
   ]
  },
  {
   "cell_type": "code",
   "execution_count": 83,
   "id": "d2326bed-efbb-4df1-983e-aa0d1a814696",
   "metadata": {},
   "outputs": [
    {
     "name": "stdout",
     "output_type": "stream",
     "text": [
      "<class 'tuple'>\n",
      "(1, 2, 3)\n"
     ]
    }
   ],
   "source": [
    "t=(1,2,3)\n",
    "print(type(t))\n",
    "print(t)"
   ]
  },
  {
   "cell_type": "code",
   "execution_count": 87,
   "id": "68946d32-6879-4eaa-9cec-7ab992f182b6",
   "metadata": {},
   "outputs": [
    {
     "name": "stdout",
     "output_type": "stream",
     "text": [
      "()\n"
     ]
    }
   ],
   "source": [
    "t=()\n",
    "print(t)"
   ]
  },
  {
   "cell_type": "markdown",
   "id": "8953b56a-73de-4c39-98d6-c9ec7d8912f6",
   "metadata": {},
   "source": [
    "* Demetler de dolaşılabilir nesnelerdir.Bir demet dolaşıldığında sırasıyla onun içerisindeki elemanlar elde edilir."
   ]
  },
  {
   "cell_type": "code",
   "execution_count": 90,
   "id": "014614b9-214c-408b-9941-968c7348aabb",
   "metadata": {},
   "outputs": [
    {
     "name": "stdout",
     "output_type": "stream",
     "text": [
      "(1, 2, 3, 4, 5)\n",
      "[1, 2, 3, 4, 5]\n"
     ]
    }
   ],
   "source": [
    "#Örneğin;\n",
    "t=(1,2,3,4,5)\n",
    "a=list(t)\n",
    "print(t)\n",
    "print(a)"
   ]
  },
  {
   "cell_type": "code",
   "execution_count": 92,
   "id": "5403bdf6-f514-4f36-9908-a882f2b0a5a9",
   "metadata": {},
   "outputs": [
    {
     "name": "stdout",
     "output_type": "stream",
     "text": [
      "('a', 'n', 'k', 'a', 'r', 'a')\n"
     ]
    }
   ],
   "source": [
    "t=tuple(\"ankara\")\n",
    "print(t)"
   ]
  },
  {
   "cell_type": "markdown",
   "id": "ffdb0c6b-0ba3-4bed-bd04-2bff71ccd78f",
   "metadata": {},
   "source": [
    "* Demetler listelere bir çok bakımdan benzemektedirler.\n",
    "  * Demetlerin elemanlarına da [] operatörüyle erişilir.\n",
    "  * Demetlerde de elemana erişirken negatif indeksler listelerdeki gibi anlam taşır.\n",
    "  * Demetlerde de tamamane listelerde olduğu gibi dilimleme yapılabilir.Tabii dilimleme işleminden demet elde edilir.\n",
    "  * Demetler de dolaşılabilir(iterable) nesnelerdir.\n",
    "  * Demetlere de \"len\" fonksiyonu uygulanabilir.Eleman sayısı elde edilir."
   ]
  },
  {
   "cell_type": "code",
   "execution_count": 96,
   "id": "b79cf648-7a46-4b57-b85d-aa349a1855ab",
   "metadata": {},
   "outputs": [
    {
     "data": {
      "text/plain": [
       "(10, 20, 30, 40, 50, 60, 70, 80, 90, 100)"
      ]
     },
     "execution_count": 96,
     "metadata": {},
     "output_type": "execute_result"
    }
   ],
   "source": [
    "t=(10,20,30,40,50,60,70,80,90,100)\n",
    "t"
   ]
  },
  {
   "cell_type": "code",
   "execution_count": 102,
   "id": "2f02c552-d6bd-470c-8865-0ce48eb2d5c3",
   "metadata": {},
   "outputs": [
    {
     "name": "stdout",
     "output_type": "stream",
     "text": [
      "40\n",
      "90\n",
      "(30, 40, 50)\n",
      "(10, 20, 30, 40)\n"
     ]
    }
   ],
   "source": [
    "print(t[3])\n",
    "print(t[-2])\n",
    "print(t[2:5])\n",
    "print(t[:4])\n"
   ]
  },
  {
   "cell_type": "code",
   "execution_count": 105,
   "id": "330e257a-69a2-4c29-a0a7-68845d58d03f",
   "metadata": {},
   "outputs": [
    {
     "data": {
      "text/plain": [
       "10"
      ]
     },
     "execution_count": 105,
     "metadata": {},
     "output_type": "execute_result"
    }
   ],
   "source": [
    "len(t)"
   ]
  },
  {
   "cell_type": "markdown",
   "id": "233a83b2-1b96-4bd2-9ade-094f025a575b",
   "metadata": {},
   "source": [
    "* Tek elemanlı demetleri oluştururken parantez içine ekstra bir \",\" eklemek geekir.\n",
    "* Aslında listelerde ve demetlerde son elemandan sonra \"boş virgül(,)\" bırakılabilmektedir.  "
   ]
  },
  {
   "cell_type": "code",
   "execution_count": 120,
   "id": "4c934785-47c3-4dbb-88aa-ef88569c7fcf",
   "metadata": {},
   "outputs": [
    {
     "data": {
      "text/plain": [
       "[10, 20]"
      ]
     },
     "execution_count": 120,
     "metadata": {},
     "output_type": "execute_result"
    }
   ],
   "source": [
    "t=[10,20, ]\n",
    "t"
   ]
  },
  {
   "cell_type": "code",
   "execution_count": 122,
   "id": "2529c6bf-4ed6-457a-8c1e-2a4d37cf8edc",
   "metadata": {},
   "outputs": [
    {
     "name": "stdout",
     "output_type": "stream",
     "text": [
      "<class 'int'>\n",
      "10\n"
     ]
    }
   ],
   "source": [
    "t=(10)\n",
    "print(type(t))\n",
    "print(t)"
   ]
  },
  {
   "cell_type": "code",
   "execution_count": 124,
   "id": "56d5e1ef-e310-4a5a-973d-ffcc95637fb9",
   "metadata": {},
   "outputs": [
    {
     "name": "stdout",
     "output_type": "stream",
     "text": [
      "<class 'tuple'>\n",
      "(10,)\n"
     ]
    }
   ],
   "source": [
    "t=(10,)\n",
    "print(type(t))\n",
    "print(t)"
   ]
  },
  {
   "cell_type": "markdown",
   "id": "bf541fae-800d-4d19-b955-9579fb2f7e2f",
   "metadata": {},
   "source": [
    "* Demetlerde heterojen türlerden oluşabilir."
   ]
  },
  {
   "cell_type": "code",
   "execution_count": 128,
   "id": "e0d7a8de-537a-4df1-9e0f-cd4733c0a594",
   "metadata": {},
   "outputs": [
    {
     "name": "stdout",
     "output_type": "stream",
     "text": [
      "('ankara', 2, True, 20.5)\n"
     ]
    }
   ],
   "source": [
    "t=(\"ankara\",2,True,20.5)\n",
    "print(t)"
   ]
  },
  {
   "cell_type": "markdown",
   "id": "900c1cef-9b38-464c-a90c-5d1222cb58ee",
   "metadata": {},
   "source": [
    "* Bir listenin elemanı tuple olabilir.Bir tuple ın elemanı da liste olabilir."
   ]
  },
  {
   "cell_type": "code",
   "execution_count": 131,
   "id": "727d38a3-bdbc-43f7-a6cd-c6e679c74244",
   "metadata": {},
   "outputs": [
    {
     "name": "stdout",
     "output_type": "stream",
     "text": [
      "[10, 20, (10, 20), 30]\n"
     ]
    }
   ],
   "source": [
    "a=[10,20,(10,20),30]\n",
    "print(a)"
   ]
  },
  {
   "cell_type": "code",
   "execution_count": 133,
   "id": "92e7d842-5101-4e6e-bba4-c605e32e5cf3",
   "metadata": {},
   "outputs": [
    {
     "name": "stdout",
     "output_type": "stream",
     "text": [
      "(10, 20, [10, 20], 30)\n"
     ]
    }
   ],
   "source": [
    "t=(10,20,[10,20],30)\n",
    "print(t)"
   ]
  },
  {
   "cell_type": "markdown",
   "id": "735b1234-d32b-44ee-880f-801985856947",
   "metadata": {},
   "source": [
    "* **LİSTELERLE DEMETLERİN NE FARKI VAR?**\n",
    "* TUPLES DEĞİŞTİRİLEMEZ(İMMUTABLE).\n",
    "* LİSTS DEĞİŞTİRİLEBİLİRDİR(MUTABLE)."
   ]
  },
  {
   "cell_type": "markdown",
   "id": "34355a2f-cae7-478f-8c85-bc815aa5b06a",
   "metadata": {},
   "source": [
    "* tuple sınıfının da çeşitli metodları vardır.Ancak list sınıfında gördüğümüz elemanlar üzerinde değişiklik yapan metotlara tuple sınıfı sahip değildir.Bir demet nesnesi bir kez yaratılır onun üzerinde değişiklik yapılamaz.\n",
    "* Bu nedenle demetlerde listelerde bulunan aşağıdaki metodlar **yoktur**:\n",
    "  \n",
    "  - Sona eleman ekleme işlemi.(append)\n",
    "  - Sona dolaşılabilir nesnenin elemanlarını ekleme işlemi.(extend)\n",
    "  - Belli bir elemanın silinmesi işlemi.(pop ve remove)\n",
    "  - Tüme elemanların silinmesi işlemi.(clear)\n",
    "  - Araya eleman ekleme işlemi.(insert)\n",
    "  - In-place sıraya dizme işlemi.(sort)\n",
    "  - In-place ters yüz etme işemi.(reverse)\n",
    "  - Demetlerde dilimleme yoluyla atama da yapılamamaktadır.\n",
    "   "
   ]
  },
  {
   "cell_type": "markdown",
   "id": "30cc0822-ce14-40d9-a609-e726c6ed1379",
   "metadata": {},
   "source": [
    "* Ancak dmetlerde eleman değişikliği yapmayan index ve count metodları bulunmaktadır."
   ]
  },
  {
   "cell_type": "code",
   "execution_count": 13,
   "id": "7401edad-7373-4eb5-9b9a-301619120107",
   "metadata": {},
   "outputs": [
    {
     "name": "stdout",
     "output_type": "stream",
     "text": [
      "2\n",
      "1\n"
     ]
    }
   ],
   "source": [
    "a=(1,2,3,4,5,6)\n",
    "print(a.index(3))\n",
    "print(a.count(2))"
   ]
  },
  {
   "cell_type": "markdown",
   "id": "eac03dd2-ba45-478c-bf4d-723488c7896b",
   "metadata": {},
   "source": [
    "* **HASH DEĞERİ NEDİR?**\n",
    "* Bir grup bilgiden elde edilen onu temsil eden kısa bir bilgiye \"hash\" denilmektedir.\n",
    "* Çeşitli amaçlarla kullanılabilir.\n",
    "* Bazı veri yapıları için anahtar olarak,bozulmayı tespit etmek için bilgi güvenliği ve şifreleme gibi bazı alanlarda kullanılmaktadır.\n",
    "* Pythonda  bazı türler hashlenebilir iken bazı türler hashlenemez.\n",
    "* Genele olarak değiştirilebilir türler hashlenemez.\n",
    "* Listeler hashlenebemez.\n",
    "* Bir demetin hashlenebilir olması için bütün elemanlarının hashlenebelir olması gerekir.int,float,str,bool,complex,None türleri hashlenebilirdir.\n",
    "* Bir nesnenin içerisindeki değerin hash değeri \"**hash**\" isimli built-in fonksiyonla elde edilebilir."
   ]
  },
  {
   "cell_type": "code",
   "execution_count": 18,
   "id": "3d08cac9-686e-4aba-9804-3c4ae2fc3c23",
   "metadata": {},
   "outputs": [
    {
     "data": {
      "text/plain": [
       "-3622070356260799163"
      ]
     },
     "execution_count": 18,
     "metadata": {},
     "output_type": "execute_result"
    }
   ],
   "source": [
    "a=\"ali\"\n",
    "hash(a)"
   ]
  },
  {
   "cell_type": "code",
   "execution_count": 20,
   "id": "1ccd69ae-babd-406a-bfd3-b5a3e1cbbf92",
   "metadata": {},
   "outputs": [
    {
     "data": {
      "text/plain": [
       "590899387183067792"
      ]
     },
     "execution_count": 20,
     "metadata": {},
     "output_type": "execute_result"
    }
   ],
   "source": [
    "t=(1,2,3,4)\n",
    "hash(t)"
   ]
  },
  {
   "cell_type": "code",
   "execution_count": 22,
   "id": "912bb7b2-afef-4a45-9e83-5f4885c5c442",
   "metadata": {},
   "outputs": [
    {
     "ename": "TypeError",
     "evalue": "unhashable type: 'list'",
     "output_type": "error",
     "traceback": [
      "\u001b[1;31m---------------------------------------------------------------------------\u001b[0m",
      "\u001b[1;31mTypeError\u001b[0m                                 Traceback (most recent call last)",
      "Cell \u001b[1;32mIn[22], line 3\u001b[0m\n\u001b[0;32m      1\u001b[0m \u001b[38;5;66;03m#aşağıdaki demet hashlenemez.\u001b[39;00m\n\u001b[0;32m      2\u001b[0m t\u001b[38;5;241m=\u001b[39m(\u001b[38;5;241m1\u001b[39m,\u001b[38;5;241m2\u001b[39m,[\u001b[38;5;241m3\u001b[39m,\u001b[38;5;241m4\u001b[39m],\u001b[38;5;241m5\u001b[39m)\n\u001b[1;32m----> 3\u001b[0m \u001b[38;5;28mhash\u001b[39m(t)\n",
      "\u001b[1;31mTypeError\u001b[0m: unhashable type: 'list'"
     ]
    }
   ],
   "source": [
    "#aşağıdaki demet hashlenemez.\n",
    "t=(1,2,[3,4],5)\n",
    "hash(t)"
   ]
  },
  {
   "cell_type": "code",
   "execution_count": 24,
   "id": "34047655-0114-40df-bd5f-63750f734d69",
   "metadata": {},
   "outputs": [
    {
     "name": "stdout",
     "output_type": "stream",
     "text": [
      "(1, 2, [3, 4], 5)\n"
     ]
    }
   ],
   "source": [
    "#Bir demetin elemanı liste olsun.\n",
    "t=(1,2,[3,4],5) \n",
    "print(t)"
   ]
  },
  {
   "cell_type": "code",
   "execution_count": 28,
   "id": "fb337f74-96cf-449a-9e98-02b8ec3967c6",
   "metadata": {},
   "outputs": [
    {
     "name": "stdout",
     "output_type": "stream",
     "text": [
      "(1, 2, [10, 4], 5)\n"
     ]
    }
   ],
   "source": [
    "#Biz şimdi bu listenin elemanlarını değiştirebiliriz.\n",
    "t[2][0]=10\n",
    "print(t)"
   ]
  },
  {
   "cell_type": "code",
   "execution_count": 30,
   "id": "d7e9e944-be28-4929-99f8-035db8aef815",
   "metadata": {},
   "outputs": [
    {
     "name": "stdout",
     "output_type": "stream",
     "text": [
      "(1, 2, 3)\n",
      "(4, 5, 6)\n"
     ]
    }
   ],
   "source": [
    "a=(1,2,3)\n",
    "b=(4,5,6)\n",
    "print(a)\n",
    "print(b)"
   ]
  },
  {
   "cell_type": "code",
   "execution_count": 32,
   "id": "f45d206d-e19a-48cc-8828-ea637df110c3",
   "metadata": {},
   "outputs": [
    {
     "name": "stdout",
     "output_type": "stream",
     "text": [
      "(1, 2, 3, 4, 5, 6)\n"
     ]
    }
   ],
   "source": [
    "a=a+b\n",
    "print(a)"
   ]
  },
  {
   "cell_type": "code",
   "execution_count": 34,
   "id": "77de3f1c-0501-486b-a749-55086bbd1ff9",
   "metadata": {},
   "outputs": [
    {
     "name": "stdout",
     "output_type": "stream",
     "text": [
      "(1, 2, 3)\n",
      "(4, 5, 6)\n"
     ]
    }
   ],
   "source": [
    "a=(1,2,3)\n",
    "b=(4,5,6)\n",
    "print(a)\n",
    "print(b)"
   ]
  },
  {
   "cell_type": "code",
   "execution_count": 36,
   "id": "6159bfcb-d227-4603-9ec6-1fcab43bdb3c",
   "metadata": {},
   "outputs": [
    {
     "name": "stdout",
     "output_type": "stream",
     "text": [
      "(1, 2, 3, 4, 5, 6)\n"
     ]
    }
   ],
   "source": [
    "a+=b\n",
    "print(a)"
   ]
  },
  {
   "cell_type": "code",
   "execution_count": 40,
   "id": "d50dbdc8-084e-4f58-8b71-2545c48d6549",
   "metadata": {},
   "outputs": [
    {
     "name": "stdout",
     "output_type": "stream",
     "text": [
      "(1, 2, 3, 4, 5, 6, 1, 2, 3, 4, 5, 6)\n"
     ]
    }
   ],
   "source": [
    "a=a*2\n",
    "print(a)"
   ]
  },
  {
   "cell_type": "code",
   "execution_count": null,
   "id": "c2f621d5-a85f-4ee2-bbe4-9ebc8710f19a",
   "metadata": {},
   "outputs": [],
   "source": []
  }
 ],
 "metadata": {
  "kernelspec": {
   "display_name": "Python 3 (ipykernel)",
   "language": "python",
   "name": "python3"
  },
  "language_info": {
   "codemirror_mode": {
    "name": "ipython",
    "version": 3
   },
   "file_extension": ".py",
   "mimetype": "text/x-python",
   "name": "python",
   "nbconvert_exporter": "python",
   "pygments_lexer": "ipython3",
   "version": "3.12.4"
  }
 },
 "nbformat": 4,
 "nbformat_minor": 5
}
