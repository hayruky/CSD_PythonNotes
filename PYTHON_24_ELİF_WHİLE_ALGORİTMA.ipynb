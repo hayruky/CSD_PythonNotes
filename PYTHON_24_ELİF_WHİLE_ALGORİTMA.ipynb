{
 "cells": [
  {
   "cell_type": "markdown",
   "id": "e88ba885-bfdf-484c-b028-a3fb946b55db",
   "metadata": {},
   "source": [
    "### 24.Ders-Else-if/While Döngüsü/Algoritma"
   ]
  },
  {
   "cell_type": "markdown",
   "id": "1780c1c1-c333-40ab-96f5-f2cd1d67fb5d",
   "metadata": {},
   "source": [
    "* Python'da if koşuluyla parantez kullanma zorunluluğu yoktur.\n",
    "*  Python'da zaten if  komutundan sonra \" : \" atomu gelmek zorunda olduğu için bu ayrıştırma parantezlere gereksinim duyulmadan da yapılabilir.\n",
    "*  tabii ki parantez kullanmak istersek bir sorun çıkmayacaktır."
   ]
  },
  {
   "cell_type": "code",
   "execution_count": 15,
   "id": "0232fdf6-9b3a-44d5-bb26-2613ec61e646",
   "metadata": {},
   "outputs": [
    {
     "name": "stdin",
     "output_type": "stream",
     "text": [
      "bir sayı giriniz: 15\n"
     ]
    },
    {
     "name": "stdout",
     "output_type": "stream",
     "text": [
      "b=20\n"
     ]
    }
   ],
   "source": [
    "a=int(input(\"bir sayı giriniz:\"))\n",
    "if (a>10):\n",
    "    print(\"b=20\")"
   ]
  },
  {
   "cell_type": "markdown",
   "id": "9e2d8258-4915-4e9d-9b69-677c1d3d2152",
   "metadata": {},
   "source": [
    "**NESTED İF'S (İç İçe Geçmiş İfler):**\n",
    "\n",
    "\"\"\"\n",
    "\n",
    "ifade1\n",
    "\n",
    "if ifade2:\n",
    "\n",
    "   ifade3\n",
    "   \n",
    "   if ifade4:\n",
    "   \n",
    "      ifade5\n",
    "      \n",
    "      ifade6\n",
    "      \n",
    "    else:\n",
    "    \n",
    "        ifade7\n",
    "        \n",
    "    ifade8:\n",
    "    \n",
    "else:\n",
    "\n",
    "    ifade9\n",
    "\n",
    "ifade10\n",
    "\n",
    "\"\"\"\n",
    "\n",
    "--------\n",
    "\n",
    "**Dangling Else:** İki if için tek bir else bulunması durumudur.Pythonda girinti düzeylerine bakılarak else'in hangi if deyiminin else kısmı olduğu anlaşılmaktadır.\n",
    "\n"
   ]
  },
  {
   "cell_type": "code",
   "execution_count": 37,
   "id": "5065ad1a-0598-463b-97f5-b687a6dd5909",
   "metadata": {},
   "outputs": [
    {
     "name": "stdin",
     "output_type": "stream",
     "text": [
      "Bir sayı giriniz: 10\n",
      "Bir sayı giriniz: 15\n"
     ]
    },
    {
     "name": "stdout",
     "output_type": "stream",
     "text": [
      "Büyük sayı = 15\n"
     ]
    }
   ],
   "source": [
    "# 2 sayıyı karşılaştırma.\n",
    "a=int(input(\"Bir sayı giriniz:\"))\n",
    "b=int(input(\"Bir sayı giriniz:\"))\n",
    "if a>b:\n",
    "    print(\"Büyük sayı =\",a)\n",
    "else :\n",
    "     print(\"Büyük sayı =\",b)"
   ]
  },
  {
   "cell_type": "code",
   "execution_count": 43,
   "id": "424179e2-f071-4411-b635-0edbbed541aa",
   "metadata": {},
   "outputs": [
    {
     "name": "stdin",
     "output_type": "stream",
     "text": [
      "Bir sayı giriniz: 10\n",
      "Bir sayı giriniz: 20\n",
      "Bir sayı giriniz: 30\n"
     ]
    },
    {
     "name": "stdout",
     "output_type": "stream",
     "text": [
      "Büyük sayı c = 30\n"
     ]
    }
   ],
   "source": [
    "# 3 sayıyı karşılaştırma.\n",
    "a=int(input(\"Bir sayı giriniz:\"))\n",
    "b=int(input(\"Bir sayı giriniz:\"))\n",
    "c=int(input(\"Bir sayı giriniz:\"))\n",
    "\n",
    "if a>b:\n",
    "    if a>c:\n",
    "        print(\"Büyük sayı a =\",a)\n",
    "    else:\n",
    "        print(\"Büyük sayı c =\",c)\n",
    "else:\n",
    "    if b>c:\n",
    "        print(\"Büyük sayı b  =\",b)\n",
    "    else:\n",
    "        print(\"Büyük sayı c =\",c)\n",
    "    "
   ]
  },
  {
   "cell_type": "code",
   "execution_count": 60,
   "id": "19797377-b89c-4499-8ca3-a4279871981d",
   "metadata": {},
   "outputs": [
    {
     "name": "stdin",
     "output_type": "stream",
     "text": [
      "Üç sayıyı yan yana giriniz 10 20 40 \n"
     ]
    },
    {
     "name": "stdout",
     "output_type": "stream",
     "text": [
      "['10', '20', '40']\n",
      "Büyük sayı c = 40\n"
     ]
    }
   ],
   "source": [
    "#Eğer sayıları  yan yana yazarsak:\n",
    "s=input(\"Üç sayıyı yan yana giriniz\") #Burada str türündedir.\n",
    "#Burada s'i boşluklardan ayırıp bir liste oluşturuyoruz.\n",
    "vals=s.split()\n",
    "#Şimdi str türündeki değişkenlerimizi int türüne dönüştürmeliyiz.\n",
    "a=int(vals[0])\n",
    "b=int(vals[1])\n",
    "c=int(vals[2])\n",
    "print(vals)\n",
    "if a>b:\n",
    "    if a>c:\n",
    "        print(\"Büyük sayı a =\",a)\n",
    "    else:\n",
    "        print(\"Büyük sayı c =\",c)\n",
    "else:\n",
    "    if b>c:\n",
    "        print(\"Büyük sayı b  =\",b)\n",
    "    else:\n",
    "        print(\"Büyük sayı c =\",c)"
   ]
  },
  {
   "cell_type": "markdown",
   "id": "8b4d844c-64f7-4526-a8f7-645a87d6e8d2",
   "metadata": {},
   "source": [
    "**Ayrık(Discrete) Koşullar Ve Else-İf Yapıları:**\n",
    "* Bir koşulu sağlayıp diğer koşulu sağlayamazsa bu iki koşul ayrıktır:\n",
    "* * a>0 , a<0 Bu ikisi aynı anda doğru olamayacağından ayrık koşullardır.\n",
    "\n",
    "\n"
   ]
  },
  {
   "cell_type": "code",
   "execution_count": 82,
   "id": "8edbd223-49af-4ffe-b718-cdd3c496a224",
   "metadata": {},
   "outputs": [
    {
     "name": "stdin",
     "output_type": "stream",
     "text": [
      "Birden 3'e kadar bir tam sayı giriniz: 2\n"
     ]
    },
    {
     "name": "stdout",
     "output_type": "stream",
     "text": [
      "iki\n"
     ]
    },
    {
     "data": {
      "text/plain": [
       "'\\nBurada bütün koşullar ayrık koşullardır.\\nDolayısıyla boşuna zaman kaybı yaşanır.\\nBu tür durumlarda Else-İf yapısını kullanmalıyız.\\n\\n'"
      ]
     },
     "execution_count": 82,
     "metadata": {},
     "output_type": "execute_result"
    }
   ],
   "source": [
    "#Örneğin\n",
    "val=int(input(\"Birden 3'e kadar bir tam sayı giriniz:\"))\n",
    "if val==1:\n",
    "        print(\"bir\")\n",
    "if val==2:\n",
    "        print(\"iki\")\n",
    "if val==3:\n",
    "        print(\"üç\")\n",
    "\n",
    "\"\"\"\n",
    "Burada bütün koşullar ayrık koşullardır.\n",
    "Dolayısıyla boşuna zaman kaybı yaşanır.\n",
    "Bu tür durumlarda Else-İf yapısını kullanmalıyız.\n",
    "\n",
    "\"\"\""
   ]
  },
  {
   "cell_type": "code",
   "execution_count": 88,
   "id": "f39e7063-fb9b-49e0-aa9f-8f91cd5b875f",
   "metadata": {},
   "outputs": [
    {
     "name": "stdin",
     "output_type": "stream",
     "text": [
      "Birden 3'e kadar bir tam sayı giriniz: 1\n"
     ]
    },
    {
     "name": "stdout",
     "output_type": "stream",
     "text": [
      "bir\n"
     ]
    }
   ],
   "source": [
    "#Düzenleyelim\n",
    "val=int(input(\"Birden 3'e kadar bir tam sayı giriniz:\"))\n",
    "if val==1:\n",
    "        print(\"bir\")\n",
    "else:\n",
    "    if val==2:\n",
    "        print(\"iki\")\n",
    "    else:\n",
    "        if val==3:\n",
    "            print(\"üç\")\n",
    "        else:\n",
    "            print(\"başarısız\")"
   ]
  },
  {
   "cell_type": "markdown",
   "id": "773af34f-ee5a-429a-b2f8-f19102025c18",
   "metadata": {},
   "source": [
    "* Else-İf in birleşik hali elif'tir.Yazdığımız kod daha düzenli gözükür.\n",
    "* Elif ten sonra bir else gelebilir."
   ]
  },
  {
   "cell_type": "code",
   "execution_count": 95,
   "id": "4763d053-7c51-4c08-bf04-3f41c4e6bd68",
   "metadata": {},
   "outputs": [
    {
     "name": "stdin",
     "output_type": "stream",
     "text": [
      "Birden 3'e kadar bir tam sayı giriniz: 2\n"
     ]
    },
    {
     "name": "stdout",
     "output_type": "stream",
     "text": [
      "iki\n"
     ]
    }
   ],
   "source": [
    "#elif li hali:\n",
    "val=int(input(\"Birden 3'e kadar bir tam sayı giriniz:\"))\n",
    "if val==1:\n",
    "    print(\"bir\")\n",
    "elif val==2:\n",
    "    print(\"iki\")\n",
    "elif val==3:\n",
    "     print(\"üç\")\n",
    "else:\n",
    "    print(\"başarısız\")"
   ]
  },
  {
   "cell_type": "code",
   "execution_count": 103,
   "id": "e53e35cc-7d26-48dd-97b2-71e0656e7803",
   "metadata": {},
   "outputs": [
    {
     "name": "stdin",
     "output_type": "stream",
     "text": [
      "bir  sayı giriniz: 2\n"
     ]
    },
    {
     "name": "stdout",
     "output_type": "stream",
     "text": [
      "pozitif\n"
     ]
    }
   ],
   "source": [
    "val=int(input(\"bir  sayı giriniz:\"))\n",
    "if val>0:\n",
    "    print(\"pozitif\")\n",
    "elif val<0:\n",
    "    print(\"negatif\")\n",
    "else:\n",
    "    print(\"sıfır\")\n",
    "    "
   ]
  },
  {
   "cell_type": "markdown",
   "id": "5d5650fe-e24f-4be2-a8a2-b007732dd734",
   "metadata": {},
   "source": [
    "**Döngü(Loop) Deyimleri:**\n",
    "\n",
    "Döngü deyimleri Python'da 2'ye ayrılır:\n",
    "1) While Döngüsü\n",
    "2) For Döngüsü\n",
    "\n",
    "**While Döngüleri:**\n",
    "\n",
    "* While; iken,olduğu sürece anlamına gelmektedir.\n",
    "* Genel Yapısı:\n",
    "  * \"while < ifade > : < suit >\" şeklindedir.\n",
    "* While döngüleri bir ifade doğru olduğu sürece yinelenen döngülerdir.\n",
    "\n",
    "\n"
   ]
  },
  {
   "cell_type": "code",
   "execution_count": 49,
   "id": "6b094cf8-5476-41e7-9ab1-b4a80d1013ad",
   "metadata": {},
   "outputs": [
    {
     "name": "stdout",
     "output_type": "stream",
     "text": [
      "0,1,2,3,4,5,6,7,8,9,"
     ]
    }
   ],
   "source": [
    "#Örnek-1\n",
    "i=0\n",
    "while i<10:\n",
    "    print(i,end=\",\")\n",
    "    i+=1"
   ]
  },
  {
   "cell_type": "code",
   "execution_count": 47,
   "id": "610691dd-21c2-4958-ba3e-11446727e02b",
   "metadata": {},
   "outputs": [
    {
     "name": "stdout",
     "output_type": "stream",
     "text": [
      "7,14,21,28,35,42,49,56,63,70,77,84,91,98,105,"
     ]
    }
   ],
   "source": [
    "#Örnek-2\n",
    "i=1\n",
    "while i<=105:\n",
    "    if i%7==0:  #Eğer i 7'ye tam bölünüyorsa\n",
    "       print(i,end=\",\") #i'yi yazdır.\n",
    "    i+=1        #i doğru ya da yanlışsa da i'ye 1 ekle."
   ]
  },
  {
   "cell_type": "code",
   "execution_count": 1,
   "id": "a6969c58-a620-494b-bd58-62d72770e46e",
   "metadata": {},
   "outputs": [
    {
     "name": "stdout",
     "output_type": "stream",
     "text": [
      "10 20 30 40 50 "
     ]
    }
   ],
   "source": [
    "#Örnek-3\n",
    "#Baştan sona doğru\n",
    "a=[10,20,30,40,50]\n",
    "i=0\n",
    "while i< len(a):\n",
    "    print(a[i],end=\" \") #Yan yana yazdırır.\n",
    "    i+=1\n",
    "    "
   ]
  },
  {
   "cell_type": "code",
   "execution_count": 7,
   "id": "69ed6302-9d36-4cbe-a700-ed723e8a93f6",
   "metadata": {},
   "outputs": [
    {
     "name": "stdout",
     "output_type": "stream",
     "text": [
      "50 40 30 20 10 "
     ]
    }
   ],
   "source": [
    "#Örnek-4\n",
    "#Sondan başa doğru\n",
    "a=[10,20,30,40,50]\n",
    "i=len(a)-1 #İndex mantığında 4'e kadar indexlendiğinden -1 alıyoruz.\n",
    "while i >= 0:\n",
    "    print(a[i],end=\" \")\n",
    "    i-=1"
   ]
  },
  {
   "cell_type": "code",
   "execution_count": 9,
   "id": "96471af4-9e90-4aa5-b25f-6d41c02788ce",
   "metadata": {},
   "outputs": [
    {
     "name": "stdout",
     "output_type": "stream",
     "text": [
      "10 9 8 7 6 5 4 3 2 1 "
     ]
    }
   ],
   "source": [
    "#Örnek-5\n",
    "i=10\n",
    "while i:\n",
    "    print(i,end=\" \")\n",
    "    i-=1"
   ]
  },
  {
   "cell_type": "code",
   "execution_count": 13,
   "id": "6884639e-5d82-4971-9d93-41e0a9d08aea",
   "metadata": {},
   "outputs": [
    {
     "name": "stdout",
     "output_type": "stream",
     "text": [
      "5050\n"
     ]
    }
   ],
   "source": [
    "#Örnek-6\n",
    "#1'den 100'e kadar olan sayıların toplamıdır.\n",
    "total=0\n",
    "i=1\n",
    "while i<=100:\n",
    "    total+=i\n",
    "    i+=1\n",
    "print(total)"
   ]
  },
  {
   "cell_type": "code",
   "execution_count": 15,
   "id": "c4be3b3d-2636-4d92-b840-52862dca7799",
   "metadata": {},
   "outputs": [
    {
     "name": "stdout",
     "output_type": "stream",
     "text": [
      "5050.0\n"
     ]
    }
   ],
   "source": [
    "#Yukarıdaki döngünün formülü\n",
    "n=100\n",
    "total=(n*(n+1))/2\n",
    "print(total)"
   ]
  },
  {
   "cell_type": "markdown",
   "id": "70b0d683-c45b-45f0-8484-49a356407c61",
   "metadata": {},
   "source": [
    "*Python'da stringlerde bir ifade boşsa **s=\"\"** \"False\" ,Doluysa **s=\"ankara\"** \"True\" döndürülür.Döngülerde eğer true döndürülüyorsa çalışır."
   ]
  },
  {
   "cell_type": "code",
   "execution_count": 21,
   "id": "f30825e8-8c8a-410d-a1e2-723daec15fd7",
   "metadata": {},
   "outputs": [
    {
     "name": "stdout",
     "output_type": "stream",
     "text": [
      "ankara\n",
      "ankar\n",
      "anka\n",
      "ank\n",
      "an\n",
      "a\n"
     ]
    }
   ],
   "source": [
    "#Örnek-7\n",
    "s=\"ankara\"\n",
    "while s:\n",
    "    print(s)\n",
    "    s=s[:-1]\n",
    "    "
   ]
  },
  {
   "cell_type": "code",
   "execution_count": 39,
   "id": "cffe7c70-60c8-440f-b79f-e135ae31ca06",
   "metadata": {},
   "outputs": [
    {
     "name": "stdin",
     "output_type": "stream",
     "text": [
      "bir sayı giriniz: 9\n"
     ]
    },
    {
     "name": "stdout",
     "output_type": "stream",
     "text": [
      "81.0\n",
      "64.0\n",
      "49.0\n",
      "36.0\n",
      "25.0\n",
      "16.0\n",
      "9.0\n",
      "4.0\n",
      "1.0\n",
      "0.0\n"
     ]
    }
   ],
   "source": [
    "#Örnek-8\n",
    "#klavyeden bir değer okunsun onun karesini yazdıralım.0'a kadar devam etsin.\n",
    "pow=float(input(\"bir sayı giriniz:\"))\n",
    "i=pow\n",
    "while i>=0:\n",
    "    print(i**2)\n",
    "    i-=1\n"
   ]
  },
  {
   "cell_type": "code",
   "execution_count": 41,
   "id": "4957f701-3409-44aa-9c4f-795556588551",
   "metadata": {},
   "outputs": [
    {
     "name": "stdin",
     "output_type": "stream",
     "text": [
      "bir sayı giriniz: 5\n"
     ]
    },
    {
     "name": "stdout",
     "output_type": "stream",
     "text": [
      "25.0\n"
     ]
    },
    {
     "name": "stdin",
     "output_type": "stream",
     "text": [
      "bir sayı giriniz: 4\n"
     ]
    },
    {
     "name": "stdout",
     "output_type": "stream",
     "text": [
      "16.0\n"
     ]
    },
    {
     "name": "stdin",
     "output_type": "stream",
     "text": [
      "bir sayı giriniz: 9.1\n"
     ]
    },
    {
     "name": "stdout",
     "output_type": "stream",
     "text": [
      "82.80999999999999\n"
     ]
    },
    {
     "name": "stdin",
     "output_type": "stream",
     "text": [
      "bir sayı giriniz: 2.4\n"
     ]
    },
    {
     "name": "stdout",
     "output_type": "stream",
     "text": [
      "5.76\n"
     ]
    },
    {
     "name": "stdin",
     "output_type": "stream",
     "text": [
      "bir sayı giriniz: 0\n"
     ]
    }
   ],
   "source": [
    "#Örnek-9\n",
    "#klavyeden bir değer okunsun onun karesini yazdıralım.\n",
    "# Klavyeden sıfır yazdırdığımızda döngüden çıksın.\n",
    "#Bu işlemi walrus operatörüyle yaptık \":=\"\n",
    "while (pow := float(input(\"bir sayı giriniz:\"))) !=0:\n",
    "    print(pow*pow)\n",
    "       "
   ]
  },
  {
   "cell_type": "code",
   "execution_count": 45,
   "id": "e70fd0ed-e6c5-4ecd-8907-a57c76d62119",
   "metadata": {},
   "outputs": [
    {
     "name": "stdin",
     "output_type": "stream",
     "text": [
      "bir sayı giriniz: 5\n"
     ]
    },
    {
     "name": "stdout",
     "output_type": "stream",
     "text": [
      "25.0\n"
     ]
    },
    {
     "name": "stdin",
     "output_type": "stream",
     "text": [
      "bir sayı giriniz: 4\n"
     ]
    },
    {
     "name": "stdout",
     "output_type": "stream",
     "text": [
      "16.0\n"
     ]
    },
    {
     "name": "stdin",
     "output_type": "stream",
     "text": [
      "bir sayı giriniz: 1\n"
     ]
    },
    {
     "name": "stdout",
     "output_type": "stream",
     "text": [
      "1.0\n"
     ]
    },
    {
     "name": "stdin",
     "output_type": "stream",
     "text": [
      "bir sayı giriniz: 8\n"
     ]
    },
    {
     "name": "stdout",
     "output_type": "stream",
     "text": [
      "64.0\n"
     ]
    },
    {
     "name": "stdin",
     "output_type": "stream",
     "text": [
      "bir sayı giriniz: 4\n"
     ]
    },
    {
     "name": "stdout",
     "output_type": "stream",
     "text": [
      "16.0\n"
     ]
    },
    {
     "name": "stdin",
     "output_type": "stream",
     "text": [
      "bir sayı giriniz: 0\n"
     ]
    },
    {
     "name": "stdout",
     "output_type": "stream",
     "text": [
      "0.0\n"
     ]
    }
   ],
   "source": [
    "#Örnek-10\n",
    "#Eğer walrus operatörü olmasaydı: \n",
    "#Burada ayrıca 0'ın karesinin de ekrana yazdıralacağına dikkat ediniz.\n",
    "val=1\n",
    "while val != 0:\n",
    "    val=float(input(\"bir sayı giriniz:\"))\n",
    "    print(val*val)\n",
    "    "
   ]
  },
  {
   "cell_type": "code",
   "execution_count": 59,
   "id": "ff1b3384-296c-40b0-8fd4-3080f3510e18",
   "metadata": {},
   "outputs": [
    {
     "name": "stdout",
     "output_type": "stream",
     "text": [
      "(0,0)\n",
      "(0,1)\n",
      "(0,2)\n",
      "(1,0)\n",
      "(1,1)\n",
      "(1,2)\n",
      "(2,0)\n",
      "(2,1)\n",
      "(2,2)\n"
     ]
    }
   ],
   "source": [
    "#Örnek-11\n",
    "#İç içe döngü örneği:\n",
    "i=0\n",
    "while i<3:\n",
    "    k=0\n",
    "    while k<3:\n",
    "        print(f\"({i},{k})\")\n",
    "        k+=1\n",
    "    i+=1"
   ]
  },
  {
   "cell_type": "code",
   "execution_count": 65,
   "id": "26fdef83-92ae-4ac6-8bee-402d874954d4",
   "metadata": {},
   "outputs": [
    {
     "name": "stdin",
     "output_type": "stream",
     "text": [
      "bir sayı giriniz: 8\n"
     ]
    },
    {
     "name": "stdout",
     "output_type": "stream",
     "text": [
      "*\n",
      "**\n",
      "***\n",
      "****\n",
      "*****\n",
      "******\n",
      "*******\n",
      "********\n"
     ]
    }
   ],
   "source": [
    "#Örnek-12\n",
    "n=int(input(\"bir sayı giriniz:\"))\n",
    "i=1\n",
    "while i<=n :\n",
    "    print(i*\"*\")\n",
    "    i+=1"
   ]
  },
  {
   "cell_type": "code",
   "execution_count": 26,
   "id": "7372e2f8-a9bc-4651-b5ff-254dc9bbe83f",
   "metadata": {},
   "outputs": [
    {
     "name": "stdin",
     "output_type": "stream",
     "text": [
      "Pozitif bir tam sayı giriniz: 85\n"
     ]
    },
    {
     "name": "stdout",
     "output_type": "stream",
     "text": [
      "5 17 "
     ]
    }
   ],
   "source": [
    "#Örnek-13\n",
    "#Asal sayılar(Prime number) \n",
    "#Klavyeden girilen bir sayının asal çarpanlarını nasıl yazdırırız?\n",
    "\n",
    "\n",
    "n=int(input(\"Pozitif bir tam sayı giriniz:\"))\n",
    "divider=2 #bölünecek değer.\n",
    "while n!=1:\n",
    "    if n%divider==0 :\n",
    "        print(divider,end=\" \")\n",
    "        n=n // divider ; #int bir değer çıkması için //  yaptık.\n",
    "    else:\n",
    "        divider +=1"
   ]
  },
  {
   "cell_type": "markdown",
   "id": "26b92823-22ec-4db6-9c0b-61744ecb6063",
   "metadata": {},
   "source": [
    "**Algortima(Algorithms)Nedir?:** Bilgisayar bilimlerinin en önemli terimlerinden biridir.\n",
    "* Bir problemi kesin çözüme götüren adımlar topluluğuna algoritma denilmektedir.\n",
    "* Algoritmaları kıyaslamak için iki temel ölçüt \"hız\" ve \"kaynak kullanımı\"'dır.\n",
    "* Algoritma kıaysalanması sürecine genel olarak \"algoritma analizi\" denilmektedir.\n",
    "* Bazen algoritmalarda kesin sonucu bulmak çok uzun sürebilir.Bu gibi durumlarda kesin sonucu bulmak yerine \" nispeten tatmin edici\" bir sonucun bulunması da arzu edilebilir.\n",
    "* Genellikle kesin çözümü bulunmayan bu tür adımlar topluluğuna \"sezgisel yöntemler(heuristics)\" denilmektedir."
   ]
  },
  {
   "cell_type": "markdown",
   "id": "92ca3881-d167-4dd0-ad8d-ce80f9c0ac3d",
   "metadata": {},
   "source": [
    "**Sonsuz Döngü(İnfinite Loop):** \n",
    "* Python'da sonsuz döngü oluşturabilmek için while anahtar sözcüğünün yanına True ya da 1 yazabiliriz:\n",
    "* * while True(1):\n",
    "    ...\n",
    "* Sonsuz döngüye giren bir programı sonlandırmak için IDE'lerde özel sonlandırma düğmeleri bulundurulmaktadır.\n",
    "* * Eğer program komut satırında(siyah ekran) çalıştırılıyorsa sonlandırma **\"Ctrl+C\"** tuşlarıyla yapılır.\n",
    "    "
   ]
  },
  {
   "cell_type": "code",
   "execution_count": null,
   "id": "5aff7f74-0291-4e31-ba16-8b9745ed4a91",
   "metadata": {},
   "outputs": [],
   "source": []
  }
 ],
 "metadata": {
  "kernelspec": {
   "display_name": "Python 3 (ipykernel)",
   "language": "python",
   "name": "python3"
  },
  "language_info": {
   "codemirror_mode": {
    "name": "ipython",
    "version": 3
   },
   "file_extension": ".py",
   "mimetype": "text/x-python",
   "name": "python",
   "nbconvert_exporter": "python",
   "pygments_lexer": "ipython3",
   "version": "3.12.4"
  }
 },
 "nbformat": 4,
 "nbformat_minor": 5
}
