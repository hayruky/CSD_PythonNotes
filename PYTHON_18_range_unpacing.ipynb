{
 "cells": [
  {
   "cell_type": "markdown",
   "id": "08d0ef55-86a1-4439-ba13-2950bcbae234",
   "metadata": {},
   "source": [
    "### 18.DERS-Unpacing/Range Fonks."
   ]
  },
  {
   "cell_type": "markdown",
   "id": "62e2d02d-6b75-4c41-a1d2-cc1ae5157873",
   "metadata": {},
   "source": [
    "***LİSTELERDE VE DEMETLERDE AÇIM(UNPACING) İŞLEMLERİ***\n"
   ]
  },
  {
   "cell_type": "code",
   "execution_count": 4,
   "id": "79b20054-179a-4a9a-a2b2-3ace7797d9e8",
   "metadata": {},
   "outputs": [
    {
     "name": "stdout",
     "output_type": "stream",
     "text": [
      "10\n",
      "20\n",
      "30\n"
     ]
    }
   ],
   "source": [
    "a=[10,20,30]\n",
    "x,y,z=a\n",
    "\"\"\"\n",
    "ÜSTTEKİ İFADE;(x,y,z=a)\n",
    "x=a[0]\n",
    "y=a[1]\n",
    "z=a[2]\n",
    "ifadesiyle eşdeğerdir.\n",
    "\"\"\"\n",
    "print(x)\n",
    "print(y)\n",
    "print(z)\n"
   ]
  },
  {
   "cell_type": "code",
   "execution_count": 7,
   "id": "9d014020-47d9-4c79-8bce-a0e714f4398a",
   "metadata": {},
   "outputs": [
    {
     "name": "stdout",
     "output_type": "stream",
     "text": [
      "ali\n",
      "veli\n",
      "selami\n"
     ]
    }
   ],
   "source": [
    "x,y,z=[\"ali\",\"veli\",\"selami\"]\n",
    "print(x)\n",
    "print(y)\n",
    "print(z)\n",
    "#eşdeğer olmalıdır."
   ]
  },
  {
   "cell_type": "code",
   "execution_count": 9,
   "id": "e770199d-c48a-4fc6-b688-bfb02db44239",
   "metadata": {},
   "outputs": [
    {
     "ename": "ValueError",
     "evalue": "not enough values to unpack (expected 3, got 2)",
     "output_type": "error",
     "traceback": [
      "\u001b[1;31m---------------------------------------------------------------------------\u001b[0m",
      "\u001b[1;31mValueError\u001b[0m                                Traceback (most recent call last)",
      "Cell \u001b[1;32mIn[9], line 1\u001b[0m\n\u001b[1;32m----> 1\u001b[0m x,y,z\u001b[38;5;241m=\u001b[39m[\u001b[38;5;124m\"\u001b[39m\u001b[38;5;124mali\u001b[39m\u001b[38;5;124m\"\u001b[39m,\u001b[38;5;124m\"\u001b[39m\u001b[38;5;124mveli\u001b[39m\u001b[38;5;124m\"\u001b[39m]\n\u001b[0;32m      2\u001b[0m \u001b[38;5;28mprint\u001b[39m(x)\n\u001b[0;32m      3\u001b[0m \u001b[38;5;28mprint\u001b[39m(y)\n",
      "\u001b[1;31mValueError\u001b[0m: not enough values to unpack (expected 3, got 2)"
     ]
    }
   ],
   "source": [
    "x,y,z=[\"ali\",\"veli\"]\n",
    "print(x)\n",
    "print(y)\n",
    "print(z)\n",
    "#az olamaz"
   ]
  },
  {
   "cell_type": "code",
   "execution_count": 11,
   "id": "6c5d0120-ebdc-4957-b5eb-f471fa4f675e",
   "metadata": {},
   "outputs": [
    {
     "ename": "ValueError",
     "evalue": "too many values to unpack (expected 3)",
     "output_type": "error",
     "traceback": [
      "\u001b[1;31m---------------------------------------------------------------------------\u001b[0m",
      "\u001b[1;31mValueError\u001b[0m                                Traceback (most recent call last)",
      "Cell \u001b[1;32mIn[11], line 1\u001b[0m\n\u001b[1;32m----> 1\u001b[0m x,y,z\u001b[38;5;241m=\u001b[39m[\u001b[38;5;124m\"\u001b[39m\u001b[38;5;124mali\u001b[39m\u001b[38;5;124m\"\u001b[39m,\u001b[38;5;124m\"\u001b[39m\u001b[38;5;124mveli\u001b[39m\u001b[38;5;124m\"\u001b[39m,\u001b[38;5;124m\"\u001b[39m\u001b[38;5;124mselami\u001b[39m\u001b[38;5;124m\"\u001b[39m,\u001b[38;5;124m\"\u001b[39m\u001b[38;5;124mderya\u001b[39m\u001b[38;5;124m\"\u001b[39m]\n\u001b[0;32m      2\u001b[0m \u001b[38;5;28mprint\u001b[39m(x)\n\u001b[0;32m      3\u001b[0m \u001b[38;5;28mprint\u001b[39m(y)\n",
      "\u001b[1;31mValueError\u001b[0m: too many values to unpack (expected 3)"
     ]
    }
   ],
   "source": [
    "x,y,z=[\"ali\",\"veli\",\"selami\",\"derya\"]\n",
    "print(x)\n",
    "print(y)\n",
    "print(z)\n",
    "#fazla  olamaz"
   ]
  },
  {
   "cell_type": "code",
   "execution_count": 13,
   "id": "8b4cd5a7-e147-4e4c-b12b-12189e0742e0",
   "metadata": {},
   "outputs": [
    {
     "name": "stdout",
     "output_type": "stream",
     "text": [
      "a\n",
      "l\n",
      "i\n"
     ]
    }
   ],
   "source": [
    "x,y,z=\"ali\"\n",
    "print(x)\n",
    "print(y)\n",
    "print(z)\n"
   ]
  },
  {
   "cell_type": "code",
   "execution_count": 15,
   "id": "f8d9c233-2aa3-4e0c-bfd1-416182892f12",
   "metadata": {},
   "outputs": [
    {
     "ename": "ValueError",
     "evalue": "too many values to unpack (expected 3)",
     "output_type": "error",
     "traceback": [
      "\u001b[1;31m---------------------------------------------------------------------------\u001b[0m",
      "\u001b[1;31mValueError\u001b[0m                                Traceback (most recent call last)",
      "Cell \u001b[1;32mIn[15], line 1\u001b[0m\n\u001b[1;32m----> 1\u001b[0m x,y,z\u001b[38;5;241m=\u001b[39m\u001b[38;5;124m\"\u001b[39m\u001b[38;5;124maliye\u001b[39m\u001b[38;5;124m\"\u001b[39m\n\u001b[0;32m      2\u001b[0m \u001b[38;5;28mprint\u001b[39m(x)\n\u001b[0;32m      3\u001b[0m \u001b[38;5;28mprint\u001b[39m(y)\n",
      "\u001b[1;31mValueError\u001b[0m: too many values to unpack (expected 3)"
     ]
    }
   ],
   "source": [
    "x,y,z=\"aliye\"\n",
    "print(x)\n",
    "print(y)\n",
    "print(z)\n"
   ]
  },
  {
   "cell_type": "markdown",
   "id": "6c7a27ec-d590-448d-aa3f-5f479d72b1b3",
   "metadata": {},
   "source": [
    "* Yukaridaki işlemlere  unpacing denmektedir.\n",
    "* Dolaşılabilir her nesne için unpacing işlemi uygulanabilir.\n",
    "* Aşağıdaki 3 sentaks tamamen aynı anlama gelmektedir;\n",
    "* 1) **(x,y,z,...)=<dolaşılabilir nesne>**\n",
    "  2) **x,y,z,...=<dolaşılabilir nesne>**\n",
    "  3) **[x,y,z,... ]=<dolaşılabilir nesne>**\n",
    "* Açım sırasında = operatörünün sağ tarafında \"dolaşılabilir(iterable)\" bir nesne bulunmak zorundadır.\n",
    "* Elde edilen değerler sol taraftaki değişkenlere sırasıyla atanır.\n",
    "* Açım yapılırken = operatöünün sağındaki iterable nesnenin eleman sayısının açımdaki değişken sayısıyla eşit olması gerekir.Aksi takdirde expection oluşmaktadır.\n",
    "* Açılacak iterable nesnelerin bazıları demet,liste olabilir.\n",
    "  * **x,y,z=[\"ali\",[10,20,30],(10,20)]**\n"
   ]
  },
  {
   "cell_type": "code",
   "execution_count": 4,
   "id": "f14655ea-5be4-47df-8527-e86689ac4413",
   "metadata": {},
   "outputs": [
    {
     "name": "stdout",
     "output_type": "stream",
     "text": [
      "140721604082392\n",
      "140721604082392\n"
     ]
    }
   ],
   "source": [
    "#Aşağıda a[0] içerisindeki adresle x içerisindeki adres aynıdır.\n",
    "#Diğerleri için de yukarıdaki durum sağlanır.\n",
    "a=[10,20,30]\n",
    "x,y,z=a\n",
    "print(id(a[0]))\n",
    "print(id(x))"
   ]
  },
  {
   "cell_type": "code",
   "execution_count": 14,
   "id": "baec33be-23ea-4846-b950-1bd642cee175",
   "metadata": {},
   "outputs": [
    {
     "name": "stdout",
     "output_type": "stream",
     "text": [
      "a: 10\n",
      "b: 20\n",
      "----------\n",
      "a: 20\n",
      "b: 10\n"
     ]
    }
   ],
   "source": [
    "#swap=interchange(yer değiştirme işlemi)\n",
    "a=10\n",
    "b=20\n",
    "print(\"a:\",a)\n",
    "print(\"b:\",b)\n",
    "print(\"-\"*10)\n",
    "a,b=b,a\n",
    "print(\"a:\",a)\n",
    "print(\"b:\",b)"
   ]
  },
  {
   "cell_type": "markdown",
   "id": "1994abc7-4b35-4140-9d75-1ea3c97a6ab9",
   "metadata": {},
   "source": [
    "**RANGE FONKSİYONU:**\n",
    "\n",
    "* built-in fonksiyondur.\n",
    "* 3 şekilde kullanılır:\n",
    "  * * r=range(start,stop,step)\n",
    "    1) r=range(10)      (Tek Argümanlı)  -- **range(stop)**\n",
    "    2) r=range(10,20)   (Çift Argümanlı) -- **range(start,stop)**\n",
    "    3) r=range(10,20,2) (3 Argümanlı)    -- **range(start,stop,step)**\n",
    "\n",
    "* Yukarıdaki fonksiyon **start dahil stop dahil değil** şeklinde çalışır.\n",
    "* **range** fonksiyonunda start,stop,step değerleri int olmalıdır.Float kullanılamaz.\n",
    "* Fakat yaygın kullanılan \"numpy\" kütüohnaesinde \"arange\" isimli float parametreler alabilen dolaşılabilir bir sınıf vardır.(Uygulama kısmında görülecektir.)\n",
    "  "
   ]
  },
  {
   "cell_type": "code",
   "execution_count": 31,
   "id": "f640554a-32b8-4f1c-ab0d-deacc6e4e39a",
   "metadata": {},
   "outputs": [
    {
     "name": "stdout",
     "output_type": "stream",
     "text": [
      "[0, 1, 2, 3, 4, 5, 6, 7, 8, 9]\n"
     ]
    }
   ],
   "source": [
    "#Tek Argümanlı\n",
    "r=range(10)\n",
    "a=list(r)\n",
    "print(a)"
   ]
  },
  {
   "cell_type": "code",
   "execution_count": 40,
   "id": "7716df9d-989a-4e7f-8fa7-8ce2f7940bc9",
   "metadata": {},
   "outputs": [
    {
     "name": "stdout",
     "output_type": "stream",
     "text": [
      "[10, 11, 12, 13, 14, 15, 16, 17, 18, 19]\n"
     ]
    }
   ],
   "source": [
    "#Çift Argümanlı\n",
    "r=range(10,20)\n",
    "a=list(r)\n",
    "print(a)"
   ]
  },
  {
   "cell_type": "code",
   "execution_count": 42,
   "id": "69eeefec-2d1e-4905-9ada-3101c0b9f885",
   "metadata": {},
   "outputs": [
    {
     "name": "stdout",
     "output_type": "stream",
     "text": [
      "[10, 12, 14, 16, 18]\n"
     ]
    }
   ],
   "source": [
    "#3 Argümanlı\n",
    "r=range(10,20,2)\n",
    "a=list(r)\n",
    "print(a)"
   ]
  },
  {
   "cell_type": "code",
   "execution_count": 86,
   "id": "ce610574-4613-41fc-8247-5d30be35bf72",
   "metadata": {},
   "outputs": [
    {
     "name": "stdout",
     "output_type": "stream",
     "text": [
      "[10, 9, 8, 7, 6]\n"
     ]
    }
   ],
   "source": [
    "#star:10,stop:5'tir stop dahil değilidr.\n",
    "r=range(10,5,-1)\n",
    "a=list(r)\n",
    "print(a)"
   ]
  },
  {
   "cell_type": "code",
   "execution_count": 46,
   "id": "fdef3b09-99db-44f7-9f47-edaa59a40eb1",
   "metadata": {},
   "outputs": [
    {
     "name": "stdout",
     "output_type": "stream",
     "text": [
      "[10, 8, 6]\n"
     ]
    }
   ],
   "source": [
    "r=range(10,5,-2)\n",
    "a=list(r)\n",
    "print(a)"
   ]
  },
  {
   "cell_type": "code",
   "execution_count": 48,
   "id": "cf048f11-82c7-4d52-854c-a97858684e46",
   "metadata": {},
   "outputs": [
    {
     "name": "stdout",
     "output_type": "stream",
     "text": [
      "0 1 2\n"
     ]
    }
   ],
   "source": [
    "a,b,c=range(3)\n",
    "print(a,b,c)"
   ]
  },
  {
   "cell_type": "code",
   "execution_count": 51,
   "id": "64817228-ffca-46b6-839f-60989fea27b8",
   "metadata": {},
   "outputs": [
    {
     "ename": "TypeError",
     "evalue": "'float' object cannot be interpreted as an integer",
     "output_type": "error",
     "traceback": [
      "\u001b[1;31m---------------------------------------------------------------------------\u001b[0m",
      "\u001b[1;31mTypeError\u001b[0m                                 Traceback (most recent call last)",
      "Cell \u001b[1;32mIn[51], line 1\u001b[0m\n\u001b[1;32m----> 1\u001b[0m r\u001b[38;5;241m=\u001b[39m\u001b[38;5;28mrange\u001b[39m(\u001b[38;5;241m3\u001b[39m,\u001b[38;5;241m6\u001b[39m,\u001b[38;5;241m0.1\u001b[39m)\n\u001b[0;32m      2\u001b[0m a\u001b[38;5;241m=\u001b[39m\u001b[38;5;28mlist\u001b[39m(r)\n\u001b[0;32m      3\u001b[0m \u001b[38;5;28mprint\u001b[39m(a)\n",
      "\u001b[1;31mTypeError\u001b[0m: 'float' object cannot be interpreted as an integer"
     ]
    }
   ],
   "source": [
    "r=range(3,6,0.1)\n",
    "a=list(r)\n",
    "print(a)"
   ]
  },
  {
   "cell_type": "code",
   "execution_count": 53,
   "id": "2e26cf8d-0b14-4141-9628-8931d21fce4d",
   "metadata": {},
   "outputs": [
    {
     "name": "stdout",
     "output_type": "stream",
     "text": [
      "[-10, -9, -8, -7, -6, -5, -4, -3, -2, -1, 0, 1, 2, 3, 4, 5, 6, 7, 8, 9, 10]\n"
     ]
    }
   ],
   "source": [
    "r=range(-10,11)\n",
    "a=list(r)\n",
    "print(a)"
   ]
  },
  {
   "cell_type": "markdown",
   "id": "d3a2faae-895a-4378-8540-917fc636bdb2",
   "metadata": {},
   "source": [
    "* NOKTA SAYISI ARTTIKÇA KIRIKLIK AZALIR."
   ]
  },
  {
   "cell_type": "code",
   "execution_count": 77,
   "id": "6da64ae5-0642-4f44-bbb9-1a3526c57436",
   "metadata": {},
   "outputs": [
    {
     "data": {
      "image/png": "[encoded data removed]",
      "text/plain": [
       "<Figure size 640x480 with 1 Axes>"
      ]
     },
     "metadata": {},
     "output_type": "display_data"
    }
   ],
   "source": [
    "import matplotlib.pyplot as plt\n",
    "import numpy \n",
    "x=numpy.arange(-6.28,6.28,0.5)\n",
    "y=numpy.sin(x)\n",
    "\n",
    "plt.plot(x,y)\n",
    "plt.show()\n"
   ]
  },
  {
   "cell_type": "code",
   "execution_count": 79,
   "id": "d1073a42-b03a-4166-b2f9-d854f28df24b",
   "metadata": {},
   "outputs": [
    {
     "data": {
      "text/plain": [
       "26"
      ]
     },
     "execution_count": 79,
     "metadata": {},
     "output_type": "execute_result"
    }
   ],
   "source": [
    "len(x)"
   ]
  },
  {
   "cell_type": "code",
   "execution_count": 81,
   "id": "040dc1fd-48b7-485a-ac28-560e343c993c",
   "metadata": {},
   "outputs": [
    {
     "data": {
      "image/png": "[encoded data removed]",
      "text/plain": [
       "<Figure size 640x480 with 1 Axes>"
      ]
     },
     "metadata": {},
     "output_type": "display_data"
    }
   ],
   "source": [
    "import matplotlib.pyplot as plt\n",
    "import numpy \n",
    "x=numpy.arange(-6.28,6.28,0.1)\n",
    "y=numpy.sin(x)\n",
    "\n",
    "plt.plot(x,y)\n",
    "plt.show()"
   ]
  },
  {
   "cell_type": "code",
   "execution_count": 83,
   "id": "6f1d604d-99ed-4f5c-ac64-136332729037",
   "metadata": {},
   "outputs": [
    {
     "data": {
      "text/plain": [
       "126"
      ]
     },
     "execution_count": 83,
     "metadata": {},
     "output_type": "execute_result"
    }
   ],
   "source": [
    "len(x)"
   ]
  },
  {
   "cell_type": "code",
   "execution_count": 88,
   "id": "6744bcda-19e4-41e0-b85b-a16aec3cf45f",
   "metadata": {},
   "outputs": [
    {
     "ename": "ValueError",
     "evalue": "range() arg 3 must not be zero",
     "output_type": "error",
     "traceback": [
      "\u001b[1;31m---------------------------------------------------------------------------\u001b[0m",
      "\u001b[1;31mValueError\u001b[0m                                Traceback (most recent call last)",
      "Cell \u001b[1;32mIn[88], line 1\u001b[0m\n\u001b[1;32m----> 1\u001b[0m r\u001b[38;5;241m=\u001b[39m\u001b[38;5;28mrange\u001b[39m(\u001b[38;5;241m10\u001b[39m,\u001b[38;5;241m20\u001b[39m,\u001b[38;5;241m0\u001b[39m)\n",
      "\u001b[1;31mValueError\u001b[0m: range() arg 3 must not be zero"
     ]
    }
   ],
   "source": [
    "r=range(10,20,0) # Step 0 olamaz.\n"
   ]
  },
  {
   "cell_type": "code",
   "execution_count": 94,
   "id": "27ee5950-f0a0-4f06-aef0-4ddc1ec1577f",
   "metadata": {},
   "outputs": [
    {
     "name": "stdout",
     "output_type": "stream",
     "text": [
      "[12, 13, 14]\n"
     ]
    }
   ],
   "source": [
    "#range listesi dilimlenebilir.\n",
    "r=range(10,20)\n",
    "a=list(r)\n",
    "result=a[2:5]\n",
    "print(result)"
   ]
  },
  {
   "cell_type": "code",
   "execution_count": 96,
   "id": "a7af2c74-d9f2-42c1-beae-b83e5205d8d7",
   "metadata": {},
   "outputs": [
    {
     "data": {
      "text/plain": [
       "True"
      ]
     },
     "execution_count": 96,
     "metadata": {},
     "output_type": "execute_result"
    }
   ],
   "source": [
    "#Listelerde ve demetlerde kullandığımız in ve not in operatörleri range nesnelerinde de kullanılabilmektedir.\n",
    "r=range(30,60,3)\n",
    "39 in r"
   ]
  },
  {
   "cell_type": "code",
   "execution_count": 104,
   "id": "3927da42-80cd-479c-83d5-9997fb5adce6",
   "metadata": {},
   "outputs": [
    {
     "data": {
      "text/plain": [
       "True"
      ]
     },
     "execution_count": 104,
     "metadata": {},
     "output_type": "execute_result"
    }
   ],
   "source": [
    "41 not in r # r nin içinde 41 yok mu"
   ]
  },
  {
   "cell_type": "code",
   "execution_count": 106,
   "id": "bea6d2c3-b67c-41dd-b2c4-b40d44513181",
   "metadata": {},
   "outputs": [
    {
     "data": {
      "text/plain": [
       "False"
      ]
     },
     "execution_count": 106,
     "metadata": {},
     "output_type": "execute_result"
    }
   ],
   "source": [
    "40 in r #r nin içinde 40 var mı"
   ]
  },
  {
   "cell_type": "code",
   "execution_count": null,
   "id": "681c51c6-a5f7-47a3-bf27-1becef4bb279",
   "metadata": {},
   "outputs": [],
   "source": []
  }
 ],
 "metadata": {
  "kernelspec": {
   "display_name": "Python 3 (ipykernel)",
   "language": "python",
   "name": "python3"
  },
  "language_info": {
   "codemirror_mode": {
    "name": "ipython",
    "version": 3
   },
   "file_extension": ".py",
   "mimetype": "text/x-python",
   "name": "python",
   "nbconvert_exporter": "python",
   "pygments_lexer": "ipython3",
   "version": "3.12.4"
  }
 },
 "nbformat": 4,
 "nbformat_minor": 5
}
