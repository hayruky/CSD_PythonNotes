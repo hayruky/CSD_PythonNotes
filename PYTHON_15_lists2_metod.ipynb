{
 "cells": [
  {
   "cell_type": "markdown",
   "id": "76250e97-1265-462f-a055-6f0f439cc211",
   "metadata": {},
   "source": [
    "### 15.DERS - Lists2/Metodlar"
   ]
  },
  {
   "cell_type": "code",
   "execution_count": 14,
   "id": "6a9814f4-8208-44e2-892b-28e82e5c09cb",
   "metadata": {},
   "outputs": [
    {
     "name": "stdout",
     "output_type": "stream",
     "text": [
      "[10, 20, 30, 40, 50, 60, 70, 80, 90, 100]\n",
      "[10, 20, 30, 'a', 'l', 'i', 40, 50, 60, 70, 80, 90, 100]\n"
     ]
    }
   ],
   "source": [
    "\"\"\" Dilimleme yoluyla atama yapılırken dilimleme sonucunda hiçbir eleman seçilmiyorsa\n",
    "bu durum start indeksten itibaren insert işlemi anlamına gelmektedir.\n",
    "\"\"\"\n",
    "a=[10,20,30,40,50,60,70,80,90,100]\n",
    "print(a)\n",
    "a[3:3]=\"ali\"\n",
    "print(a)"
   ]
  },
  {
   "cell_type": "code",
   "execution_count": 18,
   "id": "bc1efdf9-fe35-4068-89ff-347ed63e9a9c",
   "metadata": {},
   "outputs": [
    {
     "data": {
      "text/plain": [
       "[10, 20, 30, 10, 20, 30, 'a', 'l', 'i', 40, 50, 60, 70, 80, 90, 100]"
      ]
     },
     "execution_count": 18,
     "metadata": {},
     "output_type": "execute_result"
    }
   ],
   "source": [
    "a[3:3]=[10,20,30]\n",
    "a"
   ]
  },
  {
   "cell_type": "markdown",
   "id": "829ea201-69b2-4f65-8874-8f8042019d28",
   "metadata": {},
   "source": [
    "**LİST SINIFININ METODLARI**\n",
    "\n",
    "HATIRLATMA:Eğer bir fonksiyon bir sınıfın içindeyse metod,değilse fonksiyon denir.\n",
    "\n",
    "* Bir metodun aynı sınıf türdünden bir değişkenle \".\" operatörüyle çağırılması gerekir.\n",
    "* * a.foo()\n",
    "  * * Burada a hangi sınıf türündense foo da o sınıfın bir metodur.Metodlar belli bir nesne üzerinde işlem yapan fonksiyonlardır.a.foo() ifadesinde a nesnesi üzerinde işlem yapmaktadır.\n"
   ]
  },
  {
   "cell_type": "code",
   "execution_count": 6,
   "id": "db2dc4b3-ad00-4f13-bdee-b2058eacae77",
   "metadata": {},
   "outputs": [],
   "source": [
    "#Örneğin:\n",
    "x=[1,2,3,4,5]\n",
    "#Burada x list sınıfı türünden bir değişkendir.foo list sınıfının metodu olsun:\n",
    "#x.foo()"
   ]
  },
  {
   "cell_type": "markdown",
   "id": "2babf253-d20e-43e6-979a-add19507167b",
   "metadata": {},
   "source": [
    "**METODLAR:**\n",
    "1) ***a.append() :***  Listenin sonuna sadece bir eleman ekler.Birden fazla ifade girilirse liste olarak ekler.\n",
    "2) ***a.extend(iterable):*** Listenin sonuna birden fazla iterable(list,str) ifade ekler.\n",
    "3) ***a.index():*** Bir listedeki istediğiniz sayıyının indexini  verir.Eğer iki tane aynı değerden varsa ilk değerin indeksini verir.\n",
    "İndex metodu 2 ya da 3 argümanla da çağırılabilir.\n",
    "* Eğer 2 argümanla çağırıyorsak:\n",
    "* * 1.argüman aranacak değeri,2.argüman aramanın başlatılacağı indeksi belirtir.\n",
    "* Eğer 3 argümanla çağırıyorsak:\n",
    "* * 3.argüman aramanın bitireleceği indexi belirtir.Bu index aramaya dahil değildir.\n",
    "4) ***a.count():*** Listede yazdığımız değerden kaç tane olduğunu öğreniriz.\n",
    "5) ***a.pop():*** Listede belirttiğimiz indexli ifadeyi siler.\n",
    "6) ***a.remove():*** Listede belirttiğimiz ifadeyi siler.\n",
    "7) ***a.clear():*** Liste içerisindeki bütün ifadeleri siler.\n",
    "8) ***a.reverse() :***  Listeyi ters düz eder.\"in place\" bir işlemdir.\n",
    "9) ***a.sort:*** Listeyi küçükten büyüğe doğru sıralar."
   ]
  },
  {
   "cell_type": "code",
   "execution_count": 27,
   "id": "0b0b23f2-398e-4c0f-9217-3e6ca2aa326f",
   "metadata": {},
   "outputs": [
    {
     "name": "stdout",
     "output_type": "stream",
     "text": [
      "[10, 20, 30, 40, 50]\n"
     ]
    }
   ],
   "source": [
    "a=[10,20,30,40,50]\n",
    "print(a)"
   ]
  },
  {
   "cell_type": "code",
   "execution_count": 29,
   "id": "8697fa3a-dcbc-41be-85cc-3e9a2dc89ecb",
   "metadata": {},
   "outputs": [
    {
     "name": "stdout",
     "output_type": "stream",
     "text": [
      "[10, 20, 30, 40, 50, 100]\n"
     ]
    }
   ],
   "source": [
    "#append\n",
    "a.append(100)\n",
    "print(a)"
   ]
  },
  {
   "cell_type": "code",
   "execution_count": 31,
   "id": "fdd91768-3f0b-49e7-a1c9-7662aa8daad9",
   "metadata": {},
   "outputs": [
    {
     "name": "stdout",
     "output_type": "stream",
     "text": [
      "[10, 20, 30, 40, 50, 100, 'ankara']\n"
     ]
    }
   ],
   "source": [
    "a.append(\"ankara\")\n",
    "print(a)"
   ]
  },
  {
   "cell_type": "code",
   "execution_count": 33,
   "id": "a152848a-e2da-400c-8dc7-a6fffb7ce5af",
   "metadata": {},
   "outputs": [
    {
     "name": "stdout",
     "output_type": "stream",
     "text": [
      "[10, 20, 30, 40, 50, 100, 'ankara', [100, 200, 300]]\n"
     ]
    }
   ],
   "source": [
    "a.append([100,200,300])\n",
    "print(a)"
   ]
  },
  {
   "cell_type": "code",
   "execution_count": 47,
   "id": "61727dc7-ff0a-4e88-9cd1-d1f2318e4acb",
   "metadata": {},
   "outputs": [
    {
     "name": "stdout",
     "output_type": "stream",
     "text": [
      "[10, 20, 30, 40]\n"
     ]
    }
   ],
   "source": [
    "#extend\n",
    "b=[10,20,30,40]\n",
    "print(b)"
   ]
  },
  {
   "cell_type": "code",
   "execution_count": 49,
   "id": "147afa95-f7db-4e62-86cd-dd9c88b7f0f6",
   "metadata": {},
   "outputs": [
    {
     "name": "stdout",
     "output_type": "stream",
     "text": [
      "[10, 20, 30, 40, 50, 60, 70]\n"
     ]
    }
   ],
   "source": [
    "b.extend([50,60,70])\n",
    "print(b)"
   ]
  },
  {
   "cell_type": "code",
   "execution_count": 51,
   "id": "ca2171fa-a8ea-4a24-8fb1-49be986086f2",
   "metadata": {},
   "outputs": [
    {
     "name": "stdout",
     "output_type": "stream",
     "text": [
      "[10, 20, 30, 40, 50, 60, 70, 'ankara', 'bursa']\n"
     ]
    }
   ],
   "source": [
    "b.extend([\"ankara\",\"bursa\"])\n",
    "print(b)"
   ]
  },
  {
   "cell_type": "code",
   "execution_count": 53,
   "id": "43ca52b3-4c76-428c-a5a8-413fb2f11e96",
   "metadata": {},
   "outputs": [
    {
     "name": "stdout",
     "output_type": "stream",
     "text": [
      "[10, 20, 30, 40, 50, 60, 70, 'ankara', 'bursa', 'a', 'l', 'i']\n"
     ]
    }
   ],
   "source": [
    "b.extend(\"ali\")\n",
    "print(b)"
   ]
  },
  {
   "cell_type": "code",
   "execution_count": 55,
   "id": "918d26a9-25fb-46e0-be90-83e8d1088225",
   "metadata": {},
   "outputs": [
    {
     "name": "stdout",
     "output_type": "stream",
     "text": [
      "[10, 20, 30, 40]\n"
     ]
    }
   ],
   "source": [
    "#İndex\n",
    "c=[10,20,30,40]\n",
    "print(c)"
   ]
  },
  {
   "cell_type": "code",
   "execution_count": 63,
   "id": "dba002fb-75f0-4679-a45e-9ba8f5094a02",
   "metadata": {},
   "outputs": [
    {
     "data": {
      "text/plain": [
       "0"
      ]
     },
     "execution_count": 63,
     "metadata": {},
     "output_type": "execute_result"
    }
   ],
   "source": [
    "c.index(10)"
   ]
  },
  {
   "cell_type": "code",
   "execution_count": 67,
   "id": "100ca7ce-256a-4398-83ab-1b32b380dc5c",
   "metadata": {},
   "outputs": [
    {
     "data": {
      "text/plain": [
       "2"
      ]
     },
     "execution_count": 67,
     "metadata": {},
     "output_type": "execute_result"
    }
   ],
   "source": [
    "c.index(30)"
   ]
  },
  {
   "cell_type": "code",
   "execution_count": 69,
   "id": "b62decd1-93fd-4194-a88e-aad785985d2d",
   "metadata": {},
   "outputs": [
    {
     "ename": "ValueError",
     "evalue": "0 is not in list",
     "output_type": "error",
     "traceback": [
      "\u001b[1;31m---------------------------------------------------------------------------\u001b[0m",
      "\u001b[1;31mValueError\u001b[0m                                Traceback (most recent call last)",
      "Cell \u001b[1;32mIn[69], line 1\u001b[0m\n\u001b[1;32m----> 1\u001b[0m c\u001b[38;5;241m.\u001b[39mindex(\u001b[38;5;241m0\u001b[39m)\n",
      "\u001b[1;31mValueError\u001b[0m: 0 is not in list"
     ]
    }
   ],
   "source": [
    "c.index(0)"
   ]
  },
  {
   "cell_type": "code",
   "execution_count": 71,
   "id": "83594420-68ac-4250-ad7f-4433593ce69b",
   "metadata": {},
   "outputs": [
    {
     "name": "stdout",
     "output_type": "stream",
     "text": [
      "[1, 2, 3, 1, 5, 6]\n"
     ]
    }
   ],
   "source": [
    "d=[1,2,3,1,5,6]\n",
    "print(d)"
   ]
  },
  {
   "cell_type": "code",
   "execution_count": 73,
   "id": "f80f9411-2e23-4ab8-9f3f-ae95b802e64f",
   "metadata": {},
   "outputs": [
    {
     "data": {
      "text/plain": [
       "0"
      ]
     },
     "execution_count": 73,
     "metadata": {},
     "output_type": "execute_result"
    }
   ],
   "source": [
    "d.index(1)"
   ]
  },
  {
   "cell_type": "code",
   "execution_count": 77,
   "id": "1d742d3c-522b-494e-8479-05c9e3fbae78",
   "metadata": {},
   "outputs": [
    {
     "data": {
      "text/plain": [
       "3"
      ]
     },
     "execution_count": 77,
     "metadata": {},
     "output_type": "execute_result"
    }
   ],
   "source": [
    "d.index(1,1)"
   ]
  },
  {
   "cell_type": "code",
   "execution_count": 79,
   "id": "126be7df-e564-4302-8387-f0e9ea7acd1f",
   "metadata": {},
   "outputs": [
    {
     "ename": "ValueError",
     "evalue": "1 is not in list",
     "output_type": "error",
     "traceback": [
      "\u001b[1;31m---------------------------------------------------------------------------\u001b[0m",
      "\u001b[1;31mValueError\u001b[0m                                Traceback (most recent call last)",
      "Cell \u001b[1;32mIn[79], line 1\u001b[0m\n\u001b[1;32m----> 1\u001b[0m d\u001b[38;5;241m.\u001b[39mindex(\u001b[38;5;241m1\u001b[39m,\u001b[38;5;241m1\u001b[39m,\u001b[38;5;241m3\u001b[39m)\n",
      "\u001b[1;31mValueError\u001b[0m: 1 is not in list"
     ]
    }
   ],
   "source": [
    "d.index(1,1,3)"
   ]
  },
  {
   "cell_type": "code",
   "execution_count": 81,
   "id": "bdbe4682-ca2b-406d-89db-adadbb662347",
   "metadata": {},
   "outputs": [
    {
     "data": {
      "text/plain": [
       "3"
      ]
     },
     "execution_count": 81,
     "metadata": {},
     "output_type": "execute_result"
    }
   ],
   "source": [
    "d.index(1,1,4)"
   ]
  },
  {
   "cell_type": "code",
   "execution_count": 91,
   "id": "0706b88f-0db7-454b-be0b-e6a6bad53bb8",
   "metadata": {},
   "outputs": [
    {
     "data": {
      "text/plain": [
       "['__add__',\n",
       " '__class__',\n",
       " '__class_getitem__',\n",
       " '__contains__',\n",
       " '__delattr__',\n",
       " '__delitem__',\n",
       " '__dir__',\n",
       " '__doc__',\n",
       " '__eq__',\n",
       " '__format__',\n",
       " '__ge__',\n",
       " '__getattribute__',\n",
       " '__getitem__',\n",
       " '__getstate__',\n",
       " '__gt__',\n",
       " '__hash__',\n",
       " '__iadd__',\n",
       " '__imul__',\n",
       " '__init__',\n",
       " '__init_subclass__',\n",
       " '__iter__',\n",
       " '__le__',\n",
       " '__len__',\n",
       " '__lt__',\n",
       " '__mul__',\n",
       " '__ne__',\n",
       " '__new__',\n",
       " '__reduce__',\n",
       " '__reduce_ex__',\n",
       " '__repr__',\n",
       " '__reversed__',\n",
       " '__rmul__',\n",
       " '__setattr__',\n",
       " '__setitem__',\n",
       " '__sizeof__',\n",
       " '__str__',\n",
       " '__subclasshook__',\n",
       " 'append',\n",
       " 'clear',\n",
       " 'copy',\n",
       " 'count',\n",
       " 'extend',\n",
       " 'index',\n",
       " 'insert',\n",
       " 'pop',\n",
       " 'remove',\n",
       " 'reverse',\n",
       " 'sort']"
      ]
     },
     "execution_count": 91,
     "metadata": {},
     "output_type": "execute_result"
    }
   ],
   "source": [
    "dir (a) #metodları görebiliriz."
   ]
  },
  {
   "cell_type": "code",
   "execution_count": 94,
   "id": "d825dd45-ec26-4c23-b5af-30386abf9b7c",
   "metadata": {},
   "outputs": [
    {
     "name": "stdout",
     "output_type": "stream",
     "text": [
      "[1, 2, 3, 1, 5, 6, 1, 1, 2, 5, 6]\n"
     ]
    }
   ],
   "source": [
    "#count\n",
    "e=[1,2,3,1,5,6,1,1,2,5,6]\n",
    "print(e)"
   ]
  },
  {
   "cell_type": "code",
   "execution_count": 96,
   "id": "857b4f9d-a898-49c3-885c-d17f80600643",
   "metadata": {},
   "outputs": [
    {
     "data": {
      "text/plain": [
       "4"
      ]
     },
     "execution_count": 96,
     "metadata": {},
     "output_type": "execute_result"
    }
   ],
   "source": [
    "e.count(1)"
   ]
  },
  {
   "cell_type": "code",
   "execution_count": 98,
   "id": "963afb55-ab80-4057-8ce5-5238e8c4584e",
   "metadata": {},
   "outputs": [
    {
     "data": {
      "text/plain": [
       "2"
      ]
     },
     "execution_count": 98,
     "metadata": {},
     "output_type": "execute_result"
    }
   ],
   "source": [
    "e.count(5)"
   ]
  },
  {
   "cell_type": "code",
   "execution_count": 100,
   "id": "8ff33858-087c-4646-bbf5-3616e9784564",
   "metadata": {},
   "outputs": [
    {
     "data": {
      "text/plain": [
       "0"
      ]
     },
     "execution_count": 100,
     "metadata": {},
     "output_type": "execute_result"
    }
   ],
   "source": [
    "e.count(7)"
   ]
  },
  {
   "cell_type": "code",
   "execution_count": 112,
   "id": "7ec723d3-15ff-4452-89b5-6d57d3c4429e",
   "metadata": {},
   "outputs": [
    {
     "name": "stdout",
     "output_type": "stream",
     "text": [
      "[1, 2, 3, 1, 5, 6, 1, 1, 2, 5, 6]\n"
     ]
    }
   ],
   "source": [
    "#pop\n",
    "e=[1,2,3,1,5,6,1,1,2,5,6]\n",
    "print(e)\n"
   ]
  },
  {
   "cell_type": "code",
   "execution_count": 114,
   "id": "d8229760-8c5c-47f2-9e6b-c3486c9cfc0a",
   "metadata": {},
   "outputs": [
    {
     "name": "stdout",
     "output_type": "stream",
     "text": [
      "[1, 3, 1, 5, 6, 1, 1, 2, 5, 6]\n"
     ]
    }
   ],
   "source": [
    "e.pop(1)\n",
    "print(e)"
   ]
  },
  {
   "cell_type": "code",
   "execution_count": 116,
   "id": "cb985634-1733-4942-84cc-a45406b78781",
   "metadata": {},
   "outputs": [
    {
     "name": "stdout",
     "output_type": "stream",
     "text": [
      "[1, 3, 1, 5, 6, 1, 1, 2, 5]\n"
     ]
    }
   ],
   "source": [
    "e.pop(-1) #En sondan bir önceki elemanı siler.\n",
    "print(e)"
   ]
  },
  {
   "cell_type": "code",
   "execution_count": 128,
   "id": "355f3170-0b72-4b19-98da-243fe6a30b34",
   "metadata": {},
   "outputs": [
    {
     "name": "stdout",
     "output_type": "stream",
     "text": [
      "[45, 60, 12, 74]\n"
     ]
    }
   ],
   "source": [
    "#remove \n",
    "f=[45,60,12,74]\n",
    "print(f)"
   ]
  },
  {
   "cell_type": "code",
   "execution_count": 130,
   "id": "b263b5fe-d906-40ba-9560-9ead24e4ee3b",
   "metadata": {},
   "outputs": [
    {
     "name": "stdout",
     "output_type": "stream",
     "text": [
      "[45, 60, 74]\n"
     ]
    }
   ],
   "source": [
    "f.remove(12)\n",
    "print(f)"
   ]
  },
  {
   "cell_type": "code",
   "execution_count": 132,
   "id": "26867431-b1cc-4479-b8ca-e48b20b7b9f9",
   "metadata": {},
   "outputs": [
    {
     "name": "stdout",
     "output_type": "stream",
     "text": [
      "['ali', 'veli', 'ahmet']\n"
     ]
    }
   ],
   "source": [
    "#clear\n",
    "g=[\"ali\",\"veli\",\"ahmet\"]\n",
    "print(g)"
   ]
  },
  {
   "cell_type": "code",
   "execution_count": 136,
   "id": "fdfa8218-1b14-4a28-bbc4-e276e625b64a",
   "metadata": {},
   "outputs": [
    {
     "name": "stdout",
     "output_type": "stream",
     "text": [
      "[]\n"
     ]
    }
   ],
   "source": [
    "g.clear()\n",
    "print(g)"
   ]
  },
  {
   "cell_type": "code",
   "execution_count": 148,
   "id": "4874891b-eaba-49ab-929f-71915d55612b",
   "metadata": {},
   "outputs": [
    {
     "name": "stdout",
     "output_type": "stream",
     "text": [
      "[11, 12, 13, 14, 15]\n"
     ]
    }
   ],
   "source": [
    "#reverse\n",
    "h=[11,12,13,14,15]\n",
    "print(h)"
   ]
  },
  {
   "cell_type": "code",
   "execution_count": 156,
   "id": "f160bd1b-7c2c-4fc6-8443-c837ef03e65c",
   "metadata": {},
   "outputs": [
    {
     "name": "stdout",
     "output_type": "stream",
     "text": [
      "[15, 14, 13, 12, 11]\n"
     ]
    }
   ],
   "source": [
    "h.reverse()\n",
    "print(h)\n",
    "#bu işlem h listesine doğrudan etki eder dolayısıyla inplace bir işlemdir."
   ]
  },
  {
   "cell_type": "code",
   "execution_count": 160,
   "id": "6c7b6f0a-e299-4cbd-a81b-34ebeb57b3aa",
   "metadata": {},
   "outputs": [
    {
     "name": "stdout",
     "output_type": "stream",
     "text": [
      "[1, 2, 3, 4]\n",
      "[4, 3, 2, 1]\n"
     ]
    }
   ],
   "source": [
    "a=[1,2,3,4]\n",
    "b=a[::-1]\n",
    "print(a)\n",
    "print(b)\n",
    "#bu işlem a listesine etki etmez dolayısıyla inplace bir işlem değildir."
   ]
  },
  {
   "cell_type": "code",
   "execution_count": 162,
   "id": "8f59770e-f494-4c62-a04e-e62a2b7ce625",
   "metadata": {},
   "outputs": [
    {
     "name": "stdout",
     "output_type": "stream",
     "text": [
      "[1, 5, 9, 4, 3, 2, 65, 45, 21, 12, 36]\n"
     ]
    }
   ],
   "source": [
    "#sort\n",
    "ı=[1,5,9,4,3,2,65,45,21,12,36]\n",
    "print(ı)"
   ]
  },
  {
   "cell_type": "code",
   "execution_count": 166,
   "id": "c5ad14e7-cf63-4d99-bf84-58be557f2901",
   "metadata": {},
   "outputs": [
    {
     "name": "stdout",
     "output_type": "stream",
     "text": [
      "[1, 2, 3, 4, 5, 9, 12, 21, 36, 45, 65]\n"
     ]
    }
   ],
   "source": [
    "ı.sort()\n",
    "print(ı)"
   ]
  },
  {
   "cell_type": "code",
   "execution_count": 168,
   "id": "df6bec01-a911-4e9c-bd88-11ac59eed470",
   "metadata": {},
   "outputs": [
    {
     "name": "stdout",
     "output_type": "stream",
     "text": [
      "['ali', 'canan', 'burak', 'veli', 'aziz']\n"
     ]
    }
   ],
   "source": [
    "names=[\"ali\",\"canan\",\"burak\",\"veli\",\"aziz\"]\n",
    "print(names)"
   ]
  },
  {
   "cell_type": "code",
   "execution_count": 172,
   "id": "83cabc3a-3bfb-4110-be0e-b7493d873fd7",
   "metadata": {},
   "outputs": [
    {
     "name": "stdout",
     "output_type": "stream",
     "text": [
      "['ali', 'aziz', 'burak', 'canan', 'veli']\n"
     ]
    }
   ],
   "source": [
    "names.sort()\n",
    "print(names)\n",
    "#alfabetik olarak sıralama yapar."
   ]
  },
  {
   "cell_type": "code",
   "execution_count": 174,
   "id": "c44b9e43-43bf-4121-8c43-a860ba062aaa",
   "metadata": {},
   "outputs": [
    {
     "name": "stdout",
     "output_type": "stream",
     "text": [
      "[1, 7, 'ali', 'veli', 5, 6]\n"
     ]
    },
    {
     "ename": "TypeError",
     "evalue": "'<' not supported between instances of 'str' and 'int'",
     "output_type": "error",
     "traceback": [
      "\u001b[1;31m---------------------------------------------------------------------------\u001b[0m",
      "\u001b[1;31mTypeError\u001b[0m                                 Traceback (most recent call last)",
      "Cell \u001b[1;32mIn[174], line 3\u001b[0m\n\u001b[0;32m      1\u001b[0m mix\u001b[38;5;241m=\u001b[39m[\u001b[38;5;241m1\u001b[39m,\u001b[38;5;241m7\u001b[39m,\u001b[38;5;124m\"\u001b[39m\u001b[38;5;124mali\u001b[39m\u001b[38;5;124m\"\u001b[39m,\u001b[38;5;124m\"\u001b[39m\u001b[38;5;124mveli\u001b[39m\u001b[38;5;124m\"\u001b[39m,\u001b[38;5;241m5\u001b[39m,\u001b[38;5;241m6\u001b[39m]\n\u001b[0;32m      2\u001b[0m \u001b[38;5;28mprint\u001b[39m(mix)\n\u001b[1;32m----> 3\u001b[0m mix\u001b[38;5;241m.\u001b[39msort()\n\u001b[0;32m      4\u001b[0m \u001b[38;5;28mprint\u001b[39m(mix)\n",
      "\u001b[1;31mTypeError\u001b[0m: '<' not supported between instances of 'str' and 'int'"
     ]
    }
   ],
   "source": [
    "mix=[1,7,\"ali\",\"veli\",5,6]\n",
    "print(mix)\n",
    "mix.sort()\n",
    "print(mix)"
   ]
  },
  {
   "cell_type": "markdown",
   "id": "496aff62-b72c-4796-ba28-089493b6e8e7",
   "metadata": {},
   "source": [
    "Ters düz etme yöntemini built-in bir ifadeyle inplace olmayacak şekilde de yapabiliriz.\n",
    "\n",
    "\"reversed()\"\n"
   ]
  },
  {
   "cell_type": "code",
   "execution_count": 180,
   "id": "70a1ca79-38f8-41f5-8a86-b513eeff02c9",
   "metadata": {},
   "outputs": [
    {
     "name": "stdout",
     "output_type": "stream",
     "text": [
      "[4, 2, 6, 5]\n"
     ]
    }
   ],
   "source": [
    "a=[4,2,6,5]\n",
    "print(a)"
   ]
  },
  {
   "cell_type": "code",
   "execution_count": 182,
   "id": "c31957af-9684-4e3b-8fca-3c13fdbd1cb6",
   "metadata": {},
   "outputs": [
    {
     "name": "stdout",
     "output_type": "stream",
     "text": [
      "<list_reverseiterator object at 0x00000217AC273A30>\n"
     ]
    }
   ],
   "source": [
    "b=reversed(a)\n",
    "print(b)"
   ]
  },
  {
   "cell_type": "code",
   "execution_count": 184,
   "id": "751de260-8eb0-4413-964c-26f4b3701a7f",
   "metadata": {},
   "outputs": [
    {
     "data": {
      "text/plain": [
       "[5, 6, 2, 4]"
      ]
     },
     "execution_count": 184,
     "metadata": {},
     "output_type": "execute_result"
    }
   ],
   "source": [
    "list(b)"
   ]
  },
  {
   "cell_type": "code",
   "execution_count": null,
   "id": "c62ad6b5-68b5-42d7-8317-ff6eb424b0f1",
   "metadata": {},
   "outputs": [],
   "source": []
  }
 ],
 "metadata": {
  "kernelspec": {
   "display_name": "Python 3 (ipykernel)",
   "language": "python",
   "name": "python3"
  },
  "language_info": {
   "codemirror_mode": {
    "name": "ipython",
    "version": 3
   },
   "file_extension": ".py",
   "mimetype": "text/x-python",
   "name": "python",
   "nbconvert_exporter": "python",
   "pygments_lexer": "ipython3",
   "version": "3.12.4"
  }
 },
 "nbformat": 4,
 "nbformat_minor": 5
}
