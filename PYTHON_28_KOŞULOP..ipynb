{
 "cells": [
  {
   "cell_type": "markdown",
   "id": "4216ee2d-45e9-43ef-87fb-48160e881384",
   "metadata": {},
   "source": [
    "### 28.DERS-ConditionalOperator"
   ]
  },
  {
   "cell_type": "markdown",
   "id": "aba07c29-17d0-46df-b50c-c4e25ce952e0",
   "metadata": {},
   "source": [
    "**Conditional Operator(Koşul Operatörü):**\n",
    "* Koşul operatörü üç operandlı bir operatördür.\n",
    "* Koşul operaatörünün varolmasının sebebi bir koşula bağlı olarak elde edilen değerin ifadenin devamında kullanılabilmesidir.\n",
    "* İf deyimine benzemekle birlikte değer üretir.\n",
    "* Koşul operatörü if deyimiyle karıştırılmamalıdır.\n",
    "* **Genel biçim:** ifade1 *if* ifade2 *else* ifade3\n",
    "* Elde edilen değeri ilerde kullanacaksak bu operatörü kullanmalıyız."
   ]
  },
  {
   "cell_type": "code",
   "execution_count": 7,
   "id": "0528b8b2-85bb-480d-a5b8-bcc60f2b2c17",
   "metadata": {},
   "outputs": [
    {
     "name": "stdin",
     "output_type": "stream",
     "text": [
      "Bir değer giriniz: 11\n"
     ]
    },
    {
     "name": "stdout",
     "output_type": "stream",
     "text": [
      "200\n"
     ]
    }
   ],
   "source": [
    "val=int(input(\"Bir değer giriniz:\"))\n",
    "result=100 if val % 2 == 0 else 200\n",
    "print(result)"
   ]
  },
  {
   "cell_type": "code",
   "execution_count": 11,
   "id": "4d35325a-8f16-4e72-a796-df9881bb5dbb",
   "metadata": {},
   "outputs": [
    {
     "name": "stdin",
     "output_type": "stream",
     "text": [
      "Bir değer giriniz: 10\n"
     ]
    },
    {
     "name": "stdout",
     "output_type": "stream",
     "text": [
      "çift\n"
     ]
    }
   ],
   "source": [
    "val=int(input(\"Bir değer giriniz:\"))\n",
    "print(\"çift\" if val % 2==0 else \"tek\")"
   ]
  },
  {
   "cell_type": "markdown",
   "id": "ba585c20-7c03-483a-8cb5-644149a94bda",
   "metadata": {},
   "source": [
    "* KOŞUL OPERATÖRÜ ÖZELLİKLER 3 DURUMDA TERCİH EDİLMELİDİR:\n",
    "1) **Bir karşılaştırma sonucunda elde edilen değerin bir değişkene atandığı durumlarda**"
   ]
  },
  {
   "cell_type": "code",
   "execution_count": 15,
   "id": "85f2edb2-62c5-4c12-a3b6-bbad47d0a7e8",
   "metadata": {},
   "outputs": [
    {
     "name": "stdin",
     "output_type": "stream",
     "text": [
      "Bir değer giriniz: 10\n"
     ]
    },
    {
     "name": "stdout",
     "output_type": "stream",
     "text": [
      "100\n"
     ]
    }
   ],
   "source": [
    "#Örneğin:\n",
    "val=int(input(\"Bir değer giriniz:\"))\n",
    "result=100 if val % 2 == 0 else 200\n",
    "print(result)"
   ]
  },
  {
   "cell_type": "markdown",
   "id": "a07cb726-17d9-4c85-a888-23dcf1c56f2d",
   "metadata": {},
   "source": [
    "2) **Fonksiyon ya da metot çağrımlarında argüman olarak koşul operatörü bazen yazımı kısaltmak için kullanılabilmektedir.**\n"
   ]
  },
  {
   "cell_type": "code",
   "execution_count": 22,
   "id": "7ed3a2c0-ba98-4036-865e-36397b85999c",
   "metadata": {},
   "outputs": [
    {
     "name": "stdin",
     "output_type": "stream",
     "text": [
      "Bir sayı giriniz: 10\n"
     ]
    },
    {
     "name": "stdout",
     "output_type": "stream",
     "text": [
      "çift\n"
     ]
    }
   ],
   "source": [
    "val = int(input('Bir sayı giriniz:'))\n",
    "print('çift' if val % 2 == 0 else 'tek')  \n"
   ]
  },
  {
   "cell_type": "code",
   "execution_count": 26,
   "id": "454b3e0a-149f-44c2-82ac-e201659e1045",
   "metadata": {},
   "outputs": [
    {
     "name": "stdin",
     "output_type": "stream",
     "text": [
      "Bir sayı giriniz: 11\n"
     ]
    },
    {
     "name": "stdout",
     "output_type": "stream",
     "text": [
      "tek\n"
     ]
    }
   ],
   "source": [
    "#Aslında burada yapılmak istenen aşağıdakiyle tamamen eşdeğerdir:\n",
    "val = int(input('Bir sayı giriniz:'))\n",
    "if val % 2 == 0:\n",
    "    \n",
    "    print('çift')\n",
    "else:\n",
    "    print('tek')\n"
   ]
  },
  {
   "cell_type": "markdown",
   "id": "18f7f6c9-1a2a-4851-aa60-8dc0610fb447",
   "metadata": {},
   "source": [
    "3) **return ifadelerinde de koşul operatörü bazı durumlarda tercih edilmektedir.**"
   ]
  },
  {
   "cell_type": "code",
   "execution_count": 41,
   "id": "f8d180c0-64d0-463a-8f3c-86b79ae4208f",
   "metadata": {},
   "outputs": [
    {
     "ename": "SyntaxError",
     "evalue": "'return' outside function (1791863900.py, line 2)",
     "output_type": "error",
     "traceback": [
      "\u001b[1;36m  Cell \u001b[1;32mIn[41], line 2\u001b[1;36m\u001b[0m\n\u001b[1;33m    return 100 if a % 2 == 0 else 200\u001b[0m\n\u001b[1;37m    ^\u001b[0m\n\u001b[1;31mSyntaxError\u001b[0m\u001b[1;31m:\u001b[0m 'return' outside function\n"
     ]
    }
   ],
   "source": [
    "a=100\n",
    "return 100 if a % 2 == 0 else 200"
   ]
  },
  {
   "cell_type": "code",
   "execution_count": 39,
   "id": "a01aa965-90df-4e8f-88df-f117d43ef088",
   "metadata": {},
   "outputs": [
    {
     "ename": "SyntaxError",
     "evalue": "'return' outside function (3922313820.py, line 2)",
     "output_type": "error",
     "traceback": [
      "\u001b[1;36m  Cell \u001b[1;32mIn[39], line 2\u001b[1;36m\u001b[0m\n\u001b[1;33m    return 100\u001b[0m\n\u001b[1;37m    ^\u001b[0m\n\u001b[1;31mSyntaxError\u001b[0m\u001b[1;31m:\u001b[0m 'return' outside function\n"
     ]
    }
   ],
   "source": [
    "if a % 2 == 0:\n",
    "    return 100\n",
    "else:\n",
    "    return 200\n",
    "\n",
    "#return işlemi fonksiyonların anlatıldığı izleyen bölümlerde ele alınmaktadır."
   ]
  },
  {
   "cell_type": "markdown",
   "id": "7fdfe973-86a7-4b60-aebe-8ee785299e79",
   "metadata": {},
   "source": [
    " Koşul operatör olmasaydı biz if deyimini kullanarak yine yapmak istediğimiz şeyleri yapardık. Koşul operatörü bazı ifadelerin daha kompakt yazılabilmesine olanak sağlamaktadır.\n",
    "\n",
    " Örneğin 0'dan 50'ye kadar sayıları aşağıdaki gibi beşer beşer yazdırmak isteyelim:\n"
   ]
  },
  {
   "cell_type": "code",
   "execution_count": 46,
   "id": "e2ae193a-cf4d-4303-80c6-5cbf4f62d61d",
   "metadata": {},
   "outputs": [
    {
     "name": "stdout",
     "output_type": "stream",
     "text": [
      "0 1 2 3 4\n",
      "5 6 7 8 9\n",
      "10 11 12 13 14\n",
      "15 16 17 18 19\n",
      "20 21 22 23 24\n",
      "25 26 27 28 29\n",
      "30 31 32 33 34\n",
      "35 36 37 38 39\n",
      "40 41 42 43 44\n",
      "45 46 47 48 49\n"
     ]
    }
   ],
   "source": [
    "#İf deyimiyle\n",
    "for i in range(50):  \n",
    "    if i % 5 == 4:\n",
    "        print(i, end='\\n')\n",
    "    else:\n",
    "        print(i, end=' ')\n"
   ]
  },
  {
   "cell_type": "code",
   "execution_count": 51,
   "id": "c7a36de0-71aa-40a0-9596-955f3e19eeb6",
   "metadata": {},
   "outputs": [
    {
     "name": "stdout",
     "output_type": "stream",
     "text": [
      "0 1 2 3 4\n",
      "5 6 7 8 9\n",
      "10 11 12 13 14\n",
      "15 16 17 18 19\n",
      "20 21 22 23 24\n",
      "25 26 27 28 29\n",
      "30 31 32 33 34\n",
      "35 36 37 38 39\n",
      "40 41 42 43 44\n",
      "45 46 47 48 49\n"
     ]
    }
   ],
   "source": [
    "#İf koşuluyla\n",
    "for i in range(50):\n",
    "    print(i,end=\"\\n\" if i % 5 == 4 else \" \")"
   ]
  },
  {
   "cell_type": "code",
   "execution_count": 57,
   "id": "af9de6ae-77ee-45fb-a062-9227fdc3b34e",
   "metadata": {},
   "outputs": [
    {
     "name": "stdin",
     "output_type": "stream",
     "text": [
      "Bir değer giriniz: 10\n",
      "Bir değer giriniz: 20\n",
      "Bir değer giriniz: 30\n"
     ]
    },
    {
     "name": "stdout",
     "output_type": "stream",
     "text": [
      "30\n"
     ]
    }
   ],
   "source": [
    "#Koşul operatörü içi içe kullanılabilir\n",
    "a = int(input('Bir değer giriniz:'))\n",
    "b = int(input('Bir değer giriniz:'))\n",
    "c = int(input('Bir değer giriniz:'))\n",
    "result = (a if a > c  else c) if a > b else (b if b > c else c)   \n",
    "print(result)\n"
   ]
  },
  {
   "cell_type": "markdown",
   "id": "61c4fa26-3802-4003-bd1f-0ffb3756e2a1",
   "metadata": {},
   "source": []
  }
 ],
 "metadata": {
  "kernelspec": {
   "display_name": "Python 3 (ipykernel)",
   "language": "python",
   "name": "python3"
  },
  "language_info": {
   "codemirror_mode": {
    "name": "ipython",
    "version": 3
   },
   "file_extension": ".py",
   "mimetype": "text/x-python",
   "name": "python",
   "nbconvert_exporter": "python",
   "pygments_lexer": "ipython3",
   "version": "3.12.4"
  }
 },
 "nbformat": 4,
 "nbformat_minor": 5
}
