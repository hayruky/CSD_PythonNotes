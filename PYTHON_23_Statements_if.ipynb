{
 "cells": [
  {
   "cell_type": "markdown",
   "id": "a8353826-e35f-491e-ab10-e379040afa43",
   "metadata": {
    "tags": []
   },
   "source": [
    "### 23.DERS-Statements/if"
   ]
  },
  {
   "cell_type": "markdown",
   "id": "d9ad8c97-17dd-456b-9274-e266d9341e4a",
   "metadata": {
    "tags": []
   },
   "source": [
    "**del deyimi:**"
   ]
  },
  {
   "cell_type": "code",
   "execution_count": 2,
   "id": "5a7765b6-a585-4725-b290-5b51b9504581",
   "metadata": {},
   "outputs": [
    {
     "ename": "NameError",
     "evalue": "name 's' is not defined",
     "output_type": "error",
     "traceback": [
      "\u001b[1;31m---------------------------------------------------------------------------\u001b[0m",
      "\u001b[1;31mNameError\u001b[0m                                 Traceback (most recent call last)",
      "\u001b[1;32m~\\AppData\\Local\\Temp\\ipykernel_14136\\3256295950.py\u001b[0m in \u001b[0;36m<module>\u001b[1;34m\u001b[0m\n\u001b[0;32m      2\u001b[0m \u001b[0ms\u001b[0m\u001b[1;33m=\u001b[0m\u001b[1;34m\"ankara\"\u001b[0m\u001b[1;33m\u001b[0m\u001b[1;33m\u001b[0m\u001b[0m\n\u001b[0;32m      3\u001b[0m \u001b[1;32mdel\u001b[0m \u001b[0ms\u001b[0m\u001b[1;33m\u001b[0m\u001b[1;33m\u001b[0m\u001b[0m\n\u001b[1;32m----> 4\u001b[1;33m \u001b[0mprint\u001b[0m\u001b[1;33m(\u001b[0m\u001b[0ms\u001b[0m\u001b[1;33m)\u001b[0m\u001b[1;33m\u001b[0m\u001b[1;33m\u001b[0m\u001b[0m\n\u001b[0m",
      "\u001b[1;31mNameError\u001b[0m: name 's' is not defined"
     ]
    }
   ],
   "source": [
    "#s i sildiğimiz için tanımlı halde bulamadı.\n",
    "s=\"ankara\"\n",
    "del s\n",
    "print(s)"
   ]
  },
  {
   "cell_type": "code",
   "execution_count": 12,
   "id": "cd26a850-afed-40bc-bfb0-e15ff0653d06",
   "metadata": {},
   "outputs": [
    {
     "name": "stdout",
     "output_type": "stream",
     "text": [
      "[1, 2, 3, 4, 5, 6, 7, 8, 9, 10]\n"
     ]
    }
   ],
   "source": [
    "# hatırlarsak del deyimi ile köşeli parantez ile erişebildiğimiz veriler de silinebilir:\n",
    "a=[1,2,3,4,5,6,7,8,9,10]\n",
    "print(a)\n"
   ]
  },
  {
   "cell_type": "code",
   "execution_count": 13,
   "id": "a04caac7-098c-4058-816f-2a6fde4d47bb",
   "metadata": {},
   "outputs": [
    {
     "name": "stdout",
     "output_type": "stream",
     "text": [
      "[1, 3, 4, 5, 6, 7, 8, 9, 10]\n"
     ]
    }
   ],
   "source": [
    "del a[1]\n",
    "print(a)"
   ]
  },
  {
   "cell_type": "code",
   "execution_count": 15,
   "id": "79c85fb9-117a-4b9f-bfed-0717acefb11f",
   "metadata": {},
   "outputs": [
    {
     "name": "stdout",
     "output_type": "stream",
     "text": [
      "[1, 3, 7, 8, 9, 10]\n"
     ]
    }
   ],
   "source": [
    "del a[2:5]\n",
    "print(a)"
   ]
  },
  {
   "cell_type": "markdown",
   "id": "404e01c7-d82e-4b09-89f1-e3c2c52a228f",
   "metadata": {
    "tags": []
   },
   "source": [
    "**Python'da Değişkenlerin \"==\" ve \"!=\" Operatörleriyle Karşılaştırılması:** \n",
    "\n",
    "\n",
    "* Pythonda farklı türler her zaman  \"==\" ve \"!=\" operatörleriyle karşılaştırılır.\n",
    "* int,float,bool,str türleri dışındaki farklı türler bu operatörlerle karşılaştırıldığında;\n",
    "* * **==** operatörü her zaman False,\n",
    "* * **!=** operatörü her zaman True değerini verir.\n",
    "* Bir str ile farklı türden bir nesne == ile karşılaştırıldığında False,\n",
    "* != ile karşılatırıldığında True değeri elde ederiz.\n",
    "* İnt,float,bool,str dışındaki farklı türleri **== ve !=** ile karşılaştırabiliriz ancak  **>, <, >= , <=**  operatörleriyle karşılaştıramayız."
   ]
  },
  {
   "cell_type": "code",
   "execution_count": 16,
   "id": "4563b89f-3574-4338-9aa9-8a959ba2692d",
   "metadata": {},
   "outputs": [
    {
     "data": {
      "text/plain": [
       "False"
      ]
     },
     "execution_count": 16,
     "metadata": {},
     "output_type": "execute_result"
    }
   ],
   "source": [
    "s=\"ankara\"\n",
    "k=123\n",
    "s==k"
   ]
  },
  {
   "cell_type": "code",
   "execution_count": 17,
   "id": "90d83d9f-42da-4a5d-8c4c-0f4d1bcdcfec",
   "metadata": {},
   "outputs": [
    {
     "data": {
      "text/plain": [
       "True"
      ]
     },
     "execution_count": 17,
     "metadata": {},
     "output_type": "execute_result"
    }
   ],
   "source": [
    "s!=k"
   ]
  },
  {
   "cell_type": "code",
   "execution_count": 18,
   "id": "885e5119-08d8-474a-ac79-37c8705e7d46",
   "metadata": {},
   "outputs": [
    {
     "ename": "TypeError",
     "evalue": "'>' not supported between instances of 'list' and 'tuple'",
     "output_type": "error",
     "traceback": [
      "\u001b[1;31m---------------------------------------------------------------------------\u001b[0m",
      "\u001b[1;31mTypeError\u001b[0m                                 Traceback (most recent call last)",
      "\u001b[1;32m~\\AppData\\Local\\Temp\\ipykernel_14136\\1215192522.py\u001b[0m in \u001b[0;36m<module>\u001b[1;34m\u001b[0m\n\u001b[0;32m      1\u001b[0m \u001b[0ma\u001b[0m\u001b[1;33m=\u001b[0m\u001b[1;33m[\u001b[0m\u001b[1;36m10\u001b[0m\u001b[1;33m,\u001b[0m\u001b[1;36m20\u001b[0m\u001b[1;33m]\u001b[0m\u001b[1;33m\u001b[0m\u001b[1;33m\u001b[0m\u001b[0m\n\u001b[0;32m      2\u001b[0m \u001b[0mb\u001b[0m\u001b[1;33m=\u001b[0m\u001b[1;33m(\u001b[0m\u001b[1;36m10\u001b[0m\u001b[1;33m,\u001b[0m\u001b[1;36m20\u001b[0m\u001b[1;33m)\u001b[0m\u001b[1;33m\u001b[0m\u001b[1;33m\u001b[0m\u001b[0m\n\u001b[1;32m----> 3\u001b[1;33m \u001b[0ma\u001b[0m\u001b[1;33m>\u001b[0m\u001b[0mb\u001b[0m\u001b[1;33m\u001b[0m\u001b[1;33m\u001b[0m\u001b[0m\n\u001b[0m",
      "\u001b[1;31mTypeError\u001b[0m: '>' not supported between instances of 'list' and 'tuple'"
     ]
    }
   ],
   "source": [
    "a=[10,20]\n",
    "b=(10,20)\n",
    "a>b"
   ]
  },
  {
   "cell_type": "code",
   "execution_count": 19,
   "id": "e9f227d1-ac5b-41b1-8494-dd79a80a59c6",
   "metadata": {},
   "outputs": [
    {
     "data": {
      "text/plain": [
       "False"
      ]
     },
     "execution_count": 19,
     "metadata": {},
     "output_type": "execute_result"
    }
   ],
   "source": [
    "#Farklı türler olduğu için eşit değillerdir.\n",
    "a=[10,20]\n",
    "b=(10,20)\n",
    "a==b"
   ]
  },
  {
   "cell_type": "markdown",
   "id": "7373fa28-a55d-4987-95ad-6862ec8d0bb6",
   "metadata": {
    "tags": []
   },
   "source": [
    "**İki listenin ve iki demetin Karşılaştırılması:**\n",
    "* Tüm karşılaştırma operatörleriyle karşılaştırılabilirler.\n",
    "* Leksikigrofik şekilde karşılaştırılır.\n",
    "* Karşılıklı elemanlar karşılaştırılabilir olmalıdır."
   ]
  },
  {
   "cell_type": "code",
   "execution_count": 20,
   "id": "5b41b7cf-1989-428c-9b93-f9c0f11718c3",
   "metadata": {},
   "outputs": [
    {
     "data": {
      "text/plain": [
       "True"
      ]
     },
     "execution_count": 20,
     "metadata": {},
     "output_type": "execute_result"
    }
   ],
   "source": [
    "#\n",
    "a=[10,20,30]\n",
    "b=[10,20,30]\n",
    "a==b"
   ]
  },
  {
   "cell_type": "code",
   "execution_count": 23,
   "id": "e84b3cc8-fcff-4f32-85d1-5aefe737fb5d",
   "metadata": {},
   "outputs": [
    {
     "data": {
      "text/plain": [
       "True"
      ]
     },
     "execution_count": 23,
     "metadata": {},
     "output_type": "execute_result"
    }
   ],
   "source": [
    "a=[10,20,30]\n",
    "b=[10,20,40]\n",
    "a<b"
   ]
  },
  {
   "cell_type": "code",
   "execution_count": 24,
   "id": "184e3e72-c81b-4221-98e1-eb0b641ba80c",
   "metadata": {},
   "outputs": [
    {
     "data": {
      "text/plain": [
       "True"
      ]
     },
     "execution_count": 24,
     "metadata": {},
     "output_type": "execute_result"
    }
   ],
   "source": [
    "a=[10,20,30]\n",
    "b=[10,20,30,40]\n",
    "b>a"
   ]
  },
  {
   "cell_type": "markdown",
   "id": "2d3e09b0-a347-49be-b6d9-41421933865c",
   "metadata": {
    "tags": []
   },
   "source": [
    "* İki sözlük sadece \"==\" ve \"!=\" operatörleriyle karşılaştırılabilir."
   ]
  },
  {
   "cell_type": "code",
   "execution_count": 28,
   "id": "fb473dfb-a561-4600-9714-e6e61b17cf7d",
   "metadata": {},
   "outputs": [
    {
     "ename": "TypeError",
     "evalue": "'>' not supported between instances of 'dict' and 'dict'",
     "output_type": "error",
     "traceback": [
      "\u001b[1;31m---------------------------------------------------------------------------\u001b[0m",
      "\u001b[1;31mTypeError\u001b[0m                                 Traceback (most recent call last)",
      "\u001b[1;32m~\\AppData\\Local\\Temp\\ipykernel_14136\\1611527143.py\u001b[0m in \u001b[0;36m<module>\u001b[1;34m\u001b[0m\n\u001b[0;32m      1\u001b[0m \u001b[0md\u001b[0m\u001b[1;33m=\u001b[0m\u001b[1;33m{\u001b[0m\u001b[1;34m\"ali\"\u001b[0m\u001b[1;33m:\u001b[0m\u001b[1;36m6\u001b[0m\u001b[1;33m,\u001b[0m\u001b[1;34m\"veli\"\u001b[0m\u001b[1;33m:\u001b[0m\u001b[1;36m8\u001b[0m\u001b[1;33m}\u001b[0m\u001b[1;33m\u001b[0m\u001b[1;33m\u001b[0m\u001b[0m\n\u001b[0;32m      2\u001b[0m \u001b[0me\u001b[0m\u001b[1;33m=\u001b[0m\u001b[1;33m{\u001b[0m\u001b[1;34m\"ali\"\u001b[0m\u001b[1;33m:\u001b[0m\u001b[1;36m6\u001b[0m\u001b[1;33m,\u001b[0m\u001b[1;34m\"veli\"\u001b[0m\u001b[1;33m:\u001b[0m\u001b[1;36m10\u001b[0m\u001b[1;33m}\u001b[0m\u001b[1;33m\u001b[0m\u001b[1;33m\u001b[0m\u001b[0m\n\u001b[1;32m----> 3\u001b[1;33m \u001b[0md\u001b[0m\u001b[1;33m>\u001b[0m\u001b[0me\u001b[0m\u001b[1;33m\u001b[0m\u001b[1;33m\u001b[0m\u001b[0m\n\u001b[0m",
      "\u001b[1;31mTypeError\u001b[0m: '>' not supported between instances of 'dict' and 'dict'"
     ]
    }
   ],
   "source": [
    "d={\"ali\":6,\"veli\":8}\n",
    "e={\"ali\":6,\"veli\":10}\n",
    "d>e"
   ]
  },
  {
   "cell_type": "code",
   "execution_count": 29,
   "id": "b0119bcd-dd03-4ac7-83ad-13b65cda385d",
   "metadata": {},
   "outputs": [
    {
     "data": {
      "text/plain": [
       "False"
      ]
     },
     "execution_count": 29,
     "metadata": {},
     "output_type": "execute_result"
    }
   ],
   "source": [
    "d==e"
   ]
  },
  {
   "cell_type": "code",
   "execution_count": 30,
   "id": "429113f7-643e-41c7-a4ee-f6de242ed056",
   "metadata": {},
   "outputs": [
    {
     "data": {
      "text/plain": [
       "True"
      ]
     },
     "execution_count": 30,
     "metadata": {},
     "output_type": "execute_result"
    }
   ],
   "source": [
    "d!=e"
   ]
  },
  {
   "cell_type": "markdown",
   "id": "13b554fe-1a23-4a55-9179-abfbc07f9711",
   "metadata": {
    "tags": []
   },
   "source": [
    "* İki küme sadece \"==\" ve \"!=\" operatörleriyle karşılaştırılabilir.\n",
    "* kümelerde **<,>,<=,>=** operatörlerinin küme işlemi yaptığını anımsayalım;\n",
    "* * **\"<\"** öz alt küme\n",
    "* * **\">\"** öz üst küme\n",
    "* * **\"<=\"** alt küme\n",
    "* * **\">=\"** üst küme"
   ]
  },
  {
   "cell_type": "code",
   "execution_count": 33,
   "id": "a86ff751-fc84-41ff-94e7-99f29c0415cb",
   "metadata": {},
   "outputs": [
    {
     "data": {
      "text/plain": [
       "True"
      ]
     },
     "execution_count": 33,
     "metadata": {},
     "output_type": "execute_result"
    }
   ],
   "source": [
    "d={\"ali\",\"veli\"}\n",
    "e={\"ali\",\"veli\"}\n",
    "d==e"
   ]
  },
  {
   "cell_type": "markdown",
   "id": "b1abe16a-2610-4ec0-ad78-6ffc9defd84f",
   "metadata": {
    "tags": []
   },
   "source": [
    "**Satırların Girinti(İndent) Düzeyi:**\n",
    "* İndent level:  space 1 değerindedir.Tab değerleri ise tab değerlerine kadar olan space değerlerini 8 in katlarına tamamlar.\n",
    "\n",
    "ÖRNEK:\n",
    "* SPACE SPACE TAB SPACE XX\n",
    "* * 1+1+6+1=9 =İNDENT LEVEL(GİRİNTİ DÜZEYİ)\n",
    "* TAB SPACE TAB TAB SPACE XX\n",
    "* * 8+1+7+8+1=25 = İNDENT LEVEL(GİRİNTİ DÜZEYİ)"
   ]
  },
  {
   "cell_type": "markdown",
   "id": "a189a320-da01-4538-be38-9648e39f36d9",
   "metadata": {
    "tags": []
   },
   "source": [
    "**DEYİM(STATEMENT) KAVRAMI ve PYTHONDA DEYİMLER:**\n",
    "* Pythonda deyimler 2'ye ayrılır:\n",
    "1) **Basit Deyimler(Simple Statement)** Birden fazla ifade ; ile bir satıra yerleştirilebilir.Bu şekilde yazılabilen ifadeler basit deyimlerdir.\n",
    "2) **Bileşik Deyimler(Compound Statement)** Bileşik deyimler hiç bir zaman aynı satıra yazılamaz.if,for gibi deyimler bileşik deyimdir.\n",
    "\n",
    "\n",
    "**İfadesel Deyimler:**\n",
    "* Basit deyimdir.\n",
    "* Pythonda en basit deyim **\"ifadesel deyimdir(expression statement)\".**\n",
    "* Bir ifade programın parçası halinde bulundurulduğunda bu artık deyim olur.Bu tür deyimlere ifadesel deyim denir.Aşağıdaki 3 deyim de ifadesel deyimdir.\n",
    "* * * print(z)\n",
    "    * s=input(\"bir yazı giriniz:\")\n",
    "    * k=\":\" + s+ \":\"\n",
    "\n",
    "**Atama Deyimi(Assignment Statement):**\n",
    "* Basit deyimdir.\n",
    "* * * x=10 -- #atama\n",
    "* * * y=20 -- #atama\n",
    "* * * z= x+y  -- #atama\n",
    "* * * print(z)   --  #İfadesel\n",
    "\n",
    "\n"
   ]
  },
  {
   "cell_type": "markdown",
   "id": "e0bdea44-216e-487d-a2f8-59c4e0ca7c6a",
   "metadata": {
    "tags": []
   },
   "source": [
    "**SUİT KAVRAMI:Aynı satır üzerine yazılan birden fazla basit deyime ya da aynı girinti düzeyine sahip farklı satırlara yazılan deyimlere denir.**"
   ]
  },
  {
   "cell_type": "markdown",
   "id": "56708a4d-34ea-464f-bb83-c909af68c446",
   "metadata": {
    "tags": []
   },
   "source": [
    "**BİLEŞİK DEYİMLER:**\n",
    "\n",
    "***İF DEYİMİ :***\n",
    "\n",
    "\n",
    "\n",
    "if koşul : \n",
    "\n",
    "    ifade1\n",
    "    ifade2\n",
    "    ifade3\n",
    "    \n",
    "ifade4\n",
    "\n",
    "\n",
    "\n",
    "\n",
    "\n",
    "* ifade4 if deyiminin dışındadır.\n",
    "* if li ifadeler yukarıdaki gibi oluşturulur.\n"
   ]
  },
  {
   "cell_type": "code",
   "execution_count": 48,
   "id": "16403dfd-7e91-461d-b213-13319fd0e1f7",
   "metadata": {},
   "outputs": [
    {
     "name": "stdin",
     "output_type": "stream",
     "text": [
      "Bir değer giriniz: 8\n"
     ]
    },
    {
     "name": "stdout",
     "output_type": "stream",
     "text": [
      "çift\n",
      "teşekkürler\n"
     ]
    }
   ],
   "source": [
    "#if deyimi genel biçimi\n",
    "\"\"\"\n",
    "if <ifade> : <suit>\n",
    "[else <suit>]\n",
    "\n",
    "örnek:\n",
    "\n",
    "if a>Q : ifade1;ifade2\n",
    "else:\n",
    "    ifade1\n",
    "    ifade2\n",
    "\"\"\"\n",
    "val=int(input(\"Bir değer giriniz:\"))\n",
    "if (val % 2 == 0):\n",
    "    print(\"çift\")\n",
    "else :\n",
    "     print(\"tek\")\n",
    "print(\"teşekkürler\")"
   ]
  },
  {
   "cell_type": "code",
   "execution_count": 55,
   "id": "7b3b109a-d5a7-401a-8813-135eec406eb4",
   "metadata": {},
   "outputs": [
    {
     "name": "stdin",
     "output_type": "stream",
     "text": [
      "Bir değer giriniz: 8\n"
     ]
    },
    {
     "name": "stdout",
     "output_type": "stream",
     "text": [
      "çift\n",
      "teşekkürler1\n"
     ]
    }
   ],
   "source": [
    "#BU YAZIM DA DEÇERLİDİR.\n",
    "val=int(input(\"Bir değer giriniz:\"))\n",
    "if (val % 2 == 0):print(\"çift\");print(\"teşekkürler1\")\n",
    "else             :print(\"tek\");print(\"teşekkürler\")"
   ]
  },
  {
   "cell_type": "code",
   "execution_count": 61,
   "id": "016a46b7-b0e3-44d9-9c8d-9ee7f5272456",
   "metadata": {},
   "outputs": [
    {
     "name": "stdin",
     "output_type": "stream",
     "text": [
      "a: 1\n",
      "b: 0\n",
      "c: -4\n"
     ]
    },
    {
     "name": "stdout",
     "output_type": "stream",
     "text": [
      "pozitif kök: 2.0 \n",
      " negatif kök: -2.0\n"
     ]
    }
   ],
   "source": [
    "import math\n",
    "a=float(input(\"a:\"))\n",
    "b=float(input(\"b:\"))\n",
    "c=float(input(\"c:\"))\n",
    "delta= b**2 - 4*a*c\n",
    "\n",
    "if delta >=0 :\n",
    "    x1=(-b + math.sqrt(delta))/(2*a)\n",
    "    x2=(-b - math.sqrt(delta))/(2*a)\n",
    "    print(\"pozitif kök:\",x1,\"\\n\",\"negatif kök:\",x2)\n",
    "else:\n",
    "    print(\"kök yok\")\n",
    "    \n",
    "    \n",
    "    "
   ]
  },
  {
   "cell_type": "code",
   "execution_count": null,
   "id": "77677d26-6bb7-46e5-bfd6-c2e1125ed957",
   "metadata": {},
   "outputs": [],
   "source": []
  }
 ],
 "metadata": {
  "kernelspec": {
   "display_name": "Python 3 (ipykernel)",
   "language": "python",
   "name": "python3"
  },
  "language_info": {
   "codemirror_mode": {
    "name": "ipython",
    "version": 3
   },
   "file_extension": ".py",
   "mimetype": "text/x-python",
   "name": "python",
   "nbconvert_exporter": "python",
   "pygments_lexer": "ipython3",
   "version": "3.7.1"
  }
 },
 "nbformat": 4,
 "nbformat_minor": 5
}
