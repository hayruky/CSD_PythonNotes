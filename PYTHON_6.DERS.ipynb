{
 "cells": [
  {
   "cell_type": "markdown",
   "id": "ea3a0471-13d4-4ec2-8132-c9acc49931ec",
   "metadata": {},
   "source": [
    "### PYTHON -6.DERS"
   ]
  },
  {
   "cell_type": "code",
   "execution_count": 38,
   "id": "a2782fa3-e905-4e9d-8d7a-baf5d50933bf",
   "metadata": {},
   "outputs": [],
   "source": [
    "a=5\n",
    "b=4\n",
    "if a==b :\n",
    "    print(a*a)"
   ]
  },
  {
   "cell_type": "markdown",
   "id": "c6b4fea3-774a-4ec6-a2c5-e1248558f674",
   "metadata": {},
   "source": [
    "\n",
    "* if:anahtar sözcük(keywords) görevindedir.\n",
    "\n",
    "* a: değişkendir.\n",
    "\n",
    "* == : operatördür.\n",
    "\n",
    "* b: değişkendir.\n",
    "\n",
    "* : : ayıraçtır.\n",
    "\n",
    "* print:değişkendir.\n",
    "\n",
    "* ():oparetördür.\n",
    "\n",
    "\n",
    "* \"* \":oparetördür.\n",
    "\n",
    "  \n",
    "* 5 ve 4 : sabittir.\n"
   ]
  },
  {
   "cell_type": "markdown",
   "id": "e5481c40-9bce-4b4d-ad28-40ca1ec21568",
   "metadata": {},
   "source": [
    "ATOMLAR PYTHON'DA 5 GRUBA AYRILMAKTADIR:\n",
    "* 1) Anahtar Sözcükler (Keywords) :Dil için özel anlamı olan ,değişken olarak kullanlıması yasaklanmış atomlardır.\n",
    "  * if,while,for,...\n",
    "* 2) Değişkenler (Identifiers):İsmini istediğimiz gibi verrebildiğimiz varlıklara denir.\n",
    "  * a,x,y,sum,pow,print(std. kütüphanede bir fonk. ismidir.print=20 denilebilir.)...\n",
    "* 3) Sabitler(Literals):Programlama dillerinde doğrudan yazılmış sayılara denir.\n",
    "  * a=10 (a değişkendir,10 sabittir.)\n",
    "* 4) Oparetörler(Oparators): Bir işleme yol açan işlem sonucunda bir değer üretilmesini sağlayan atomlara operatör denir.\n",
    "  * +,-,*,/,//,%...\n",
    "* 5) Ayıraçlar (Delimiters/Punctuators) : Bunlar ifadeleri biribirinden ayırmak iiçin kullanılır.\n",
    "  * \":\" ,...\n"
   ]
  },
  {
   "cell_type": "markdown",
   "id": "7956ad6f-bea1-4d9d-9894-56cf9c5f6a83",
   "metadata": {},
   "source": [
    "BOŞLUK KARAKTERLERİ ( WHİTE SPACE):\n",
    "* SPACE\n",
    "* TAB\n",
    "* ENTER\n",
    "* VERTİCAL TAB (VTAB)\n",
    "* LF (CR/LF)"
   ]
  },
  {
   "cell_type": "code",
   "execution_count": 23,
   "id": "8494c5a7-7962-44c1-b850-9ab0de6971da",
   "metadata": {},
   "outputs": [
    {
     "name": "stdout",
     "output_type": "stream",
     "text": [
      "Merhaba Dünya\n"
     ]
    }
   ],
   "source": [
    "# Python'da \"Merhaba Dünya\" yazısını ekrana basan program aşağıdaki yazılabilir:\n",
    "print('Merhaba Dünya')"
   ]
  },
  {
   "cell_type": "code",
   "execution_count": 40,
   "id": "81147e2e-088e-40c8-ad09-146148fbf7c8",
   "metadata": {},
   "outputs": [],
   "source": [
    "\"\"\" \n",
    "Python'da ifadelerden oluşan basit deyimler tek bir satırda yazılmak zorundadır.\n",
    "Eğer bir satıra birden fazla basit deyimler yerleştirilecekse bunların arasına ';' atomu getirilmelidir.\n",
    "Örneğin:\"\"\"\n",
    "a = 10; b = 20\n",
    "# Aşağıdaki gibi yazılmasında da bir sakınca yoktur.\n",
    "a = 10; b = 20; "
   ]
  },
  {
   "cell_type": "code",
   "execution_count": 29,
   "id": "b7ae315f-05c8-4bc9-a272-b3e70104a231",
   "metadata": {},
   "outputs": [
    {
     "name": "stdout",
     "output_type": "stream",
     "text": [
      "Merhaba Dünya\n",
      "Merhaba Dünya\n"
     ]
    }
   ],
   "source": [
    "#Python'da bir yazının tek tırnak içerisine alınmasıyla çift tırnak içerisine alınması arasında bir farklılık yoktur.\n",
    "print(\"Merhaba Dünya\")\n",
    "print('Merhaba Dünya')"
   ]
  },
  {
   "cell_type": "markdown",
   "id": "2e7d070c-fa3f-4cab-bb03-f82c6259186b",
   "metadata": {},
   "source": [
    "* Programlama dillerinde değişkenlerin, operatörlerin ve sabitlerin herbir kombinasyonuna (birleşimine) \"ifade (expression)\" denilmektedir.\n",
    "* * Örneğin:\n",
    "  * a\n",
    "  * a+2\n",
    "  * a+2-b*2\n",
    "  * 10"
   ]
  },
  {
   "cell_type": "markdown",
   "id": "b8177d06-fb77-42bb-b681-61f9a1a21ce8",
   "metadata": {},
   "source": [
    "* Python'da 6 tane temel tür(type) vardır:\n",
    "* * int:Tam sayılılar\n",
    "  * float:Ondalıklı sayılar\n",
    "  * str:Metinler\n",
    "  * bool:True-False\n",
    "  * complex:Karmaşık sayılar\n",
    "  * NoneType(None)\n",
    "* Bir değişkenin türünü anlamak için type fonksiyonu kullanılmaktadır.\n",
    "* type tıpkı print fonksiyonu gibi Python Standart  Kütüphanesindeki built-in bir fonksiyondur\n",
    "."
   ]
  },
  {
   "cell_type": "code",
   "execution_count": 43,
   "id": "7db63214-4502-4731-954d-aea95d9f500e",
   "metadata": {},
   "outputs": [
    {
     "data": {
      "text/plain": [
       "int"
      ]
     },
     "execution_count": 43,
     "metadata": {},
     "output_type": "execute_result"
    }
   ],
   "source": [
    "#Örneğin:\n",
    "a=10\n",
    "type(a)"
   ]
  },
  {
   "cell_type": "code",
   "execution_count": 45,
   "id": "b5efb2c0-0e49-458d-aae5-7dcf6c9f98b5",
   "metadata": {},
   "outputs": [
    {
     "data": {
      "text/plain": [
       "float"
      ]
     },
     "execution_count": 45,
     "metadata": {},
     "output_type": "execute_result"
    }
   ],
   "source": [
    "a=1.23\n",
    "type(a)"
   ]
  },
  {
   "cell_type": "code",
   "execution_count": 47,
   "id": "25e22d09-9925-4911-9125-549c4ac57c52",
   "metadata": {},
   "outputs": [
    {
     "data": {
      "text/plain": [
       "str"
      ]
     },
     "execution_count": 47,
     "metadata": {},
     "output_type": "execute_result"
    }
   ],
   "source": [
    "a=\"ankara\"\n",
    "type(a)"
   ]
  },
  {
   "cell_type": "code",
   "execution_count": 49,
   "id": "d26570cf-c035-4b14-b99e-3a702c9f87f2",
   "metadata": {},
   "outputs": [
    {
     "data": {
      "text/plain": [
       "bool"
      ]
     },
     "execution_count": 49,
     "metadata": {},
     "output_type": "execute_result"
    }
   ],
   "source": [
    "a=True\n",
    "type(a)"
   ]
  },
  {
   "cell_type": "code",
   "execution_count": 51,
   "id": "ef6a82a5-e747-4e1d-b145-3411bd976e94",
   "metadata": {},
   "outputs": [
    {
     "data": {
      "text/plain": [
       "complex"
      ]
     },
     "execution_count": 51,
     "metadata": {},
     "output_type": "execute_result"
    }
   ],
   "source": [
    "a=3j+2\n",
    "type(a)"
   ]
  },
  {
   "cell_type": "code",
   "execution_count": 53,
   "id": "5c34f899-a3d6-4b5b-96c8-790e91c8391c",
   "metadata": {},
   "outputs": [
    {
     "data": {
      "text/plain": [
       "NoneType"
      ]
     },
     "execution_count": 53,
     "metadata": {},
     "output_type": "execute_result"
    }
   ],
   "source": [
    "a=None\n",
    "type(a)"
   ]
  },
  {
   "cell_type": "code",
   "execution_count": 55,
   "id": "848b8268-a861-4126-aea7-7f782f48c8ad",
   "metadata": {},
   "outputs": [
    {
     "name": "stdout",
     "output_type": "stream",
     "text": [
      "<class 'int'>\n"
     ]
    }
   ],
   "source": [
    "x = 10\n",
    "print(type(x))"
   ]
  }
 ],
 "metadata": {
  "kernelspec": {
   "display_name": "Python 3 (ipykernel)",
   "language": "python",
   "name": "python3"
  },
  "language_info": {
   "codemirror_mode": {
    "name": "ipython",
    "version": 3
   },
   "file_extension": ".py",
   "mimetype": "text/x-python",
   "name": "python",
   "nbconvert_exporter": "python",
   "pygments_lexer": "ipython3",
   "version": "3.12.4"
  }
 },
 "nbformat": 4,
 "nbformat_minor": 5
}
