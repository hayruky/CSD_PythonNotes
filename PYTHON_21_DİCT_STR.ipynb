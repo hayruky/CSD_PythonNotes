{
 "cells": [
  {
   "cell_type": "markdown",
   "id": "4429a456-8e5c-4083-a10a-efafc06c25b3",
   "metadata": {},
   "source": [
    "### 21.DERS-Dict/Str Nesneleri"
   ]
  },
  {
   "cell_type": "markdown",
   "id": "3724bd83-ab32-4f78-82b8-a2e5e087bcd0",
   "metadata": {},
   "source": [
    "* Dict sınıfının keys ve values metotlarıyla elde edilen nesneler **\"dolaşım(iterator)** nesneleri değil **\"dolaşılabilir(iterable)\"** nesnelerdir.\n",
    "* Yani bunlar bir kere dolaşıldığında bitmezler ,tekrar tekrar dolaşılabilirler."
   ]
  },
  {
   "cell_type": "code",
   "execution_count": 3,
   "id": "03baed9b-d806-4037-8e1e-b48911f7ff92",
   "metadata": {},
   "outputs": [
    {
     "name": "stdout",
     "output_type": "stream",
     "text": [
      "{'ali': 40, 'veli': 20, 'selami': 30, 'ayşe': 90, 'fatma': 80}\n"
     ]
    }
   ],
   "source": [
    "#Hatırlatma\n",
    "d={\"ali\":40,\"veli\":20,\"selami\":30,\"ayşe\":90,\"fatma\":80}\n",
    "print(d)"
   ]
  },
  {
   "cell_type": "code",
   "execution_count": 7,
   "id": "f8db0a1b-ccc2-4c36-8635-ed573d1d0550",
   "metadata": {},
   "outputs": [
    {
     "name": "stdout",
     "output_type": "stream",
     "text": [
      "dict_keys(['ali', 'veli', 'selami', 'ayşe', 'fatma'])\n",
      "dict_values([40, 20, 30, 90, 80])\n"
     ]
    }
   ],
   "source": [
    "print(d.keys())\n",
    "print(d.values())"
   ]
  },
  {
   "cell_type": "code",
   "execution_count": 14,
   "id": "96af4ce0-ed76-43d7-9975-bd0168a1bf72",
   "metadata": {},
   "outputs": [
    {
     "name": "stdout",
     "output_type": "stream",
     "text": [
      "['ali', 'veli', 'selami', 'ayşe', 'fatma']\n"
     ]
    }
   ],
   "source": [
    "a=list(d.keys())\n",
    "print(a)"
   ]
  },
  {
   "cell_type": "code",
   "execution_count": 18,
   "id": "2da76108-e377-401b-8322-a49a27e60abc",
   "metadata": {},
   "outputs": [
    {
     "name": "stdout",
     "output_type": "stream",
     "text": [
      "[40, 20, 30, 90, 80]\n"
     ]
    }
   ],
   "source": [
    "b=list(d.values())\n",
    "print(b)"
   ]
  },
  {
   "cell_type": "code",
   "execution_count": 20,
   "id": "aec02dd4-ed09-4793-be08-ad615ec21a64",
   "metadata": {},
   "outputs": [
    {
     "name": "stdout",
     "output_type": "stream",
     "text": [
      "['ali', 'veli', 'selami', 'ayşe', 'fatma']\n",
      "[40, 20, 30, 90, 80]\n"
     ]
    }
   ],
   "source": [
    "print(a)\n",
    "print(b)"
   ]
  },
  {
   "cell_type": "markdown",
   "id": "96fd1989-b6ef-409c-a999-10a9d25853cd",
   "metadata": {},
   "source": [
    "**VİEW NESNESİ**\n",
    "\n",
    "* Python'da çeşitli konularda karşımıza \"view\" nesnesi kavramı çıkabilir.\n",
    "* View nesnesi ana bir nesnenin bir bölümünü ya da tamamını temsil eden bir nesnedir.\n",
    "* Ancak,ana nesne üzerinde değişiklik yapıldığında view nesnesi bu değişikliği  görür.\n",
    "* Bazı view nesneleri **read only**, bazıları **read/write** olabilir.\n",
    "* * Eğer  **read/write** biçimindeyse o view nesnesi üzerinde değişiklikler yapıldığında bundan **ana nesne etkilenecektir.**"
   ]
  },
  {
   "cell_type": "markdown",
   "id": "62f659dc-512b-4655-8f8b-9190c139f12d",
   "metadata": {},
   "source": [
    "* keys ve values metotlarının bize verdiği dolaşılabilir nesneler aynı zamanda \"view\" nesnelerdir.\n",
    "* Yani biz bu metotlarla elde etiiğimiz dolaşılabilir nesneleri elde ettikten sonra ana nesne üzerinde ekleme,silme gibi işlemleri yaptığımızda daha önce elde ettiğimiz view nesnesi son duruma ilişkin dolaşım sağlar"
   ]
  },
  {
   "cell_type": "code",
   "execution_count": 28,
   "id": "51523b48-72e3-424a-a47a-51fd4fa5c6b4",
   "metadata": {},
   "outputs": [
    {
     "name": "stdout",
     "output_type": "stream",
     "text": [
      "{'ali': 40, 'veli': 20, 'selami': 30, 'ayşe': 90, 'fatma': 80}\n"
     ]
    }
   ],
   "source": [
    "#Örneğin:\n",
    "d={\"ali\":40,\"veli\":20,\"selami\":30,\"ayşe\":90,\"fatma\":80}\n",
    "print(d)"
   ]
  },
  {
   "cell_type": "code",
   "execution_count": 30,
   "id": "8b2c2016-a345-4c8e-8b28-1301e1b2f501",
   "metadata": {},
   "outputs": [
    {
     "name": "stdout",
     "output_type": "stream",
     "text": [
      "['ali', 'veli', 'selami', 'ayşe', 'fatma']\n"
     ]
    }
   ],
   "source": [
    "result=d.keys()\n",
    "a=list(result)\n",
    "print(a)"
   ]
  },
  {
   "cell_type": "code",
   "execution_count": 32,
   "id": "f2b1707b-295a-4098-87ac-f3e0a9c008a6",
   "metadata": {},
   "outputs": [
    {
     "name": "stdout",
     "output_type": "stream",
     "text": [
      "{'ali': 40, 'veli': 20, 'selami': 30, 'ayşe': 90, 'fatma': 80, 'sacit': 60}\n"
     ]
    }
   ],
   "source": [
    "d[\"sacit\"]=60\n",
    "print(d)"
   ]
  },
  {
   "cell_type": "code",
   "execution_count": 34,
   "id": "a3d242e1-3939-4847-a53a-5251b918f6f7",
   "metadata": {},
   "outputs": [
    {
     "name": "stdout",
     "output_type": "stream",
     "text": [
      "['ali', 'veli', 'selami', 'ayşe', 'fatma', 'sacit']\n"
     ]
    }
   ],
   "source": [
    "result=d.keys()\n",
    "a=list(result)\n",
    "print(a)"
   ]
  },
  {
   "cell_type": "markdown",
   "id": "e8ac512f-3385-45bc-9690-528900e13054",
   "metadata": {},
   "source": [
    "* **items metod:**"
   ]
  },
  {
   "cell_type": "code",
   "execution_count": 41,
   "id": "e090129c-d4c5-4a64-89d6-0f508eefd04d",
   "metadata": {},
   "outputs": [
    {
     "name": "stdout",
     "output_type": "stream",
     "text": [
      "{'ali': 40, 'veli': 20, 'selami': 30, 'ayşe': 90, 'fatma': 80, 'sacit': 60}\n",
      "[('ali', 40), ('veli', 20), ('selami', 30), ('ayşe', 90), ('fatma', 80), ('sacit', 60)]\n",
      "(('ali', 40), ('veli', 20), ('selami', 30), ('ayşe', 90), ('fatma', 80), ('sacit', 60))\n"
     ]
    }
   ],
   "source": [
    "print(d)\n",
    "iter=d.items()\n",
    "a=list(iter)\n",
    "print(a)\n",
    "b=tuple(iter)\n",
    "print(b)"
   ]
  },
  {
   "cell_type": "markdown",
   "id": "42ecd13c-6f54-4b67-8048-b29b52ee48fa",
   "metadata": {},
   "source": [
    "* **clear metod:**"
   ]
  },
  {
   "cell_type": "code",
   "execution_count": 45,
   "id": "f042eb9e-d9de-4ef9-b546-d94a392f3a54",
   "metadata": {},
   "outputs": [
    {
     "name": "stdout",
     "output_type": "stream",
     "text": [
      "{'ali': 40, 'veli': 20, 'selami': 30, 'ayşe': 90, 'fatma': 80, 'sacit': 60}\n"
     ]
    }
   ],
   "source": [
    "z={'ali': 40, 'veli': 20, 'selami': 30, 'ayşe': 90, 'fatma': 80, 'sacit': 60}\n",
    "print(z)"
   ]
  },
  {
   "cell_type": "code",
   "execution_count": 93,
   "id": "dd197542-1688-421f-885f-afc24a40216f",
   "metadata": {},
   "outputs": [
    {
     "name": "stdout",
     "output_type": "stream",
     "text": [
      "None\n",
      "{}\n"
     ]
    }
   ],
   "source": [
    "print(z.clear())\n",
    "print(z)"
   ]
  },
  {
   "cell_type": "markdown",
   "id": "44939c84-e07c-49d7-8d45-72daf24daa94",
   "metadata": {},
   "source": [
    "* **copy metod:** Direkt olarak  sözlüğü kopyalar."
   ]
  },
  {
   "cell_type": "code",
   "execution_count": 85,
   "id": "e31057db-2944-46d8-9a6c-a0032de78c49",
   "metadata": {},
   "outputs": [
    {
     "name": "stdout",
     "output_type": "stream",
     "text": [
      "{'ali': 40, 'veli': 20, 'selami': 30, 'ayşe': 90, 'fatma': 80, 'sacit': 60}\n"
     ]
    }
   ],
   "source": [
    "c={'ali': 40, 'veli': 20, 'selami': 30, 'ayşe': 90, 'fatma': 80, 'sacit': 60}\n",
    "print(c)"
   ]
  },
  {
   "cell_type": "code",
   "execution_count": 83,
   "id": "1b3eb3af-41ce-4f0e-b59d-b957648f33ce",
   "metadata": {},
   "outputs": [
    {
     "name": "stdout",
     "output_type": "stream",
     "text": [
      "{'ali': 40, 'veli': 20, 'selami': 30, 'ayşe': 90, 'fatma': 80, 'sacit': 60}\n"
     ]
    }
   ],
   "source": [
    "k=c.copy()\n",
    "print(k)"
   ]
  },
  {
   "cell_type": "code",
   "execution_count": 91,
   "id": "6dad524d-16e8-4277-ae54-20f05861c75e",
   "metadata": {},
   "outputs": [
    {
     "data": {
      "text/plain": [
       "True"
      ]
     },
     "execution_count": 91,
     "metadata": {},
     "output_type": "execute_result"
    }
   ],
   "source": [
    "#c ve k eşit midir?\n",
    "c==k"
   ]
  },
  {
   "cell_type": "code",
   "execution_count": 100,
   "id": "37cd768a-9a8d-4962-945c-d07a9786662e",
   "metadata": {},
   "outputs": [
    {
     "name": "stdout",
     "output_type": "stream",
     "text": [
      "2033609186560\n",
      "2033608851264\n"
     ]
    },
    {
     "data": {
      "text/plain": [
       "False"
      ]
     },
     "execution_count": 100,
     "metadata": {},
     "output_type": "execute_result"
    }
   ],
   "source": [
    "#Oluşturulan kopya farklı bir sözcük nesnesidir.\n",
    "print(id(c))\n",
    "print(id(k))\n",
    "id(c)==id(k)"
   ]
  },
  {
   "cell_type": "code",
   "execution_count": 108,
   "id": "3567d88f-a93e-440e-84a9-74c23a8853d1",
   "metadata": {},
   "outputs": [
    {
     "name": "stdout",
     "output_type": "stream",
     "text": [
      "140716915441304\n",
      "140716915441304\n"
     ]
    },
    {
     "data": {
      "text/plain": [
       "True"
      ]
     },
     "execution_count": 108,
     "metadata": {},
     "output_type": "execute_result"
    }
   ],
   "source": [
    "#Fakat içerisindeki anahtar ve değer ıd leri aynıdır.\n",
    "#Kopyalama işlemi sığ kopyalama (shallow copy) şeklindedir.\n",
    "print(id(c[\"ali\"]))\n",
    "print(id(k[\"ali\"]))\n",
    "id(c[\"ali\"])==id(k[\"ali\"])"
   ]
  },
  {
   "cell_type": "markdown",
   "id": "f596d9d0-251b-4fc0-9568-856a9a4a7591",
   "metadata": {},
   "source": [
    "**Ekleme Yapma Yöntemleri:**\n",
    "1) **d[]=...**:\n",
    "2) **d.update(ıterable)**:\n",
    "3) **d.setdefault()**:\n",
    "   * Bu metod bize her zaman anahtarın değerini verir.\n",
    "   * Eğer anahtarı bulmazsa o anahtarı bizim verdiğimiz değerle sözlüğe ekler ekledi anahtarın değerini bize verir.\n",
    "   * Metotta ikinci parametre için argüman girilmeyebilir.\n",
    "   * Eğer ikinci argüman girilmezse ve anahtarı bulamazsa anahtar için değer olarak sözlüğe **\"None\"** eklemektedir.\n",
    "   * Setdefault anahtarı bulursa 2. argümanı hiç kullanmaz.\n",
    "   * Yani bu ikinci argüman eğer anahtar bulamazsa kullnılır."
   ]
  },
  {
   "cell_type": "code",
   "execution_count": 124,
   "id": "9ac9e958-8437-48e1-9ae3-7ccc1d662a01",
   "metadata": {},
   "outputs": [
    {
     "name": "stdout",
     "output_type": "stream",
     "text": [
      "{10: 'ali', 20: 'veli', 30: 'selami', 40: 'ayşe', 50: 'fatma'}\n"
     ]
    }
   ],
   "source": [
    "d={10:\"ali\",20:\"veli\", 30 :\"selami\",40:\"ayşe\",50:\"fatma\"}\n",
    "print(d)"
   ]
  },
  {
   "cell_type": "code",
   "execution_count": 140,
   "id": "eb0d428d-4127-4d3b-8aed-8a36cb92c835",
   "metadata": {},
   "outputs": [
    {
     "name": "stdout",
     "output_type": "stream",
     "text": [
      "veli\n"
     ]
    }
   ],
   "source": [
    "#Anahtarlar kısmınd a 20 olduğu için bir şey değişmedi.\n",
    "val=d.setdefault(20,\"kaya\")\n",
    "print(val)"
   ]
  },
  {
   "cell_type": "code",
   "execution_count": 142,
   "id": "6213e458-b5aa-4f87-bc8e-624d0195462e",
   "metadata": {},
   "outputs": [
    {
     "name": "stdout",
     "output_type": "stream",
     "text": [
      "kaya\n"
     ]
    }
   ],
   "source": [
    "#Anahtarlar kısmında 60 olmadığından yeni bir anahtar:değer eklendi.\n",
    "val=d.setdefault(60,\"kaya\")\n",
    "print(val)"
   ]
  },
  {
   "cell_type": "code",
   "execution_count": 144,
   "id": "caefb37c-124f-409b-bb82-9c820ee52e2b",
   "metadata": {},
   "outputs": [
    {
     "name": "stdout",
     "output_type": "stream",
     "text": [
      "{10: 'ali', 20: 'veli', 30: 'selami', 40: 'ayşe', 50: 'fatma', 60: 'kaya'}\n"
     ]
    }
   ],
   "source": [
    "print(d)"
   ]
  },
  {
   "cell_type": "code",
   "execution_count": 146,
   "id": "8eb9fefe-69bf-4a1a-a5e3-ce85bed02895",
   "metadata": {},
   "outputs": [
    {
     "name": "stdout",
     "output_type": "stream",
     "text": [
      "selami\n"
     ]
    }
   ],
   "source": [
    "#anahtarlar kısmında 30 olduğundan direkt değeri yazdırdı.\n",
    "val=d.setdefault(30)\n",
    "print(val)"
   ]
  },
  {
   "cell_type": "code",
   "execution_count": 152,
   "id": "63a72316-e7a6-4ebc-89b8-b0bb20e3b224",
   "metadata": {},
   "outputs": [
    {
     "name": "stdout",
     "output_type": "stream",
     "text": [
      "None\n",
      "{10: 'ali', 20: 'veli', 30: 'selami', 40: 'ayşe', 50: 'fatma', 60: 'kaya', 900: None}\n"
     ]
    }
   ],
   "source": [
    "#900 anahtarı olmadığı için sözlüğe 900:none olarak ekleme yapar.\n",
    "val=d.setdefault(900)\n",
    "print(val)\n",
    "print(d)"
   ]
  },
  {
   "cell_type": "markdown",
   "id": "311de913-f167-450a-ba82-6b031a727beb",
   "metadata": {},
   "source": [
    "**Silme Yöntemleri**\n",
    "\n",
    "1) **del d[\"keys\"]** : Daha önce \"pop\" metoduyla anahtar-değer çiftini silmiştik.\n",
    "    * Ancak del deyimi ile de sözlükten bir anahtaf:değer çiftini silebiliriz.\n",
    "    * Bunu sağlamak için başlıktaki gibi bir kullanım sergileriz.\n",
    "    * Eğer anahtar szölükte yoksa pop da olduğu gibi del de de expection oluşur.\n",
    "   "
   ]
  },
  {
   "cell_type": "code",
   "execution_count": 155,
   "id": "2e6916a3-c2ab-46e5-8a42-042450bc9fe2",
   "metadata": {},
   "outputs": [
    {
     "name": "stdout",
     "output_type": "stream",
     "text": [
      "{10: 'ali', 20: 'veli', 30: 'selami', 40: 'ayşe', 50: 'fatma', 60: 'kaya', 900: None}\n"
     ]
    }
   ],
   "source": [
    "print(d)"
   ]
  },
  {
   "cell_type": "code",
   "execution_count": 161,
   "id": "f97752c6-0aaa-4f51-887b-7c43da06e0e0",
   "metadata": {},
   "outputs": [
    {
     "name": "stdout",
     "output_type": "stream",
     "text": [
      "{10: 'ali', 20: 'veli', 30: 'selami', 40: 'ayşe', 50: 'fatma'}\n"
     ]
    }
   ],
   "source": [
    "del d[60]\n",
    "print(d)"
   ]
  },
  {
   "cell_type": "code",
   "execution_count": 163,
   "id": "98520eea-49a1-45ee-98a2-ae390ab0390b",
   "metadata": {},
   "outputs": [
    {
     "ename": "KeyError",
     "evalue": "80",
     "output_type": "error",
     "traceback": [
      "\u001b[1;31m---------------------------------------------------------------------------\u001b[0m",
      "\u001b[1;31mKeyError\u001b[0m                                  Traceback (most recent call last)",
      "Cell \u001b[1;32mIn[163], line 1\u001b[0m\n\u001b[1;32m----> 1\u001b[0m \u001b[38;5;28;01mdel\u001b[39;00m d[\u001b[38;5;241m80\u001b[39m]\n",
      "\u001b[1;31mKeyError\u001b[0m: 80"
     ]
    }
   ],
   "source": [
    "del d[80]"
   ]
  },
  {
   "cell_type": "markdown",
   "id": "30941df7-cc17-4cd1-9291-fe545fdd9f1c",
   "metadata": {},
   "source": [
    "### Str Nesneleri\n",
    "\n",
    "* İmmutable(değiştirilemez) bir sınıftır.\n",
    "* Python'da \"sequence type\" (sııralı bir dizilme sahip) grubundandır.\n",
    "* Stringlerin de karakterlerine listelerde olduğu gibi \"[..]\" ile ulaşılabilir.\n",
    "* Stringlerde dilimleme tamamen listelerde ve demetlerde olduğu gibi \n",
    "yapılabilmektedir.Dilimleme sonucunda yine bir str elde ederiz.\n",
    "* **\"str\" + \"str\"** işlemi yapılabililr.Uç uca ekler.\n",
    "* Toplama işleminin gerçekleşmesi için tüm nesneler str olmalıdır.Eğer değilse çevrilmelidir.\n"
   ]
  },
  {
   "cell_type": "code",
   "execution_count": 175,
   "id": "179f30df-507c-4844-81da-04af86898f8a",
   "metadata": {},
   "outputs": [
    {
     "name": "stdout",
     "output_type": "stream",
     "text": [
      "ankara\n",
      "k\n",
      "r\n"
     ]
    }
   ],
   "source": [
    "s=\"ankara\"\n",
    "print(s)\n",
    "print(s[2])\n",
    "print(s[-2])"
   ]
  },
  {
   "cell_type": "code",
   "execution_count": 181,
   "id": "e9da51f6-9f0b-4e1d-8913-e333ab010306",
   "metadata": {},
   "outputs": [
    {
     "ename": "TypeError",
     "evalue": "'str' object does not support item assignment",
     "output_type": "error",
     "traceback": [
      "\u001b[1;31m---------------------------------------------------------------------------\u001b[0m",
      "\u001b[1;31mTypeError\u001b[0m                                 Traceback (most recent call last)",
      "Cell \u001b[1;32mIn[181], line 2\u001b[0m\n\u001b[0;32m      1\u001b[0m \u001b[38;5;66;03m#İmmutable\u001b[39;00m\n\u001b[1;32m----> 2\u001b[0m s[\u001b[38;5;241m2\u001b[39m]\u001b[38;5;241m=\u001b[39m\u001b[38;5;124m\"\u001b[39m\u001b[38;5;124mp\u001b[39m\u001b[38;5;124m\"\u001b[39m\n",
      "\u001b[1;31mTypeError\u001b[0m: 'str' object does not support item assignment"
     ]
    }
   ],
   "source": [
    "#İmmutable\n",
    "s[2]=\"p\""
   ]
  },
  {
   "cell_type": "code",
   "execution_count": 183,
   "id": "6d795891-6606-429b-9939-a03eec2f17ad",
   "metadata": {},
   "outputs": [
    {
     "data": {
      "text/plain": [
       "6"
      ]
     },
     "execution_count": 183,
     "metadata": {},
     "output_type": "execute_result"
    }
   ],
   "source": [
    "len(s)"
   ]
  },
  {
   "cell_type": "code",
   "execution_count": 187,
   "id": "fc32512e-c122-4b24-9833-5c5569bd8ea0",
   "metadata": {},
   "outputs": [
    {
     "name": "stdout",
     "output_type": "stream",
     "text": [
      "\n"
     ]
    }
   ],
   "source": [
    "#Boş str\n",
    "s=\"\"\n",
    "print(s)"
   ]
  },
  {
   "cell_type": "code",
   "execution_count": 189,
   "id": "c04d416f-9bef-4eef-bb73-301df54dc95e",
   "metadata": {},
   "outputs": [
    {
     "data": {
      "text/plain": [
       "''"
      ]
     },
     "execution_count": 189,
     "metadata": {},
     "output_type": "execute_result"
    }
   ],
   "source": [
    "s=str()\n",
    "s"
   ]
  },
  {
   "cell_type": "code",
   "execution_count": 201,
   "id": "b0d8b80d-99fc-4501-be11-738ce1d6016f",
   "metadata": {},
   "outputs": [
    {
     "name": "stdout",
     "output_type": "stream",
     "text": [
      "u bir dil\n",
      "ubrd\n",
      ".ridisemened emelmilid rib uB\n"
     ]
    }
   ],
   "source": [
    "#Boşlukları da sayar.\n",
    "s=\"Bu bir dilimleme denemesidir.\"\n",
    "print(s[1:10])\n",
    "print(s[1:8:2])\n",
    "print(s[::-1]) #Tersten yazar."
   ]
  },
  {
   "cell_type": "code",
   "execution_count": 208,
   "id": "6307a474-e609-4087-ab1b-098ab982c373",
   "metadata": {},
   "outputs": [
    {
     "name": "stdout",
     "output_type": "stream",
     "text": [
      "alivelicanan\n"
     ]
    }
   ],
   "source": [
    "s=\"ali\"+\"veli\"+\"canan\"\n",
    "print(s)"
   ]
  },
  {
   "cell_type": "code",
   "execution_count": 210,
   "id": "ccf75678-c0de-4bbc-9af4-14fcf4ccbd10",
   "metadata": {},
   "outputs": [
    {
     "ename": "TypeError",
     "evalue": "can only concatenate str (not \"int\") to str",
     "output_type": "error",
     "traceback": [
      "\u001b[1;31m---------------------------------------------------------------------------\u001b[0m",
      "\u001b[1;31mTypeError\u001b[0m                                 Traceback (most recent call last)",
      "Cell \u001b[1;32mIn[210], line 3\u001b[0m\n\u001b[0;32m      1\u001b[0m \u001b[38;5;66;03m#Toplama yapılabilmesi için tüm argümanların str olması gerekir.\u001b[39;00m\n\u001b[0;32m      2\u001b[0m a\u001b[38;5;241m=\u001b[39m\u001b[38;5;241m10\u001b[39m\n\u001b[1;32m----> 3\u001b[0m \u001b[38;5;28mprint\u001b[39m(\u001b[38;5;124m\"\u001b[39m\u001b[38;5;124ma=\u001b[39m\u001b[38;5;124m\"\u001b[39m \u001b[38;5;241m+\u001b[39m a)\n",
      "\u001b[1;31mTypeError\u001b[0m: can only concatenate str (not \"int\") to str"
     ]
    }
   ],
   "source": [
    "#Toplama yapılabilmesi için tüm argümanların str olması gerekir.\n",
    "a=10\n",
    "print(\"a=\" + a)"
   ]
  },
  {
   "cell_type": "code",
   "execution_count": 212,
   "id": "6721ca56-a78d-4550-9334-32ae16955530",
   "metadata": {},
   "outputs": [
    {
     "name": "stdout",
     "output_type": "stream",
     "text": [
      "a=10\n"
     ]
    }
   ],
   "source": [
    "print(\"a=\" +str(a))"
   ]
  },
  {
   "cell_type": "code",
   "execution_count": 225,
   "id": "d438dd5b-76fa-4581-acf5-717a7f011e8a",
   "metadata": {},
   "outputs": [
    {
     "name": "stdin",
     "output_type": "stream",
     "text": [
      "Bir yazı giriniz: aaaaaaa\n"
     ]
    },
    {
     "name": "stdout",
     "output_type": "stream",
     "text": [
      "-------\n",
      "aaaaaaa\n",
      "-------\n"
     ]
    }
   ],
   "source": [
    "#input\n",
    "s=input(\"Bir yazı giriniz:\")\n",
    "print(\"-\" * len(s))\n",
    "print(s)\n",
    "print(\"-\" * len(s))"
   ]
  },
  {
   "cell_type": "markdown",
   "id": "5903cc6a-8f8b-4a96-a0b6-fa1f8ca0e3d3",
   "metadata": {},
   "source": [
    "**Str Metodları:**\n",
    "\n",
    "* str sınıfının değiştirilemez(immutable) olduğundan bahsetmiştik.Aşağıdaki metodlarla yapacağımız işlemler mevcut yazıyı değiştirmezler.Bize yeni bir yazı verirler.\n",
    "*  Biz str nesnesiyle metot çağırmak için öncesinde onu bir değişkene atmak zorunda değiliz.\n",
    "  \n",
    "1) **s.capitalize():** Yazıyı cümle formatında yazar.Cümlenin ilk harfi büyük olur.\n",
    "2) **s.title():** Yazıyı başlık formatında yazar.Cümledeki kelimlerin ilk harfleri büyük olur.\n",
    "3) **s.lower():** Cümlenin bütün harfleri küçük olur.\n",
    "4) **s.upper():** Cümlenin bütün harfleri büyük olur.\n",
    "5) **s.center(int,\"tek karakterlik yazı\"):** Belirttiğimiz int değere göre cümleyi ortalar.İkinci argüman  ise ortalamak için oluşturduğumuz boşluğu belirttiğimiz tek karakterlik yazıyla doldurur.\n",
    "6) **s.find(\"bulmak istediğim şey\",int,int):** Cümlenin içinde bulmak istediğim kelimenin ilk harfinin indexini,harfin ise direkt indexsini verir.\n",
    "   * Çift argüman kullanarak başlangıç indexsimizi belirleriz.\n",
    "   * Üç argüman kullanarak bitiş indexsimizi belirleriz.(Dahil değil)\n",
    "7) **s.rfind(\"bulmak istediğim şey\",int,int ):** Aramayı sondan başa doğru yapar.Yukarıdaki(6.maddedeki) özellikler geçerlidir\n",
    "   * Çift argüman kullanarak başlangıç indexsimizi belirleriz.\n",
    "   * Üç argüman kullanarak bitiş indexsimizi belirleriz.(Dahil değil)\n",
    "   * Eğer yazıda olmayan bir şeyi bulmak istersek -1 yazdırır.\n",
    "8) **s.index()**: , **s.rindex()**: find metoduyla aynıdırlar.Tek farkları eğer yazıda olmayan bir şeyi bulmak istersek -1 ile dönmek yerine , expection oluşur.\n",
    "9) **s.count(\"-\"):** Argüman olarak bir karakter yazılır ve yazıda kaç tane olduğunu verir.Bu metod da 2.argüman(start) ve 3.argüman(stop) alabilir.\n",
    "   \n",
    "    \n",
    "\n",
    "  "
   ]
  },
  {
   "cell_type": "code",
   "execution_count": 8,
   "id": "6af82ed9-356a-43e0-84f1-b988db645813",
   "metadata": {},
   "outputs": [
    {
     "name": "stdout",
     "output_type": "stream",
     "text": [
      "bU BiR DeNeMeDİr.\n",
      "Bu bir denemedi̇r.\n"
     ]
    }
   ],
   "source": [
    "#capitalize()\n",
    "s=\"bU BiR DeNeMeDİr.\"\n",
    "a=s.capitalize()\n",
    "print(s)\n",
    "print(a)"
   ]
  },
  {
   "cell_type": "code",
   "execution_count": 10,
   "id": "28954bd7-4a34-4ace-870e-3fe5089c32cd",
   "metadata": {},
   "outputs": [
    {
     "name": "stdout",
     "output_type": "stream",
     "text": [
      "bU BiR DeNeMeDİr.\n",
      "Bu Bir Denemedi̇r.\n"
     ]
    }
   ],
   "source": [
    "#title\n",
    "s=\"bU BiR DeNeMeDİr.\"\n",
    "b=s.title()\n",
    "print(s)\n",
    "print(b)"
   ]
  },
  {
   "cell_type": "code",
   "execution_count": 12,
   "id": "8a2aa28a-c6a6-48e3-95bd-38d9224c8c75",
   "metadata": {},
   "outputs": [
    {
     "name": "stdout",
     "output_type": "stream",
     "text": [
      "bU BiR DeNeMeDİr.\n",
      "           bU BiR DeNeMeDİr.            \n"
     ]
    }
   ],
   "source": [
    "#center(int)\n",
    "s=\"bU BiR DeNeMeDİr.\"\n",
    "c=s.center(40)\n",
    "print(s)\n",
    "print(c)\n"
   ]
  },
  {
   "cell_type": "code",
   "execution_count": 16,
   "id": "59237056-95e9-4de8-9f7b-29e9987e37bf",
   "metadata": {},
   "outputs": [
    {
     "name": "stdout",
     "output_type": "stream",
     "text": [
      "bU BiR DeNeMeDİr.\n",
      "-----------bU BiR DeNeMeDİr.------------\n"
     ]
    }
   ],
   "source": [
    "#center(int,\".\")\n",
    "s=\"bU BiR DeNeMeDİr.\"\n",
    "ç=s.center(40,\"-\")\n",
    "print(s)\n",
    "print(ç)"
   ]
  },
  {
   "cell_type": "code",
   "execution_count": 18,
   "id": "28eaf33f-2d23-40f7-8d7e-558c39f29d78",
   "metadata": {},
   "outputs": [
    {
     "name": "stdout",
     "output_type": "stream",
     "text": [
      "6\n"
     ]
    }
   ],
   "source": [
    "#find(\" \")\n",
    "d=\"Bugün hava çok güzel\"\n",
    "e=d.find(\"hava\")\n",
    "print(e)"
   ]
  },
  {
   "cell_type": "code",
   "execution_count": 28,
   "id": "436b8355-26fd-4a4a-a8ab-63a344bf0225",
   "metadata": {},
   "outputs": [
    {
     "name": "stdout",
     "output_type": "stream",
     "text": [
      "6\n"
     ]
    }
   ],
   "source": [
    "#Aradığım kelimeden birden fazla varsa\n",
    "f=\"Bugün hava çok güzel,evet evet hava  çok güzel\"\n",
    "g=f.find(\"hava\")\n",
    "print(g)\n",
    "#İlk önce hangisini görüyorsa onu verir."
   ]
  },
  {
   "cell_type": "code",
   "execution_count": 30,
   "id": "e14cd239-3fcb-4f48-b85c-a109b4f01444",
   "metadata": {},
   "outputs": [
    {
     "name": "stdout",
     "output_type": "stream",
     "text": [
      "-1\n"
     ]
    }
   ],
   "source": [
    "#Aradığım kelime yoksa expection oluşmaz.-1 değerini verir.\n",
    "f=\"Bugün hava çok güzel,evet evet hava  çok güzel\"\n",
    "g=f.find(\"kara\")\n",
    "print(g)"
   ]
  },
  {
   "cell_type": "code",
   "execution_count": 32,
   "id": "20cbfe08-457d-49dc-ad2a-d975726b4adf",
   "metadata": {},
   "outputs": [
    {
     "name": "stdout",
     "output_type": "stream",
     "text": [
      "31\n"
     ]
    }
   ],
   "source": [
    "#Çift argüman\n",
    "f=\"Bugün hava çok güzel,evet evet hava  çok güzel\"\n",
    "g=f.find(\"hava\",7)\n",
    "print(g)"
   ]
  },
  {
   "cell_type": "code",
   "execution_count": 34,
   "id": "05f4ef9e-ee26-4326-9e88-666f3b0ace09",
   "metadata": {},
   "outputs": [
    {
     "name": "stdout",
     "output_type": "stream",
     "text": [
      "26\n"
     ]
    }
   ],
   "source": [
    "#3 argüman \n",
    "f=\"Bugün hava çok güzel,evet evet hava  çok güzel\"\n",
    "g=f.find(\"evet\",24,31)\n",
    "print(g)"
   ]
  },
  {
   "cell_type": "code",
   "execution_count": 41,
   "id": "387153c1-26e7-4a73-bf49-5050e6128fb5",
   "metadata": {},
   "outputs": [
    {
     "name": "stdout",
     "output_type": "stream",
     "text": [
      "BUGÜN HAVA ÇOK GÜZEL,EVET EVET HAVA  ÇOK GÜZEL\n"
     ]
    }
   ],
   "source": [
    "#upper\n",
    "f=\"Bugün hava çok güzel,evet evet hava  çok güzel\"\n",
    "v=f.upper()\n",
    "print(v)"
   ]
  },
  {
   "cell_type": "code",
   "execution_count": 43,
   "id": "345424f6-c407-4d37-8b17-c31020c53d36",
   "metadata": {},
   "outputs": [
    {
     "name": "stdout",
     "output_type": "stream",
     "text": [
      "bugün hava çok güzel,evet evet hava  çok güzel\n"
     ]
    }
   ],
   "source": [
    "#lower()\n",
    "f=\"Bugün hava çok güzel,evet evet hava  çok güzel\"\n",
    "v=f.lower()\n",
    "print(v)"
   ]
  },
  {
   "cell_type": "code",
   "execution_count": 50,
   "id": "4b21c965-d8fd-4d0b-ae04-86704316e7dc",
   "metadata": {},
   "outputs": [
    {
     "name": "stdout",
     "output_type": "stream",
     "text": [
      "10\n",
      "test.txt\n"
     ]
    }
   ],
   "source": [
    "#rfind()\n",
    "path=\"/home/nisa/test.txt\"\n",
    "pos=path.rfind(\"/\")\n",
    "fname=path[pos + 1:]\n",
    "print(pos)\n",
    "print(fname)"
   ]
  },
  {
   "cell_type": "code",
   "execution_count": 76,
   "id": "19d09071-b179-4b67-883a-e6c43004890c",
   "metadata": {},
   "outputs": [
    {
     "name": "stdout",
     "output_type": "stream",
     "text": [
      "0\n",
      "\\home\n",
      "isa\test.txt\n"
     ]
    },
    {
     "name": "stderr",
     "output_type": "stream",
     "text": [
      "<>:1: SyntaxWarning: invalid escape sequence '\\h'\n",
      "<>:1: SyntaxWarning: invalid escape sequence '\\h'\n",
      "C:\\Users\\hayru\\AppData\\Local\\Temp\\ipykernel_6584\\2314179598.py:1: SyntaxWarning: invalid escape sequence '\\h'\n",
      "  path=\"\\home\\nisa\\test.txt\"\n"
     ]
    }
   ],
   "source": [
    "path=\"\\home\\nisa\\test.txt\"\n",
    "pos=path.rfind(\"\\\\\") # \\ bir satır ekle anlamı olduğundan ikili kullanılır.\n",
    "fname=path[pos :]\n",
    "print(pos)\n",
    "print(fname)"
   ]
  },
  {
   "cell_type": "code",
   "execution_count": 87,
   "id": "f815eb3c-7355-40df-a6ea-99b32b83df4c",
   "metadata": {},
   "outputs": [
    {
     "name": "stdout",
     "output_type": "stream",
     "text": [
      "ankaraa\n",
      "4\n"
     ]
    }
   ],
   "source": [
    "#count()\n",
    "s=\"ankaraa\"\n",
    "b=s.count(\"a\")\n",
    "print(s)\n",
    "print(b)"
   ]
  },
  {
   "cell_type": "code",
   "execution_count": 89,
   "id": "995d9ea7-3d37-41e9-b1d0-2d8b2fc4df10",
   "metadata": {},
   "outputs": [
    {
     "name": "stdout",
     "output_type": "stream",
     "text": [
      "1\n"
     ]
    }
   ],
   "source": [
    "b=s.count(\"an\")\n",
    "print(b)"
   ]
  },
  {
   "cell_type": "code",
   "execution_count": 91,
   "id": "e5337bef-072c-471b-956e-f5dedcee7477",
   "metadata": {},
   "outputs": [
    {
     "name": "stdout",
     "output_type": "stream",
     "text": [
      "2\n"
     ]
    }
   ],
   "source": [
    "s=\"çok çok kolay bir değil.\"\n",
    "b=s.count(\"çok\")\n",
    "print(b)"
   ]
  },
  {
   "cell_type": "markdown",
   "id": "f9d10cb1-2d93-45dd-abce-580326276450",
   "metadata": {},
   "source": [
    "**\"isxxx\" İSİMLİ METODLAR**\n",
    "\n",
    "* Bu metodlar yazının tüm karakterlerinin belirlenen koşulu sağlayıp sağlamadığını kontrol eder.\n",
    "* Sonuçları bool türündendir.\n",
    "* Yani True,False yazdırılır.\n",
    "\n",
    "1) **isalpha():** Alfabetik mi?\n",
    "2) **isupper():** Büyük harf mi?\n",
    "3) **islower():** Küçük harf mi?\n",
    "4) **isspace():** Boşluk karakterlerinden mi oluşmuş ?\n",
    "5) **isalnum():** Alfanümerik karaker mi?"
   ]
  },
  {
   "cell_type": "code",
   "execution_count": 1,
   "id": "c4007b77-f891-4147-88bf-530864821305",
   "metadata": {},
   "outputs": [
    {
     "data": {
      "text/plain": [
       "True"
      ]
     },
     "execution_count": 1,
     "metadata": {},
     "output_type": "execute_result"
    }
   ],
   "source": [
    "s=\"ağrı dağı\"\n",
    "s.islower()"
   ]
  },
  {
   "cell_type": "markdown",
   "id": "bcfe6a66-e3d9-447a-aa7c-5507859de4c6",
   "metadata": {},
   "source": [
    "**JOİN(BİRLEŞTİRMEK) METODU**\n",
    "\n",
    "* Argüman olarak dolaşılabilir bir nesne alır.\n",
    "* Bu dolaşılabilir nesneden strler elde edilmelidir.\n",
    "* Bu metod bu nesnenin elemanlarının arasına belirlediğimiz yazıyı ayraç yapar.\n",
    "\n",
    "**SPLİT METODU**\n",
    "\n",
    "* Join metodunun tam tersini yapar.\n",
    "* Yazının ayrıştıralacağı yazıyı parametre olarak alır.\n",
    "\n",
    "\n"
   ]
  },
  {
   "cell_type": "code",
   "execution_count": 9,
   "id": "ab45ad01-813a-49c7-826b-2e514a92179a",
   "metadata": {},
   "outputs": [
    {
     "name": "stdout",
     "output_type": "stream",
     "text": [
      "ali_veli_selami_fatma\n"
     ]
    }
   ],
   "source": [
    "names=[\"ali\",\"veli\",\"selami\",\"fatma\"]\n",
    "s=\"_\"\n",
    "k=s.join(names)\n",
    "print(k)"
   ]
  },
  {
   "cell_type": "code",
   "execution_count": 12,
   "id": "9ad668ad-aa29-4411-9463-5a3884a634e5",
   "metadata": {},
   "outputs": [
    {
     "name": "stdout",
     "output_type": "stream",
     "text": [
      "ali\n",
      "veli\n",
      "selami\n",
      "fatma\n"
     ]
    }
   ],
   "source": [
    "names=[\"ali\",\"veli\",\"selami\",\"fatma\"]\n",
    "s=\"\\n\"\n",
    "k=s.join(names)\n",
    "print(k)"
   ]
  },
  {
   "cell_type": "code",
   "execution_count": 14,
   "id": "e061b1b5-9c7a-45ff-b8a5-e36c669b0362",
   "metadata": {},
   "outputs": [
    {
     "name": "stdout",
     "output_type": "stream",
     "text": [
      "['ali', 'veli', 'selami', 'ayşe']\n"
     ]
    }
   ],
   "source": [
    "#split\n",
    "s=\"ali-veli-selami-ayşe\"\n",
    "k=s.split(\"-\")\n",
    "print(k)"
   ]
  },
  {
   "cell_type": "code",
   "execution_count": 17,
   "id": "51b1561e-b33f-473f-91b5-496840b70bc5",
   "metadata": {},
   "outputs": [
    {
     "name": "stdout",
     "output_type": "stream",
     "text": [
      "['ali', 'veli', 'selami', 'ayşe']\n"
     ]
    }
   ],
   "source": [
    "s=\"ali,veli,selami,ayşe\"\n",
    "k=s.split(\",\")\n",
    "print(k)"
   ]
  },
  {
   "cell_type": "code",
   "execution_count": 20,
   "id": "f20ddaa9-b6c5-4fcf-95eb-4c472c46a5b9",
   "metadata": {},
   "outputs": [
    {
     "name": "stdout",
     "output_type": "stream",
     "text": [
      "['ali', 'veli', 'selami', 'ayşe']\n"
     ]
    }
   ],
   "source": [
    "s=\"ali  veli   selami  ayşe\"\n",
    "k=s.split()\n",
    "print(k)"
   ]
  },
  {
   "cell_type": "markdown",
   "id": "491a4471-306a-4165-b4d6-c18d2d181e8a",
   "metadata": {},
   "source": [
    "**STRİP(ATMAK) METODU**\n",
    "\n",
    "* Eğer varsa yazının başındaki ve sonundaki boşluk karakterlerini veya başında veya sonunda olan karakterleri siler ve yeni bir yazı oluşturur.\n",
    "* **lstrip():** Soldaki boşlukları atar.\n",
    "* **rstrip:** Sağdaki boşlukları atar.\n",
    "\n",
    "  "
   ]
  },
  {
   "cell_type": "code",
   "execution_count": 42,
   "id": "996e0703-6877-4ed1-935e-fdd903a35715",
   "metadata": {},
   "outputs": [
    {
     "name": "stdin",
     "output_type": "stream",
     "text": [
      "Adı  soyadı    anakahdja\n"
     ]
    },
    {
     "name": "stdout",
     "output_type": "stream",
     "text": [
      "   anakahdja\n"
     ]
    },
    {
     "data": {
      "text/plain": [
       "'anakahdja'"
      ]
     },
     "execution_count": 42,
     "metadata": {},
     "output_type": "execute_result"
    }
   ],
   "source": [
    "name=input(\"Adı  soyadı\")\n",
    "print(name)\n",
    "name.strip()"
   ]
  },
  {
   "cell_type": "markdown",
   "id": "0af1c13f-fd9b-4839-be45-790175cc45c4",
   "metadata": {},
   "source": [
    "**Partition Metodu**\n",
    "\n",
    "* Yazdığımız argümandan yazıyı 3 parçaya ayırır."
   ]
  },
  {
   "cell_type": "code",
   "execution_count": 51,
   "id": "7c4fbdfa-2e09-4363-949a-9c979fd5f287",
   "metadata": {},
   "outputs": [
    {
     "name": "stdout",
     "output_type": "stream",
     "text": [
      "('yağmur yağdı ', 've', ' şimşek çaktı')\n"
     ]
    }
   ],
   "source": [
    "s=\"yağmur yağdı ve şimşek çaktı\"\n",
    "result=s.partition(\"ve\")\n",
    "print(result)"
   ]
  },
  {
   "cell_type": "markdown",
   "id": "6aee0a9c-710e-42e9-b8d2-eacd62892885",
   "metadata": {},
   "source": [
    "**Replace  metodu:**\n",
    "\n",
    "* Yazıdan seçtiğimiz 1. argümanı 2.argümana dönüştürür.\n",
    "* 3.argüman int bir değerdir.Sadece ilk kaç tanesinin değişmesini istersek yazabiliriz.\n",
    "  "
   ]
  },
  {
   "cell_type": "code",
   "execution_count": 54,
   "id": "cdba53c0-a84f-4d6a-9044-d496fe4a3059",
   "metadata": {},
   "outputs": [
    {
     "name": "stdout",
     "output_type": "stream",
     "text": [
      "eskişehir eskişehir güzel eskişehir\n"
     ]
    }
   ],
   "source": [
    "s=\"ankara ankara güzel ankara\"\n",
    "result=s.replace(\"ankara\",\"eskişehir\")\n",
    "print(result)"
   ]
  },
  {
   "cell_type": "code",
   "execution_count": 58,
   "id": "bb61cd0a-854e-488a-ad72-646f0011018a",
   "metadata": {},
   "outputs": [
    {
     "name": "stdout",
     "output_type": "stream",
     "text": [
      "eskişehir eskişehir güzel ankara\n"
     ]
    }
   ],
   "source": [
    "s=\"ankara ankara güzel ankara\"\n",
    "result=s.replace(\"ankara\",\"eskişehir\",2)\n",
    "print(result)"
   ]
  },
  {
   "cell_type": "markdown",
   "id": "416fb15a-37ce-4f37-831a-dbf2ed081344",
   "metadata": {},
   "source": [
    "**STARTSWİTH METODU:**\n",
    "\n",
    "* Yazının parametresiyle belirtilen yazı ile başlayıp başlamadığını kontrol etmek için kullanılır.\n",
    "\n",
    "**ENDSWİTH METODU:**\n",
    "\n",
    "*Yazının parametresiyle belirtilen yazının sonu o mu değil mi  kontrol etmek için kullanılır."
   ]
  },
  {
   "cell_type": "code",
   "execution_count": 61,
   "id": "9ade8af0-4a38-4a75-9d8e-bed77b44aacb",
   "metadata": {},
   "outputs": [
    {
     "name": "stdout",
     "output_type": "stream",
     "text": [
      "True\n"
     ]
    }
   ],
   "source": [
    "s=\"- bu bir denemedir.\"\n",
    "result=s.startswith(\"-\")\n",
    "print(result)"
   ]
  },
  {
   "cell_type": "code",
   "execution_count": 63,
   "id": "32dae9f8-9cca-44aa-a098-9d02700f85ee",
   "metadata": {},
   "outputs": [
    {
     "name": "stdout",
     "output_type": "stream",
     "text": [
      "True\n"
     ]
    }
   ],
   "source": [
    "s=\"- bu bir denemedir.\"\n",
    "result=s.endswith(\".\")\n",
    "print(result)"
   ]
  },
  {
   "cell_type": "code",
   "execution_count": 65,
   "id": "eb23aefb-ada4-4723-9ffd-345433b572db",
   "metadata": {},
   "outputs": [
    {
     "name": "stdout",
     "output_type": "stream",
     "text": [
      "False\n"
     ]
    }
   ],
   "source": [
    "s=\"- bu bir denemedir.\"\n",
    "result=s.endswith(\"denemedir\")\n",
    "print(result)"
   ]
  },
  {
   "cell_type": "code",
   "execution_count": 67,
   "id": "ed873d7e-e2c6-4a32-be8b-695b0849bd99",
   "metadata": {},
   "outputs": [
    {
     "name": "stdout",
     "output_type": "stream",
     "text": [
      "True\n"
     ]
    }
   ],
   "source": [
    "s=\"- bu bir denemedir.\"\n",
    "result=s.endswith(\"denemedir.\")\n",
    "print(result)"
   ]
  },
  {
   "cell_type": "code",
   "execution_count": null,
   "id": "18315f14-32b9-4940-be0c-7aca9c378f6c",
   "metadata": {},
   "outputs": [],
   "source": []
  }
 ],
 "metadata": {
  "kernelspec": {
   "display_name": "Python 3 (ipykernel)",
   "language": "python",
   "name": "python3"
  },
  "language_info": {
   "codemirror_mode": {
    "name": "ipython",
    "version": 3
   },
   "file_extension": ".py",
   "mimetype": "text/x-python",
   "name": "python",
   "nbconvert_exporter": "python",
   "pygments_lexer": "ipython3",
   "version": "3.12.4"
  }
 },
 "nbformat": 4,
 "nbformat_minor": 5
}
