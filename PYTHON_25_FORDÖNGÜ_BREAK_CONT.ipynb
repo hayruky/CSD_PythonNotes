{
 "cells": [
  {
   "cell_type": "markdown",
   "id": "5ceb9d5e-4193-41c9-8ed2-29aad5102bf4",
   "metadata": {},
   "source": [
    "### 25.DERS-ForDöngüsü/Break/Continue"
   ]
  },
  {
   "cell_type": "markdown",
   "id": "a22c0d14-c28f-490c-86aa-de6d901886ac",
   "metadata": {},
   "source": [
    "**FOR DÖNGÜLERİ:** \n",
    "* For döngülerini kullanabilmek için dolaşılabilir(iterable) nesnelerle çalışmalıyız.\n",
    "* * for <değişken_ismi> in <dolaşılabilir nesne > : <-suite->\n",
    "* list,tuple,dict,set sınıflarının dolaşılabilir nesnelerden oluştuğunu biliyoruz.\n",
    "* For döngüsü herhangi bir amaçla dolaşım yapılmak istendiğinde kullanılabilcek temel bir deyimdir.\n",
    "* **\"for _ in count(): .... \"** şeklinde sonsuz döngü oluşturulabilir.\n"
   ]
  },
  {
   "cell_type": "code",
   "execution_count": 15,
   "id": "a91f5923-00fe-420c-9473-8012016fcf56",
   "metadata": {},
   "outputs": [
    {
     "name": "stdout",
     "output_type": "stream",
     "text": [
      "10\n",
      "20\n",
      "30\n",
      "40\n",
      "50\n"
     ]
    }
   ],
   "source": [
    "#Örnek-1\n",
    "\"\"\" x=> değişken\n",
    "    a=> dolaşılabilir nesne\n",
    "\"\"\"\n",
    "a=[10,20,30,40,50]\n",
    "for x in a:    \n",
    "    print(x)"
   ]
  },
  {
   "cell_type": "code",
   "execution_count": 19,
   "id": "3a7dfcdd-41b6-483c-af03-10e2fbd97870",
   "metadata": {},
   "outputs": [
    {
     "name": "stdout",
     "output_type": "stream",
     "text": [
      "i\n",
      "s\n",
      "t\n",
      "a\n",
      "n\n",
      "b\n",
      "u\n",
      "l\n"
     ]
    }
   ],
   "source": [
    "#Örnek-2\n",
    "a=\"istanbul\"\n",
    "\"\"\"\n",
    "    x=> Burada 11 tane karakteri temsil eder.\n",
    "    a=> dolaşılabilir nesne\n",
    "\"\"\"\n",
    "for x in a:    \n",
    "    print(x)"
   ]
  },
  {
   "cell_type": "code",
   "execution_count": 48,
   "id": "45acdab3-854b-4c8d-a028-afdfd88bb45d",
   "metadata": {},
   "outputs": [
    {
     "name": "stdout",
     "output_type": "stream",
     "text": [
      "0 1 2 3 4 5 6 7 8 9 "
     ]
    }
   ],
   "source": [
    "#Örnek-3\n",
    "for i in range(10):\n",
    "    print(i,end=\" \")"
   ]
  },
  {
   "cell_type": "code",
   "execution_count": 60,
   "id": "96188cd8-0f8b-438d-a1eb-10eed45575fe",
   "metadata": {},
   "outputs": [
    {
     "name": "stdout",
     "output_type": "stream",
     "text": [
      "ali,veli,ayşe,fatma,selami,"
     ]
    }
   ],
   "source": [
    "#Örnek-4\n",
    "#Bir sözlük dolaşılıdığında anahtar verileri ekrana yazılır.\n",
    "d={\"ali\":10,\"veli\":20,\"ayşe\":30,\"fatma\":40,\"selami\":50}\n",
    "for key in d:\n",
    "    print(key,end=\",\")"
   ]
  },
  {
   "cell_type": "markdown",
   "id": "272fa32a-0496-46cb-87fc-f1eb956fcdf0",
   "metadata": {},
   "source": [
    "**NOT:** dict sınıfının items metodunun dolaşılabilir bir nesne verdiğini,o nesne dolaşıldığında anahtar-değer çiftlerinin elde edildiğini hatırlayalım."
   ]
  },
  {
   "cell_type": "code",
   "execution_count": 62,
   "id": "49a8889e-85a1-4361-b9ef-19bcba239f0e",
   "metadata": {},
   "outputs": [
    {
     "name": "stdout",
     "output_type": "stream",
     "text": [
      "('ali', 10),('veli', 20),('ayşe', 30),('fatma', 40),('selami', 50),"
     ]
    }
   ],
   "source": [
    "#Örnek-5\n",
    "#Tuple'a dönüştürdük\n",
    "for t in d.items():\n",
    "    print(t,end=\",\")"
   ]
  },
  {
   "cell_type": "code",
   "execution_count": 50,
   "id": "f9124eb6-172a-4e09-9680-7b08902bf9f3",
   "metadata": {},
   "outputs": [],
   "source": [
    "#Aşağıdaki listeyi dolaşalabilmek için 2 tane yöntemimiz var:\n",
    "a=[10,20,30,40,50,60]\n"
   ]
  },
  {
   "cell_type": "code",
   "execution_count": 52,
   "id": "f3e8e452-6a05-4530-b55f-423e11272057",
   "metadata": {},
   "outputs": [
    {
     "name": "stdout",
     "output_type": "stream",
     "text": [
      "10 20 30 40 50 60 "
     ]
    }
   ],
   "source": [
    "#1.yol\n",
    "for x in a:\n",
    "    print(x, end=\" \")"
   ]
  },
  {
   "cell_type": "code",
   "execution_count": 58,
   "id": "8b975bc7-16c1-45cb-b20e-437846acfd99",
   "metadata": {},
   "outputs": [
    {
     "name": "stdout",
     "output_type": "stream",
     "text": [
      "10 20 30 40 50 60 "
     ]
    }
   ],
   "source": [
    "#2.yol\n",
    "for i in range(len(a)):\n",
    "    print(a[i],end=\" \")"
   ]
  },
  {
   "cell_type": "markdown",
   "id": "75a23f68-76a5-4204-b3f3-7aa6fa7dc716",
   "metadata": {},
   "source": [
    "**Not:** for döngüsünde biz döngü değişkenini değiştirmekle nesneyi değiştirmiş olmayız.\n",
    "* Örneğin bir listenin elemanlarını kareleriyle değiştirmek isteyelim:"
   ]
  },
  {
   "cell_type": "code",
   "execution_count": 73,
   "id": "ae0925b4-5c5c-4b7b-a289-22c4d872e50d",
   "metadata": {},
   "outputs": [
    {
     "name": "stdout",
     "output_type": "stream",
     "text": [
      "100 400 900 1600 2500 3600 "
     ]
    }
   ],
   "source": [
    "a=[10,20,30,40,50,60]\n",
    "for x in a:\n",
    "    x=x**2\n",
    "    print(x,end=\" \")"
   ]
  },
  {
   "cell_type": "markdown",
   "id": "0a632be5-a980-427c-9a48-2065cad97986",
   "metadata": {},
   "source": [
    "* Çünkü biz burda x'i değiştiriyoruz, a'da bir değişiklik yapmıyoruz.\n",
    "* int türü değiştirilemez olduğu için burada aslında x yeni yaratılan başka bir int nesneyi gösteriyor olmaktadır.\n",
    "* Aşağıda gerçekten liste elemanı değiştirilmiştir:\n",
    "  "
   ]
  },
  {
   "cell_type": "code",
   "execution_count": 78,
   "id": "da30d266-b607-4063-a690-363e6dad9244",
   "metadata": {},
   "outputs": [
    {
     "name": "stdout",
     "output_type": "stream",
     "text": [
      "100 400 900 1600 2500 3600 "
     ]
    }
   ],
   "source": [
    "a=[10,20,30,40,50,60]\n",
    "for i in range(len(a)):\n",
    "    a[i]=a[i]**2\n",
    "    print(a[i],end=\" \")"
   ]
  },
  {
   "cell_type": "code",
   "execution_count": 81,
   "id": "f72c4426-0b58-46ef-90f8-15538c87ac72",
   "metadata": {},
   "outputs": [
    {
     "name": "stdout",
     "output_type": "stream",
     "text": [
      "('ali', 100, 'eskişehir')\n",
      "('veli', 200, 'konya')\n",
      "('selami', 300, 'nevşehir')\n",
      "('ayşe', 400, 'sivas')\n",
      "('fatma', 700, 'istanbul')\n"
     ]
    }
   ],
   "source": [
    "#Örnek\n",
    "a=[(\"ali\",100,\"eskişehir\"),(\"veli\",200,\"konya\"),(\"selami\",300,\"nevşehir\"),(\"ayşe\",400,\"sivas\"),(\"fatma\",700,\"istanbul\")]\n",
    "for t in a:\n",
    "    print(t)"
   ]
  },
  {
   "cell_type": "code",
   "execution_count": 87,
   "id": "0f67a8b7-058a-439f-9a9a-2030da78b2bc",
   "metadata": {},
   "outputs": [
    {
     "name": "stdout",
     "output_type": "stream",
     "text": [
      "ali 100 eskişehir \n",
      "veli 200 konya \n",
      "selami 300 nevşehir \n",
      "ayşe 400 sivas \n",
      "fatma 700 istanbul \n"
     ]
    }
   ],
   "source": [
    "for t in a:\n",
    "    for x in t:\n",
    "        print(x,end=\" \")\n",
    "    print()"
   ]
  },
  {
   "cell_type": "markdown",
   "id": "c018daea-6d65-456d-b761-e604b9647d86",
   "metadata": {},
   "source": [
    "* Python'da \"_\" normal bir değişken ismi olarak kullanılabilmektedir.\n",
    "* Programcılar \"_\" ismini \"ben bu değişkenle ilgilenmiyorum,yalnızca bu değişkeni yer tutucu olarak kullanıyorum anlamında\" kullanılmaktadır.\n"
   ]
  },
  {
   "cell_type": "code",
   "execution_count": 4,
   "id": "77202956-677c-4cd5-bd3f-b306777fa8dd",
   "metadata": {},
   "outputs": [],
   "source": [
    "for _ in range(100):\n",
    "    pass"
   ]
  },
  {
   "cell_type": "code",
   "execution_count": 12,
   "id": "a76a609e-d4fa-4554-aaad-6cb6e3970aba",
   "metadata": {},
   "outputs": [
    {
     "name": "stdout",
     "output_type": "stream",
     "text": [
      "ali 10\n",
      "veli 20\n",
      "ayşe 30\n",
      "fatma 40\n",
      "selami 50\n",
      "selahattin 100\n"
     ]
    }
   ],
   "source": [
    "d={\"ali\":10,\"veli\":20,\"ayşe\":30,\"fatma\":40,\"selami\":50}\n",
    "d[\"selahattin\"]=100\n",
    "\n",
    "for key in d:\n",
    "    print(key,d[key])"
   ]
  },
  {
   "cell_type": "code",
   "execution_count": 14,
   "id": "057c91ff-9b4b-4e26-85f0-866773018e9f",
   "metadata": {},
   "outputs": [
    {
     "name": "stdout",
     "output_type": "stream",
     "text": [
      "ali 10\n",
      "veli 20\n",
      "ayşe 30\n",
      "fatma 40\n",
      "selami 50\n",
      "selahattin 100\n"
     ]
    }
   ],
   "source": [
    "for key,value in  d.items():\n",
    "    print(key,value)"
   ]
  },
  {
   "cell_type": "code",
   "execution_count": 18,
   "id": "f4949b8f-e1b2-408d-bb3f-e7e38c37f9ea",
   "metadata": {},
   "outputs": [
    {
     "name": "stdout",
     "output_type": "stream",
     "text": [
      "fatma ayşe selami veli ali "
     ]
    }
   ],
   "source": [
    "#Tersten dolaşılım:\n",
    "names=[\"ali\",\"veli\",\"selami\",\"ayşe\",\"fatma\"]\n",
    "for name in names[::-1]:\n",
    "    print(name,end=\" \")"
   ]
  },
  {
   "cell_type": "code",
   "execution_count": 22,
   "id": "eef15081-fcca-48eb-8b5a-511071ababbb",
   "metadata": {},
   "outputs": [
    {
     "name": "stdout",
     "output_type": "stream",
     "text": [
      "fatma ayşe selami veli ali "
     ]
    }
   ],
   "source": [
    "#reversed(iterable) ile tersten dolaşım:\n",
    "for name in reversed(names):\n",
    "    print(name,end=\" \")\n"
   ]
  },
  {
   "cell_type": "markdown",
   "id": "0edbf4e2-e3f3-44c0-a574-72f4350777ed",
   "metadata": {},
   "source": [
    "**NOT:** set(kümeler) reversed ile tersten dolaşamayız çünkü hangi sırayla dolaşılacağı belli değildir.\n",
    "* TypeError: 'set' object is not reversible"
   ]
  },
  {
   "cell_type": "code",
   "execution_count": 26,
   "id": "ad434867-ab9a-4dcb-a2c2-8bec0f8b70ea",
   "metadata": {},
   "outputs": [
    {
     "ename": "TypeError",
     "evalue": "'set' object is not reversible",
     "output_type": "error",
     "traceback": [
      "\u001b[1;31m---------------------------------------------------------------------------\u001b[0m",
      "\u001b[1;31mTypeError\u001b[0m                                 Traceback (most recent call last)",
      "Cell \u001b[1;32mIn[26], line 2\u001b[0m\n\u001b[0;32m      1\u001b[0m set_names\u001b[38;5;241m=\u001b[39m{\u001b[38;5;124m\"\u001b[39m\u001b[38;5;124mali\u001b[39m\u001b[38;5;124m\"\u001b[39m,\u001b[38;5;124m\"\u001b[39m\u001b[38;5;124mveli\u001b[39m\u001b[38;5;124m\"\u001b[39m,\u001b[38;5;124m\"\u001b[39m\u001b[38;5;124mselami\u001b[39m\u001b[38;5;124m\"\u001b[39m,\u001b[38;5;124m\"\u001b[39m\u001b[38;5;124mayşe\u001b[39m\u001b[38;5;124m\"\u001b[39m,\u001b[38;5;124m\"\u001b[39m\u001b[38;5;124mfatma\u001b[39m\u001b[38;5;124m\"\u001b[39m}\n\u001b[1;32m----> 2\u001b[0m \u001b[38;5;28;01mfor\u001b[39;00m set_name \u001b[38;5;129;01min\u001b[39;00m \u001b[38;5;28mreversed\u001b[39m(set_names):\n\u001b[0;32m      3\u001b[0m     \u001b[38;5;28mprint\u001b[39m(set_name,end\u001b[38;5;241m=\u001b[39m\u001b[38;5;124m\"\u001b[39m\u001b[38;5;124m \u001b[39m\u001b[38;5;124m\"\u001b[39m)\n",
      "\u001b[1;31mTypeError\u001b[0m: 'set' object is not reversible"
     ]
    }
   ],
   "source": [
    "set_names={\"ali\",\"veli\",\"selami\",\"ayşe\",\"fatma\"}\n",
    "for set_name in reversed(set_names):\n",
    "    print(set_name,end=\" \")"
   ]
  },
  {
   "cell_type": "markdown",
   "id": "3948a297-fc3d-4bfa-ac21-37d4f90a807f",
   "metadata": {},
   "source": [
    "**BREAK DEYİMİ:** Break deyimi yalnızca döngüler içerisinde kullanılabilir.\n",
    "* Programın akışı break anahtar sözcüğünü gördüğünde döngü deyimi sonlanır.\n",
    "* Genellikle break bir koşulla kullanılır."
   ]
  },
  {
   "cell_type": "code",
   "execution_count": 42,
   "id": "f4c36ee0-9890-49d4-93f7-d2d04542ddff",
   "metadata": {},
   "outputs": [
    {
     "name": "stdin",
     "output_type": "stream",
     "text": [
      "Bir değer giriniz: 50\n"
     ]
    },
    {
     "name": "stdout",
     "output_type": "stream",
     "text": [
      "2500\n"
     ]
    },
    {
     "name": "stdin",
     "output_type": "stream",
     "text": [
      "Bir değer giriniz: 10\n"
     ]
    },
    {
     "name": "stdout",
     "output_type": "stream",
     "text": [
      "100\n"
     ]
    },
    {
     "name": "stdin",
     "output_type": "stream",
     "text": [
      "Bir değer giriniz: 1\n"
     ]
    },
    {
     "name": "stdout",
     "output_type": "stream",
     "text": [
      "1\n"
     ]
    },
    {
     "name": "stdin",
     "output_type": "stream",
     "text": [
      "Bir değer giriniz: 0\n"
     ]
    },
    {
     "name": "stdout",
     "output_type": "stream",
     "text": [
      "ok\n"
     ]
    }
   ],
   "source": [
    "for val in range(10):\n",
    "    val=int(input(\"Bir değer giriniz:\"))\n",
    "    if val==0:\n",
    "        break\n",
    "    \n",
    "    print(val*val)\n",
    "print(\"ok\")"
   ]
  },
  {
   "cell_type": "code",
   "execution_count": 68,
   "id": "0bd1b503-c77b-4451-9a73-ccf1c86a0b97",
   "metadata": {},
   "outputs": [
    {
     "name": "stdin",
     "output_type": "stream",
     "text": [
      "Enter Passsword: mad\n"
     ]
    },
    {
     "name": "stdout",
     "output_type": "stream",
     "text": [
      "İnvalid Password\n"
     ]
    },
    {
     "name": "stdin",
     "output_type": "stream",
     "text": [
      "Enter Passsword: mav\n"
     ]
    },
    {
     "name": "stdout",
     "output_type": "stream",
     "text": [
      "İnvalid Password\n"
     ]
    },
    {
     "name": "stdin",
     "output_type": "stream",
     "text": [
      "Enter Passsword: maviay\n"
     ]
    },
    {
     "name": "stdout",
     "output_type": "stream",
     "text": [
      "ok\n"
     ]
    }
   ],
   "source": [
    "for _ in range(3):\n",
    "    \n",
    "    passwd=input(\"Enter Passsword:\")\n",
    "    if passwd==\"maviay\":\n",
    "        print(\"ok\")\n",
    "        break\n",
    "    else:\n",
    "        print(\"İnvalid Password\")\n",
    "if passwd != \"maviay\":\n",
    "    print(\"Try Again later...\")\n",
    "        \n",
    "        "
   ]
  },
  {
   "cell_type": "markdown",
   "id": "dded028a-46e6-4e2e-bc66-1365ac5fecda",
   "metadata": {},
   "source": [
    "* İç İçe döngülerde break sadece kendi döngüsündeki işlemi sonlandırır.\n",
    "* Tüm dillerde tek hamlede döngüden çıkabilmek için dış döngüye de yeniden braek uygulaması yapmalıyız."
   ]
  },
  {
   "cell_type": "code",
   "execution_count": 88,
   "id": "474e8603-671f-460f-a94d-ba0e86bc1c9b",
   "metadata": {},
   "outputs": [
    {
     "name": "stdout",
     "output_type": "stream",
     "text": [
      "(0,0)\n"
     ]
    },
    {
     "name": "stdin",
     "output_type": "stream",
     "text": [
      "continue? (y/n): y\n"
     ]
    },
    {
     "name": "stdout",
     "output_type": "stream",
     "text": [
      "(0,1)\n"
     ]
    },
    {
     "name": "stdin",
     "output_type": "stream",
     "text": [
      "continue? (y/n): n\n"
     ]
    },
    {
     "name": "stdout",
     "output_type": "stream",
     "text": [
      "program continuous\n"
     ]
    }
   ],
   "source": [
    "for i in range(10):\n",
    "    for k in range(10):\n",
    "        print(f\"({i},{k})\")\n",
    "        response=input(\"continue? (y/n):\")\n",
    "        if response ==\"n\":\n",
    "            break\n",
    "    if response ==\"n\":\n",
    "        break\n",
    "print(\"program continuous\")"
   ]
  },
  {
   "cell_type": "markdown",
   "id": "d635e872-8759-4efc-b169-099bf99d7f90",
   "metadata": {},
   "source": [
    "**CONTINUE DEYİMİ:** Continue deyimi yalnızca döngüler içerisinde kullanılabilir.\n",
    "* Program akışı continue anahtar sözcüğünü gördüğünde döngü başa sararak yeni bir yinelemeye geçilir."
   ]
  },
  {
   "cell_type": "code",
   "execution_count": 10,
   "id": "e91977f2-bfc3-479b-8047-943cdc85cac4",
   "metadata": {},
   "outputs": [
    {
     "name": "stdout",
     "output_type": "stream",
     "text": [
      "0\n"
     ]
    }
   ],
   "source": [
    "#Break\n",
    "for i in range(10):\n",
    "    if i%2==1:\n",
    "        break\n",
    "    print(i)"
   ]
  },
  {
   "cell_type": "code",
   "execution_count": 8,
   "id": "c7436ec5-dc75-436a-b830-ad13de3f6c06",
   "metadata": {},
   "outputs": [
    {
     "name": "stdout",
     "output_type": "stream",
     "text": [
      "0\n",
      "2\n",
      "4\n",
      "6\n",
      "8\n"
     ]
    }
   ],
   "source": [
    "#Continue\n",
    "for i in range(10):\n",
    "    if i%2==1:\n",
    "        continue\n",
    "    print(i)"
   ]
  },
  {
   "cell_type": "code",
   "execution_count": 19,
   "id": "27f7197f-63b3-4ab9-a604-3df1b26b62ac",
   "metadata": {},
   "outputs": [
    {
     "name": "stdin",
     "output_type": "stream",
     "text": [
      "CSD>  \n",
      "CSD>  \n",
      "CSD> dir\n"
     ]
    },
    {
     "name": "stdout",
     "output_type": "stream",
     "text": [
      "dir command executes...\n"
     ]
    },
    {
     "name": "stdin",
     "output_type": "stream",
     "text": [
      "CSD> del\n"
     ]
    },
    {
     "name": "stdout",
     "output_type": "stream",
     "text": [
      "del command executes...\n"
     ]
    },
    {
     "name": "stdin",
     "output_type": "stream",
     "text": [
      "CSD> cls\n"
     ]
    },
    {
     "name": "stdout",
     "output_type": "stream",
     "text": [
      "cls command executes...\n"
     ]
    },
    {
     "name": "stdin",
     "output_type": "stream",
     "text": [
      "CSD> xx\n"
     ]
    },
    {
     "name": "stdout",
     "output_type": "stream",
     "text": [
      "invalid command:(cmd)\n"
     ]
    },
    {
     "name": "stdin",
     "output_type": "stream",
     "text": [
      "CSD> quit\n"
     ]
    }
   ],
   "source": [
    "while True:\n",
    "    cmd=input(\"CSD>\").strip()\n",
    "    if cmd ==\"quit\":\n",
    "        break\n",
    "    if cmd== \"\":\n",
    "        continue\n",
    "    if cmd==\"dir\":\n",
    "        print(\"dir command executes...\")\n",
    "    elif cmd==\"del\":\n",
    "        print(\"del command executes...\")\n",
    "    elif cmd==\"cls\":\n",
    "        print(\"cls command executes...\")\n",
    "    else:\n",
    "        print(f\"invalid command:(cmd)\")"
   ]
  },
  {
   "cell_type": "code",
   "execution_count": 80,
   "id": "b9e00576-ea8c-425d-bbfb-9a5ecacfe57c",
   "metadata": {},
   "outputs": [
    {
     "name": "stdin",
     "output_type": "stream",
     "text": [
      "CSD>  10+8\n"
     ]
    },
    {
     "name": "stdout",
     "output_type": "stream",
     "text": [
      "['10+8']\n",
      "invalid command\n"
     ]
    },
    {
     "name": "stdin",
     "output_type": "stream",
     "text": [
      "CSD>  10 * 7 \n"
     ]
    },
    {
     "name": "stdout",
     "output_type": "stream",
     "text": [
      "['10', '*', '7']\n",
      "70.0\n"
     ]
    },
    {
     "name": "stdin",
     "output_type": "stream",
     "text": [
      "CSD>  10 + 9\n"
     ]
    },
    {
     "name": "stdout",
     "output_type": "stream",
     "text": [
      "['10', '+', '9']\n",
      "19.0\n"
     ]
    },
    {
     "name": "stdin",
     "output_type": "stream",
     "text": [
      "CSD>  quit\n"
     ]
    }
   ],
   "source": [
    "\"\"\"\n",
    "Aşağıda bi imleç eşliğinde dört işlem yapan bir program örneği verilmiştir.\n",
    "Bu programda kullanıcı \"3 * 2 \" gibi dört işlemnden birini yazıp Enter tuşuna basmaktadır.\n",
    "Program da işlemin sonucunu ekrana yazdırmaktadır.\n",
    "\"quit\" ile programdan çıkılmaktadır.\n",
    "Ancak bu programda operatörler ile operantlar arasında en az bir boşluk karakterinin bulunması gerekir.\n",
    "\n",
    "\"\"\"\n",
    "while True:\n",
    "    cmd=input(\"CSD> \").strip() #Strip boşlukları siler.\n",
    "    if cmd ==\"quit\":\n",
    "        break\n",
    "    if cmd== \"\":\n",
    "        continue\n",
    "    params=cmd.split() # ['10', '*', '7'] listeye dönüştürür.\n",
    "    print(params)\n",
    "    if len(params)!=3:\n",
    "        print(\"invalid command\")\n",
    "        continue\n",
    "    op1=float(params[0])\n",
    "    op2=float(params[2])\n",
    "    if params[1] ==\"*\":\n",
    "        result=op1*op2\n",
    "    elif params[1] ==\"/\":\n",
    "        result=op1/op2\n",
    "    elif params[1] ==\"+\":\n",
    "        result=op1+op2\n",
    "    elif params[1] ==\"-\":\n",
    "        result=op1-op2\n",
    "    else:\n",
    "        print(\"invalid operator\")\n",
    "        continue\n",
    "    print(result)\n",
    "     \n",
    "        "
   ]
  },
  {
   "cell_type": "code",
   "execution_count": null,
   "id": "8b3c8bf1-1f6c-4e10-bd3f-1655eb63a04a",
   "metadata": {},
   "outputs": [],
   "source": []
  },
  {
   "cell_type": "code",
   "execution_count": null,
   "id": "0b62cc9f-828e-4120-bcc7-604ce1b30fac",
   "metadata": {},
   "outputs": [],
   "source": []
  }
 ],
 "metadata": {
  "kernelspec": {
   "display_name": "Python 3 (ipykernel)",
   "language": "python",
   "name": "python3"
  },
  "language_info": {
   "codemirror_mode": {
    "name": "ipython",
    "version": 3
   },
   "file_extension": ".py",
   "mimetype": "text/x-python",
   "name": "python",
   "nbconvert_exporter": "python",
   "pygments_lexer": "ipython3",
   "version": "3.12.4"
  }
 },
 "nbformat": 4,
 "nbformat_minor": 5
}
