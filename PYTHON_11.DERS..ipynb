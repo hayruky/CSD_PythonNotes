{
 "cells": [
  {
   "cell_type": "markdown",
   "id": "f32a23ec-9f3e-42fb-970e-d80972445c21",
   "metadata": {},
   "source": [
    "### PYTHON-11.DERS"
   ]
  },
  {
   "cell_type": "code",
   "execution_count": 27,
   "id": "df045d2e-ac31-4aa9-8bcb-339217c23089",
   "metadata": {},
   "outputs": [
    {
     "name": "stdin",
     "output_type": "stream",
     "text": [
      "Bir sayı giriniz: 15\n"
     ]
    },
    {
     "name": "stdout",
     "output_type": "stream",
     "text": [
      "True\n"
     ]
    }
   ],
   "source": [
    "val=int(input(\"Bir sayı giriniz:\"))\n",
    "result= 10<=val<=20\n",
    "print(result)"
   ]
  },
  {
   "cell_type": "markdown",
   "id": "9d6905fb-5431-44b2-be03-afa98ba5ab3f",
   "metadata": {},
   "source": [
    "a==b==c\n",
    "\n",
    "\n",
    "bu ifadenin eş değeri a==b and b==c dir\n"
   ]
  },
  {
   "cell_type": "markdown",
   "id": "ab0b2554-03cb-4d1b-aeeb-478b492f6ae4",
   "metadata": {},
   "source": [
    "* ***OPERATÖRLER ARASI ÖNCELİK İLİŞKİSİ(OPERATOR PRECEDENCY)VARDIR.***\n",
    "* ÖNCELİK SIRASI ;\n",
    "  * () :SOLDAN SAĞA (left to right)\n",
    "  * \"**\" (üs alma opearatörü): sağdan sola\n",
    "  * -,+ (işaret operatöü):sağdan sola \n",
    "  * *, /,//,% :SOLDAN SAĞA\n",
    "  * +,- :SOLDAN SAĞA\n",
    "  * <,>,==,=! : sağdan sola\n",
    "  * = : SAĞDAN SOLA \n"
   ]
  },
  {
   "cell_type": "markdown",
   "id": "904f1196-60e8-46bb-9d76-979f66774612",
   "metadata": {},
   "source": [
    "MANTIKSAL OPERATÖRLER: \n",
    "* AND && soldan sağa\n",
    "* OR  || soldan sağa\n",
    "* NOT ! sağdan sola"
   ]
  },
  {
   "cell_type": "markdown",
   "id": "28eb182e-b287-403f-9f30-03a139d705e3",
   "metadata": {},
   "source": [
    "* True and True = True'dur.\n",
    "* True and False = False'dur.\n",
    "* False and False= False'dur.\n",
    "* False and True= False'dur.\n"
   ]
  },
  {
   "cell_type": "markdown",
   "id": "2aa00ea1-0196-4aa9-aab4-bdba8b0406d3",
   "metadata": {},
   "source": [
    "* True or True = True'dur.\n",
    "* True or False= True'dur.\n",
    "* False or False= False'dur.  \n",
    "* False or True = True 'dur.\n"
   ]
  },
  {
   "cell_type": "markdown",
   "id": "f723da2c-39e9-4f0e-af99-b292f000cf63",
   "metadata": {},
   "source": [
    "* False=0\n",
    "* True=!0"
   ]
  },
  {
   "cell_type": "markdown",
   "id": "4dc0c8db-de0f-4412-88bd-fcfdb8165c72",
   "metadata": {},
   "source": [
    "* Not True = False\n",
    "* Not False =True"
   ]
  },
  {
   "cell_type": "code",
   "execution_count": 34,
   "id": "384d0fff-2a34-4b3b-9c09-b21c41eddf98",
   "metadata": {},
   "outputs": [
    {
     "name": "stdout",
     "output_type": "stream",
     "text": [
      "-7\n"
     ]
    }
   ],
   "source": [
    "result=0 or -7 \n",
    "print(result)\n"
   ]
  },
  {
   "cell_type": "code",
   "execution_count": 36,
   "id": "58d7f327-51ea-447e-9274-06f6c46bbcbf",
   "metadata": {},
   "outputs": [
    {
     "name": "stdout",
     "output_type": "stream",
     "text": [
      "True\n"
     ]
    }
   ],
   "source": [
    "result=True or -7 \n",
    "print(result)"
   ]
  },
  {
   "cell_type": "code",
   "execution_count": 48,
   "id": "79fa51fe-bbee-4b31-8ace-f7c97566a3e6",
   "metadata": {},
   "outputs": [
    {
     "name": "stdout",
     "output_type": "stream",
     "text": [
      "10\n"
     ]
    },
    {
     "data": {
      "text/plain": [
       "'İşlem soldan başladığı için ve or operatöründe true gördüğü an sonucun true olduğunu \\nbildiği için ikinci ifadeye bakmaz ve direkt soldaki ifadeyi yazdırır.'"
      ]
     },
     "execution_count": 48,
     "metadata": {},
     "output_type": "execute_result"
    }
   ],
   "source": [
    "result=10 or -7 \n",
    "print(result)\n",
    "\"\"\"İşlem soldan başladığı için ve or operatöründe true gördüğü an sonucun true olduğunu \n",
    "bildiği için ikinci ifadeye bakmaz ve direkt soldaki ifadeyi yazdırır.\"\"\""
   ]
  },
  {
   "cell_type": "code",
   "execution_count": 14,
   "id": "e142a091-3555-448a-bbe2-bea85349650c",
   "metadata": {},
   "outputs": [
    {
     "name": "stdout",
     "output_type": "stream",
     "text": [
      "-7\n"
     ]
    }
   ],
   "source": [
    "result=-7 or 10\n",
    "print(result)\n"
   ]
  },
  {
   "cell_type": "code",
   "execution_count": 22,
   "id": "177f7a64-3bd6-44ac-9ae4-3d5d6954b6f7",
   "metadata": {},
   "outputs": [
    {
     "data": {
      "text/plain": [
       "'kaan aslan'"
      ]
     },
     "execution_count": 22,
     "metadata": {},
     "output_type": "execute_result"
    }
   ],
   "source": [
    "#Stringlerde bool: Eğer ifadenin içi doluysa True,içi boşsa False'dur.\n",
    "\"kaan aslan\" or 8\n",
    "# True or True \n"
   ]
  },
  {
   "cell_type": "code",
   "execution_count": 28,
   "id": "a5885b0e-142e-4550-b21b-7b34132fb62b",
   "metadata": {},
   "outputs": [
    {
     "data": {
      "text/plain": [
       "''"
      ]
     },
     "execution_count": 28,
     "metadata": {},
     "output_type": "execute_result"
    }
   ],
   "source": [
    "\"\" and 8"
   ]
  },
  {
   "cell_type": "markdown",
   "id": "055d10bd-6a42-40d0-8bd0-afe3222bf921",
   "metadata": {},
   "source": [
    "* \"\" : Boş str'dir.False\n",
    "* \"0\" : dolu str'dir.True"
   ]
  },
  {
   "cell_type": "code",
   "execution_count": 42,
   "id": "828b0e7a-b4c0-4dab-841d-bf1613dc3644",
   "metadata": {},
   "outputs": [
    {
     "data": {
      "text/plain": [
       "'kaan aslan'"
      ]
     },
     "execution_count": 42,
     "metadata": {},
     "output_type": "execute_result"
    }
   ],
   "source": [
    "#Örneğin\n",
    "\"kaan aslan\" or 0 \n",
    "#True or False = True"
   ]
  },
  {
   "cell_type": "code",
   "execution_count": 46,
   "id": "fa74f71e-8fa3-4907-93d3-7e65fcd063e6",
   "metadata": {},
   "outputs": [
    {
     "data": {
      "text/plain": [
       "200"
      ]
     },
     "execution_count": 46,
     "metadata": {},
     "output_type": "execute_result"
    }
   ],
   "source": [
    "\"\" or 200\n",
    "#False or True =True"
   ]
  },
  {
   "cell_type": "markdown",
   "id": "331349f9-7fa2-4f15-812a-554579836a8f",
   "metadata": {},
   "source": [
    "**ATAMA OPERATÖRÜ(=)** \n",
    "* Daha doğru ifadesi  operatör değil deyimdir.\n",
    "* a=10\n",
    "* (a=10)+2 böyle bir işlemi python çalıştırmaz.\n",
    "* a=b=10 böyle bir işlemi python çalıştırmaz.\n"
   ]
  },
  {
   "cell_type": "code",
   "execution_count": 51,
   "id": "d5565f99-b28b-4f14-b43b-3b90d1de0e3d",
   "metadata": {},
   "outputs": [
    {
     "ename": "NameError",
     "evalue": "name 'a' is not defined",
     "output_type": "error",
     "traceback": [
      "\u001b[1;31m---------------------------------------------------------------------------\u001b[0m",
      "\u001b[1;31mNameError\u001b[0m                                 Traceback (most recent call last)",
      "Cell \u001b[1;32mIn[51], line 1\u001b[0m\n\u001b[1;32m----> 1\u001b[0m (a\u001b[38;5;241m==\u001b[39m\u001b[38;5;241m10\u001b[39m)\u001b[38;5;241m+\u001b[39m\u001b[38;5;241m2\u001b[39m\n",
      "\u001b[1;31mNameError\u001b[0m: name 'a' is not defined"
     ]
    }
   ],
   "source": [
    "(a=10)+2"
   ]
  },
  {
   "cell_type": "code",
   "execution_count": 55,
   "id": "e9024a3c-e1cb-4e9f-ab3b-452bb3d47c5c",
   "metadata": {},
   "outputs": [
    {
     "ename": "SyntaxError",
     "evalue": "invalid syntax. Maybe you meant '==' or ':=' instead of '='? (3844330503.py, line 1)",
     "output_type": "error",
     "traceback": [
      "\u001b[1;36m  Cell \u001b[1;32mIn[55], line 1\u001b[1;36m\u001b[0m\n\u001b[1;33m    b=(a=10)+30\u001b[0m\n\u001b[1;37m       ^\u001b[0m\n\u001b[1;31mSyntaxError\u001b[0m\u001b[1;31m:\u001b[0m invalid syntax. Maybe you meant '==' or ':=' instead of '='?\n"
     ]
    }
   ],
   "source": [
    "b=(a=10)+30\n",
    "print(a,b)"
   ]
  },
  {
   "cell_type": "markdown",
   "id": "12f53ca6-edd1-445b-a5b9-be77f88a49ca",
   "metadata": {},
   "source": [
    "**WALRUS OPERATÖRÜ (:=)**\n",
    "* Daha demin \"=\" operatörüyle yapamadığımız işlemi walrus operatörüyle yapabiliriz.\n",
    "* 3.8 versiyonunda bu özellik vardır.2019'da güncellenmiştir.\n",
    "  * b=(a:=3)+5 Bu işlem Pythonda çalışır.\n",
    "  * Sadece bu tarz işlemlerde kullanılır.\n",
    "* Bir ifadede Walrus operatörü yerine atama op. de kullanılabiliyorsa Walrus operatörü geçersizdir.\n",
    "* * a=10 Bu geçerlidir.\n",
    "  * a:=10 Bu geçersizdir.\n",
    "    * b=(a:=3)+5 Geçerlidir.\n",
    "    * b=(a=3)+5 Geçersizdir.\n",
    "\n",
    "    "
   ]
  },
  {
   "cell_type": "code",
   "execution_count": 65,
   "id": "1a0a4224-58e8-4536-ae7e-09199060a8ea",
   "metadata": {},
   "outputs": [
    {
     "name": "stdout",
     "output_type": "stream",
     "text": [
      "8\n"
     ]
    }
   ],
   "source": [
    "b=(a:=3)+5\n",
    "print(b)"
   ]
  },
  {
   "cell_type": "code",
   "execution_count": 73,
   "id": "4806c1e5-072b-484c-945e-0d4d61a9755a",
   "metadata": {},
   "outputs": [],
   "source": [
    "a=10"
   ]
  },
  {
   "cell_type": "code",
   "execution_count": 75,
   "id": "1d4b7211-c9d9-4191-b9fb-7a769b0196fb",
   "metadata": {},
   "outputs": [
    {
     "ename": "SyntaxError",
     "evalue": "invalid syntax (1684239338.py, line 1)",
     "output_type": "error",
     "traceback": [
      "\u001b[1;36m  Cell \u001b[1;32mIn[75], line 1\u001b[1;36m\u001b[0m\n\u001b[1;33m    a:=10\u001b[0m\n\u001b[1;37m     ^\u001b[0m\n\u001b[1;31mSyntaxError\u001b[0m\u001b[1;31m:\u001b[0m invalid syntax\n"
     ]
    }
   ],
   "source": [
    "a:=10"
   ]
  },
  {
   "cell_type": "code",
   "execution_count": 79,
   "id": "2b34c165-0c8b-4e57-8e87-0011124436be",
   "metadata": {},
   "outputs": [
    {
     "data": {
      "text/plain": [
       "15"
      ]
     },
     "execution_count": 79,
     "metadata": {},
     "output_type": "execute_result"
    }
   ],
   "source": [
    "(b:=10)+5"
   ]
  }
 ],
 "metadata": {
  "kernelspec": {
   "display_name": "Python 3 (ipykernel)",
   "language": "python",
   "name": "python3"
  },
  "language_info": {
   "codemirror_mode": {
    "name": "ipython",
    "version": 3
   },
   "file_extension": ".py",
   "mimetype": "text/x-python",
   "name": "python",
   "nbconvert_exporter": "python",
   "pygments_lexer": "ipython3",
   "version": "3.12.4"
  }
 },
 "nbformat": 4,
 "nbformat_minor": 5
}
