{
 "cells": [
  {
   "cell_type": "markdown",
   "id": "e5b62399-85d0-4ffb-891c-d2274ca35fa4",
   "metadata": {},
   "source": [
    "### 16.DERS-Lists3/Metodlar/Operatörler"
   ]
  },
  {
   "cell_type": "code",
   "execution_count": 1,
   "id": "f9339e55-a7d3-4ac2-8174-dfb04679020a",
   "metadata": {},
   "outputs": [
    {
     "name": "stdout",
     "output_type": "stream",
     "text": [
      "[-5, 6, 7, 5, 2, 3, 1]\n"
     ]
    }
   ],
   "source": [
    "#sort için\n",
    "# reverse =True yaparsak küçükten büyüğe doğru sıralar.\n",
    "# reverse=False yaparsak büyükten küçüğe doğru sıralar.\n",
    "a=[-5,6,7,5,2,3,1]\n",
    "print(a)"
   ]
  },
  {
   "cell_type": "code",
   "execution_count": 7,
   "id": "57d2a8a4-0a5e-45fb-a6f6-456599167661",
   "metadata": {},
   "outputs": [
    {
     "name": "stdout",
     "output_type": "stream",
     "text": [
      "[7, 6, 5, 3, 2, 1, -5]\n"
     ]
    }
   ],
   "source": [
    "#büyükten küçüğe doğru sıralar.\n",
    "a.sort(reverse=True)\n",
    "print(a)"
   ]
  },
  {
   "cell_type": "code",
   "execution_count": 9,
   "id": "3578cecf-7074-4218-aced-f943eb2eedac",
   "metadata": {},
   "outputs": [
    {
     "name": "stdout",
     "output_type": "stream",
     "text": [
      "[-5, 1, 2, 3, 5, 6, 7]\n"
     ]
    }
   ],
   "source": [
    "#küçükten büyüğe doğru sıralar.\n",
    "a.sort(reverse=False)\n",
    "print(a)"
   ]
  },
  {
   "cell_type": "code",
   "execution_count": 13,
   "id": "75c16cd9-4a3a-480f-97e7-9a93bb96353f",
   "metadata": {},
   "outputs": [
    {
     "name": "stdout",
     "output_type": "stream",
     "text": [
      "[30, 20, 10]\n"
     ]
    }
   ],
   "source": [
    "b=[10,20,30]\n",
    "iterator=reversed(b)\n",
    "b=list(iterator)\n",
    "print(b)"
   ]
  },
  {
   "cell_type": "code",
   "execution_count": 15,
   "id": "62ea7752-21ec-408b-834a-4cf54570dcb5",
   "metadata": {},
   "outputs": [
    {
     "name": "stdout",
     "output_type": "stream",
     "text": [
      "[30, 20, 10, 100]\n"
     ]
    }
   ],
   "source": [
    "b.append(100)\n",
    "print(b)"
   ]
  },
  {
   "cell_type": "markdown",
   "id": "4343d589-8826-43c0-91c8-3cc1eca432b5",
   "metadata": {},
   "source": [
    "* ***Python in Operator:***\n",
    "*  a in b gibi\n",
    "* in operatörü: b nin içerisinde a var mı ? Bunu inceler."
   ]
  },
  {
   "cell_type": "code",
   "execution_count": 2,
   "id": "059e9997-19e4-4d55-9f63-d20ac813d678",
   "metadata": {},
   "outputs": [
    {
     "data": {
      "text/plain": [
       "True"
      ]
     },
     "execution_count": 2,
     "metadata": {},
     "output_type": "execute_result"
    }
   ],
   "source": [
    "a=[19,29,39,49]\n",
    "19 in a"
   ]
  },
  {
   "cell_type": "code",
   "execution_count": 4,
   "id": "950b3b5a-0698-4f18-a545-d744a9f4a2a6",
   "metadata": {},
   "outputs": [
    {
     "data": {
      "text/plain": [
       "False"
      ]
     },
     "execution_count": 4,
     "metadata": {},
     "output_type": "execute_result"
    }
   ],
   "source": [
    "20 in a"
   ]
  },
  {
   "cell_type": "code",
   "execution_count": 11,
   "id": "99d5e774-61bc-4660-96fc-226f3686c770",
   "metadata": {},
   "outputs": [
    {
     "name": "stdout",
     "output_type": "stream",
     "text": [
      "0\n"
     ]
    }
   ],
   "source": [
    "result=a.index(19)\n",
    "print(result)"
   ]
  },
  {
   "cell_type": "code",
   "execution_count": 13,
   "id": "81e7d42d-3b84-4d88-9f37-1672e88670d6",
   "metadata": {},
   "outputs": [
    {
     "ename": "ValueError",
     "evalue": "100 is not in list",
     "output_type": "error",
     "traceback": [
      "\u001b[1;31m---------------------------------------------------------------------------\u001b[0m",
      "\u001b[1;31mValueError\u001b[0m                                Traceback (most recent call last)",
      "Cell \u001b[1;32mIn[13], line 1\u001b[0m\n\u001b[1;32m----> 1\u001b[0m result\u001b[38;5;241m=\u001b[39ma\u001b[38;5;241m.\u001b[39mindex(\u001b[38;5;241m100\u001b[39m)\n\u001b[0;32m      2\u001b[0m \u001b[38;5;28mprint\u001b[39m(result)\n",
      "\u001b[1;31mValueError\u001b[0m: 100 is not in list"
     ]
    }
   ],
   "source": [
    "result=a.index(100)\n",
    "print(result)"
   ]
  },
  {
   "cell_type": "code",
   "execution_count": 15,
   "id": "107214bf-fc8d-4d1b-94c8-b64ade3409cc",
   "metadata": {},
   "outputs": [
    {
     "data": {
      "text/plain": [
       "False"
      ]
     },
     "execution_count": 15,
     "metadata": {},
     "output_type": "execute_result"
    }
   ],
   "source": [
    "a=\"ankara\"\n",
    "\"x\" in a "
   ]
  },
  {
   "cell_type": "code",
   "execution_count": 17,
   "id": "c3e72828-ca16-4bc4-8771-3d181445b984",
   "metadata": {},
   "outputs": [
    {
     "data": {
      "text/plain": [
       "True"
      ]
     },
     "execution_count": 17,
     "metadata": {},
     "output_type": "execute_result"
    }
   ],
   "source": [
    "\"k\" in a"
   ]
  },
  {
   "cell_type": "code",
   "execution_count": 19,
   "id": "84473854-1618-4561-8e90-672db580c6a9",
   "metadata": {},
   "outputs": [
    {
     "data": {
      "text/plain": [
       "False"
      ]
     },
     "execution_count": 19,
     "metadata": {},
     "output_type": "execute_result"
    }
   ],
   "source": [
    "\"kn\" in a"
   ]
  },
  {
   "cell_type": "code",
   "execution_count": 21,
   "id": "8bb43b3b-498d-4541-b2cf-f8a218195e8c",
   "metadata": {},
   "outputs": [
    {
     "data": {
      "text/plain": [
       "True"
      ]
     },
     "execution_count": 21,
     "metadata": {},
     "output_type": "execute_result"
    }
   ],
   "source": [
    "\"nk\" in a"
   ]
  },
  {
   "cell_type": "code",
   "execution_count": 23,
   "id": "4e4d1520-a59f-454b-b428-d74eb8a41f40",
   "metadata": {},
   "outputs": [
    {
     "data": {
      "text/plain": [
       "True"
      ]
     },
     "execution_count": 23,
     "metadata": {},
     "output_type": "execute_result"
    }
   ],
   "source": [
    "a=[3,6,3,9,[4,5],8]\n",
    "9 in a"
   ]
  },
  {
   "cell_type": "code",
   "execution_count": 25,
   "id": "4d754ee2-17d7-4d03-a56e-7ac4c6b14d71",
   "metadata": {},
   "outputs": [
    {
     "data": {
      "text/plain": [
       "True"
      ]
     },
     "execution_count": 25,
     "metadata": {},
     "output_type": "execute_result"
    }
   ],
   "source": [
    "[4,5] in a\n"
   ]
  },
  {
   "cell_type": "code",
   "execution_count": 27,
   "id": "9893f059-cbdc-40f4-bca7-213e3f3ef95a",
   "metadata": {},
   "outputs": [
    {
     "data": {
      "text/plain": [
       "False"
      ]
     },
     "execution_count": 27,
     "metadata": {},
     "output_type": "execute_result"
    }
   ],
   "source": [
    "5 in a"
   ]
  },
  {
   "cell_type": "code",
   "execution_count": 29,
   "id": "df8fae76-e4a2-456e-b2b6-4ad077258763",
   "metadata": {},
   "outputs": [
    {
     "data": {
      "text/plain": [
       "True"
      ]
     },
     "execution_count": 29,
     "metadata": {},
     "output_type": "execute_result"
    }
   ],
   "source": [
    "5 in a[4]"
   ]
  },
  {
   "cell_type": "markdown",
   "id": "6b7cef6c-04da-4b69-bfd2-6829740788d7",
   "metadata": {},
   "source": [
    "* Stringlerde in oparetörü yazının ardışık kısımlarını aramak için de kullanılabilir."
   ]
  },
  {
   "cell_type": "code",
   "execution_count": 39,
   "id": "c540bae6-372a-4b29-9429-26514f27ecad",
   "metadata": {},
   "outputs": [
    {
     "data": {
      "text/plain": [
       "True"
      ]
     },
     "execution_count": 39,
     "metadata": {},
     "output_type": "execute_result"
    }
   ],
   "source": [
    "s=\"Bugün hava çok sıcak\"\n",
    "\"sıcak\" in s"
   ]
  },
  {
   "cell_type": "markdown",
   "id": "781e7d79-0b4a-47e3-b08b-1bdea75ca238",
   "metadata": {},
   "source": [
    "* \"Bir liste içerisinde başka bir liste var mı ?\" sorusu için de in oparetörünü kullanabiliriz.\n"
   ]
  },
  {
   "cell_type": "code",
   "execution_count": 42,
   "id": "a3ab35d5-9db8-475f-9497-a3b653d82235",
   "metadata": {},
   "outputs": [
    {
     "data": {
      "text/plain": [
       "True"
      ]
     },
     "execution_count": 42,
     "metadata": {},
     "output_type": "execute_result"
    }
   ],
   "source": [
    "c=[1,2,[2,3],4]\n",
    "[2,3] in c"
   ]
  },
  {
   "cell_type": "code",
   "execution_count": 44,
   "id": "93c79ee3-f94d-40ea-bf45-3ec51a51b87b",
   "metadata": {},
   "outputs": [
    {
     "data": {
      "text/plain": [
       "False"
      ]
     },
     "execution_count": 44,
     "metadata": {},
     "output_type": "execute_result"
    }
   ],
   "source": [
    "[3,2] in c"
   ]
  },
  {
   "cell_type": "markdown",
   "id": "e7e6ab6f-3454-45ee-8dcb-c7f13e56b1ac",
   "metadata": {},
   "source": [
    "***not in operatörü:***\n",
    "* a not in b : b nin içinde a yok mu ?\n",
    "* Bir listede bir elemanın olmadığını sorgulamak için kullanılır."
   ]
  },
  {
   "cell_type": "code",
   "execution_count": 48,
   "id": "1694d122-f877-4c60-9883-0a87448e2f51",
   "metadata": {},
   "outputs": [
    {
     "data": {
      "text/plain": [
       "True"
      ]
     },
     "execution_count": 48,
     "metadata": {},
     "output_type": "execute_result"
    }
   ],
   "source": [
    "a=[1,2,3,4,5]\n",
    "5 in a"
   ]
  },
  {
   "cell_type": "code",
   "execution_count": 54,
   "id": "430e2f80-8dd6-4a23-ab5b-7d391d8da9d7",
   "metadata": {},
   "outputs": [
    {
     "data": {
      "text/plain": [
       "False"
      ]
     },
     "execution_count": 54,
     "metadata": {},
     "output_type": "execute_result"
    }
   ],
   "source": [
    "5 not in a # = not 5 in a"
   ]
  },
  {
   "cell_type": "markdown",
   "id": "f608db16-b66e-491c-9357-e37d6ca7f77b",
   "metadata": {},
   "source": [
    "* **\"del\" deyimi:**\n",
    "* Veri yapılarında eleman silmek için \"del\" deyimi de kullanılmaktadır.\n",
    "* Yalnızca lisetelerde değil \"değiştirilebilir(mutable)\" başka nesnelerde de kullanılabilir.\n",
    "* \"del\" deyimi listelerle kullanılırken listenin belli bir elemanının indexi köşeli parantez ile belirtilir.\n",
    "\n",
    "  del a[3] gibi\n",
    "\n",
    "* Birden fazla elemanı virgülle ayırarak silebiliriz.\n"
   ]
  },
  {
   "cell_type": "code",
   "execution_count": 84,
   "id": "6fe7a55e-d70f-4006-96aa-bf5cc2dda491",
   "metadata": {},
   "outputs": [],
   "source": [
    "a=[10,20,30,40,50]\n",
    "del a[1] #1. indexli elemanı sil."
   ]
  },
  {
   "cell_type": "code",
   "execution_count": 86,
   "id": "cecc60b2-ba66-40e3-b21a-1ce0d9c3c402",
   "metadata": {},
   "outputs": [
    {
     "name": "stdout",
     "output_type": "stream",
     "text": [
      "[10, 30, 40, 50]\n"
     ]
    }
   ],
   "source": [
    "print(a)"
   ]
  },
  {
   "cell_type": "code",
   "execution_count": 88,
   "id": "45c3087d-4815-4d70-b473-0ee93ce41679",
   "metadata": {},
   "outputs": [
    {
     "name": "stdout",
     "output_type": "stream",
     "text": [
      "[10, 50]\n"
     ]
    }
   ],
   "source": [
    "\"\"\"\n",
    "silme işlemi soldan sağa ilerler.\n",
    "ilk adım olarak 2. indeksli elemanı yani 40 ı siler.\n",
    "Yeni listemiz : a=[10,30,50] olur.\n",
    "2. olarak 1.indeksli elemanı siler ve sonuç:\n",
    "a=[10,50] olur.\n",
    "\n",
    "\"\"\"\n",
    "\n",
    "del a[2],a[1]\n",
    "print(a)"
   ]
  },
  {
   "cell_type": "code",
   "execution_count": 11,
   "id": "f71f7d70-bfb9-4216-9145-e496330de3ca",
   "metadata": {},
   "outputs": [
    {
     "name": "stdout",
     "output_type": "stream",
     "text": [
      "[5, 8, 9, 1]\n"
     ]
    }
   ],
   "source": [
    "#başka bir örneğe bakalım.\n",
    "b=[5,6,7,8,9,1]\n",
    "del b[2],b[-4] \n",
    "print(b)\n",
    "# 1. b=[5,6,8,9,1]\n",
    "# 2. b=[5,8,9,1]"
   ]
  },
  {
   "cell_type": "code",
   "execution_count": 13,
   "id": "9e4fee7f-ddb5-4d78-b04f-92619b580912",
   "metadata": {},
   "outputs": [
    {
     "name": "stdout",
     "output_type": "stream",
     "text": [
      "[10, 20, 30, 'ali', 'veli', 'selami']\n"
     ]
    }
   ],
   "source": [
    "#İki listeyi toplayabiliriz.Ekleme yapar.\n",
    "a=[10,20,30]\n",
    "b=[\"ali\",\"veli\",\"selami\"]\n",
    "print(a+b)"
   ]
  },
  {
   "cell_type": "code",
   "execution_count": 48,
   "id": "eddd7f1b-5224-4dfd-9e83-6b3d932d1905",
   "metadata": {},
   "outputs": [
    {
     "name": "stdout",
     "output_type": "stream",
     "text": [
      "[1, 2, 3, 4, 5]\n"
     ]
    }
   ],
   "source": [
    "\"\"\"\n",
    "* Anımsanacağı gibi a+=b işlemi a=a+b işlemi ile aynı anlama gelmektedir.\n",
    "* Ancak listelerde bu eşdeğerlik söz konusu değildir.\n",
    "* a ve b birer liste olmak üzere a+=b aslında\"b listesinin mevcut a listesinin sonuna eklenmesi \"anlamına gelmektedir.\n",
    "* Dolayısıyla a+=b aslında listelerde a.extend(b) gibi bir etki yaratır.\n",
    "* Halbuki a= a+b işleminde gerçekten a+b işlemi sonucunda yeni bir liste yaratılır.\n",
    "* Bu yeni listenin adresi a'ya atanır.\n",
    "* Yani listeler için a=a+b işlemi ile a+=b işlemi aynı değildir.\n",
    "Örneğin:\n",
    "\"\"\"\n",
    "a=[1,2,3]\n",
    "b=[4,5]\n",
    "a=a+b\n",
    "print(a)"
   ]
  },
  {
   "cell_type": "code",
   "execution_count": 50,
   "id": "113a9495-840b-4cd0-8d0a-9452d04e585d",
   "metadata": {},
   "outputs": [
    {
     "name": "stdout",
     "output_type": "stream",
     "text": [
      "[1, 2, 3, 4, 5, 4, 5]\n"
     ]
    }
   ],
   "source": [
    "a+=b\n",
    "print(a)"
   ]
  },
  {
   "cell_type": "code",
   "execution_count": 52,
   "id": "bc9e997a-28a8-422b-96c0-e8e4b78aaf72",
   "metadata": {},
   "outputs": [
    {
     "name": "stdout",
     "output_type": "stream",
     "text": [
      "[1, 2, 3, 'a', 'l', 'i']\n"
     ]
    }
   ],
   "source": [
    "# a list türünden o.ü. a.extend(b) = a+=b 'dir.\n",
    "# a list türünden ise b dolaşılabilir herhangi bir nesne belirtebilir.\n",
    "# Örneğin:\n",
    "a=[1,2,3]\n",
    "a.extend(\"ali\")\n",
    "print(a)"
   ]
  },
  {
   "cell_type": "code",
   "execution_count": 63,
   "id": "1bd647b9-dbbf-477c-b682-fd5bcee3ce74",
   "metadata": {},
   "outputs": [
    {
     "name": "stdout",
     "output_type": "stream",
     "text": [
      "[1, 2, 3, 'a', 'l', 'i']\n"
     ]
    }
   ],
   "source": [
    "b=[1,2,3]\n",
    "c=\"ali\"\n",
    "b+=c\n",
    "print(b)"
   ]
  }
 ],
 "metadata": {
  "kernelspec": {
   "display_name": "Python 3 (ipykernel)",
   "language": "python",
   "name": "python3"
  },
  "language_info": {
   "codemirror_mode": {
    "name": "ipython",
    "version": 3
   },
   "file_extension": ".py",
   "mimetype": "text/x-python",
   "name": "python",
   "nbconvert_exporter": "python",
   "pygments_lexer": "ipython3",
   "version": "3.12.4"
  }
 },
 "nbformat": 4,
 "nbformat_minor": 5
}
