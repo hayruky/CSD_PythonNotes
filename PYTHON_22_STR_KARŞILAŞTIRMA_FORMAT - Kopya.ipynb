{
 "cells": [
  {
   "cell_type": "markdown",
   "id": "a0123232-83c9-46aa-8bad-d8cb377b6350",
   "metadata": {},
   "source": [
    "### 22.DERS-STR/Karşılaştırma/Formatlama"
   ]
  },
  {
   "cell_type": "markdown",
   "id": "174ebfda-05c5-4e92-bfc2-eed2857710d3",
   "metadata": {},
   "source": [
    "**Stringlerde Karşılaştırma:**\n",
    "\n",
    "* İki string **\">,<,<=,>=,=!,==\"** operatörleriyle karşılaştırılabilir.\n",
    "* Karşılaştırma leksikografik(sözlükteki sıralamaya göre) olarak yapılmaktadır.\n",
    "* UNICODE sıra numaralrına bakılır.\n",
    "* Hangi karakterin UNİCODE sıra numarası büyükse o yazı diğerinden büyüktür.\n",
    "* Daha çok eşit veya eşit değil tütürnden karşılaştırma yapılır.\n",
    "* Bir karakterin  UNİCODE sıra numarasını öğrenmek için **\"ord()\"** built-in fonksiyonu kullanılır.\n",
    "* **\"chr()\"** Fonksiyonu ise parametre olarak int bir değer alır.Ve karşılığı olan str karakteri bize verir.\n"
   ]
  },
  {
   "cell_type": "code",
   "execution_count": 30,
   "id": "1cb899bb-9a0f-4cb6-a512-91814c764bb7",
   "metadata": {},
   "outputs": [
    {
     "name": "stdin",
     "output_type": "stream",
     "text": [
      "Enter Password: soğan\n"
     ]
    },
    {
     "name": "stdout",
     "output_type": "stream",
     "text": [
      "soğan\n"
     ]
    },
    {
     "data": {
      "text/plain": [
       "False"
      ]
     },
     "execution_count": 30,
     "metadata": {},
     "output_type": "execute_result"
    }
   ],
   "source": [
    "password=\"domates\"\n",
    "x=input(\"Enter Password:\")\n",
    "print(x)\n",
    "x==password"
   ]
  },
  {
   "cell_type": "code",
   "execution_count": 40,
   "id": "8740a2f6-a87d-4477-a9ca-6c1c1938d1a0",
   "metadata": {},
   "outputs": [
    {
     "name": "stdout",
     "output_type": "stream",
     "text": [
      "True\n",
      "287\n",
      "110\n"
     ]
    }
   ],
   "source": [
    "#Karşılaştırmanın türkçeye göre değil UNİCODE tabloya göre yapıldığına dikkat ediniz.\n",
    "s=\"ağrı\"\n",
    "k=\"antalya\"\n",
    "print(s>k)\n",
    "#Türkçeye göre yapılsaydı \"ğ\" \"n\"' den küçük olduğundan s<k olmalıydı.\n",
    "print(ord(\"ğ\"))\n",
    "print(ord(\"n\"))"
   ]
  },
  {
   "cell_type": "code",
   "execution_count": 47,
   "id": "df51b924-39f0-437f-8f6f-01f725649c57",
   "metadata": {},
   "outputs": [
    {
     "name": "stdout",
     "output_type": "stream",
     "text": [
      "True\n",
      "a: 97\n",
      "A: 65\n"
     ]
    }
   ],
   "source": [
    "#Küçük harflerin UNİCODE numarası büyük harflerden daha büyüktür.\n",
    "s=\"alanya\"\n",
    "k=\"Antalya\"\n",
    "print(s>k)\n",
    "print(\"a:\",ord(\"a\"))\n",
    "print(\"A:\",ord(\"A\"))"
   ]
  },
  {
   "cell_type": "code",
   "execution_count": 23,
   "id": "45d00c86-9f1d-4874-be20-ebb5dfc032bd",
   "metadata": {},
   "outputs": [
    {
     "data": {
      "text/plain": [
       "True"
      ]
     },
     "execution_count": 23,
     "metadata": {},
     "output_type": "execute_result"
    }
   ],
   "source": [
    "#Bir yazı diğer yazıyı baştan sona kapsıyorsa uzun olan yazı daha büyük olur.\n",
    "s=\"alan\"\n",
    "k=\"alanya\"\n",
    "k>s"
   ]
  },
  {
   "cell_type": "markdown",
   "id": "3f36cb42-dfb7-4c60-a7dd-853fdc194606",
   "metadata": {},
   "source": [
    "**STRİNGLERİN FORMATLANMASI:**\n",
    "1) **% ile formatlama:** (en kötü yöntem)\n",
    "2) **str sınıfı format metoduyla formatlama:**\n",
    "3) **string enterpolasyonu ile formatlama:** (en güncel yöntem)  "
   ]
  },
  {
   "cell_type": "code",
   "execution_count": 69,
   "id": "c2470ace-0f93-47a1-b1da-e4cc8407a6c6",
   "metadata": {},
   "outputs": [
    {
     "name": "stdout",
     "output_type": "stream",
     "text": [
      "a=10,b=20,c=30\n",
      "a=10,b=20,c=30\n"
     ]
    }
   ],
   "source": [
    "# 2) str sınıfını  format metoduyla formatlama:\n",
    "\n",
    "\"\"\"\n",
    "#Aşağıdaki gibi 3 değişkenimiz olsun:\n",
    "\n",
    "a=10\n",
    "b=20\n",
    "c=30\n",
    "\n",
    "#Burada a,b,c nin değerlerini bilmediğimizi varsayalaım ve  aşağıdaki gibi bir yazıyı ekrana basmak isteyelim:\n",
    "\n",
    "a=10 , b=20,c=30\n",
    "Bunu şimdiye kadarki bilgilerimizle ancak stringleri toplayarak yapabiliriz.\n",
    "\"\"\"\n",
    "a=10\n",
    "b=20\n",
    "c=30\n",
    "\n",
    "print(\"a=\"+str(a)+\",b=\"+str(b)+\",c=\"+str(c))\n",
    "\n",
    "#Bu çok uzun bir işlem bunun yerine aşağıdaki işlemi yapabiliriz;\n",
    "\n",
    "print(\"a={},b={},c={}\".format(a,b,c))\n"
   ]
  },
  {
   "cell_type": "code",
   "execution_count": 8,
   "id": "45c336a3-82b3-4e3f-8466-98dbc0dab268",
   "metadata": {},
   "outputs": [
    {
     "name": "stdin",
     "output_type": "stream",
     "text": [
      "bir sayı giriniz: 6\n"
     ]
    },
    {
     "name": "stdout",
     "output_type": "stream",
     "text": [
      "6 sayısının karesi 36\n"
     ]
    }
   ],
   "source": [
    "#örnek1\n",
    "val=int(input(\"bir sayı giriniz:\"))\n",
    "print(\"{} sayısının karesi {}\".format(val,val**2))"
   ]
  },
  {
   "cell_type": "code",
   "execution_count": 18,
   "id": "6d9d0b73-37e4-4e18-9f7e-2dc55d0c794d",
   "metadata": {},
   "outputs": [
    {
     "name": "stdin",
     "output_type": "stream",
     "text": [
      "bir şehir giriniz: İstanbul\n"
     ]
    },
    {
     "name": "stdout",
     "output_type": "stream",
     "text": [
      "girdiğiniz şehir İstanbul şehridir.\n"
     ]
    }
   ],
   "source": [
    "#örnek2\n",
    "val=input(\"bir şehir giriniz:\")\n",
    "print(\"girdiğiniz şehir {} şehridir.\".format(val))"
   ]
  },
  {
   "cell_type": "code",
   "execution_count": 23,
   "id": "f925cced-3d09-4ea1-9f32-f4d5789e11f4",
   "metadata": {},
   "outputs": [
    {
     "name": "stdin",
     "output_type": "stream",
     "text": [
      "radyan cinsinden bir açı giriniz. 0.4\n"
     ]
    },
    {
     "name": "stdout",
     "output_type": "stream",
     "text": [
      "sin(0.4) = 0.3894183423086505\n"
     ]
    }
   ],
   "source": [
    "#örnek3\n",
    "import math\n",
    "val=float(input(\"radyan cinsinden bir açı giriniz.\"))\n",
    "result=math.sin(val)\n",
    "print(\"sin({}) = {}\".format(val,result))\n"
   ]
  },
  {
   "cell_type": "code",
   "execution_count": 31,
   "id": "1b346a78-1675-4526-a782-c88dda34df90",
   "metadata": {},
   "outputs": [
    {
     "name": "stdin",
     "output_type": "stream",
     "text": [
      "derece cinsinden bir açı giriniz: 90\n"
     ]
    },
    {
     "name": "stdout",
     "output_type": "stream",
     "text": [
      "sin(90.0) = 1.0\n"
     ]
    }
   ],
   "source": [
    "#örnek4\n",
    "import math\n",
    "degree=float(input(\"derece cinsinden bir açı giriniz:\"))\n",
    "result=math.sin(degree * math.pi/180)\n",
    "print(\"sin({}) = {}\".format(degree,result))\n"
   ]
  },
  {
   "cell_type": "markdown",
   "id": "526c46fa-beff-429d-9f70-8f9301fcc7ac",
   "metadata": {},
   "source": [
    "* Str sınıfının format isimli metodu istenildiği kadar çok argüman alabilir.\n",
    "* Bu metot yazı içerisindeki **{n}** kalıbını yer tutucu olarak kabul eder.(n bir sayı belirtmelidir.)\n",
    "* Bu {n} yer tutucusu yerine format metodunun n'inci argümanın değerini yerleştirir.\n",
    "* Format metodunun ilk agümanı 0. argümanıdır."
   ]
  },
  {
   "cell_type": "code",
   "execution_count": 40,
   "id": "f8880a14-1c86-4532-bec5-185613a20cd4",
   "metadata": {},
   "outputs": [
    {
     "name": "stdout",
     "output_type": "stream",
     "text": [
      "a=10,b=20,c=30\n"
     ]
    }
   ],
   "source": [
    "#Örneğin:\n",
    "a=10\n",
    "b=20\n",
    "c=30\n",
    "s=\"a={0},b={1},c={2}\".format(a,b,c)\n",
    "print(s)\n"
   ]
  },
  {
   "cell_type": "code",
   "execution_count": 44,
   "id": "bcf6eb04-ce62-4d40-a84f-f92c1b79a493",
   "metadata": {},
   "outputs": [
    {
     "name": "stdout",
     "output_type": "stream",
     "text": [
      "a=20,b=10,c=30,10\n"
     ]
    }
   ],
   "source": [
    "#format sentaksında sayıların peşi sıra gelme zorunluluğu yoktur.\n",
    "#Aynı n umaraları yer tutucu birden fazla kez kullanılabiilir.\n",
    "a=10\n",
    "b=20\n",
    "c=30\n",
    "s=\"a={1},b={0},c={2},{0}\".format(a,b,c)\n",
    "print(s)"
   ]
  },
  {
   "cell_type": "code",
   "execution_count": 67,
   "id": "21220286-1ed6-4d17-9cda-d0612224b2a8",
   "metadata": {},
   "outputs": [
    {
     "name": "stdout",
     "output_type": "stream",
     "text": [
      "3.123\n",
      "4.5786\n"
     ]
    }
   ],
   "source": [
    "#Formatla yuvarlama yapmak\n",
    "f=3.123455677989\n",
    "g=4.57855658\n",
    "\n",
    "print(\"{0:.3f}\".format(f));print(\"{:.4f}\".format(g))"
   ]
  },
  {
   "cell_type": "markdown",
   "id": "e995cdf8-fd96-48a3-9f9e-fc2a89045157",
   "metadata": {},
   "source": [
    "* Bir takım değerlerin bıçakla kesilmiş gibi alt alta gelmesini isteyebiliriz."
   ]
  },
  {
   "cell_type": "code",
   "execution_count": 94,
   "id": "f6d8c1f6-7838-4154-a136-5069a8bfd982",
   "metadata": {},
   "outputs": [
    {
     "name": "stdout",
     "output_type": "stream",
     "text": [
      "123     15129\n",
      "6     36\n",
      "123456     15241383936\n",
      "--------------------\n",
      "123                 15129\n",
      "6                   36\n",
      "123456              15241383936\n"
     ]
    }
   ],
   "source": [
    "#Bu düzensiz hali\n",
    "a=123\n",
    "b=6\n",
    "c=123456\n",
    "print((\"{}     {}\").format(a,a*a))\n",
    "print((\"{}     {}\").format(b,b*b))\n",
    "print((\"{}     {}\").format(c,c*c))\n",
    "\n",
    "#Bu ise düzenli hali\n",
    "\n",
    "print(\"-\" *20)\n",
    "\n",
    "\n",
    "print((\"{:<20}{}\").format(a,a*a))\n",
    "print((\"{:<20}{}\").format(b,b*b))\n",
    "print((\"{:<20}{}\").format(c,c*c))"
   ]
  },
  {
   "cell_type": "code",
   "execution_count": 100,
   "id": "28f7c4b3-2713-4b3b-9cfb-cb396e48a441",
   "metadata": {},
   "outputs": [
    {
     "name": "stdin",
     "output_type": "stream",
     "text": [
      "sayı giriniz: 123\n",
      "Sağa hizalanacak değeri giriniz: 10\n"
     ]
    },
    {
     "name": "stdout",
     "output_type": "stream",
     "text": [
      "       123\n"
     ]
    }
   ],
   "source": [
    "a=int(input(\"sayı giriniz:\"))\n",
    "n=int(input(\"Sağa hizalanacak değeri giriniz:\"))\n",
    "format_str=\"{:>\" + str(n) + \"}\"\n",
    "print(format_str.format(a))"
   ]
  },
  {
   "cell_type": "markdown",
   "id": "c0e5bc68-c0f5-429d-bfaa-02069c56d2d8",
   "metadata": {},
   "source": [
    "***STRİNG ENTERPALASYONU YÖNTEMİ:***\n",
    "\n",
    "* String enterpalasyonu bir stringe ona yapışık bir \"f\" ya da \"F\" öneki getirilerek oluşturulmaktadır.\n"
   ]
  },
  {
   "cell_type": "code",
   "execution_count": 110,
   "id": "6193208e-bb36-4727-8c58-f2edcd949b78",
   "metadata": {},
   "outputs": [
    {
     "name": "stdout",
     "output_type": "stream",
     "text": [
      "a=125\n"
     ]
    }
   ],
   "source": [
    "a=123\n",
    "s=f\"a={a+2}\"\n",
    "print(s)"
   ]
  },
  {
   "cell_type": "code",
   "execution_count": 120,
   "id": "2eab9748-ea47-4783-9d46-8aeacc056b11",
   "metadata": {},
   "outputs": [
    {
     "name": "stdout",
     "output_type": "stream",
     "text": [
      "a=10,b=20,c=30\n",
      "a=10,b=20,c=30\n"
     ]
    }
   ],
   "source": [
    "a=10\n",
    "b=20\n",
    "c=30\n",
    "#format metoduyla\n",
    "print(\"a={},b={},c={}\".format(a,b,c))\n",
    "#enterpalasyon yöntemiyle\n",
    "print(f\"a={a},b={b},c={c}\")"
   ]
  },
  {
   "cell_type": "code",
   "execution_count": 129,
   "id": "28c19172-8607-4c5c-8e6a-94fa9e76ac34",
   "metadata": {},
   "outputs": [
    {
     "name": "stdin",
     "output_type": "stream",
     "text": [
      "Bir derece giriniz: 90\n"
     ]
    },
    {
     "name": "stdout",
     "output_type": "stream",
     "text": [
      "sin90.0=1.0\n"
     ]
    }
   ],
   "source": [
    "import math \n",
    "f=float(input(\"Bir derece giriniz:\"))\n",
    "result=math.sin(f*math.pi/180)\n",
    "print(f\"sin{f}={result}\")"
   ]
  },
  {
   "cell_type": "code",
   "execution_count": 140,
   "id": "3e207162-6ae5-48b2-b8ce-869cfa2a3b11",
   "metadata": {},
   "outputs": [
    {
     "name": "stdout",
     "output_type": "stream",
     "text": [
      "05/08/2007\n"
     ]
    }
   ],
   "source": [
    "#Örnek\n",
    "date=\"5/8/2007\"\n",
    "day,month,year = date.split(\"/\") #Burada \"/\" işaretini yazıdan ayırdım.\n",
    "day=int(day)\n",
    "month=int(month)\n",
    "year=int(year)\n",
    "#Burada başlarına 0 ekledim.\n",
    "print(f\"{day:02d}/{month:02d}/{year:02d}\")\n"
   ]
  },
  {
   "cell_type": "code",
   "execution_count": null,
   "id": "c9dd7968-1a8d-4b58-a483-53d5a72d516d",
   "metadata": {},
   "outputs": [],
   "source": []
  }
 ],
 "metadata": {
  "kernelspec": {
   "display_name": "Python 3 (ipykernel)",
   "language": "python",
   "name": "python3"
  },
  "language_info": {
   "codemirror_mode": {
    "name": "ipython",
    "version": 3
   },
   "file_extension": ".py",
   "mimetype": "text/x-python",
   "name": "python",
   "nbconvert_exporter": "python",
   "pygments_lexer": "ipython3",
   "version": "3.12.4"
  }
 },
 "nbformat": 4,
 "nbformat_minor": 5
}
