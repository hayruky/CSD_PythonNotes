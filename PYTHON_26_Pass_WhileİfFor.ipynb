{
 "cells": [
  {
   "cell_type": "markdown",
   "id": "b2afd5d7-5089-4993-b9ef-4e853f90ef67",
   "metadata": {},
   "source": [
    "### 26.DERS-PassDeyimi/WhileForİf"
   ]
  },
  {
   "cell_type": "code",
   "execution_count": 21,
   "id": "afe87f82-7ef2-4cad-a62c-52b516a2ff22",
   "metadata": {},
   "outputs": [
    {
     "name": "stdout",
     "output_type": "stream",
     "text": [
      "6\n"
     ]
    }
   ],
   "source": [
    "#Bir sayının basamak sayısını nasıl buluruz?\n",
    "\n",
    "#Basit Kod\n",
    "a=str(123541)\n",
    "print(len(a))\n"
   ]
  },
  {
   "cell_type": "code",
   "execution_count": 23,
   "id": "03857d73-a3b0-4537-8f29-fce56b20e5b9",
   "metadata": {},
   "outputs": [
    {
     "name": "stdin",
     "output_type": "stream",
     "text": [
      "Bir sayı giriniz: 456\n"
     ]
    },
    {
     "name": "stdout",
     "output_type": "stream",
     "text": [
      "3\n"
     ]
    }
   ],
   "source": [
    "#Klasik Çözüm\n",
    "val=int(input(\"Bir sayı giriniz:\"))\n",
    "count=0\n",
    "while val!=0:\n",
    "    val=val//10\n",
    "    count+=1\n",
    "print(count)"
   ]
  },
  {
   "cell_type": "markdown",
   "id": "e3445f06-3d02-498e-b016-75be8566886f",
   "metadata": {},
   "source": [
    "* Aslında while deyiminde isteğe bağlı olarak else kısmı bulunabilir.\n",
    "* Else kısmı çok nadir kullanılmaktadır.\n",
    "* Bu else kısmı while döngüsünden break ya da expectation dışında normal bir biçimde çıkılırken bir kez çalıştırılmalıdır.\n",
    "* else anahtar sözcüğü yine while anahtar sözcüğü ile aynı girinti düzeyine sahip biçimde yazılmalıdır."
   ]
  },
  {
   "cell_type": "code",
   "execution_count": 37,
   "id": "584e36f1-3aba-41cc-9c65-9efc64a60d98",
   "metadata": {},
   "outputs": [
    {
     "name": "stdout",
     "output_type": "stream",
     "text": [
      "0 1 2 3 4 5 6 7 8 9 ends\n"
     ]
    }
   ],
   "source": [
    "i=0\n",
    "while i<10:\n",
    "    print(i,end=\" \" )\n",
    "    i+=1\n",
    "print(\"ends\")"
   ]
  },
  {
   "cell_type": "code",
   "execution_count": 44,
   "id": "26a7f440-69f8-4d95-9a5c-285ab272d84d",
   "metadata": {},
   "outputs": [
    {
     "name": "stdout",
     "output_type": "stream",
     "text": [
      "0 1 2 3 4 5 6 7 8 9 ends\n"
     ]
    }
   ],
   "source": [
    "i=0\n",
    "while i<10:\n",
    "    print(i,end=\" \" )\n",
    "    i+=1\n",
    "else:\n",
    "    print(\"ends\")\n"
   ]
  },
  {
   "cell_type": "markdown",
   "id": "011cf4e2-d57b-4503-905f-8fd5c8e0a596",
   "metadata": {},
   "source": [
    "* While döngüsüne girilir girilmez koşul sağlanıyor olsa da yine deyimin else kısmı çalıştırılmaktadır.\n",
    "* Pekiyi yukarıdaki döngülerin farkları nedir?\n",
    "* İşte döngüden break ya da expectiondan dolayı bu else bölüm çalıştırılmamaktadır."
   ]
  },
  {
   "cell_type": "code",
   "execution_count": 51,
   "id": "20974879-b300-4485-8097-8e0346f39268",
   "metadata": {},
   "outputs": [
    {
     "name": "stdout",
     "output_type": "stream",
     "text": [
      "0\n"
     ]
    },
    {
     "name": "stdin",
     "output_type": "stream",
     "text": [
      "break (y/n) n\n"
     ]
    },
    {
     "name": "stdout",
     "output_type": "stream",
     "text": [
      "1\n"
     ]
    },
    {
     "name": "stdin",
     "output_type": "stream",
     "text": [
      "break (y/n) n\n"
     ]
    },
    {
     "name": "stdout",
     "output_type": "stream",
     "text": [
      "2\n"
     ]
    },
    {
     "name": "stdin",
     "output_type": "stream",
     "text": [
      "break (y/n) n\n"
     ]
    },
    {
     "name": "stdout",
     "output_type": "stream",
     "text": [
      "3\n"
     ]
    },
    {
     "name": "stdin",
     "output_type": "stream",
     "text": [
      "break (y/n) n\n"
     ]
    },
    {
     "name": "stdout",
     "output_type": "stream",
     "text": [
      "4\n"
     ]
    },
    {
     "name": "stdin",
     "output_type": "stream",
     "text": [
      "break (y/n) n\n"
     ]
    },
    {
     "name": "stdout",
     "output_type": "stream",
     "text": [
      "ends 5\n"
     ]
    }
   ],
   "source": [
    "#y girilirse döngü kırılacaktır.\n",
    "i=0\n",
    "while i<5:\n",
    "    print(i)\n",
    "    val=input(\"break (y/n)\")\n",
    "    \n",
    "    if val == \"y\":\n",
    "        break\n",
    "    i+=1\n",
    "else:\n",
    "    print(\"ends\",i)"
   ]
  },
  {
   "cell_type": "code",
   "execution_count": 53,
   "id": "d85fd681-d9d2-49d8-8266-47c133abe3e4",
   "metadata": {},
   "outputs": [
    {
     "name": "stdout",
     "output_type": "stream",
     "text": [
      "0\n"
     ]
    },
    {
     "name": "stdin",
     "output_type": "stream",
     "text": [
      "break (y/n) n\n"
     ]
    },
    {
     "name": "stdout",
     "output_type": "stream",
     "text": [
      "1\n"
     ]
    },
    {
     "name": "stdin",
     "output_type": "stream",
     "text": [
      "break (y/n) n\n"
     ]
    },
    {
     "name": "stdout",
     "output_type": "stream",
     "text": [
      "2\n"
     ]
    },
    {
     "name": "stdin",
     "output_type": "stream",
     "text": [
      "break (y/n) n\n"
     ]
    },
    {
     "name": "stdout",
     "output_type": "stream",
     "text": [
      "3\n"
     ]
    },
    {
     "name": "stdin",
     "output_type": "stream",
     "text": [
      "break (y/n) n\n"
     ]
    },
    {
     "name": "stdout",
     "output_type": "stream",
     "text": [
      "4\n"
     ]
    },
    {
     "name": "stdin",
     "output_type": "stream",
     "text": [
      "break (y/n) n\n"
     ]
    },
    {
     "name": "stdout",
     "output_type": "stream",
     "text": [
      "ends 5\n"
     ]
    }
   ],
   "source": [
    "i=0\n",
    "while i<5:\n",
    "    print(i)\n",
    "    val=input(\"break (y/n)\")\n",
    "    \n",
    "    if val == \"y\":\n",
    "        raise ValueError()\n",
    "        \n",
    "    i+=1\n",
    "else:\n",
    "    print(\"ends\",i)"
   ]
  },
  {
   "cell_type": "markdown",
   "id": "df3d085c-c328-4bba-8d27-a953bedfa582",
   "metadata": {},
   "source": [
    "* For döngüsünün de while döngüsü gibi isteğe bağlı olarak bir else kısmı olabilir.\n",
    "* Aynı şekilde çok nadir kullanılır."
   ]
  },
  {
   "cell_type": "code",
   "execution_count": 60,
   "id": "01efaf46-c0a2-49f9-86b2-1fafa4c7d051",
   "metadata": {},
   "outputs": [
    {
     "name": "stdout",
     "output_type": "stream",
     "text": [
      "0 1 2 3 4 5 6 7 8 9 ok\n"
     ]
    }
   ],
   "source": [
    "for i in range(10):\n",
    "    print(i,end=\" \")\n",
    "else:\n",
    "    print(\"ok\")"
   ]
  },
  {
   "cell_type": "code",
   "execution_count": 62,
   "id": "57a38952-8e24-4021-9fbc-a8ad4fda5971",
   "metadata": {},
   "outputs": [
    {
     "name": "stdout",
     "output_type": "stream",
     "text": [
      "0 "
     ]
    },
    {
     "name": "stdin",
     "output_type": "stream",
     "text": [
      "break (y/n) n\n"
     ]
    },
    {
     "name": "stdout",
     "output_type": "stream",
     "text": [
      "1 "
     ]
    },
    {
     "name": "stdin",
     "output_type": "stream",
     "text": [
      "break (y/n) y\n"
     ]
    }
   ],
   "source": [
    "for i in range(10):\n",
    "    print(i,end=\" \")\n",
    "    val=val=input(\"break (y/n)\")\n",
    "    if val==\"y\":\n",
    "        break\n",
    "else:\n",
    "    print(\"ok\")"
   ]
  },
  {
   "cell_type": "code",
   "execution_count": 79,
   "id": "b916210e-2862-44c8-af6a-f43ef291602e",
   "metadata": {},
   "outputs": [
    {
     "name": "stdin",
     "output_type": "stream",
     "text": [
      "Bir sayı giriniz: 147258\n"
     ]
    },
    {
     "name": "stdout",
     "output_type": "stream",
     "text": [
      "6\n"
     ]
    }
   ],
   "source": [
    "#Bir sayının basamak sayısını nasıl buluruz?\n",
    "import math\n",
    "val=int(input(\"Bir sayı giriniz:\"))\n",
    "\n",
    "result=int(math.log10(val)+1)\n",
    "print(result)"
   ]
  },
  {
   "cell_type": "markdown",
   "id": "3cd25587-08a3-4548-8cc7-f860ca1ad72f",
   "metadata": {},
   "source": [
    "**Pass Deyimi:** \n",
    "\n",
    "* Python'da pass deyimi \"boş deyim\" anlamına gelmektedir.\n",
    "* Normalde if,while ya da for gibi deyimlerde bir suite bulundurmak zorunludur.\n",
    "* Ancak bazen biz içi boş bir suit oluşturmak isteyebiliriz.\n",
    "* İşte o zaman pass deyimi kullanılır."
   ]
  },
  {
   "cell_type": "code",
   "execution_count": 85,
   "id": "0f3057d3-20a3-4813-87af-2c15d19341f9",
   "metadata": {},
   "outputs": [
    {
     "name": "stdin",
     "output_type": "stream",
     "text": [
      "Pozitif bir sayı giriniz: -8\n",
      "Pozitif bir sayı giriniz: -7\n",
      "Pozitif bir sayı giriniz: -9\n",
      "Pozitif bir sayı giriniz: 9\n"
     ]
    },
    {
     "name": "stdout",
     "output_type": "stream",
     "text": [
      "3.0\n"
     ]
    }
   ],
   "source": [
    "import  math\n",
    "while (val:=float(input(\"Pozitif bir sayı giriniz:\"))) <0:\n",
    "    pass\n",
    "result=math.sqrt(val)\n",
    "print(result)\n"
   ]
  },
  {
   "cell_type": "markdown",
   "id": "5c1094e2-c8f9-4950-89b9-128272987795",
   "metadata": {},
   "source": [
    "* pass deyimi yerine continue deyimini yerleştirirsek aynı durumu oluşturabiliriz.\n",
    "* Ancak continue deyimi pass deyiminin yerini tutamamaktadır.\n",
    "* Çünkü continue deyimi yalnızca döngülerde kullanılabilir.\n",
    "* Halbuki pass deyimi normal bir deyimdir ve her yerde kullanılabilir."
   ]
  },
  {
   "cell_type": "markdown",
   "id": "8375a173-1c06-42cd-8cba-b064427f5ba9",
   "metadata": {},
   "source": []
  },
  {
   "cell_type": "code",
   "execution_count": null,
   "id": "a3ac8bd1-62bb-4264-963c-ec8f78947be7",
   "metadata": {},
   "outputs": [],
   "source": []
  },
  {
   "cell_type": "code",
   "execution_count": null,
   "id": "cba16d79-dff3-4cdb-a571-2f3bcad9ebea",
   "metadata": {},
   "outputs": [],
   "source": []
  }
 ],
 "metadata": {
  "kernelspec": {
   "display_name": "Python 3 (ipykernel)",
   "language": "python",
   "name": "python3"
  },
  "language_info": {
   "codemirror_mode": {
    "name": "ipython",
    "version": 3
   },
   "file_extension": ".py",
   "mimetype": "text/x-python",
   "name": "python",
   "nbconvert_exporter": "python",
   "pygments_lexer": "ipython3",
   "version": "3.12.4"
  }
 },
 "nbformat": 4,
 "nbformat_minor": 5
}
